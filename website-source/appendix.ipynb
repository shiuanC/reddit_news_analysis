{
  "cells": [
    {
      "cell_type": "markdown",
      "metadata": {},
      "source": [
        "# Appendix \n",
        "\n",
        "## Appendix I : Confusion Matrices of Controversiality Predicting Models \n"
      ],
      "id": "ff5d6104"
    },
    {
      "cell_type": "code",
      "metadata": {},
      "source": [
        "#| echo: false\n",
        "#| warning: false \n",
        "\n",
        "import ipywidgets as widgets\n",
        "import IPython.display as display\n",
        "from IPython.display import HTML\n",
        "import plotly.express as px \n",
        "import pandas as pd\n",
        "import json\n",
        "\n",
        "## Read images from file \n",
        "img1 = open('../data/plots/NaiveBayes-ConfusionMatrix.png', 'rb').read()\n",
        "img2 = open('../data/plots/LogisticM-ConfusionMatrix.png', 'rb').read()\n",
        "img3 = open('../data/plots/LinearSVC-ConfusionMatrix.png', 'rb').read()\n",
        "\n",
        "\n",
        "wi1 = widgets.Image(value=img1, format='png', width=500, height=500)\n",
        "wi2 = widgets.Image(value=img2, format='png', width=500, height=500)\n",
        "wi3 = widgets.Image(value=img3, format='png', width=500, height=500)\n",
        "## VBox widgets\n",
        "vbox_1 = widgets.VBox([wi1, wi2, wi3])\n",
        "## Display\n",
        "display.display(vbox_1)\n"
      ],
      "id": "5faa4a93",
      "execution_count": null,
      "outputs": []
    },
    {
      "cell_type": "markdown",
      "metadata": {},
      "source": [
        "## h2"
      ],
      "id": "cfcaf2df"
    }
  ],
  "metadata": {
    "kernelspec": {
      "name": "python3",
      "language": "python",
      "display_name": "Python 3 (ipykernel)"
    }
  },
  "nbformat": 4,
  "nbformat_minor": 5
}