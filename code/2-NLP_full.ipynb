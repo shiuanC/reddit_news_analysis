{
 "cells": [
  {
   "cell_type": "markdown",
   "id": "52fa24e1-d3be-4788-8957-6b7e4a634a54",
   "metadata": {
    "tags": []
   },
   "source": [
    "# NLP"
   ]
  },
  {
   "cell_type": "markdown",
   "id": "131a2f27-053e-484a-bf2d-d98e6a5eb5a1",
   "metadata": {
    "tags": []
   },
   "source": [
    "## Part 0 - import and setup"
   ]
  },
  {
   "cell_type": "code",
   "execution_count": 2,
   "id": "e4835604-fac5-40d6-8ce0-4f828829c0f1",
   "metadata": {
    "tags": []
   },
   "outputs": [
    {
     "name": "stdout",
     "output_type": "stream",
     "text": [
      "\n",
      "Downloading and Extracting Packages:\n",
      "\n",
      "Preparing transaction: done\n",
      "Verifying transaction: done\n",
      "Executing transaction: done\n",
      "\n",
      "Note: you may need to restart the kernel to use updated packages.\n",
      "Requirement already satisfied: sagemaker_pyspark in /opt/conda/lib/python3.10/site-packages (1.4.5)\n",
      "Collecting pyspark==3.3.0 (from sagemaker_pyspark)\n",
      "  Using cached pyspark-3.3.0-py2.py3-none-any.whl\n",
      "Requirement already satisfied: numpy in /opt/conda/lib/python3.10/site-packages (from sagemaker_pyspark) (1.26.4)\n",
      "Collecting py4j==0.10.9.5 (from pyspark==3.3.0->sagemaker_pyspark)\n",
      "  Using cached py4j-0.10.9.5-py2.py3-none-any.whl.metadata (1.5 kB)\n",
      "Using cached py4j-0.10.9.5-py2.py3-none-any.whl (199 kB)\n",
      "Installing collected packages: py4j, pyspark\n",
      "  Attempting uninstall: py4j\n",
      "    Found existing installation: py4j 0.10.9.7\n",
      "    Uninstalling py4j-0.10.9.7:\n",
      "      Successfully uninstalled py4j-0.10.9.7\n",
      "  Attempting uninstall: pyspark\n",
      "    Found existing installation: pyspark 3.4.0\n",
      "    Uninstalling pyspark-3.4.0:\n",
      "      Successfully uninstalled pyspark-3.4.0\n",
      "Successfully installed py4j-0.10.9.5 pyspark-3.3.0\n",
      "\u001b[33mWARNING: Running pip as the 'root' user can result in broken permissions and conflicting behaviour with the system package manager. It is recommended to use a virtual environment instead: https://pip.pypa.io/warnings/venv\u001b[0m\u001b[33m\n",
      "\u001b[0mCollecting pyspark==3.4.0\n",
      "  Using cached pyspark-3.4.0-py2.py3-none-any.whl\n",
      "Collecting py4j==0.10.9.7 (from pyspark==3.4.0)\n",
      "  Using cached py4j-0.10.9.7-py2.py3-none-any.whl.metadata (1.5 kB)\n",
      "Using cached py4j-0.10.9.7-py2.py3-none-any.whl (200 kB)\n",
      "Installing collected packages: py4j, pyspark\n",
      "  Attempting uninstall: py4j\n",
      "    Found existing installation: py4j 0.10.9.5\n",
      "    Uninstalling py4j-0.10.9.5:\n",
      "      Successfully uninstalled py4j-0.10.9.5\n",
      "  Attempting uninstall: pyspark\n",
      "    Found existing installation: pyspark 3.3.0\n",
      "    Uninstalling pyspark-3.3.0:\n",
      "      Successfully uninstalled pyspark-3.3.0\n",
      "\u001b[31mERROR: pip's dependency resolver does not currently take into account all the packages that are installed. This behaviour is the source of the following dependency conflicts.\n",
      "sagemaker-pyspark 1.4.5 requires pyspark==3.3.0, but you have pyspark 3.4.0 which is incompatible.\u001b[0m\u001b[31m\n",
      "\u001b[0mSuccessfully installed py4j-0.10.9.7 pyspark-3.4.0\n",
      "\u001b[33mWARNING: Running pip as the 'root' user can result in broken permissions and conflicting behaviour with the system package manager. It is recommended to use a virtual environment instead: https://pip.pypa.io/warnings/venv\u001b[0m\u001b[33m\n",
      "\u001b[0mNote: you may need to restart the kernel to use updated packages.\n"
     ]
    },
    {
     "data": {
      "text/html": [
       "<script>Jupyter.notebook.kernel.restart()</script>"
      ],
      "text/plain": [
       "<IPython.core.display.HTML object>"
      ]
     },
     "execution_count": 2,
     "metadata": {},
     "output_type": "execute_result"
    }
   ],
   "source": [
    "# Setup - Run only once per Kernel App\n",
    "%conda install https://anaconda.org/conda-forge/openjdk/11.0.1/download/linux-64/openjdk-11.0.1-hacce0ff_1021.tar.bz2\n",
    "\n",
    "# install PySpark\n",
    "!pip install sagemaker_pyspark\n",
    "%pip install pyspark==3.4.0\n",
    "\n",
    "# restart kernel\n",
    "from IPython.core.display import HTML\n",
    "HTML(\"<script>Jupyter.notebook.kernel.restart()</script>\")"
   ]
  },
  {
   "cell_type": "code",
   "execution_count": 3,
   "id": "9398a608-e27c-4450-9b6b-3c9c44080454",
   "metadata": {
    "tags": []
   },
   "outputs": [
    {
     "name": "stdout",
     "output_type": "stream",
     "text": [
      "sagemaker.config INFO - Not applying SDK defaults from location: /etc/xdg/sagemaker/config.yaml\n",
      "sagemaker.config INFO - Not applying SDK defaults from location: /root/.config/sagemaker/config.yaml\n",
      "the default SageMaker region specific bucket for this account is sagemaker-us-east-1-165729782536\n"
     ]
    }
   ],
   "source": [
    "import sagemaker\n",
    "sess = sagemaker.Session()\n",
    "bucket = sess.default_bucket() \n",
    "print(f\"the default SageMaker region specific bucket for this account is {bucket}\")"
   ]
  },
  {
   "cell_type": "code",
   "execution_count": 4,
   "id": "90edbce7-930c-4fc2-bc53-85ee3e5c63da",
   "metadata": {
    "tags": []
   },
   "outputs": [],
   "source": [
    "from pyspark.sql import SparkSession"
   ]
  },
  {
   "cell_type": "code",
   "execution_count": 5,
   "id": "52c93a3c-8a9b-45d2-9162-73060d75ed13",
   "metadata": {
    "scrolled": true,
    "tags": []
   },
   "outputs": [
    {
     "name": "stdout",
     "output_type": "stream",
     "text": [
      ":: loading settings :: url = jar:file:/opt/conda/lib/python3.10/site-packages/pyspark/jars/ivy-2.5.1.jar!/org/apache/ivy/core/settings/ivysettings.xml\n"
     ]
    },
    {
     "name": "stderr",
     "output_type": "stream",
     "text": [
      "Ivy Default Cache set to: /root/.ivy2/cache\n",
      "The jars for the packages stored in: /root/.ivy2/jars\n",
      "com.johnsnowlabs.nlp#spark-nlp_2.12 added as a dependency\n",
      "org.apache.hadoop#hadoop-aws added as a dependency\n",
      ":: resolving dependencies :: org.apache.spark#spark-submit-parent-bd825ab8-451b-4f69-ac33-8f5691d5c4a8;1.0\n",
      "\tconfs: [default]\n",
      "\tfound com.johnsnowlabs.nlp#spark-nlp_2.12;5.1.3 in central\n",
      "\tfound com.typesafe#config;1.4.2 in central\n",
      "\tfound org.rocksdb#rocksdbjni;6.29.5 in central\n",
      "\tfound com.amazonaws#aws-java-sdk-bundle;1.11.828 in central\n",
      "\tfound com.github.universal-automata#liblevenshtein;3.0.0 in central\n",
      "\tfound com.google.protobuf#protobuf-java-util;3.0.0-beta-3 in central\n",
      "\tfound com.google.protobuf#protobuf-java;3.0.0-beta-3 in central\n",
      "\tfound com.google.code.gson#gson;2.3 in central\n",
      "\tfound it.unimi.dsi#fastutil;7.0.12 in central\n",
      "\tfound org.projectlombok#lombok;1.16.8 in central\n",
      "\tfound com.google.cloud#google-cloud-storage;2.20.1 in central\n",
      "\tfound com.google.guava#guava;31.1-jre in central\n",
      "\tfound com.google.guava#failureaccess;1.0.1 in central\n",
      "\tfound com.google.guava#listenablefuture;9999.0-empty-to-avoid-conflict-with-guava in central\n",
      "\tfound com.google.errorprone#error_prone_annotations;2.18.0 in central\n",
      "\tfound com.google.j2objc#j2objc-annotations;1.3 in central\n",
      "\tfound com.google.http-client#google-http-client;1.43.0 in central\n",
      "\tfound io.opencensus#opencensus-contrib-http-util;0.31.1 in central\n",
      "\tfound com.google.http-client#google-http-client-jackson2;1.43.0 in central\n",
      "\tfound com.google.http-client#google-http-client-gson;1.43.0 in central\n",
      "\tfound com.google.api-client#google-api-client;2.2.0 in central\n",
      "\tfound commons-codec#commons-codec;1.15 in central\n",
      "\tfound com.google.oauth-client#google-oauth-client;1.34.1 in central\n",
      "\tfound com.google.http-client#google-http-client-apache-v2;1.43.0 in central\n",
      "\tfound com.google.apis#google-api-services-storage;v1-rev20220705-2.0.0 in central\n",
      "\tfound com.google.code.gson#gson;2.10.1 in central\n",
      "\tfound com.google.cloud#google-cloud-core;2.12.0 in central\n",
      "\tfound io.grpc#grpc-context;1.53.0 in central\n",
      "\tfound com.google.auto.value#auto-value-annotations;1.10.1 in central\n",
      "\tfound com.google.auto.value#auto-value;1.10.1 in central\n",
      "\tfound javax.annotation#javax.annotation-api;1.3.2 in central\n",
      "\tfound commons-logging#commons-logging;1.2 in central\n",
      "\tfound com.google.cloud#google-cloud-core-http;2.12.0 in central\n",
      "\tfound com.google.http-client#google-http-client-appengine;1.43.0 in central\n",
      "\tfound com.google.api#gax-httpjson;0.108.2 in central\n",
      "\tfound com.google.cloud#google-cloud-core-grpc;2.12.0 in central\n",
      "\tfound io.grpc#grpc-alts;1.53.0 in central\n",
      "\tfound io.grpc#grpc-grpclb;1.53.0 in central\n",
      "\tfound org.conscrypt#conscrypt-openjdk-uber;2.5.2 in central\n",
      "\tfound io.grpc#grpc-auth;1.53.0 in central\n",
      "\tfound io.grpc#grpc-protobuf;1.53.0 in central\n",
      "\tfound io.grpc#grpc-protobuf-lite;1.53.0 in central\n",
      "\tfound io.grpc#grpc-core;1.53.0 in central\n",
      "\tfound com.google.api#gax;2.23.2 in central\n",
      "\tfound com.google.api#gax-grpc;2.23.2 in central\n",
      "\tfound com.google.auth#google-auth-library-credentials;1.16.0 in central\n",
      "\tfound com.google.auth#google-auth-library-oauth2-http;1.16.0 in central\n",
      "\tfound com.google.api#api-common;2.6.2 in central\n",
      "\tfound io.opencensus#opencensus-api;0.31.1 in central\n",
      "\tfound com.google.api.grpc#proto-google-iam-v1;1.9.2 in central\n",
      "\tfound com.google.protobuf#protobuf-java;3.21.12 in central\n",
      "\tfound com.google.protobuf#protobuf-java-util;3.21.12 in central\n",
      "\tfound com.google.api.grpc#proto-google-common-protos;2.14.2 in central\n",
      "\tfound org.threeten#threetenbp;1.6.5 in central\n",
      "\tfound com.google.api.grpc#proto-google-cloud-storage-v2;2.20.1-alpha in central\n",
      "\tfound com.google.api.grpc#grpc-google-cloud-storage-v2;2.20.1-alpha in central\n",
      "\tfound com.google.api.grpc#gapic-google-cloud-storage-v2;2.20.1-alpha in central\n",
      "\tfound com.fasterxml.jackson.core#jackson-core;2.14.2 in central\n",
      "\tfound com.google.code.findbugs#jsr305;3.0.2 in central\n",
      "\tfound io.grpc#grpc-api;1.53.0 in central\n",
      "\tfound io.grpc#grpc-stub;1.53.0 in central\n",
      "\tfound org.checkerframework#checker-qual;3.31.0 in central\n",
      "\tfound io.perfmark#perfmark-api;0.26.0 in central\n",
      "\tfound com.google.android#annotations;4.1.1.4 in central\n",
      "\tfound org.codehaus.mojo#animal-sniffer-annotations;1.22 in central\n",
      "\tfound io.opencensus#opencensus-proto;0.2.0 in central\n",
      "\tfound io.grpc#grpc-services;1.53.0 in central\n",
      "\tfound com.google.re2j#re2j;1.6 in central\n",
      "\tfound io.grpc#grpc-netty-shaded;1.53.0 in central\n",
      "\tfound io.grpc#grpc-googleapis;1.53.0 in central\n",
      "\tfound io.grpc#grpc-xds;1.53.0 in central\n",
      "\tfound com.navigamez#greex;1.0 in central\n",
      "\tfound dk.brics.automaton#automaton;1.11-8 in central\n",
      "\tfound com.johnsnowlabs.nlp#tensorflow-cpu_2.12;0.4.4 in central\n",
      "\tfound com.microsoft.onnxruntime#onnxruntime;1.15.0 in central\n",
      "\tfound org.apache.hadoop#hadoop-aws;3.2.2 in central\n",
      ":: resolution report :: resolve 4175ms :: artifacts dl 530ms\n",
      "\t:: modules in use:\n",
      "\tcom.amazonaws#aws-java-sdk-bundle;1.11.828 from central in [default]\n",
      "\tcom.fasterxml.jackson.core#jackson-core;2.14.2 from central in [default]\n",
      "\tcom.github.universal-automata#liblevenshtein;3.0.0 from central in [default]\n",
      "\tcom.google.android#annotations;4.1.1.4 from central in [default]\n",
      "\tcom.google.api#api-common;2.6.2 from central in [default]\n",
      "\tcom.google.api#gax;2.23.2 from central in [default]\n",
      "\tcom.google.api#gax-grpc;2.23.2 from central in [default]\n",
      "\tcom.google.api#gax-httpjson;0.108.2 from central in [default]\n",
      "\tcom.google.api-client#google-api-client;2.2.0 from central in [default]\n",
      "\tcom.google.api.grpc#gapic-google-cloud-storage-v2;2.20.1-alpha from central in [default]\n",
      "\tcom.google.api.grpc#grpc-google-cloud-storage-v2;2.20.1-alpha from central in [default]\n",
      "\tcom.google.api.grpc#proto-google-cloud-storage-v2;2.20.1-alpha from central in [default]\n",
      "\tcom.google.api.grpc#proto-google-common-protos;2.14.2 from central in [default]\n",
      "\tcom.google.api.grpc#proto-google-iam-v1;1.9.2 from central in [default]\n",
      "\tcom.google.apis#google-api-services-storage;v1-rev20220705-2.0.0 from central in [default]\n",
      "\tcom.google.auth#google-auth-library-credentials;1.16.0 from central in [default]\n",
      "\tcom.google.auth#google-auth-library-oauth2-http;1.16.0 from central in [default]\n",
      "\tcom.google.auto.value#auto-value;1.10.1 from central in [default]\n",
      "\tcom.google.auto.value#auto-value-annotations;1.10.1 from central in [default]\n",
      "\tcom.google.cloud#google-cloud-core;2.12.0 from central in [default]\n",
      "\tcom.google.cloud#google-cloud-core-grpc;2.12.0 from central in [default]\n",
      "\tcom.google.cloud#google-cloud-core-http;2.12.0 from central in [default]\n",
      "\tcom.google.cloud#google-cloud-storage;2.20.1 from central in [default]\n",
      "\tcom.google.code.findbugs#jsr305;3.0.2 from central in [default]\n",
      "\tcom.google.code.gson#gson;2.10.1 from central in [default]\n",
      "\tcom.google.errorprone#error_prone_annotations;2.18.0 from central in [default]\n",
      "\tcom.google.guava#failureaccess;1.0.1 from central in [default]\n",
      "\tcom.google.guava#guava;31.1-jre from central in [default]\n",
      "\tcom.google.guava#listenablefuture;9999.0-empty-to-avoid-conflict-with-guava from central in [default]\n",
      "\tcom.google.http-client#google-http-client;1.43.0 from central in [default]\n",
      "\tcom.google.http-client#google-http-client-apache-v2;1.43.0 from central in [default]\n",
      "\tcom.google.http-client#google-http-client-appengine;1.43.0 from central in [default]\n",
      "\tcom.google.http-client#google-http-client-gson;1.43.0 from central in [default]\n",
      "\tcom.google.http-client#google-http-client-jackson2;1.43.0 from central in [default]\n",
      "\tcom.google.j2objc#j2objc-annotations;1.3 from central in [default]\n",
      "\tcom.google.oauth-client#google-oauth-client;1.34.1 from central in [default]\n",
      "\tcom.google.protobuf#protobuf-java;3.21.12 from central in [default]\n",
      "\tcom.google.protobuf#protobuf-java-util;3.21.12 from central in [default]\n",
      "\tcom.google.re2j#re2j;1.6 from central in [default]\n",
      "\tcom.johnsnowlabs.nlp#spark-nlp_2.12;5.1.3 from central in [default]\n",
      "\tcom.johnsnowlabs.nlp#tensorflow-cpu_2.12;0.4.4 from central in [default]\n",
      "\tcom.microsoft.onnxruntime#onnxruntime;1.15.0 from central in [default]\n",
      "\tcom.navigamez#greex;1.0 from central in [default]\n",
      "\tcom.typesafe#config;1.4.2 from central in [default]\n",
      "\tcommons-codec#commons-codec;1.15 from central in [default]\n",
      "\tcommons-logging#commons-logging;1.2 from central in [default]\n",
      "\tdk.brics.automaton#automaton;1.11-8 from central in [default]\n",
      "\tio.grpc#grpc-alts;1.53.0 from central in [default]\n",
      "\tio.grpc#grpc-api;1.53.0 from central in [default]\n",
      "\tio.grpc#grpc-auth;1.53.0 from central in [default]\n",
      "\tio.grpc#grpc-context;1.53.0 from central in [default]\n",
      "\tio.grpc#grpc-core;1.53.0 from central in [default]\n",
      "\tio.grpc#grpc-googleapis;1.53.0 from central in [default]\n",
      "\tio.grpc#grpc-grpclb;1.53.0 from central in [default]\n",
      "\tio.grpc#grpc-netty-shaded;1.53.0 from central in [default]\n",
      "\tio.grpc#grpc-protobuf;1.53.0 from central in [default]\n",
      "\tio.grpc#grpc-protobuf-lite;1.53.0 from central in [default]\n",
      "\tio.grpc#grpc-services;1.53.0 from central in [default]\n",
      "\tio.grpc#grpc-stub;1.53.0 from central in [default]\n",
      "\tio.grpc#grpc-xds;1.53.0 from central in [default]\n",
      "\tio.opencensus#opencensus-api;0.31.1 from central in [default]\n",
      "\tio.opencensus#opencensus-contrib-http-util;0.31.1 from central in [default]\n",
      "\tio.opencensus#opencensus-proto;0.2.0 from central in [default]\n",
      "\tio.perfmark#perfmark-api;0.26.0 from central in [default]\n",
      "\tit.unimi.dsi#fastutil;7.0.12 from central in [default]\n",
      "\tjavax.annotation#javax.annotation-api;1.3.2 from central in [default]\n",
      "\torg.apache.hadoop#hadoop-aws;3.2.2 from central in [default]\n",
      "\torg.checkerframework#checker-qual;3.31.0 from central in [default]\n",
      "\torg.codehaus.mojo#animal-sniffer-annotations;1.22 from central in [default]\n",
      "\torg.conscrypt#conscrypt-openjdk-uber;2.5.2 from central in [default]\n",
      "\torg.projectlombok#lombok;1.16.8 from central in [default]\n",
      "\torg.rocksdb#rocksdbjni;6.29.5 from central in [default]\n",
      "\torg.threeten#threetenbp;1.6.5 from central in [default]\n",
      "\t:: evicted modules:\n",
      "\tcom.google.protobuf#protobuf-java-util;3.0.0-beta-3 by [com.google.protobuf#protobuf-java-util;3.21.12] in [default]\n",
      "\tcom.google.protobuf#protobuf-java;3.0.0-beta-3 by [com.google.protobuf#protobuf-java;3.21.12] in [default]\n",
      "\tcom.google.code.gson#gson;2.3 by [com.google.code.gson#gson;2.10.1] in [default]\n",
      "\tcom.amazonaws#aws-java-sdk-bundle;1.11.563 by [com.amazonaws#aws-java-sdk-bundle;1.11.828] in [default]\n",
      "\t---------------------------------------------------------------------\n",
      "\t|                  |            modules            ||   artifacts   |\n",
      "\t|       conf       | number| search|dwnlded|evicted|| number|dwnlded|\n",
      "\t---------------------------------------------------------------------\n",
      "\t|      default     |   77  |   0   |   0   |   4   ||   73  |   0   |\n",
      "\t---------------------------------------------------------------------\n",
      ":: retrieving :: org.apache.spark#spark-submit-parent-bd825ab8-451b-4f69-ac33-8f5691d5c4a8\n",
      "\tconfs: [default]\n",
      "\t0 artifacts copied, 73 already retrieved (0kB/84ms)\n",
      "24/04/27 16:24:54 WARN NativeCodeLoader: Unable to load native-hadoop library for your platform... using builtin-java classes where applicable\n",
      "Setting default log level to \"WARN\".\n",
      "To adjust logging level use sc.setLogLevel(newLevel). For SparkR, use setLogLevel(newLevel).\n"
     ]
    },
    {
     "name": "stdout",
     "output_type": "stream",
     "text": [
      "3.4.0\n"
     ]
    }
   ],
   "source": [
    "spark = SparkSession.builder \\\n",
    "    .appName(\"sagemaker-spark\") \\\n",
    "    .master(\"local[*]\") \\\n",
    "    .config(\"spark.driver.memory\", \"8G\") \\\n",
    "    .config(\"spark.driver.maxResultSize\", \"0\") \\\n",
    "    .config(\"spark.kryoserializer.buffer.max\", \"2000M\") \\\n",
    "    .config(\"spark.jars.packages\", \"com.johnsnowlabs.nlp:spark-nlp_2.12:5.1.3,org.apache.hadoop:hadoop-aws:3.2.2\") \\\n",
    "    .config(\"spark.hadoop.fs.s3a.aws.credentials.provider\", \"com.amazonaws.auth.ContainerCredentialsProvider\") \\\n",
    "    .getOrCreate()\n",
    "\n",
    "print(spark.version)"
   ]
  },
  {
   "cell_type": "code",
   "execution_count": 6,
   "id": "b7675366-cdbe-4d51-a90a-29fe6eac8bd1",
   "metadata": {
    "tags": []
   },
   "outputs": [
    {
     "name": "stdout",
     "output_type": "stream",
     "text": [
      "reading submissions from s3a://sagemaker-us-east-1-165729782536/project/submissions/yyyy=*\n"
     ]
    },
    {
     "name": "stderr",
     "output_type": "stream",
     "text": [
      "24/04/27 16:25:04 WARN MetricsConfig: Cannot locate configuration: tried hadoop-metrics2-s3a-file-system.properties,hadoop-metrics2.properties\n",
      "24/04/27 16:25:13 WARN package: Truncated the string representation of a plan since it was too large. This behavior can be adjusted by setting 'spark.sql.debug.maxToStringFields'.\n"
     ]
    }
   ],
   "source": [
    "import sagemaker\n",
    "session = sagemaker.Session()\n",
    "bucket = session.default_bucket()\n",
    "\n",
    "output_prefix_data_submissions = \"project/submissions/yyyy=*\"\n",
    "s3_path = f\"s3a://{bucket}/{output_prefix_data_submissions}\"\n",
    "print(f\"reading submissions from {s3_path}\")\n",
    "\n",
    "posts = spark.read.parquet(s3_path, header=True)\n",
    "posts = posts.filter(\n",
    "    (posts.subreddit == \"news\") | (posts.subreddit == \"worldnews\")\n",
    ")\n"
   ]
  },
  {
   "cell_type": "code",
   "execution_count": 7,
   "id": "57cc9c28-fcfb-4087-8496-69f9621bce20",
   "metadata": {
    "tags": []
   },
   "outputs": [],
   "source": [
    "#reading comments\n",
    "output_prefix_data_comments = \"project/comments/yyyy=*\"\n",
    "s3_path = f\"s3a://{bucket}/{output_prefix_data_comments}\"\n",
    "comments = spark.read.parquet(s3_path, header=True)\n",
    "comments = comments.filter(\n",
    "    (comments.subreddit == \"news\") | (comments.subreddit == \"worldnews\")\n",
    ")"
   ]
  },
  {
   "cell_type": "code",
   "execution_count": 8,
   "id": "975425e1-807b-47e4-8d45-51f2bef229e5",
   "metadata": {
    "tags": []
   },
   "outputs": [],
   "source": [
    "#import packages\n",
    "import pyspark.sql.functions as f\n",
    "from sklearn.decomposition import LatentDirichletAllocation\n",
    "from sklearn.feature_extraction.text import TfidfVectorizer\n",
    "import nltk"
   ]
  },
  {
   "cell_type": "markdown",
   "id": "02eb5d2d-cde7-4808-ab74-608bed513c98",
   "metadata": {
    "tags": []
   },
   "source": [
    "## Adding variables"
   ]
  },
  {
   "cell_type": "code",
   "execution_count": 9,
   "id": "68bec61e-6327-4e74-a4bb-69c788c68089",
   "metadata": {
    "tags": []
   },
   "outputs": [],
   "source": [
    "## Clean the comments body content\n",
    "# define a function\n",
    "def clean_text(df):\n",
    "    # Lowercase all text\n",
    "    df = df.withColumn(\"body\", f.lower(f.col(\"body\")))\n",
    "    # Remove special characters (keeping only alphanumeric and spaces)\n",
    "    df = df.withColumn(\"body\", f.regexp_replace(f.col(\"body\"), \"[^a-zA-Z0-9\\\\s]\", \"\"))\n",
    "    # Trim spaces\n",
    "    df = df.withColumn(\"body\", f.trim(f.col(\"body\")))\n",
    "    return df\n",
    "\n",
    "# Apply the cleaning function\n",
    "comments = clean_text(comments)"
   ]
  },
  {
   "cell_type": "code",
   "execution_count": 10,
   "id": "383ab7a3-bcd9-46c5-8839-02a6662b63b4",
   "metadata": {
    "tags": []
   },
   "outputs": [],
   "source": [
    "# Beside correct typing, also adding the potential typos\n",
    "comments = comments.withColumn('misinfo_class', \n",
    "                    f.when(comments.body.rlike(r'fake news|bullshit|misinfo|clickbait|unreliable|propoganda|propaganda|fraud|deceptive|fabricated|deep state|wake up|truth about'), True)\\\n",
    "                    .otherwise(False))"
   ]
  },
  {
   "cell_type": "markdown",
   "id": "dd2db5ca-ed59-46cd-a7dd-d40132f1b14d",
   "metadata": {
    "tags": []
   },
   "source": [
    "## LDA"
   ]
  },
  {
   "cell_type": "code",
   "execution_count": 11,
   "id": "d9f582fd-430c-438e-b3b2-bbbe9b898183",
   "metadata": {
    "tags": []
   },
   "outputs": [],
   "source": [
    "from pyspark.ml.feature import Tokenizer\n",
    "from pyspark.ml.feature import StopWordsRemover\n",
    "from pyspark.ml import Pipeline\n",
    "from nltk.corpus import stopwords\n",
    "from pyspark.ml.feature import CountVectorizer , IDF\n",
    "from pyspark.ml.clustering import LDA\n",
    "import pyspark.sql.functions as f\n",
    "from pyspark.sql.types import StringType, ArrayType, FloatType\n",
    "from itertools import chain"
   ]
  },
  {
   "cell_type": "code",
   "execution_count": 12,
   "id": "b6363d70-7933-48de-b9af-35bcd343d4b9",
   "metadata": {
    "tags": []
   },
   "outputs": [],
   "source": [
    "#create small df to use for LDA\n",
    "small_df = posts.select('title', 'id')"
   ]
  },
  {
   "cell_type": "code",
   "execution_count": 13,
   "id": "4160e462-5c2c-423e-afba-faaefb3c5d38",
   "metadata": {
    "tags": []
   },
   "outputs": [
    {
     "data": {
      "text/plain": [
       "Tokenizer_1da53e5b9680"
      ]
     },
     "execution_count": 13,
     "metadata": {},
     "output_type": "execute_result"
    }
   ],
   "source": [
    "#create tokenizer\n",
    "tokenizer = Tokenizer(outputCol=\"words\")\n",
    "tokenizer.setInputCol(\"title\")"
   ]
  },
  {
   "cell_type": "code",
   "execution_count": 14,
   "id": "0215f5cb-7ba2-4719-aea2-56f7ce759890",
   "metadata": {
    "tags": []
   },
   "outputs": [
    {
     "data": {
      "text/plain": [
       "StopWordsRemover_c19b1ff60d6b"
      ]
     },
     "execution_count": 14,
     "metadata": {},
     "output_type": "execute_result"
    }
   ],
   "source": [
    "#remove stop words \n",
    "StopWords = stopwords.words(\"english\")\n",
    "#removing stop words in other languages and other common words\n",
    "additional = ['@reuters:', '–' '&amp;', '@ap:', 'rt', ':', 'از', 'آهنگ', 'دانلود', 'در', 'به', 'جدید', '@apentertainment:',\n",
    "             '|', 'के', 'में', 'و', 'في', 'من', '@bbcworld:', 'de', 'la', 'di', 'की', 'से', 'bio', 'many','know', 'age', 'says', 'one',\n",
    "             'net', 'user]', '[deleted', 'look', '–']\n",
    "StopWords = StopWords + additional\n",
    "remover = StopWordsRemover(stopWords=StopWords)\n",
    "remover.setInputCol(\"words\")\n",
    "remover.setOutputCol(\"filtered\")"
   ]
  },
  {
   "cell_type": "code",
   "execution_count": 15,
   "id": "ee054b06-5f5b-43bc-a6e5-ee61471bf45a",
   "metadata": {
    "tags": []
   },
   "outputs": [],
   "source": [
    "#count vectorizer\n",
    "cv = CountVectorizer(inputCol=\"filtered\", outputCol=\"raw_features\", vocabSize=5000, minDF=25)\n",
    "# IDF\n",
    "idf = IDF(inputCol=\"raw_features\", outputCol=\"features\")"
   ]
  },
  {
   "cell_type": "code",
   "execution_count": 16,
   "id": "8e6170b1-f7a0-4023-841e-57ebb30c953d",
   "metadata": {
    "tags": []
   },
   "outputs": [
    {
     "data": {
      "text/plain": [
       "LDA_e101364a1462"
      ]
     },
     "execution_count": 16,
     "metadata": {},
     "output_type": "execute_result"
    }
   ],
   "source": [
    "#lda model \n",
    "lda = LDA()\n",
    "lda.setK(8)\n",
    "lda.setMaxIter(10)\n",
    "lda.setSeed(13)"
   ]
  },
  {
   "cell_type": "code",
   "execution_count": 17,
   "id": "72999f26-04f0-4dca-8b01-1aec4ab620de",
   "metadata": {
    "tags": []
   },
   "outputs": [],
   "source": [
    "pipeline = Pipeline(stages=[tokenizer, remover, cv, idf, lda])"
   ]
  },
  {
   "cell_type": "code",
   "execution_count": 18,
   "id": "9f8827de-715f-4f09-892e-60a7e84d2ef3",
   "metadata": {
    "tags": []
   },
   "outputs": [
    {
     "name": "stderr",
     "output_type": "stream",
     "text": [
      "                                                                                \r"
     ]
    }
   ],
   "source": [
    "model = pipeline.fit(small_df)"
   ]
  },
  {
   "cell_type": "code",
   "execution_count": 19,
   "id": "973b6ec9-04b0-4745-a01b-f80737112529",
   "metadata": {
    "tags": []
   },
   "outputs": [],
   "source": [
    "topics = model.stages[-1].describeTopics()\n",
    "terms = model.stages[-3].vocabulary"
   ]
  },
  {
   "cell_type": "code",
   "execution_count": 20,
   "id": "30ab96a0-bf8e-457e-a93e-42cc635dd4f5",
   "metadata": {
    "tags": []
   },
   "outputs": [],
   "source": [
    "#get word from index of term \n",
    "def indices_to_terms(indices, terms=terms):\n",
    "        terms_subset = [terms[index] for index in indices]\n",
    "        return terms_subset\n",
    "# Defining Spark UDF from above function\n",
    "udf_indices_to_terms = f.udf(indices_to_terms, ArrayType(StringType()))\n",
    "\n",
    "topics = (\n",
    "    topics\n",
    "       .withColumn(\"terms\", udf_indices_to_terms(f.col(\"termIndices\")))\n",
    "    )"
   ]
  },
  {
   "cell_type": "code",
   "execution_count": 21,
   "id": "57c903f8-eb11-4e6f-8e1f-947e8cf5915d",
   "metadata": {
    "tags": []
   },
   "outputs": [],
   "source": [
    "#topics.take(20)"
   ]
  },
  {
   "cell_type": "code",
   "execution_count": 22,
   "id": "d858322d-6bd7-4ab2-a763-18487f6f7288",
   "metadata": {
    "tags": []
   },
   "outputs": [],
   "source": [
    "#naming topics \n",
    "topic_dict = {0: 'economics/russia&ukraine', 1: 'presidental news', 2: 'supreme court/law', 3: 'global politics', 4: 'us politics', \n",
    "              5: 'covid/russia&ukraine', 6: 'crime/protest', 7: 'tv shows'}\n",
    "              "
   ]
  },
  {
   "cell_type": "code",
   "execution_count": 23,
   "id": "2c845272-aead-4302-9e3c-989bde8c9b17",
   "metadata": {
    "tags": []
   },
   "outputs": [
    {
     "data": {
      "text/plain": [
       "DataFrame[title: string, id: string]"
      ]
     },
     "execution_count": 23,
     "metadata": {},
     "output_type": "execute_result"
    }
   ],
   "source": [
    "small_df.cache()"
   ]
  },
  {
   "cell_type": "code",
   "execution_count": 24,
   "id": "90239d4d-4470-4ff4-983b-6cbad3eb290e",
   "metadata": {
    "tags": []
   },
   "outputs": [],
   "source": [
    "small_transform = model.transform(small_df)"
   ]
  },
  {
   "cell_type": "code",
   "execution_count": 25,
   "id": "382a53d8-35dc-4813-bd05-dbb2e8167ccf",
   "metadata": {
    "tags": []
   },
   "outputs": [
    {
     "data": {
      "text/plain": [
       "DataFrame[title: string, id: string]"
      ]
     },
     "execution_count": 25,
     "metadata": {},
     "output_type": "execute_result"
    }
   ],
   "source": [
    "small_df.unpersist()\n"
   ]
  },
  {
   "cell_type": "code",
   "execution_count": 26,
   "id": "6e6f0763-3e76-4319-9e9b-bbb93b740afb",
   "metadata": {
    "tags": []
   },
   "outputs": [],
   "source": [
    "#map to topics\n",
    "mapping_expr = f.create_map([f.lit(x) for x in chain(*topic_dict.items())])"
   ]
  },
  {
   "cell_type": "code",
   "execution_count": 27,
   "id": "5b078978-d2b1-4483-b007-588c927a1176",
   "metadata": {
    "tags": []
   },
   "outputs": [],
   "source": [
    "#udf to get the top topic \n",
    "max_topic = f.udf(lambda v:float(v.argmax()),FloatType())\n",
    "#using mao and udf to create a topic column\n",
    "topic = small_transform.withColumn('topic_num', max_topic(\"topicDistribution\"))\\\n",
    ".withColumn(\"topic\", mapping_expr[f.col(\"topic_num\")]).select('id','topic')"
   ]
  },
  {
   "cell_type": "code",
   "execution_count": 28,
   "id": "09b8ba61-74a0-451e-af26-7a3870edf731",
   "metadata": {
    "tags": []
   },
   "outputs": [],
   "source": [
    "mini_posts = posts.select('created_utc', 'title', 'id')"
   ]
  },
  {
   "cell_type": "code",
   "execution_count": 29,
   "id": "0df9f008-8b38-41c6-aefc-60e32a9518ed",
   "metadata": {
    "tags": []
   },
   "outputs": [],
   "source": [
    "#merging relevant columns wuth the topic column\n",
    "merged_df = mini_posts.join(topic, 'id')"
   ]
  },
  {
   "cell_type": "code",
   "execution_count": 30,
   "id": "177b6b2a-e4f9-4dd3-80df-382e8519eb4c",
   "metadata": {
    "tags": []
   },
   "outputs": [
    {
     "name": "stderr",
     "output_type": "stream",
     "text": [
      "                                                                                \r"
     ]
    },
    {
     "data": {
      "text/plain": [
       "[Row(id='10000r8', created_utc=datetime.datetime(2022, 12, 31, 18, 10, 56), title='Who dares bins? Councils in England use ex-SAS soldiers to catch fly-tippers', topic='presidental news'),\n",
       " Row(id='10004rz', created_utc=datetime.datetime(2022, 12, 31, 18, 16, 6), title='Iran tests military drones in wargame near Strait of Hormuz', topic='global politics'),\n",
       " Row(id='1000b7b', created_utc=datetime.datetime(2022, 12, 31, 18, 24, 30), title='Wise Registry Cleaner Pro 11.3.4 Crack Here [2023]', topic='economics/russia&ukraine'),\n",
       " Row(id='1000e7x', created_utc=datetime.datetime(2022, 12, 31, 18, 28, 22), title='ai-Marketing', topic='economics/russia&ukraine'),\n",
       " Row(id='1000o6u', created_utc=datetime.datetime(2022, 12, 31, 18, 41, 24), title='VuzeVPN Not Responding Big Sur 1.0.8.1 Crack Activation Key', topic='economics/russia&ukraine')]"
      ]
     },
     "execution_count": 30,
     "metadata": {},
     "output_type": "execute_result"
    }
   ],
   "source": [
    "# merged_df.take(5)"
   ]
  },
  {
   "cell_type": "markdown",
   "id": "a0bf13f9-c1fb-4329-990a-3480a87d2468",
   "metadata": {},
   "source": [
    "## Adding comments"
   ]
  },
  {
   "cell_type": "code",
   "execution_count": 31,
   "id": "7ad259c4-4556-4999-9010-a64c34a8e015",
   "metadata": {
    "tags": []
   },
   "outputs": [],
   "source": [
    "#renaming columns and removing the t3_ from the link id to get the post id on the comment\n",
    "mini_comments = comments.select('created_utc','body','misinfo_class', 'link_id', 'id')\\\n",
    ".withColumn('comment_created', f.col('created_utc')).withColumn('comment_id', f.col('id'))\\\n",
    ".withColumn('id', f.regexp_extract('link_id', 't3_(.*)$', 1))"
   ]
  },
  {
   "cell_type": "code",
   "execution_count": 32,
   "id": "35831b91-4a04-4fdc-b03b-aa94fdc7301b",
   "metadata": {
    "tags": []
   },
   "outputs": [],
   "source": [
    "#merging dataframes\n",
    "total_df = merged_df.join(mini_comments, 'id')"
   ]
  },
  {
   "cell_type": "code",
   "execution_count": 33,
   "id": "13fc5b70-5812-431e-a73d-183c60d3ccf6",
   "metadata": {
    "tags": []
   },
   "outputs": [
    {
     "name": "stdout",
     "output_type": "stream",
     "text": [
      "root\n",
      " |-- id: string (nullable = true)\n",
      " |-- created_utc: timestamp (nullable = true)\n",
      " |-- title: string (nullable = true)\n",
      " |-- topic: string (nullable = true)\n",
      " |-- created_utc: timestamp (nullable = true)\n",
      " |-- body: string (nullable = true)\n",
      " |-- misinfo_class: boolean (nullable = false)\n",
      " |-- link_id: string (nullable = true)\n",
      " |-- comment_created: timestamp (nullable = true)\n",
      " |-- comment_id: string (nullable = true)\n",
      "\n"
     ]
    }
   ],
   "source": [
    "total_df.printSchema()"
   ]
  },
  {
   "cell_type": "markdown",
   "id": "3e6ae0eb-6f5a-48f7-a190-66ce3b68b25f",
   "metadata": {
    "jp-MarkdownHeadingCollapsed": true,
    "tags": []
   },
   "source": [
    "## Counting by topic"
   ]
  },
  {
   "cell_type": "code",
   "execution_count": null,
   "id": "a8a8a745-6a70-47ac-a356-06383eb486f3",
   "metadata": {
    "tags": []
   },
   "outputs": [],
   "source": [
    "topic_misinfo_counts = total_df.filter(f.col('misinfo_class') == True).groupBy('topic').count().toPandas()"
   ]
  },
  {
   "cell_type": "code",
   "execution_count": null,
   "id": "56e2c1e8-7b30-4dfc-a58f-d7389e7cd6bf",
   "metadata": {
    "tags": []
   },
   "outputs": [],
   "source": [
    "topic_misinfo_counts"
   ]
  },
  {
   "cell_type": "code",
   "execution_count": null,
   "id": "cc6907fa-d0ce-4fbd-b583-9c0ff8458b2e",
   "metadata": {
    "tags": []
   },
   "outputs": [],
   "source": [
    "topic_misinfo_counts.to_csv('../data/csv/topic_misinfo_true_count.csv', index = False)"
   ]
  },
  {
   "cell_type": "code",
   "execution_count": null,
   "id": "4c0e4dde-ecf9-4a48-b24b-5f46050fb1dd",
   "metadata": {
    "tags": []
   },
   "outputs": [],
   "source": [
    "topic_counts = total_df.groupBy('topic').count().toPandas()"
   ]
  },
  {
   "cell_type": "code",
   "execution_count": null,
   "id": "8be87b75-f344-4105-bef7-457abe27f46f",
   "metadata": {
    "tags": []
   },
   "outputs": [],
   "source": [
    "topic_counts"
   ]
  },
  {
   "cell_type": "code",
   "execution_count": null,
   "id": "f9b7f2b2-9589-49e4-9cf4-e8ab1fc191ec",
   "metadata": {
    "tags": []
   },
   "outputs": [],
   "source": [
    "topic_counts.to_csv('../data/csv/topic_counts.csv', index = False)"
   ]
  },
  {
   "cell_type": "code",
   "execution_count": null,
   "id": "bb792c5e-c8df-4a1c-9cfd-7da70f06ffbe",
   "metadata": {
    "tags": []
   },
   "outputs": [],
   "source": [
    "topic_misinfo_total = total_df.groupBy(['topic', 'misinfo_class']).count().toPandas()"
   ]
  },
  {
   "cell_type": "code",
   "execution_count": null,
   "id": "663ba541-c80b-4b71-b4f7-a169ecaf5ad8",
   "metadata": {
    "tags": []
   },
   "outputs": [],
   "source": [
    "topic_misinfo_total"
   ]
  },
  {
   "cell_type": "code",
   "execution_count": null,
   "id": "178f4563-338c-4e0a-b2a4-83c750e31c58",
   "metadata": {
    "tags": []
   },
   "outputs": [],
   "source": [
    "topic_misinfo_total.to_csv('../data/csv/topic_misinfo_total.csv', index = False)"
   ]
  },
  {
   "cell_type": "markdown",
   "id": "7b97b725-e783-41ff-ad52-fafae2be6aa9",
   "metadata": {
    "tags": []
   },
   "source": [
    "## Sentiment Analysis"
   ]
  },
  {
   "cell_type": "code",
   "execution_count": 34,
   "id": "843b2168-6245-439e-9c8b-59c8f5ad5f3e",
   "metadata": {
    "tags": []
   },
   "outputs": [
    {
     "name": "stdout",
     "output_type": "stream",
     "text": [
      "Collecting vaderSentiment\n",
      "  Using cached vaderSentiment-3.3.2-py2.py3-none-any.whl.metadata (572 bytes)\n",
      "Collecting textblob\n",
      "  Using cached textblob-0.18.0.post0-py3-none-any.whl.metadata (4.5 kB)\n",
      "Requirement already satisfied: requests in /opt/conda/lib/python3.10/site-packages (from vaderSentiment) (2.31.0)\n",
      "Requirement already satisfied: nltk>=3.8 in /opt/conda/lib/python3.10/site-packages (from textblob) (3.8.1)\n",
      "Requirement already satisfied: click in /opt/conda/lib/python3.10/site-packages (from nltk>=3.8->textblob) (8.1.7)\n",
      "Requirement already satisfied: joblib in /opt/conda/lib/python3.10/site-packages (from nltk>=3.8->textblob) (1.4.0)\n",
      "Requirement already satisfied: regex>=2021.8.3 in /opt/conda/lib/python3.10/site-packages (from nltk>=3.8->textblob) (2023.12.25)\n",
      "Requirement already satisfied: tqdm in /opt/conda/lib/python3.10/site-packages (from nltk>=3.8->textblob) (4.66.1)\n",
      "Requirement already satisfied: charset-normalizer<4,>=2 in /opt/conda/lib/python3.10/site-packages (from requests->vaderSentiment) (3.3.2)\n",
      "Requirement already satisfied: idna<4,>=2.5 in /opt/conda/lib/python3.10/site-packages (from requests->vaderSentiment) (3.6)\n",
      "Requirement already satisfied: urllib3<3,>=1.21.1 in /opt/conda/lib/python3.10/site-packages (from requests->vaderSentiment) (2.2.1)\n",
      "Requirement already satisfied: certifi>=2017.4.17 in /opt/conda/lib/python3.10/site-packages (from requests->vaderSentiment) (2024.2.2)\n",
      "Using cached vaderSentiment-3.3.2-py2.py3-none-any.whl (125 kB)\n",
      "Using cached textblob-0.18.0.post0-py3-none-any.whl (626 kB)\n",
      "Installing collected packages: vaderSentiment, textblob\n",
      "Successfully installed textblob-0.18.0.post0 vaderSentiment-3.3.2\n",
      "\u001b[33mWARNING: Running pip as the 'root' user can result in broken permissions and conflicting behaviour with the system package manager. It is recommended to use a virtual environment instead: https://pip.pypa.io/warnings/venv\u001b[0m\u001b[33m\n",
      "\u001b[0m"
     ]
    }
   ],
   "source": [
    "!pip install vaderSentiment textblob\n",
    "# reference for VADER:\n",
    "# https://medium.com/@tom.bailey.courses/sentiment-analysis-in-snowflake-using-python-31d7296abe1a\n",
    "# https://github.com/cjhutto/vaderSentiment"
   ]
  },
  {
   "cell_type": "code",
   "execution_count": 35,
   "id": "272bd1b0-eb43-4113-b3a7-8501518b065d",
   "metadata": {
    "tags": []
   },
   "outputs": [
    {
     "name": "stdout",
     "output_type": "stream",
     "text": [
      "root\n",
      " |-- id: string (nullable = true)\n",
      " |-- created_utc: timestamp (nullable = true)\n",
      " |-- title: string (nullable = true)\n",
      " |-- topic: string (nullable = true)\n",
      " |-- created_utc: timestamp (nullable = true)\n",
      " |-- body: string (nullable = true)\n",
      " |-- misinfo_class: boolean (nullable = false)\n",
      " |-- link_id: string (nullable = true)\n",
      " |-- comment_created: timestamp (nullable = true)\n",
      " |-- comment_id: string (nullable = true)\n",
      "\n"
     ]
    }
   ],
   "source": [
    "total_df.printSchema()"
   ]
  },
  {
   "cell_type": "markdown",
   "id": "310d07f1-74c0-483b-94ea-8df38f40e0c6",
   "metadata": {
    "tags": []
   },
   "source": [
    "### VADER and TextBlob"
   ]
  },
  {
   "cell_type": "code",
   "execution_count": 36,
   "id": "b18a7fc1-ecf3-4144-ae17-1ed9ffd7c740",
   "metadata": {
    "tags": []
   },
   "outputs": [],
   "source": [
    "from vaderSentiment.vaderSentiment import SentimentIntensityAnalyzer\n",
    "import pyspark.sql.types as T\n",
    "from textblob import TextBlob\n"
   ]
  },
  {
   "cell_type": "code",
   "execution_count": 37,
   "id": "aafe85aa-74ba-47af-9832-1074d1f5e903",
   "metadata": {
    "tags": []
   },
   "outputs": [],
   "source": [
    "# Use two libraries comparing the sentiment result\n",
    "def vader_sentiment(text):\n",
    "    analyzer = SentimentIntensityAnalyzer()\n",
    "    vader_score = analyzer.polarity_scores(text)\n",
    "    return vader_score['compound']  \n",
    "\n",
    "\n",
    "def textblob_sentiment(text):\n",
    "    return TextBlob(text).sentiment.polarity"
   ]
  },
  {
   "cell_type": "code",
   "execution_count": 38,
   "id": "806805b1-ce35-4415-a55b-73fc54456abb",
   "metadata": {
    "tags": []
   },
   "outputs": [],
   "source": [
    "# UDF\n",
    "vader_udf = f.udf(vader_sentiment, T.FloatType())\n",
    "textblob_udf = f.udf(textblob_sentiment, T.FloatType())"
   ]
  },
  {
   "cell_type": "code",
   "execution_count": 39,
   "id": "1113e9df-9163-4aea-b2f4-99f5ec48d752",
   "metadata": {
    "tags": []
   },
   "outputs": [],
   "source": [
    "# Add vader score to total df\n",
    "total_df = total_df.withColumn(\"vader_score\", vader_udf(f.col(\"body\")))\n",
    "\n",
    "# Add textblob score to total df\n",
    "total_df = total_df.withColumn(\"textblob_score\", textblob_udf(f.col(\"body\")))\n"
   ]
  },
  {
   "cell_type": "code",
   "execution_count": 40,
   "id": "dd34fb94-9e7b-4314-a09a-87299e1aea54",
   "metadata": {
    "tags": []
   },
   "outputs": [
    {
     "name": "stdout",
     "output_type": "stream",
     "text": [
      "root\n",
      " |-- id: string (nullable = true)\n",
      " |-- created_utc: timestamp (nullable = true)\n",
      " |-- title: string (nullable = true)\n",
      " |-- topic: string (nullable = true)\n",
      " |-- created_utc: timestamp (nullable = true)\n",
      " |-- body: string (nullable = true)\n",
      " |-- misinfo_class: boolean (nullable = false)\n",
      " |-- link_id: string (nullable = true)\n",
      " |-- comment_created: timestamp (nullable = true)\n",
      " |-- comment_id: string (nullable = true)\n",
      " |-- vader_score: float (nullable = true)\n",
      " |-- textblob_score: float (nullable = true)\n",
      "\n"
     ]
    }
   ],
   "source": [
    "total_df.printSchema()"
   ]
  },
  {
   "cell_type": "code",
   "execution_count": 65,
   "id": "5b020c2d-175c-4dd2-98af-0b936818047c",
   "metadata": {
    "tags": []
   },
   "outputs": [],
   "source": [
    "total_df = total_df.drop(\"created_utc\")"
   ]
  },
  {
   "cell_type": "markdown",
   "id": "78c5881f-785c-4527-8933-c208562abc5e",
   "metadata": {
    "jp-MarkdownHeadingCollapsed": true,
    "tags": []
   },
   "source": [
    "### output the result"
   ]
  },
  {
   "cell_type": "code",
   "execution_count": null,
   "id": "1e050053-944d-4526-8767-7220f6a464d5",
   "metadata": {
    "tags": []
   },
   "outputs": [],
   "source": [
    "total_df.printSchema()"
   ]
  },
  {
   "cell_type": "code",
   "execution_count": null,
   "id": "b7c4e881-5cec-4e08-93bb-53ea5607072e",
   "metadata": {
    "tags": []
   },
   "outputs": [],
   "source": [
    "# Add a year column\n",
    "total_df = total_df.withColumn(\"year\", f.year(\"comment_created\"))"
   ]
  },
  {
   "cell_type": "code",
   "execution_count": null,
   "id": "3c666281-939d-4b5a-9697-65437c885bf5",
   "metadata": {
    "tags": []
   },
   "outputs": [],
   "source": [
    "# Get distinct years\n",
    "year_list = [2023, 2021] "
   ]
  },
  {
   "cell_type": "code",
   "execution_count": null,
   "id": "b2f0eda6-33a9-49fe-a341-dc14914e226a",
   "metadata": {
    "tags": []
   },
   "outputs": [],
   "source": [
    "def save_par"
   ]
  },
  {
   "cell_type": "code",
   "execution_count": null,
   "id": "bf699aff-db3f-4042-a4e5-16e65e04ab19",
   "metadata": {
    "tags": []
   },
   "outputs": [],
   "source": [
    "for y in year_list:\n",
    "    # Filter the DataFrame for one year\n",
    "    df_year = total_df.filter(total_df.year == y)\n",
    "    print(f\"--- start saving {y} ------\")\n",
    "\n",
    "    # Define the output path for this particular year\n",
    "    output_path = f\"s3a://{bucket}/project/output/year={y}\"\n",
    "\n",
    "    # Write the filtered DataFrame to Parquet\n",
    "    df_year.drop(\"year\").write.mode('overwrite').parquet(output_path)\n",
    "    print(f\"{y}'s data now saved in {output_path} ------\")\n"
   ]
  },
  {
   "cell_type": "code",
   "execution_count": null,
   "id": "4538f473-d359-4169-96c8-719f1623a9b7",
   "metadata": {
    "tags": []
   },
   "outputs": [],
   "source": []
  },
  {
   "cell_type": "code",
   "execution_count": null,
   "id": "9708b1e5-1dfd-4e72-bd58-c5063ea62c6a",
   "metadata": {
    "tags": []
   },
   "outputs": [],
   "source": [
    "total_df.count()"
   ]
  },
  {
   "cell_type": "code",
   "execution_count": null,
   "id": "264d97e7-127e-4c0d-99c0-59179a9b8ea7",
   "metadata": {
    "tags": []
   },
   "outputs": [],
   "source": [
    "comments.count()"
   ]
  },
  {
   "cell_type": "code",
   "execution_count": null,
   "id": "6537f4bd-2dec-4cb2-8b32-7ede36f50472",
   "metadata": {},
   "outputs": [],
   "source": [
    "output_path = f\"s3a://{bucket}/project/output/total.parquet\"\n",
    "\n",
    "# Write the DataFrame to Parquet on S3\n",
    "total_df.write.mode('overwrite').parquet(output_path)\n",
    "# total_df.save(path=output_path, source='parquet', mode='overwrite')"
   ]
  },
  {
   "cell_type": "markdown",
   "id": "a27f0644-37fb-40c9-91d9-4384a5507bef",
   "metadata": {
    "jp-MarkdownHeadingCollapsed": true,
    "tags": []
   },
   "source": [
    "### Comparison"
   ]
  },
  {
   "cell_type": "code",
   "execution_count": null,
   "id": "8d985d64-1b51-4af7-9880-5ae48d81d0b8",
   "metadata": {
    "tags": []
   },
   "outputs": [],
   "source": [
    "total_df.cache()"
   ]
  },
  {
   "cell_type": "code",
   "execution_count": null,
   "id": "29da7fa3-8071-47d0-89f1-338a9b5ef800",
   "metadata": {
    "tags": []
   },
   "outputs": [],
   "source": [
    "# display a sample to manually inspect differences\n",
    "total_df.select(\"body\", \"vader_score\", \"textblob_score\").show()\n"
   ]
  },
  {
   "cell_type": "code",
   "execution_count": null,
   "id": "6c3d863c-d480-4c34-8b20-fd14bf83ccad",
   "metadata": {
    "tags": []
   },
   "outputs": [],
   "source": [
    "total_df.unpersist()"
   ]
  },
  {
   "cell_type": "code",
   "execution_count": null,
   "id": "90087380-17a0-49ec-8632-4df34b2034d6",
   "metadata": {
    "tags": []
   },
   "outputs": [],
   "source": [
    "total_df.describe(['vader_score', 'textblob_score']).show()\n"
   ]
  },
  {
   "cell_type": "code",
   "execution_count": null,
   "id": "5e3435df-5b54-4040-a151-df3bbfcdd99f",
   "metadata": {
    "tags": []
   },
   "outputs": [],
   "source": [
    "# compute correlation between the scores\n",
    "total_df.stat.corr(\"sentiment_score\", \"textblob_score\")\n"
   ]
  },
  {
   "cell_type": "code",
   "execution_count": null,
   "id": "9dc0dcc2-3b80-4cf5-80ca-0ce9b7e55446",
   "metadata": {},
   "outputs": [],
   "source": []
  },
  {
   "cell_type": "markdown",
   "id": "0cbbcba3-59bd-4381-91ea-16adae56f3e4",
   "metadata": {
    "jp-MarkdownHeadingCollapsed": true,
    "tags": []
   },
   "source": [
    "### Top Topics that people comment they are fake news"
   ]
  },
  {
   "cell_type": "code",
   "execution_count": null,
   "id": "9a05586b-ca70-4782-a2fd-85adf6b95135",
   "metadata": {
    "tags": []
   },
   "outputs": [],
   "source": [
    "misinfo_comments = total_df.filter((f.col(\"vader_score\") < 0) & (f.col(\"misinfo_class\") == True))"
   ]
  },
  {
   "cell_type": "code",
   "execution_count": null,
   "id": "fa16fe25-dc74-4630-9763-ecd248e96155",
   "metadata": {
    "tags": []
   },
   "outputs": [],
   "source": [
    "misinfo_comments.cache()"
   ]
  },
  {
   "cell_type": "code",
   "execution_count": null,
   "id": "acdfa570-4081-4b72-8b23-cbf2b864228e",
   "metadata": {
    "tags": []
   },
   "outputs": [],
   "source": [
    "# aggregating misinformation comments by topic\n",
    "misinfo_comments_count = misinfo_comments.groupBy(\"vader_score\").count().toPandas()\n"
   ]
  },
  {
   "cell_type": "code",
   "execution_count": null,
   "id": "3c3019e9-5eca-43b3-b618-32434e59b90e",
   "metadata": {
    "tags": []
   },
   "outputs": [],
   "source": [
    "# save to csv file\n",
    "misinfo_comments_count.to_csv('../data/csv/misinfo_comments_count.csv', index = False)"
   ]
  },
  {
   "cell_type": "code",
   "execution_count": null,
   "id": "8ddee53a-4b0e-4012-be86-7a21d929d1a9",
   "metadata": {
    "tags": []
   },
   "outputs": [],
   "source": [
    "misinfo_comments.printSchema()"
   ]
  },
  {
   "cell_type": "code",
   "execution_count": null,
   "id": "c270018b-2643-486d-bdb5-1c11769f4562",
   "metadata": {
    "tags": []
   },
   "outputs": [],
   "source": [
    "# Topics comment counts and percentage of vadar score <0\n",
    "\n",
    "misinfo_comments = misinfo_comments.withColumn(\"vader_neg\", (f.col(\"vader_score\") < 0).cast(\"int\"))\n",
    "\n",
    "# group by the 'topic' to calculate the total comments\n",
    "neg_comments_count = misinfo_comments.groupBy(\"topic\").agg(f.count(\"comment_id\").alias(\"total_comments\"),\n",
    "                                                           f.sum(\"vader_neg\").alias(\"negative_vader_count\")  \n",
    "    )\n",
    "\n",
    "# Calculate the percentage of negative VADER scores\n",
    "neg_comments_count = neg_comments_count.withColumn(\"percentage_neg_vader\", \n",
    "                           (f.col(\"negative_vader_count\") / f.col(\"total_comments\")) * 100)\n",
    "\n",
    "neg_comments_count.show()"
   ]
  },
  {
   "cell_type": "code",
   "execution_count": null,
   "id": "4e8f81fb-51b9-4512-8a9c-7554032eeed2",
   "metadata": {
    "tags": []
   },
   "outputs": [],
   "source": [
    "misinfo_comments.cache()"
   ]
  },
  {
   "cell_type": "code",
   "execution_count": null,
   "id": "1b104b9e-89f7-40df-a7fb-a302bae848a8",
   "metadata": {
    "tags": []
   },
   "outputs": [],
   "source": [
    "from pyspark.sql import functions as f\n",
    "\n",
    "# Adjusting the condition to check for VADER score less than -0.8 and renaming the column\n",
    "misinfo_comments = misinfo_comments.withColumn(\"vader_below_neg_0_8\", (f.col(\"vader_score\") < -0.8).cast(\"int\"))\n",
    "\n",
    "# Group by the 'topic' to calculate the total comments and the sum of negative comments with the new column name\n",
    "neg_comments_count = misinfo_comments.groupBy(\"topic\").agg(\n",
    "    f.count(\"comment_id\").alias(\"total_comments\"),\n",
    "    f.sum(\"vader_below_neg_0_8\").alias(\"count_below_neg_0_8\")  \n",
    ")\n",
    "\n",
    "# Calculate the percentage of negative VADER scores and rename the percentage column appropriately\n",
    "neg_comments_count = neg_comments_count.withColumn(\"percentage_below_neg_0_8\", \n",
    "                           (f.col(\"count_below_neg_0_8\") / f.col(\"total_comments\")) * 100)\n",
    "\n",
    "# Display the results\n",
    "neg_comments_count.show()\n"
   ]
  },
  {
   "cell_type": "code",
   "execution_count": null,
   "id": "885a73b9-fd78-41ef-8962-3f551e2e164c",
   "metadata": {
    "tags": []
   },
   "outputs": [],
   "source": [
    "# save to csv file\n",
    "neg_comments_count_pd = neg_comments_count.toPandas()\n",
    "neg_comments_count_pd.to_csv('../data/csv/neg_comments_count.csv', header=True, index=False)\n"
   ]
  },
  {
   "cell_type": "code",
   "execution_count": null,
   "id": "32909e23-b121-4233-ab89-26fad5d7d25d",
   "metadata": {
    "tags": []
   },
   "outputs": [],
   "source": [
    "misinfo_comments.unpersist()"
   ]
  },
  {
   "cell_type": "markdown",
   "id": "055edc58-719a-40cf-b11e-d6283ceeb6fc",
   "metadata": {},
   "source": [
    "## part 3 - Covid Data"
   ]
  },
  {
   "cell_type": "code",
   "execution_count": 41,
   "id": "387f792d-a0c2-49e5-adf2-ce94716ce65d",
   "metadata": {
    "scrolled": true,
    "tags": []
   },
   "outputs": [
    {
     "name": "stderr",
     "output_type": "stream",
     "text": [
      "                                                                                \r"
     ]
    },
    {
     "name": "stdout",
     "output_type": "stream",
     "text": [
      "+----------+------------+-------------+------------+-------------+----------+--------------------+-------------------+--------------------+-----------------+\n",
      "|      date|location_key|new_confirmed|new_deceased|new_recovered|new_tested|cumulative_confirmed|cumulative_deceased|cumulative_recovered|cumulative_tested|\n",
      "+----------+------------+-------------+------------+-------------+----------+--------------------+-------------------+--------------------+-----------------+\n",
      "|2020-01-01|          AD|            0|           0|         null|      null|                   0|                  0|                null|             null|\n",
      "|2020-01-02|          AD|            0|           0|         null|      null|                   0|                  0|                null|             null|\n",
      "|2020-01-03|          AD|            0|           0|         null|      null|                   0|                  0|                null|             null|\n",
      "|2020-01-04|          AD|            0|           0|         null|      null|                   0|                  0|                null|             null|\n",
      "|2020-01-05|          AD|            0|           0|         null|      null|                   0|                  0|                null|             null|\n",
      "|2020-01-06|          AD|            0|           0|         null|      null|                   0|                  0|                null|             null|\n",
      "|2020-01-07|          AD|            0|           0|         null|      null|                   0|                  0|                null|             null|\n",
      "|2020-01-08|          AD|            0|           0|         null|      null|                   0|                  0|                null|             null|\n",
      "|2020-01-09|          AD|            0|           0|         null|      null|                   0|                  0|                null|             null|\n",
      "|2020-01-10|          AD|            0|           0|         null|      null|                   0|                  0|                null|             null|\n",
      "|2020-01-11|          AD|            0|           0|         null|      null|                   0|                  0|                null|             null|\n",
      "|2020-01-12|          AD|            0|           0|         null|      null|                   0|                  0|                null|             null|\n",
      "|2020-01-13|          AD|            0|           0|         null|      null|                   0|                  0|                null|             null|\n",
      "|2020-01-14|          AD|            0|           0|         null|      null|                   0|                  0|                null|             null|\n",
      "|2020-01-15|          AD|            0|           0|         null|      null|                   0|                  0|                null|             null|\n",
      "|2020-01-16|          AD|            0|           0|         null|      null|                   0|                  0|                null|             null|\n",
      "|2020-01-17|          AD|            0|           0|         null|      null|                   0|                  0|                null|             null|\n",
      "|2020-01-18|          AD|            0|           0|         null|      null|                   0|                  0|                null|             null|\n",
      "|2020-01-19|          AD|            0|           0|         null|      null|                   0|                  0|                null|             null|\n",
      "|2020-01-20|          AD|            0|           0|         null|      null|                   0|                  0|                null|             null|\n",
      "+----------+------------+-------------+------------+-------------+----------+--------------------+-------------------+--------------------+-----------------+\n",
      "only showing top 20 rows\n",
      "\n"
     ]
    }
   ],
   "source": [
    "# Define the path to the CSV file\n",
    "s3_path = f\"s3a://{bucket}/project/covid_data/epidemiology.csv\"\n",
    "\n",
    "# Read the CSV file\n",
    "epi_data = spark.read.csv(s3_path, header=True, inferSchema=True)\n",
    "\n",
    "# Show the DataFrame to verify the content\n",
    "epi_data.show()\n"
   ]
  },
  {
   "cell_type": "code",
   "execution_count": 43,
   "id": "df595bf1-5b21-4049-847b-a0a1e8596e04",
   "metadata": {
    "tags": []
   },
   "outputs": [
    {
     "name": "stderr",
     "output_type": "stream",
     "text": [
      "[Stage 51:==============>                                           (1 + 3) / 4]\r"
     ]
    },
    {
     "name": "stdout",
     "output_type": "stream",
     "text": [
      "root\n",
      " |-- date: date (nullable = true)\n",
      " |-- location_key: string (nullable = true)\n",
      " |-- new_persons_vaccinated: integer (nullable = true)\n",
      " |-- cumulative_persons_vaccinated: integer (nullable = true)\n",
      " |-- new_persons_fully_vaccinated: integer (nullable = true)\n",
      " |-- cumulative_persons_fully_vaccinated: integer (nullable = true)\n",
      " |-- new_vaccine_doses_administered: integer (nullable = true)\n",
      " |-- cumulative_vaccine_doses_administered: long (nullable = true)\n",
      " |-- new_persons_vaccinated_pfizer: integer (nullable = true)\n",
      " |-- cumulative_persons_vaccinated_pfizer: integer (nullable = true)\n",
      " |-- new_persons_fully_vaccinated_pfizer: integer (nullable = true)\n",
      " |-- cumulative_persons_fully_vaccinated_pfizer: integer (nullable = true)\n",
      " |-- new_vaccine_doses_administered_pfizer: integer (nullable = true)\n",
      " |-- cumulative_vaccine_doses_administered_pfizer: integer (nullable = true)\n",
      " |-- new_persons_vaccinated_moderna: integer (nullable = true)\n",
      " |-- cumulative_persons_vaccinated_moderna: integer (nullable = true)\n",
      " |-- new_persons_fully_vaccinated_moderna: integer (nullable = true)\n",
      " |-- cumulative_persons_fully_vaccinated_moderna: integer (nullable = true)\n",
      " |-- new_vaccine_doses_administered_moderna: integer (nullable = true)\n",
      " |-- cumulative_vaccine_doses_administered_moderna: integer (nullable = true)\n",
      " |-- new_persons_vaccinated_janssen: integer (nullable = true)\n",
      " |-- cumulative_persons_vaccinated_janssen: integer (nullable = true)\n",
      " |-- new_persons_fully_vaccinated_janssen: integer (nullable = true)\n",
      " |-- cumulative_persons_fully_vaccinated_janssen: integer (nullable = true)\n",
      " |-- new_vaccine_doses_administered_janssen: integer (nullable = true)\n",
      " |-- cumulative_vaccine_doses_administered_janssen: integer (nullable = true)\n",
      " |-- new_persons_vaccinated_sinovac: integer (nullable = true)\n",
      " |-- total_persons_vaccinated_sinovac: integer (nullable = true)\n",
      " |-- new_persons_fully_vaccinated_sinovac: string (nullable = true)\n",
      " |-- total_persons_fully_vaccinated_sinovac: string (nullable = true)\n",
      " |-- new_vaccine_doses_administered_sinovac: string (nullable = true)\n",
      " |-- total_vaccine_doses_administered_sinovac: string (nullable = true)\n",
      "\n"
     ]
    },
    {
     "name": "stderr",
     "output_type": "stream",
     "text": [
      "                                                                                \r"
     ]
    }
   ],
   "source": [
    "# Define the path to the CSV file\n",
    "s3_path = f\"s3a://{bucket}/project/covid_data/vaccinations.csv\"\n",
    "\n",
    "# Read the CSV file\n",
    "vac_data = spark.read.csv(s3_path, header=True, inferSchema=True)\n",
    "\n",
    "# Show the DataFrame to verify the content\n",
    "vac_data.printSchema()\n"
   ]
  },
  {
   "cell_type": "code",
   "execution_count": 42,
   "id": "49c390f8-32be-45ec-84da-7fb28773fe66",
   "metadata": {
    "tags": []
   },
   "outputs": [
    {
     "name": "stderr",
     "output_type": "stream",
     "text": [
      "                                                                                \r"
     ]
    }
   ],
   "source": [
    "file = \"google-search-trends.csv\"\n",
    "\n",
    "s3_path = f\"s3a://{bucket}/project/covid_data/{file}\"\n",
    "\n",
    "# Read the CSV file\n",
    "search_data = spark.read.csv(s3_path, header=True, inferSchema=True)\n",
    "\n",
    "# Show the DataFrame to verify the content\n",
    "# search_data.show()\n",
    "# search_data.printSchema()"
   ]
  },
  {
   "cell_type": "markdown",
   "id": "3dcc4a4d-3b0c-4533-a4c1-9178c00cd4e4",
   "metadata": {},
   "source": [
    "### data preprocess"
   ]
  },
  {
   "cell_type": "code",
   "execution_count": 51,
   "id": "f61f205b-f902-4675-bdd1-70234bd8266e",
   "metadata": {
    "tags": []
   },
   "outputs": [],
   "source": [
    "import pandas as pd"
   ]
  },
  {
   "cell_type": "markdown",
   "id": "46844cc3-840c-466c-b55f-96a8b836435f",
   "metadata": {
    "tags": []
   },
   "source": [
    "#### create functions"
   ]
  },
  {
   "cell_type": "code",
   "execution_count": 44,
   "id": "e1432513-67bc-4da7-889e-79f6e3333095",
   "metadata": {
    "tags": []
   },
   "outputs": [],
   "source": [
    "def add_time_columns(df, date_col='date'):\n",
    "\n",
    "    return df.withColumn(\"year\", f.year(date_col)) \\\n",
    "             .withColumn(\"month\", f.month(date_col)) \\\n",
    "             .withColumn(\"week\", f.weekofyear(date_col))"
   ]
  },
  {
   "cell_type": "code",
   "execution_count": 45,
   "id": "408b4047-f165-46c4-bcaf-1c7bb840bbc7",
   "metadata": {
    "tags": []
   },
   "outputs": [],
   "source": [
    "def group_by_weekly(df, cols):\n",
    "\n",
    "    # Prepare aggregation expressions\n",
    "    aggregations = {col: \"sum\" for col in cols}\n",
    "    \n",
    "\n",
    "    return df.groupBy(\"year\", \"week\").agg(\n",
    "        *(f.sum(c).alias(f\"sum_{c}\") for c in cols)\n",
    "    ).orderBy(\"year\", \"week\")"
   ]
  },
  {
   "cell_type": "code",
   "execution_count": 46,
   "id": "f8884f0a-ea6c-4574-aed2-a599aa8565c1",
   "metadata": {
    "tags": []
   },
   "outputs": [],
   "source": [
    "def group_by_monthly(df, cols):\n",
    "\n",
    "    aggregations = {col: \"sum\" for col in cols}\n",
    "    \n",
    "    # Group by year and month, then aggregate based on the provided columns\n",
    "    return df.groupBy(\"year\", \"month\").agg(\n",
    "        *(f.sum(c).alias(f\"sum_{c}\") for c in cols)\n",
    "    ).orderBy(\"year\", \"month\")\n"
   ]
  },
  {
   "cell_type": "markdown",
   "id": "32ee6152-254c-4c4e-95d4-885a04231872",
   "metadata": {},
   "source": [
    "#### start data process"
   ]
  },
  {
   "cell_type": "code",
   "execution_count": 60,
   "id": "29c7204a-df88-4e77-a9fd-650106be53bf",
   "metadata": {
    "tags": []
   },
   "outputs": [
    {
     "name": "stderr",
     "output_type": "stream",
     "text": [
      "                                                                                \r"
     ]
    }
   ],
   "source": [
    "# Extract the month from the date and group by it\n",
    "epi_data = add_time_columns(epi_data)\n",
    "\n",
    "epi_agg_cols =  [\"new_confirmed\", \"new_deceased\"]\n",
    "monthly_epi_global = group_by_monthly(epi_data, epi_agg_cols)\n",
    "weekly_epi_global = group_by_weekly(epi_data, epi_agg_cols)\n",
    "\n",
    "monthly_epi_global_df = monthly_epi_global.toPandas()\n",
    "weekly_epi_global_df = weekly_epi_global.toPandas()"
   ]
  },
  {
   "cell_type": "code",
   "execution_count": 61,
   "id": "f10660bb-6500-4051-a33f-b1effbf9b960",
   "metadata": {
    "tags": []
   },
   "outputs": [
    {
     "name": "stderr",
     "output_type": "stream",
     "text": [
      "                                                                                \r"
     ]
    }
   ],
   "source": [
    "# Extract the month from the date and group by it\n",
    "vac_data = add_time_columns(vac_data)\n",
    "\n",
    "vac_agg_cols =  [\"new_persons_vaccinated\", \"new_persons_fully_vaccinated\", \"new_vaccine_doses_administered\"]\n",
    "monthly_vac_global = group_by_monthly(vac_data, vac_agg_cols)\n",
    "weekly_vac_global = group_by_weekly(vac_data, vac_agg_cols)\n",
    "\n",
    "monthly_vac_global_df = monthly_vac_global.toPandas()\n",
    "weekly_vac_global_df = weekly_vac_global.toPandas()\n"
   ]
  },
  {
   "cell_type": "code",
   "execution_count": 62,
   "id": "376516be-d54c-4218-a5d0-7934697834ff",
   "metadata": {
    "tags": []
   },
   "outputs": [
    {
     "data": {
      "text/html": [
       "<div>\n",
       "<style scoped>\n",
       "    .dataframe tbody tr th:only-of-type {\n",
       "        vertical-align: middle;\n",
       "    }\n",
       "\n",
       "    .dataframe tbody tr th {\n",
       "        vertical-align: top;\n",
       "    }\n",
       "\n",
       "    .dataframe thead th {\n",
       "        text-align: right;\n",
       "    }\n",
       "</style>\n",
       "<table border=\"1\" class=\"dataframe\">\n",
       "  <thead>\n",
       "    <tr style=\"text-align: right;\">\n",
       "      <th></th>\n",
       "      <th>year</th>\n",
       "      <th>month</th>\n",
       "      <th>sum_new_confirmed</th>\n",
       "      <th>sum_new_deceased</th>\n",
       "      <th>sum_new_persons_vaccinated</th>\n",
       "      <th>sum_new_persons_fully_vaccinated</th>\n",
       "      <th>sum_new_vaccine_doses_administered</th>\n",
       "    </tr>\n",
       "  </thead>\n",
       "  <tbody>\n",
       "    <tr>\n",
       "      <th>0</th>\n",
       "      <td>2019</td>\n",
       "      <td>12</td>\n",
       "      <td>NaN</td>\n",
       "      <td>NaN</td>\n",
       "      <td>NaN</td>\n",
       "      <td>NaN</td>\n",
       "      <td>NaN</td>\n",
       "    </tr>\n",
       "    <tr>\n",
       "      <th>1</th>\n",
       "      <td>2020</td>\n",
       "      <td>1</td>\n",
       "      <td>54666.0</td>\n",
       "      <td>1686.0</td>\n",
       "      <td>NaN</td>\n",
       "      <td>0.0</td>\n",
       "      <td>NaN</td>\n",
       "    </tr>\n",
       "    <tr>\n",
       "      <th>2</th>\n",
       "      <td>2020</td>\n",
       "      <td>2</td>\n",
       "      <td>-141599.0</td>\n",
       "      <td>5353.0</td>\n",
       "      <td>NaN</td>\n",
       "      <td>0.0</td>\n",
       "      <td>NaN</td>\n",
       "    </tr>\n",
       "    <tr>\n",
       "      <th>3</th>\n",
       "      <td>2020</td>\n",
       "      <td>3</td>\n",
       "      <td>2195224.0</td>\n",
       "      <td>110044.0</td>\n",
       "      <td>0.0</td>\n",
       "      <td>0.0</td>\n",
       "      <td>0.0</td>\n",
       "    </tr>\n",
       "    <tr>\n",
       "      <th>4</th>\n",
       "      <td>2020</td>\n",
       "      <td>4</td>\n",
       "      <td>5900737.0</td>\n",
       "      <td>465675.0</td>\n",
       "      <td>0.0</td>\n",
       "      <td>0.0</td>\n",
       "      <td>0.0</td>\n",
       "    </tr>\n",
       "  </tbody>\n",
       "</table>\n",
       "</div>"
      ],
      "text/plain": [
       "   year  month  sum_new_confirmed  sum_new_deceased  \\\n",
       "0  2019     12                NaN               NaN   \n",
       "1  2020      1            54666.0            1686.0   \n",
       "2  2020      2          -141599.0            5353.0   \n",
       "3  2020      3          2195224.0          110044.0   \n",
       "4  2020      4          5900737.0          465675.0   \n",
       "\n",
       "   sum_new_persons_vaccinated  sum_new_persons_fully_vaccinated  \\\n",
       "0                         NaN                               NaN   \n",
       "1                         NaN                               0.0   \n",
       "2                         NaN                               0.0   \n",
       "3                         0.0                               0.0   \n",
       "4                         0.0                               0.0   \n",
       "\n",
       "   sum_new_vaccine_doses_administered  \n",
       "0                                 NaN  \n",
       "1                                 NaN  \n",
       "2                                 NaN  \n",
       "3                                 0.0  \n",
       "4                                 0.0  "
      ]
     },
     "execution_count": 62,
     "metadata": {},
     "output_type": "execute_result"
    }
   ],
   "source": [
    "monthly_covid = pd.merge(\n",
    "    monthly_epi_global_df,\n",
    "    monthly_vac_global_df,\n",
    "    on=['year', 'month'],  # Columns to join on\n",
    "    how='outer'  # Full outer join to ensure all data from both sides is kept\n",
    ")\n",
    "monthly_covid.head()"
   ]
  },
  {
   "cell_type": "code",
   "execution_count": 63,
   "id": "fe70f60e-e566-44e6-b0c3-d850f031062d",
   "metadata": {
    "tags": []
   },
   "outputs": [
    {
     "data": {
      "text/html": [
       "<div>\n",
       "<style scoped>\n",
       "    .dataframe tbody tr th:only-of-type {\n",
       "        vertical-align: middle;\n",
       "    }\n",
       "\n",
       "    .dataframe tbody tr th {\n",
       "        vertical-align: top;\n",
       "    }\n",
       "\n",
       "    .dataframe thead th {\n",
       "        text-align: right;\n",
       "    }\n",
       "</style>\n",
       "<table border=\"1\" class=\"dataframe\">\n",
       "  <thead>\n",
       "    <tr style=\"text-align: right;\">\n",
       "      <th></th>\n",
       "      <th>year</th>\n",
       "      <th>week</th>\n",
       "      <th>sum_new_confirmed</th>\n",
       "      <th>sum_new_deceased</th>\n",
       "      <th>sum_new_persons_vaccinated</th>\n",
       "      <th>sum_new_persons_fully_vaccinated</th>\n",
       "      <th>sum_new_vaccine_doses_administered</th>\n",
       "    </tr>\n",
       "  </thead>\n",
       "  <tbody>\n",
       "    <tr>\n",
       "      <th>0</th>\n",
       "      <td>2019</td>\n",
       "      <td>1</td>\n",
       "      <td>NaN</td>\n",
       "      <td>NaN</td>\n",
       "      <td>NaN</td>\n",
       "      <td>NaN</td>\n",
       "      <td>NaN</td>\n",
       "    </tr>\n",
       "    <tr>\n",
       "      <th>1</th>\n",
       "      <td>2020</td>\n",
       "      <td>1</td>\n",
       "      <td>15214.0</td>\n",
       "      <td>1120.0</td>\n",
       "      <td>NaN</td>\n",
       "      <td>NaN</td>\n",
       "      <td>NaN</td>\n",
       "    </tr>\n",
       "    <tr>\n",
       "      <th>2</th>\n",
       "      <td>2020</td>\n",
       "      <td>2</td>\n",
       "      <td>8594.0</td>\n",
       "      <td>1.0</td>\n",
       "      <td>NaN</td>\n",
       "      <td>NaN</td>\n",
       "      <td>NaN</td>\n",
       "    </tr>\n",
       "    <tr>\n",
       "      <th>3</th>\n",
       "      <td>2020</td>\n",
       "      <td>3</td>\n",
       "      <td>3078.0</td>\n",
       "      <td>5.0</td>\n",
       "      <td>NaN</td>\n",
       "      <td>NaN</td>\n",
       "      <td>NaN</td>\n",
       "    </tr>\n",
       "    <tr>\n",
       "      <th>4</th>\n",
       "      <td>2020</td>\n",
       "      <td>4</td>\n",
       "      <td>8116.0</td>\n",
       "      <td>172.0</td>\n",
       "      <td>NaN</td>\n",
       "      <td>0.0</td>\n",
       "      <td>NaN</td>\n",
       "    </tr>\n",
       "  </tbody>\n",
       "</table>\n",
       "</div>"
      ],
      "text/plain": [
       "   year  week  sum_new_confirmed  sum_new_deceased  \\\n",
       "0  2019     1                NaN               NaN   \n",
       "1  2020     1            15214.0            1120.0   \n",
       "2  2020     2             8594.0               1.0   \n",
       "3  2020     3             3078.0               5.0   \n",
       "4  2020     4             8116.0             172.0   \n",
       "\n",
       "   sum_new_persons_vaccinated  sum_new_persons_fully_vaccinated  \\\n",
       "0                         NaN                               NaN   \n",
       "1                         NaN                               NaN   \n",
       "2                         NaN                               NaN   \n",
       "3                         NaN                               NaN   \n",
       "4                         NaN                               0.0   \n",
       "\n",
       "   sum_new_vaccine_doses_administered  \n",
       "0                                 NaN  \n",
       "1                                 NaN  \n",
       "2                                 NaN  \n",
       "3                                 NaN  \n",
       "4                                 NaN  "
      ]
     },
     "execution_count": 63,
     "metadata": {},
     "output_type": "execute_result"
    }
   ],
   "source": [
    "weekly_covid = pd.merge(\n",
    "    weekly_epi_global_df,\n",
    "    weekly_vac_global_df,\n",
    "    on=['year', 'week'],  # Columns to join on\n",
    "    how='outer'  # Full outer join to ensure all data from both sides is kept\n",
    ")\n",
    "weekly_covid.head()"
   ]
  },
  {
   "cell_type": "code",
   "execution_count": 64,
   "id": "832b4ff3-63c2-4c9e-9c9f-1077acf3370f",
   "metadata": {
    "tags": []
   },
   "outputs": [],
   "source": [
    "monthly_covid.to_csv('../data/csv/monthly_covid_info.csv', index = False)\n",
    "weekly_covid.to_csv('../data/csv/weekly_covid_info.csv', index = False)"
   ]
  },
  {
   "cell_type": "code",
   "execution_count": 66,
   "id": "b44d682b-54ea-477f-9adc-9dd6ec4db140",
   "metadata": {
    "tags": []
   },
   "outputs": [
    {
     "name": "stdout",
     "output_type": "stream",
     "text": [
      "root\n",
      " |-- id: string (nullable = true)\n",
      " |-- title: string (nullable = true)\n",
      " |-- topic: string (nullable = true)\n",
      " |-- body: string (nullable = true)\n",
      " |-- misinfo_class: boolean (nullable = false)\n",
      " |-- link_id: string (nullable = true)\n",
      " |-- comment_created: timestamp (nullable = true)\n",
      " |-- comment_id: string (nullable = true)\n",
      " |-- vader_score: float (nullable = true)\n",
      " |-- textblob_score: float (nullable = true)\n",
      " |-- year: integer (nullable = true)\n",
      " |-- month: integer (nullable = true)\n",
      " |-- week: integer (nullable = true)\n",
      "\n"
     ]
    }
   ],
   "source": [
    "total_df = add_time_columns(total_df, 'comment_created')\n",
    "total_df.printSchema()"
   ]
  },
  {
   "cell_type": "code",
   "execution_count": null,
   "id": "4b75d42f-d493-4615-8516-6f85e148dc92",
   "metadata": {},
   "outputs": [],
   "source": []
  }
 ],
 "metadata": {
  "availableInstances": [
   {
    "_defaultOrder": 0,
    "_isFastLaunch": true,
    "category": "General purpose",
    "gpuNum": 0,
    "hideHardwareSpecs": false,
    "memoryGiB": 4,
    "name": "ml.t3.medium",
    "vcpuNum": 2
   },
   {
    "_defaultOrder": 1,
    "_isFastLaunch": false,
    "category": "General purpose",
    "gpuNum": 0,
    "hideHardwareSpecs": false,
    "memoryGiB": 8,
    "name": "ml.t3.large",
    "vcpuNum": 2
   },
   {
    "_defaultOrder": 2,
    "_isFastLaunch": false,
    "category": "General purpose",
    "gpuNum": 0,
    "hideHardwareSpecs": false,
    "memoryGiB": 16,
    "name": "ml.t3.xlarge",
    "vcpuNum": 4
   },
   {
    "_defaultOrder": 3,
    "_isFastLaunch": false,
    "category": "General purpose",
    "gpuNum": 0,
    "hideHardwareSpecs": false,
    "memoryGiB": 32,
    "name": "ml.t3.2xlarge",
    "vcpuNum": 8
   },
   {
    "_defaultOrder": 4,
    "_isFastLaunch": true,
    "category": "General purpose",
    "gpuNum": 0,
    "hideHardwareSpecs": false,
    "memoryGiB": 8,
    "name": "ml.m5.large",
    "vcpuNum": 2
   },
   {
    "_defaultOrder": 5,
    "_isFastLaunch": false,
    "category": "General purpose",
    "gpuNum": 0,
    "hideHardwareSpecs": false,
    "memoryGiB": 16,
    "name": "ml.m5.xlarge",
    "vcpuNum": 4
   },
   {
    "_defaultOrder": 6,
    "_isFastLaunch": false,
    "category": "General purpose",
    "gpuNum": 0,
    "hideHardwareSpecs": false,
    "memoryGiB": 32,
    "name": "ml.m5.2xlarge",
    "vcpuNum": 8
   },
   {
    "_defaultOrder": 7,
    "_isFastLaunch": false,
    "category": "General purpose",
    "gpuNum": 0,
    "hideHardwareSpecs": false,
    "memoryGiB": 64,
    "name": "ml.m5.4xlarge",
    "vcpuNum": 16
   },
   {
    "_defaultOrder": 8,
    "_isFastLaunch": false,
    "category": "General purpose",
    "gpuNum": 0,
    "hideHardwareSpecs": false,
    "memoryGiB": 128,
    "name": "ml.m5.8xlarge",
    "vcpuNum": 32
   },
   {
    "_defaultOrder": 9,
    "_isFastLaunch": false,
    "category": "General purpose",
    "gpuNum": 0,
    "hideHardwareSpecs": false,
    "memoryGiB": 192,
    "name": "ml.m5.12xlarge",
    "vcpuNum": 48
   },
   {
    "_defaultOrder": 10,
    "_isFastLaunch": false,
    "category": "General purpose",
    "gpuNum": 0,
    "hideHardwareSpecs": false,
    "memoryGiB": 256,
    "name": "ml.m5.16xlarge",
    "vcpuNum": 64
   },
   {
    "_defaultOrder": 11,
    "_isFastLaunch": false,
    "category": "General purpose",
    "gpuNum": 0,
    "hideHardwareSpecs": false,
    "memoryGiB": 384,
    "name": "ml.m5.24xlarge",
    "vcpuNum": 96
   },
   {
    "_defaultOrder": 12,
    "_isFastLaunch": false,
    "category": "General purpose",
    "gpuNum": 0,
    "hideHardwareSpecs": false,
    "memoryGiB": 8,
    "name": "ml.m5d.large",
    "vcpuNum": 2
   },
   {
    "_defaultOrder": 13,
    "_isFastLaunch": false,
    "category": "General purpose",
    "gpuNum": 0,
    "hideHardwareSpecs": false,
    "memoryGiB": 16,
    "name": "ml.m5d.xlarge",
    "vcpuNum": 4
   },
   {
    "_defaultOrder": 14,
    "_isFastLaunch": false,
    "category": "General purpose",
    "gpuNum": 0,
    "hideHardwareSpecs": false,
    "memoryGiB": 32,
    "name": "ml.m5d.2xlarge",
    "vcpuNum": 8
   },
   {
    "_defaultOrder": 15,
    "_isFastLaunch": false,
    "category": "General purpose",
    "gpuNum": 0,
    "hideHardwareSpecs": false,
    "memoryGiB": 64,
    "name": "ml.m5d.4xlarge",
    "vcpuNum": 16
   },
   {
    "_defaultOrder": 16,
    "_isFastLaunch": false,
    "category": "General purpose",
    "gpuNum": 0,
    "hideHardwareSpecs": false,
    "memoryGiB": 128,
    "name": "ml.m5d.8xlarge",
    "vcpuNum": 32
   },
   {
    "_defaultOrder": 17,
    "_isFastLaunch": false,
    "category": "General purpose",
    "gpuNum": 0,
    "hideHardwareSpecs": false,
    "memoryGiB": 192,
    "name": "ml.m5d.12xlarge",
    "vcpuNum": 48
   },
   {
    "_defaultOrder": 18,
    "_isFastLaunch": false,
    "category": "General purpose",
    "gpuNum": 0,
    "hideHardwareSpecs": false,
    "memoryGiB": 256,
    "name": "ml.m5d.16xlarge",
    "vcpuNum": 64
   },
   {
    "_defaultOrder": 19,
    "_isFastLaunch": false,
    "category": "General purpose",
    "gpuNum": 0,
    "hideHardwareSpecs": false,
    "memoryGiB": 384,
    "name": "ml.m5d.24xlarge",
    "vcpuNum": 96
   },
   {
    "_defaultOrder": 20,
    "_isFastLaunch": false,
    "category": "General purpose",
    "gpuNum": 0,
    "hideHardwareSpecs": true,
    "memoryGiB": 0,
    "name": "ml.geospatial.interactive",
    "supportedImageNames": [
     "sagemaker-geospatial-v1-0"
    ],
    "vcpuNum": 0
   },
   {
    "_defaultOrder": 21,
    "_isFastLaunch": true,
    "category": "Compute optimized",
    "gpuNum": 0,
    "hideHardwareSpecs": false,
    "memoryGiB": 4,
    "name": "ml.c5.large",
    "vcpuNum": 2
   },
   {
    "_defaultOrder": 22,
    "_isFastLaunch": false,
    "category": "Compute optimized",
    "gpuNum": 0,
    "hideHardwareSpecs": false,
    "memoryGiB": 8,
    "name": "ml.c5.xlarge",
    "vcpuNum": 4
   },
   {
    "_defaultOrder": 23,
    "_isFastLaunch": false,
    "category": "Compute optimized",
    "gpuNum": 0,
    "hideHardwareSpecs": false,
    "memoryGiB": 16,
    "name": "ml.c5.2xlarge",
    "vcpuNum": 8
   },
   {
    "_defaultOrder": 24,
    "_isFastLaunch": false,
    "category": "Compute optimized",
    "gpuNum": 0,
    "hideHardwareSpecs": false,
    "memoryGiB": 32,
    "name": "ml.c5.4xlarge",
    "vcpuNum": 16
   },
   {
    "_defaultOrder": 25,
    "_isFastLaunch": false,
    "category": "Compute optimized",
    "gpuNum": 0,
    "hideHardwareSpecs": false,
    "memoryGiB": 72,
    "name": "ml.c5.9xlarge",
    "vcpuNum": 36
   },
   {
    "_defaultOrder": 26,
    "_isFastLaunch": false,
    "category": "Compute optimized",
    "gpuNum": 0,
    "hideHardwareSpecs": false,
    "memoryGiB": 96,
    "name": "ml.c5.12xlarge",
    "vcpuNum": 48
   },
   {
    "_defaultOrder": 27,
    "_isFastLaunch": false,
    "category": "Compute optimized",
    "gpuNum": 0,
    "hideHardwareSpecs": false,
    "memoryGiB": 144,
    "name": "ml.c5.18xlarge",
    "vcpuNum": 72
   },
   {
    "_defaultOrder": 28,
    "_isFastLaunch": false,
    "category": "Compute optimized",
    "gpuNum": 0,
    "hideHardwareSpecs": false,
    "memoryGiB": 192,
    "name": "ml.c5.24xlarge",
    "vcpuNum": 96
   },
   {
    "_defaultOrder": 29,
    "_isFastLaunch": true,
    "category": "Accelerated computing",
    "gpuNum": 1,
    "hideHardwareSpecs": false,
    "memoryGiB": 16,
    "name": "ml.g4dn.xlarge",
    "vcpuNum": 4
   },
   {
    "_defaultOrder": 30,
    "_isFastLaunch": false,
    "category": "Accelerated computing",
    "gpuNum": 1,
    "hideHardwareSpecs": false,
    "memoryGiB": 32,
    "name": "ml.g4dn.2xlarge",
    "vcpuNum": 8
   },
   {
    "_defaultOrder": 31,
    "_isFastLaunch": false,
    "category": "Accelerated computing",
    "gpuNum": 1,
    "hideHardwareSpecs": false,
    "memoryGiB": 64,
    "name": "ml.g4dn.4xlarge",
    "vcpuNum": 16
   },
   {
    "_defaultOrder": 32,
    "_isFastLaunch": false,
    "category": "Accelerated computing",
    "gpuNum": 1,
    "hideHardwareSpecs": false,
    "memoryGiB": 128,
    "name": "ml.g4dn.8xlarge",
    "vcpuNum": 32
   },
   {
    "_defaultOrder": 33,
    "_isFastLaunch": false,
    "category": "Accelerated computing",
    "gpuNum": 4,
    "hideHardwareSpecs": false,
    "memoryGiB": 192,
    "name": "ml.g4dn.12xlarge",
    "vcpuNum": 48
   },
   {
    "_defaultOrder": 34,
    "_isFastLaunch": false,
    "category": "Accelerated computing",
    "gpuNum": 1,
    "hideHardwareSpecs": false,
    "memoryGiB": 256,
    "name": "ml.g4dn.16xlarge",
    "vcpuNum": 64
   },
   {
    "_defaultOrder": 35,
    "_isFastLaunch": false,
    "category": "Accelerated computing",
    "gpuNum": 1,
    "hideHardwareSpecs": false,
    "memoryGiB": 61,
    "name": "ml.p3.2xlarge",
    "vcpuNum": 8
   },
   {
    "_defaultOrder": 36,
    "_isFastLaunch": false,
    "category": "Accelerated computing",
    "gpuNum": 4,
    "hideHardwareSpecs": false,
    "memoryGiB": 244,
    "name": "ml.p3.8xlarge",
    "vcpuNum": 32
   },
   {
    "_defaultOrder": 37,
    "_isFastLaunch": false,
    "category": "Accelerated computing",
    "gpuNum": 8,
    "hideHardwareSpecs": false,
    "memoryGiB": 488,
    "name": "ml.p3.16xlarge",
    "vcpuNum": 64
   },
   {
    "_defaultOrder": 38,
    "_isFastLaunch": false,
    "category": "Accelerated computing",
    "gpuNum": 8,
    "hideHardwareSpecs": false,
    "memoryGiB": 768,
    "name": "ml.p3dn.24xlarge",
    "vcpuNum": 96
   },
   {
    "_defaultOrder": 39,
    "_isFastLaunch": false,
    "category": "Memory Optimized",
    "gpuNum": 0,
    "hideHardwareSpecs": false,
    "memoryGiB": 16,
    "name": "ml.r5.large",
    "vcpuNum": 2
   },
   {
    "_defaultOrder": 40,
    "_isFastLaunch": false,
    "category": "Memory Optimized",
    "gpuNum": 0,
    "hideHardwareSpecs": false,
    "memoryGiB": 32,
    "name": "ml.r5.xlarge",
    "vcpuNum": 4
   },
   {
    "_defaultOrder": 41,
    "_isFastLaunch": false,
    "category": "Memory Optimized",
    "gpuNum": 0,
    "hideHardwareSpecs": false,
    "memoryGiB": 64,
    "name": "ml.r5.2xlarge",
    "vcpuNum": 8
   },
   {
    "_defaultOrder": 42,
    "_isFastLaunch": false,
    "category": "Memory Optimized",
    "gpuNum": 0,
    "hideHardwareSpecs": false,
    "memoryGiB": 128,
    "name": "ml.r5.4xlarge",
    "vcpuNum": 16
   },
   {
    "_defaultOrder": 43,
    "_isFastLaunch": false,
    "category": "Memory Optimized",
    "gpuNum": 0,
    "hideHardwareSpecs": false,
    "memoryGiB": 256,
    "name": "ml.r5.8xlarge",
    "vcpuNum": 32
   },
   {
    "_defaultOrder": 44,
    "_isFastLaunch": false,
    "category": "Memory Optimized",
    "gpuNum": 0,
    "hideHardwareSpecs": false,
    "memoryGiB": 384,
    "name": "ml.r5.12xlarge",
    "vcpuNum": 48
   },
   {
    "_defaultOrder": 45,
    "_isFastLaunch": false,
    "category": "Memory Optimized",
    "gpuNum": 0,
    "hideHardwareSpecs": false,
    "memoryGiB": 512,
    "name": "ml.r5.16xlarge",
    "vcpuNum": 64
   },
   {
    "_defaultOrder": 46,
    "_isFastLaunch": false,
    "category": "Memory Optimized",
    "gpuNum": 0,
    "hideHardwareSpecs": false,
    "memoryGiB": 768,
    "name": "ml.r5.24xlarge",
    "vcpuNum": 96
   },
   {
    "_defaultOrder": 47,
    "_isFastLaunch": false,
    "category": "Accelerated computing",
    "gpuNum": 1,
    "hideHardwareSpecs": false,
    "memoryGiB": 16,
    "name": "ml.g5.xlarge",
    "vcpuNum": 4
   },
   {
    "_defaultOrder": 48,
    "_isFastLaunch": false,
    "category": "Accelerated computing",
    "gpuNum": 1,
    "hideHardwareSpecs": false,
    "memoryGiB": 32,
    "name": "ml.g5.2xlarge",
    "vcpuNum": 8
   },
   {
    "_defaultOrder": 49,
    "_isFastLaunch": false,
    "category": "Accelerated computing",
    "gpuNum": 1,
    "hideHardwareSpecs": false,
    "memoryGiB": 64,
    "name": "ml.g5.4xlarge",
    "vcpuNum": 16
   },
   {
    "_defaultOrder": 50,
    "_isFastLaunch": false,
    "category": "Accelerated computing",
    "gpuNum": 1,
    "hideHardwareSpecs": false,
    "memoryGiB": 128,
    "name": "ml.g5.8xlarge",
    "vcpuNum": 32
   },
   {
    "_defaultOrder": 51,
    "_isFastLaunch": false,
    "category": "Accelerated computing",
    "gpuNum": 1,
    "hideHardwareSpecs": false,
    "memoryGiB": 256,
    "name": "ml.g5.16xlarge",
    "vcpuNum": 64
   },
   {
    "_defaultOrder": 52,
    "_isFastLaunch": false,
    "category": "Accelerated computing",
    "gpuNum": 4,
    "hideHardwareSpecs": false,
    "memoryGiB": 192,
    "name": "ml.g5.12xlarge",
    "vcpuNum": 48
   },
   {
    "_defaultOrder": 53,
    "_isFastLaunch": false,
    "category": "Accelerated computing",
    "gpuNum": 4,
    "hideHardwareSpecs": false,
    "memoryGiB": 384,
    "name": "ml.g5.24xlarge",
    "vcpuNum": 96
   },
   {
    "_defaultOrder": 54,
    "_isFastLaunch": false,
    "category": "Accelerated computing",
    "gpuNum": 8,
    "hideHardwareSpecs": false,
    "memoryGiB": 768,
    "name": "ml.g5.48xlarge",
    "vcpuNum": 192
   },
   {
    "_defaultOrder": 55,
    "_isFastLaunch": false,
    "category": "Accelerated computing",
    "gpuNum": 8,
    "hideHardwareSpecs": false,
    "memoryGiB": 1152,
    "name": "ml.p4d.24xlarge",
    "vcpuNum": 96
   },
   {
    "_defaultOrder": 56,
    "_isFastLaunch": false,
    "category": "Accelerated computing",
    "gpuNum": 8,
    "hideHardwareSpecs": false,
    "memoryGiB": 1152,
    "name": "ml.p4de.24xlarge",
    "vcpuNum": 96
   },
   {
    "_defaultOrder": 57,
    "_isFastLaunch": false,
    "category": "Accelerated computing",
    "gpuNum": 0,
    "hideHardwareSpecs": false,
    "memoryGiB": 32,
    "name": "ml.trn1.2xlarge",
    "vcpuNum": 8
   },
   {
    "_defaultOrder": 58,
    "_isFastLaunch": false,
    "category": "Accelerated computing",
    "gpuNum": 0,
    "hideHardwareSpecs": false,
    "memoryGiB": 512,
    "name": "ml.trn1.32xlarge",
    "vcpuNum": 128
   },
   {
    "_defaultOrder": 59,
    "_isFastLaunch": false,
    "category": "Accelerated computing",
    "gpuNum": 0,
    "hideHardwareSpecs": false,
    "memoryGiB": 512,
    "name": "ml.trn1n.32xlarge",
    "vcpuNum": 128
   }
  ],
  "instance_type": "ml.t3.xlarge",
  "kernelspec": {
   "display_name": "Python 3 (Data Science 3.0)",
   "language": "python",
   "name": "python3__SAGEMAKER_INTERNAL__arn:aws:sagemaker:us-east-1:081325390199:image/sagemaker-data-science-310-v1"
  },
  "language_info": {
   "codemirror_mode": {
    "name": "ipython",
    "version": 3
   },
   "file_extension": ".py",
   "mimetype": "text/x-python",
   "name": "python",
   "nbconvert_exporter": "python",
   "pygments_lexer": "ipython3",
   "version": "3.10.6"
  }
 },
 "nbformat": 4,
 "nbformat_minor": 5
}
