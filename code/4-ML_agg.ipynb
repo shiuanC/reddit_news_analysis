{
 "cells": [
  {
   "cell_type": "markdown",
   "id": "52fa24e1-d3be-4788-8957-6b7e4a634a54",
   "metadata": {
    "tags": []
   },
   "source": [
    "# NLP"
   ]
  },
  {
   "cell_type": "code",
   "execution_count": 2,
   "id": "e4835604-fac5-40d6-8ce0-4f828829c0f1",
   "metadata": {
    "tags": []
   },
   "outputs": [
    {
     "name": "stdout",
     "output_type": "stream",
     "text": [
      "Retrieving notices: ...working... done\n",
      "\n",
      "Downloading and Extracting Packages:\n",
      "                                                                                \n",
      "\n",
      "Downloading and Extracting Packages:\n",
      "\n",
      "Preparing transaction: done\n",
      "Verifying transaction: done\n",
      "Executing transaction: done\n",
      "\n",
      "Note: you may need to restart the kernel to use updated packages.\n",
      "Collecting sagemaker_pyspark\n",
      "  Using cached sagemaker_pyspark-1.4.5-py3-none-any.whl\n",
      "Collecting pyspark==3.3.0 (from sagemaker_pyspark)\n",
      "  Using cached pyspark-3.3.0-py2.py3-none-any.whl\n",
      "Requirement already satisfied: numpy in /opt/conda/lib/python3.10/site-packages (from sagemaker_pyspark) (1.26.4)\n",
      "Collecting py4j==0.10.9.5 (from pyspark==3.3.0->sagemaker_pyspark)\n",
      "  Using cached py4j-0.10.9.5-py2.py3-none-any.whl.metadata (1.5 kB)\n",
      "Using cached py4j-0.10.9.5-py2.py3-none-any.whl (199 kB)\n",
      "Installing collected packages: py4j, pyspark, sagemaker_pyspark\n",
      "Successfully installed py4j-0.10.9.5 pyspark-3.3.0 sagemaker_pyspark-1.4.5\n",
      "\u001b[33mWARNING: Running pip as the 'root' user can result in broken permissions and conflicting behaviour with the system package manager. It is recommended to use a virtual environment instead: https://pip.pypa.io/warnings/venv\u001b[0m\u001b[33m\n",
      "\u001b[0mCollecting pyspark==3.4.0\n",
      "  Using cached pyspark-3.4.0-py2.py3-none-any.whl\n",
      "Collecting py4j==0.10.9.7 (from pyspark==3.4.0)\n",
      "  Using cached py4j-0.10.9.7-py2.py3-none-any.whl.metadata (1.5 kB)\n",
      "Using cached py4j-0.10.9.7-py2.py3-none-any.whl (200 kB)\n",
      "Installing collected packages: py4j, pyspark\n",
      "  Attempting uninstall: py4j\n",
      "    Found existing installation: py4j 0.10.9.5\n",
      "    Uninstalling py4j-0.10.9.5:\n",
      "      Successfully uninstalled py4j-0.10.9.5\n",
      "  Attempting uninstall: pyspark\n",
      "    Found existing installation: pyspark 3.3.0\n",
      "    Uninstalling pyspark-3.3.0:\n",
      "      Successfully uninstalled pyspark-3.3.0\n",
      "\u001b[31mERROR: pip's dependency resolver does not currently take into account all the packages that are installed. This behaviour is the source of the following dependency conflicts.\n",
      "sagemaker-pyspark 1.4.5 requires pyspark==3.3.0, but you have pyspark 3.4.0 which is incompatible.\u001b[0m\u001b[31m\n",
      "\u001b[0mSuccessfully installed py4j-0.10.9.7 pyspark-3.4.0\n",
      "\u001b[33mWARNING: Running pip as the 'root' user can result in broken permissions and conflicting behaviour with the system package manager. It is recommended to use a virtual environment instead: https://pip.pypa.io/warnings/venv\u001b[0m\u001b[33m\n",
      "\u001b[0mNote: you may need to restart the kernel to use updated packages.\n"
     ]
    },
    {
     "data": {
      "text/html": [
       "<script>Jupyter.notebook.kernel.restart()</script>"
      ],
      "text/plain": [
       "<IPython.core.display.HTML object>"
      ]
     },
     "execution_count": 2,
     "metadata": {},
     "output_type": "execute_result"
    }
   ],
   "source": [
    "# Setup - Run only once per Kernel App\n",
    "%conda install https://anaconda.org/conda-forge/openjdk/11.0.1/download/linux-64/openjdk-11.0.1-hacce0ff_1021.tar.bz2\n",
    "\n",
    "# install PySpark\n",
    "!pip install sagemaker_pyspark\n",
    "%pip install pyspark==3.4.0\n",
    "\n",
    "# restart kernel\n",
    "from IPython.core.display import HTML\n",
    "HTML(\"<script>Jupyter.notebook.kernel.restart()</script>\")"
   ]
  },
  {
   "cell_type": "code",
   "execution_count": 3,
   "id": "9398a608-e27c-4450-9b6b-3c9c44080454",
   "metadata": {
    "tags": []
   },
   "outputs": [
    {
     "name": "stdout",
     "output_type": "stream",
     "text": [
      "sagemaker.config INFO - Not applying SDK defaults from location: /etc/xdg/sagemaker/config.yaml\n",
      "sagemaker.config INFO - Not applying SDK defaults from location: /root/.config/sagemaker/config.yaml\n",
      "the default SageMaker region specific bucket for this account is sagemaker-us-east-1-165729782536\n"
     ]
    }
   ],
   "source": [
    "import sagemaker\n",
    "sess = sagemaker.Session()\n",
    "bucket = sess.default_bucket() \n",
    "print(f\"the default SageMaker region specific bucket for this account is {bucket}\")"
   ]
  },
  {
   "cell_type": "code",
   "execution_count": 4,
   "id": "90edbce7-930c-4fc2-bc53-85ee3e5c63da",
   "metadata": {
    "tags": []
   },
   "outputs": [],
   "source": [
    "from pyspark.sql import SparkSession"
   ]
  },
  {
   "cell_type": "code",
   "execution_count": 5,
   "id": "52c93a3c-8a9b-45d2-9162-73060d75ed13",
   "metadata": {
    "scrolled": true,
    "tags": []
   },
   "outputs": [
    {
     "name": "stdout",
     "output_type": "stream",
     "text": [
      ":: loading settings :: url = jar:file:/opt/conda/lib/python3.10/site-packages/pyspark/jars/ivy-2.5.1.jar!/org/apache/ivy/core/settings/ivysettings.xml\n"
     ]
    },
    {
     "name": "stderr",
     "output_type": "stream",
     "text": [
      "Ivy Default Cache set to: /root/.ivy2/cache\n",
      "The jars for the packages stored in: /root/.ivy2/jars\n",
      "com.johnsnowlabs.nlp#spark-nlp_2.12 added as a dependency\n",
      "org.apache.hadoop#hadoop-aws added as a dependency\n",
      ":: resolving dependencies :: org.apache.spark#spark-submit-parent-f449963c-4c35-4ced-af4e-14203e0e4c85;1.0\n",
      "\tconfs: [default]\n",
      "\tfound com.johnsnowlabs.nlp#spark-nlp_2.12;5.1.3 in central\n",
      "\tfound com.typesafe#config;1.4.2 in central\n",
      "\tfound org.rocksdb#rocksdbjni;6.29.5 in central\n",
      "\tfound com.amazonaws#aws-java-sdk-bundle;1.11.828 in central\n",
      "\tfound com.github.universal-automata#liblevenshtein;3.0.0 in central\n",
      "\tfound com.google.protobuf#protobuf-java-util;3.0.0-beta-3 in central\n",
      "\tfound com.google.protobuf#protobuf-java;3.0.0-beta-3 in central\n",
      "\tfound com.google.code.gson#gson;2.3 in central\n",
      "\tfound it.unimi.dsi#fastutil;7.0.12 in central\n",
      "\tfound org.projectlombok#lombok;1.16.8 in central\n",
      "\tfound com.google.cloud#google-cloud-storage;2.20.1 in central\n",
      "\tfound com.google.guava#guava;31.1-jre in central\n",
      "\tfound com.google.guava#failureaccess;1.0.1 in central\n",
      "\tfound com.google.guava#listenablefuture;9999.0-empty-to-avoid-conflict-with-guava in central\n",
      "\tfound com.google.errorprone#error_prone_annotations;2.18.0 in central\n",
      "\tfound com.google.j2objc#j2objc-annotations;1.3 in central\n",
      "\tfound com.google.http-client#google-http-client;1.43.0 in central\n",
      "\tfound io.opencensus#opencensus-contrib-http-util;0.31.1 in central\n",
      "\tfound com.google.http-client#google-http-client-jackson2;1.43.0 in central\n",
      "\tfound com.google.http-client#google-http-client-gson;1.43.0 in central\n",
      "\tfound com.google.api-client#google-api-client;2.2.0 in central\n",
      "\tfound commons-codec#commons-codec;1.15 in central\n",
      "\tfound com.google.oauth-client#google-oauth-client;1.34.1 in central\n",
      "\tfound com.google.http-client#google-http-client-apache-v2;1.43.0 in central\n",
      "\tfound com.google.apis#google-api-services-storage;v1-rev20220705-2.0.0 in central\n",
      "\tfound com.google.code.gson#gson;2.10.1 in central\n",
      "\tfound com.google.cloud#google-cloud-core;2.12.0 in central\n",
      "\tfound io.grpc#grpc-context;1.53.0 in central\n",
      "\tfound com.google.auto.value#auto-value-annotations;1.10.1 in central\n",
      "\tfound com.google.auto.value#auto-value;1.10.1 in central\n",
      "\tfound javax.annotation#javax.annotation-api;1.3.2 in central\n",
      "\tfound commons-logging#commons-logging;1.2 in central\n",
      "\tfound com.google.cloud#google-cloud-core-http;2.12.0 in central\n",
      "\tfound com.google.http-client#google-http-client-appengine;1.43.0 in central\n",
      "\tfound com.google.api#gax-httpjson;0.108.2 in central\n",
      "\tfound com.google.cloud#google-cloud-core-grpc;2.12.0 in central\n",
      "\tfound io.grpc#grpc-alts;1.53.0 in central\n",
      "\tfound io.grpc#grpc-grpclb;1.53.0 in central\n",
      "\tfound org.conscrypt#conscrypt-openjdk-uber;2.5.2 in central\n",
      "\tfound io.grpc#grpc-auth;1.53.0 in central\n",
      "\tfound io.grpc#grpc-protobuf;1.53.0 in central\n",
      "\tfound io.grpc#grpc-protobuf-lite;1.53.0 in central\n",
      "\tfound io.grpc#grpc-core;1.53.0 in central\n",
      "\tfound com.google.api#gax;2.23.2 in central\n",
      "\tfound com.google.api#gax-grpc;2.23.2 in central\n",
      "\tfound com.google.auth#google-auth-library-credentials;1.16.0 in central\n",
      "\tfound com.google.auth#google-auth-library-oauth2-http;1.16.0 in central\n",
      "\tfound com.google.api#api-common;2.6.2 in central\n",
      "\tfound io.opencensus#opencensus-api;0.31.1 in central\n",
      "\tfound com.google.api.grpc#proto-google-iam-v1;1.9.2 in central\n",
      "\tfound com.google.protobuf#protobuf-java;3.21.12 in central\n",
      "\tfound com.google.protobuf#protobuf-java-util;3.21.12 in central\n",
      "\tfound com.google.api.grpc#proto-google-common-protos;2.14.2 in central\n",
      "\tfound org.threeten#threetenbp;1.6.5 in central\n",
      "\tfound com.google.api.grpc#proto-google-cloud-storage-v2;2.20.1-alpha in central\n",
      "\tfound com.google.api.grpc#grpc-google-cloud-storage-v2;2.20.1-alpha in central\n",
      "\tfound com.google.api.grpc#gapic-google-cloud-storage-v2;2.20.1-alpha in central\n",
      "\tfound com.fasterxml.jackson.core#jackson-core;2.14.2 in central\n",
      "\tfound com.google.code.findbugs#jsr305;3.0.2 in central\n",
      "\tfound io.grpc#grpc-api;1.53.0 in central\n",
      "\tfound io.grpc#grpc-stub;1.53.0 in central\n",
      "\tfound org.checkerframework#checker-qual;3.31.0 in central\n",
      "\tfound io.perfmark#perfmark-api;0.26.0 in central\n",
      "\tfound com.google.android#annotations;4.1.1.4 in central\n",
      "\tfound org.codehaus.mojo#animal-sniffer-annotations;1.22 in central\n",
      "\tfound io.opencensus#opencensus-proto;0.2.0 in central\n",
      "\tfound io.grpc#grpc-services;1.53.0 in central\n",
      "\tfound com.google.re2j#re2j;1.6 in central\n",
      "\tfound io.grpc#grpc-netty-shaded;1.53.0 in central\n",
      "\tfound io.grpc#grpc-googleapis;1.53.0 in central\n",
      "\tfound io.grpc#grpc-xds;1.53.0 in central\n",
      "\tfound com.navigamez#greex;1.0 in central\n",
      "\tfound dk.brics.automaton#automaton;1.11-8 in central\n",
      "\tfound com.johnsnowlabs.nlp#tensorflow-cpu_2.12;0.4.4 in central\n",
      "\tfound com.microsoft.onnxruntime#onnxruntime;1.15.0 in central\n",
      "\tfound org.apache.hadoop#hadoop-aws;3.2.2 in central\n",
      ":: resolution report :: resolve 4190ms :: artifacts dl 473ms\n",
      "\t:: modules in use:\n",
      "\tcom.amazonaws#aws-java-sdk-bundle;1.11.828 from central in [default]\n",
      "\tcom.fasterxml.jackson.core#jackson-core;2.14.2 from central in [default]\n",
      "\tcom.github.universal-automata#liblevenshtein;3.0.0 from central in [default]\n",
      "\tcom.google.android#annotations;4.1.1.4 from central in [default]\n",
      "\tcom.google.api#api-common;2.6.2 from central in [default]\n",
      "\tcom.google.api#gax;2.23.2 from central in [default]\n",
      "\tcom.google.api#gax-grpc;2.23.2 from central in [default]\n",
      "\tcom.google.api#gax-httpjson;0.108.2 from central in [default]\n",
      "\tcom.google.api-client#google-api-client;2.2.0 from central in [default]\n",
      "\tcom.google.api.grpc#gapic-google-cloud-storage-v2;2.20.1-alpha from central in [default]\n",
      "\tcom.google.api.grpc#grpc-google-cloud-storage-v2;2.20.1-alpha from central in [default]\n",
      "\tcom.google.api.grpc#proto-google-cloud-storage-v2;2.20.1-alpha from central in [default]\n",
      "\tcom.google.api.grpc#proto-google-common-protos;2.14.2 from central in [default]\n",
      "\tcom.google.api.grpc#proto-google-iam-v1;1.9.2 from central in [default]\n",
      "\tcom.google.apis#google-api-services-storage;v1-rev20220705-2.0.0 from central in [default]\n",
      "\tcom.google.auth#google-auth-library-credentials;1.16.0 from central in [default]\n",
      "\tcom.google.auth#google-auth-library-oauth2-http;1.16.0 from central in [default]\n",
      "\tcom.google.auto.value#auto-value;1.10.1 from central in [default]\n",
      "\tcom.google.auto.value#auto-value-annotations;1.10.1 from central in [default]\n",
      "\tcom.google.cloud#google-cloud-core;2.12.0 from central in [default]\n",
      "\tcom.google.cloud#google-cloud-core-grpc;2.12.0 from central in [default]\n",
      "\tcom.google.cloud#google-cloud-core-http;2.12.0 from central in [default]\n",
      "\tcom.google.cloud#google-cloud-storage;2.20.1 from central in [default]\n",
      "\tcom.google.code.findbugs#jsr305;3.0.2 from central in [default]\n",
      "\tcom.google.code.gson#gson;2.10.1 from central in [default]\n",
      "\tcom.google.errorprone#error_prone_annotations;2.18.0 from central in [default]\n",
      "\tcom.google.guava#failureaccess;1.0.1 from central in [default]\n",
      "\tcom.google.guava#guava;31.1-jre from central in [default]\n",
      "\tcom.google.guava#listenablefuture;9999.0-empty-to-avoid-conflict-with-guava from central in [default]\n",
      "\tcom.google.http-client#google-http-client;1.43.0 from central in [default]\n",
      "\tcom.google.http-client#google-http-client-apache-v2;1.43.0 from central in [default]\n",
      "\tcom.google.http-client#google-http-client-appengine;1.43.0 from central in [default]\n",
      "\tcom.google.http-client#google-http-client-gson;1.43.0 from central in [default]\n",
      "\tcom.google.http-client#google-http-client-jackson2;1.43.0 from central in [default]\n",
      "\tcom.google.j2objc#j2objc-annotations;1.3 from central in [default]\n",
      "\tcom.google.oauth-client#google-oauth-client;1.34.1 from central in [default]\n",
      "\tcom.google.protobuf#protobuf-java;3.21.12 from central in [default]\n",
      "\tcom.google.protobuf#protobuf-java-util;3.21.12 from central in [default]\n",
      "\tcom.google.re2j#re2j;1.6 from central in [default]\n",
      "\tcom.johnsnowlabs.nlp#spark-nlp_2.12;5.1.3 from central in [default]\n",
      "\tcom.johnsnowlabs.nlp#tensorflow-cpu_2.12;0.4.4 from central in [default]\n",
      "\tcom.microsoft.onnxruntime#onnxruntime;1.15.0 from central in [default]\n",
      "\tcom.navigamez#greex;1.0 from central in [default]\n",
      "\tcom.typesafe#config;1.4.2 from central in [default]\n",
      "\tcommons-codec#commons-codec;1.15 from central in [default]\n",
      "\tcommons-logging#commons-logging;1.2 from central in [default]\n",
      "\tdk.brics.automaton#automaton;1.11-8 from central in [default]\n",
      "\tio.grpc#grpc-alts;1.53.0 from central in [default]\n",
      "\tio.grpc#grpc-api;1.53.0 from central in [default]\n",
      "\tio.grpc#grpc-auth;1.53.0 from central in [default]\n",
      "\tio.grpc#grpc-context;1.53.0 from central in [default]\n",
      "\tio.grpc#grpc-core;1.53.0 from central in [default]\n",
      "\tio.grpc#grpc-googleapis;1.53.0 from central in [default]\n",
      "\tio.grpc#grpc-grpclb;1.53.0 from central in [default]\n",
      "\tio.grpc#grpc-netty-shaded;1.53.0 from central in [default]\n",
      "\tio.grpc#grpc-protobuf;1.53.0 from central in [default]\n",
      "\tio.grpc#grpc-protobuf-lite;1.53.0 from central in [default]\n",
      "\tio.grpc#grpc-services;1.53.0 from central in [default]\n",
      "\tio.grpc#grpc-stub;1.53.0 from central in [default]\n",
      "\tio.grpc#grpc-xds;1.53.0 from central in [default]\n",
      "\tio.opencensus#opencensus-api;0.31.1 from central in [default]\n",
      "\tio.opencensus#opencensus-contrib-http-util;0.31.1 from central in [default]\n",
      "\tio.opencensus#opencensus-proto;0.2.0 from central in [default]\n",
      "\tio.perfmark#perfmark-api;0.26.0 from central in [default]\n",
      "\tit.unimi.dsi#fastutil;7.0.12 from central in [default]\n",
      "\tjavax.annotation#javax.annotation-api;1.3.2 from central in [default]\n",
      "\torg.apache.hadoop#hadoop-aws;3.2.2 from central in [default]\n",
      "\torg.checkerframework#checker-qual;3.31.0 from central in [default]\n",
      "\torg.codehaus.mojo#animal-sniffer-annotations;1.22 from central in [default]\n",
      "\torg.conscrypt#conscrypt-openjdk-uber;2.5.2 from central in [default]\n",
      "\torg.projectlombok#lombok;1.16.8 from central in [default]\n",
      "\torg.rocksdb#rocksdbjni;6.29.5 from central in [default]\n",
      "\torg.threeten#threetenbp;1.6.5 from central in [default]\n",
      "\t:: evicted modules:\n",
      "\tcom.google.protobuf#protobuf-java-util;3.0.0-beta-3 by [com.google.protobuf#protobuf-java-util;3.21.12] in [default]\n",
      "\tcom.google.protobuf#protobuf-java;3.0.0-beta-3 by [com.google.protobuf#protobuf-java;3.21.12] in [default]\n",
      "\tcom.google.code.gson#gson;2.3 by [com.google.code.gson#gson;2.10.1] in [default]\n",
      "\tcom.amazonaws#aws-java-sdk-bundle;1.11.563 by [com.amazonaws#aws-java-sdk-bundle;1.11.828] in [default]\n",
      "\t---------------------------------------------------------------------\n",
      "\t|                  |            modules            ||   artifacts   |\n",
      "\t|       conf       | number| search|dwnlded|evicted|| number|dwnlded|\n",
      "\t---------------------------------------------------------------------\n",
      "\t|      default     |   77  |   0   |   0   |   4   ||   73  |   0   |\n",
      "\t---------------------------------------------------------------------\n",
      ":: retrieving :: org.apache.spark#spark-submit-parent-f449963c-4c35-4ced-af4e-14203e0e4c85\n",
      "\tconfs: [default]\n",
      "\t0 artifacts copied, 73 already retrieved (0kB/138ms)\n",
      "24/05/01 16:50:32 WARN NativeCodeLoader: Unable to load native-hadoop library for your platform... using builtin-java classes where applicable\n",
      "Setting default log level to \"WARN\".\n",
      "To adjust logging level use sc.setLogLevel(newLevel). For SparkR, use setLogLevel(newLevel).\n"
     ]
    },
    {
     "name": "stdout",
     "output_type": "stream",
     "text": [
      "3.4.0\n"
     ]
    }
   ],
   "source": [
    "spark = SparkSession.builder \\\n",
    "    .appName(\"sagemaker-spark\") \\\n",
    "    .master(\"local[*]\") \\\n",
    "    .config(\"spark.driver.memory\", \"8G\") \\\n",
    "    .config(\"spark.driver.maxResultSize\", \"0\") \\\n",
    "    .config(\"spark.kryoserializer.buffer.max\", \"2000M\") \\\n",
    "    .config(\"spark.jars.packages\", \"com.johnsnowlabs.nlp:spark-nlp_2.12:5.1.3,org.apache.hadoop:hadoop-aws:3.2.2\") \\\n",
    "    .config(\"spark.hadoop.fs.s3a.aws.credentials.provider\", \"com.amazonaws.auth.ContainerCredentialsProvider\") \\\n",
    "    .getOrCreate()\n",
    "\n",
    "print(spark.version)"
   ]
  },
  {
   "cell_type": "code",
   "execution_count": 6,
   "id": "b7675366-cdbe-4d51-a90a-29fe6eac8bd1",
   "metadata": {
    "tags": []
   },
   "outputs": [
    {
     "name": "stdout",
     "output_type": "stream",
     "text": [
      "reading submissions from s3a://sagemaker-us-east-1-165729782536/project/submissions/yyyy=*\n"
     ]
    },
    {
     "name": "stderr",
     "output_type": "stream",
     "text": [
      "24/05/01 16:50:44 WARN MetricsConfig: Cannot locate configuration: tried hadoop-metrics2-s3a-file-system.properties,hadoop-metrics2.properties\n",
      "24/05/01 16:50:52 WARN package: Truncated the string representation of a plan since it was too large. This behavior can be adjusted by setting 'spark.sql.debug.maxToStringFields'.\n"
     ]
    }
   ],
   "source": [
    "import sagemaker\n",
    "session = sagemaker.Session()\n",
    "bucket = session.default_bucket()\n",
    "\n",
    "output_prefix_data_submissions = \"project/submissions/yyyy=*\"\n",
    "s3_path = f\"s3a://{bucket}/{output_prefix_data_submissions}\"\n",
    "print(f\"reading submissions from {s3_path}\")\n",
    "\n",
    "posts = spark.read.parquet(s3_path, header=True)\n",
    "posts = posts.filter(\n",
    "    (posts.subreddit == \"news\") | (posts.subreddit == \"worldnews\")\n",
    ")\n"
   ]
  },
  {
   "cell_type": "code",
   "execution_count": 7,
   "id": "57cc9c28-fcfb-4087-8496-69f9621bce20",
   "metadata": {
    "tags": []
   },
   "outputs": [],
   "source": [
    "#reading comments\n",
    "output_prefix_data_comments = \"project/comments/yyyy=*\"\n",
    "s3_path = f\"s3a://{bucket}/{output_prefix_data_comments}\"\n",
    "comments = spark.read.parquet(s3_path, header=True)\n",
    "comments = comments.filter(\n",
    "    (comments.subreddit == \"news\") | (comments.subreddit == \"worldnews\")\n",
    ")"
   ]
  },
  {
   "cell_type": "code",
   "execution_count": 8,
   "id": "975425e1-807b-47e4-8d45-51f2bef229e5",
   "metadata": {
    "tags": []
   },
   "outputs": [],
   "source": [
    "#import packages\n",
    "import pyspark.sql.functions as f\n",
    "from sklearn.decomposition import LatentDirichletAllocation\n",
    "from sklearn.feature_extraction.text import TfidfVectorizer\n",
    "import nltk\n",
    "import pandas as pd"
   ]
  },
  {
   "cell_type": "markdown",
   "id": "02eb5d2d-cde7-4808-ab74-608bed513c98",
   "metadata": {
    "tags": []
   },
   "source": [
    "## Adding variables to comments"
   ]
  },
  {
   "cell_type": "code",
   "execution_count": 9,
   "id": "68bec61e-6327-4e74-a4bb-69c788c68089",
   "metadata": {
    "tags": []
   },
   "outputs": [],
   "source": [
    "## Clean the comments body content\n",
    "# define a function\n",
    "def clean_text(df):\n",
    "    # Lowercase all text\n",
    "    df = df.withColumn(\"body\", f.lower(f.col(\"body\")))\n",
    "    # Remove special characters (keeping only alphanumeric and spaces)\n",
    "    df = df.withColumn(\"body\", f.regexp_replace(f.col(\"body\"), \"[^a-zA-Z0-9\\\\s]\", \"\"))\n",
    "    # Trim spaces\n",
    "    df = df.withColumn(\"body\", f.trim(f.col(\"body\")))\n",
    "    return df\n",
    "\n",
    "# Apply the cleaning function\n",
    "comments = clean_text(comments)"
   ]
  },
  {
   "cell_type": "code",
   "execution_count": 10,
   "id": "383ab7a3-bcd9-46c5-8839-02a6662b63b4",
   "metadata": {
    "tags": []
   },
   "outputs": [],
   "source": [
    "# Beside correct typing, also adding the potential typos\n",
    "comments = comments.withColumn('misinfo_class', \n",
    "                    f.when(comments.body.rlike(r'fake news|bullshit|misinfo|clickbait|unreliable|propoganda|propaganda|fraud|deceptive|fabricated|deep state|wake up|truth about'), True)\\\n",
    "                    .otherwise(False))"
   ]
  },
  {
   "cell_type": "markdown",
   "id": "dd2db5ca-ed59-46cd-a7dd-d40132f1b14d",
   "metadata": {
    "tags": []
   },
   "source": [
    "## Part 1 LDA"
   ]
  },
  {
   "cell_type": "markdown",
   "id": "0d4da287-8d75-449c-b56d-27cd5577b555",
   "metadata": {
    "tags": []
   },
   "source": [
    "### run topic modeling"
   ]
  },
  {
   "cell_type": "code",
   "execution_count": null,
   "id": "d9f582fd-430c-438e-b3b2-bbbe9b898183",
   "metadata": {
    "tags": []
   },
   "outputs": [],
   "source": [
    "from pyspark.ml.feature import Tokenizer\n",
    "from pyspark.ml.feature import StopWordsRemover\n",
    "from pyspark.ml import Pipeline\n",
    "from nltk.corpus import stopwords\n",
    "from pyspark.ml.feature import CountVectorizer , IDF\n",
    "from pyspark.ml.clustering import LDA\n",
    "import pyspark.sql.functions as f\n",
    "from pyspark.sql.types import StringType, ArrayType, FloatType\n",
    "from itertools import chain"
   ]
  },
  {
   "cell_type": "code",
   "execution_count": null,
   "id": "b6363d70-7933-48de-b9af-35bcd343d4b9",
   "metadata": {
    "tags": []
   },
   "outputs": [],
   "source": [
    "#create small df to use for LDA\n",
    "small_df = posts.select('title', 'id')"
   ]
  },
  {
   "cell_type": "code",
   "execution_count": null,
   "id": "4160e462-5c2c-423e-afba-faaefb3c5d38",
   "metadata": {
    "tags": []
   },
   "outputs": [],
   "source": [
    "#create tokenizer\n",
    "tokenizer = Tokenizer(outputCol=\"words\")\n",
    "tokenizer.setInputCol(\"title\")"
   ]
  },
  {
   "cell_type": "code",
   "execution_count": null,
   "id": "0215f5cb-7ba2-4719-aea2-56f7ce759890",
   "metadata": {
    "tags": []
   },
   "outputs": [],
   "source": [
    "#remove stop words \n",
    "StopWords = stopwords.words(\"english\")\n",
    "#removing stop words in other languages and other common words\n",
    "additional = ['@reuters:', '–' '&amp;', '@ap:', 'rt', ':', 'از', 'آهنگ', 'دانلود', 'در', 'به', 'جدید', '@apentertainment:',\n",
    "             '|', 'के', 'में', 'و', 'في', 'من', '@bbcworld:', 'de', 'la', 'di', 'की', 'से', 'bio', 'many','know', 'age', 'says', 'one',\n",
    "             'net', 'user]', '[deleted', 'look', '–']\n",
    "StopWords = StopWords + additional\n",
    "remover = StopWordsRemover(stopWords=StopWords)\n",
    "remover.setInputCol(\"words\")\n",
    "remover.setOutputCol(\"filtered\")"
   ]
  },
  {
   "cell_type": "code",
   "execution_count": null,
   "id": "ee054b06-5f5b-43bc-a6e5-ee61471bf45a",
   "metadata": {
    "tags": []
   },
   "outputs": [],
   "source": [
    "#count vectorizer\n",
    "cv = CountVectorizer(inputCol=\"filtered\", outputCol=\"raw_features\", vocabSize=5000, minDF=25)\n",
    "# IDF\n",
    "idf = IDF(inputCol=\"raw_features\", outputCol=\"features\")"
   ]
  },
  {
   "cell_type": "code",
   "execution_count": null,
   "id": "8e6170b1-f7a0-4023-841e-57ebb30c953d",
   "metadata": {
    "tags": []
   },
   "outputs": [],
   "source": [
    "#lda model \n",
    "lda = LDA()\n",
    "lda.setK(8)\n",
    "lda.setMaxIter(10)\n",
    "lda.setSeed(13)"
   ]
  },
  {
   "cell_type": "code",
   "execution_count": null,
   "id": "72999f26-04f0-4dca-8b01-1aec4ab620de",
   "metadata": {
    "tags": []
   },
   "outputs": [],
   "source": [
    "pipeline = Pipeline(stages=[tokenizer, remover, cv, idf, lda])"
   ]
  },
  {
   "cell_type": "code",
   "execution_count": null,
   "id": "9f8827de-715f-4f09-892e-60a7e84d2ef3",
   "metadata": {
    "tags": []
   },
   "outputs": [],
   "source": [
    "model = pipeline.fit(small_df)"
   ]
  },
  {
   "cell_type": "code",
   "execution_count": null,
   "id": "973b6ec9-04b0-4745-a01b-f80737112529",
   "metadata": {
    "tags": []
   },
   "outputs": [],
   "source": [
    "topics = model.stages[-1].describeTopics()\n",
    "terms = model.stages[-3].vocabulary"
   ]
  },
  {
   "cell_type": "code",
   "execution_count": null,
   "id": "30ab96a0-bf8e-457e-a93e-42cc635dd4f5",
   "metadata": {
    "tags": []
   },
   "outputs": [],
   "source": [
    "#get word from index of term \n",
    "def indices_to_terms(indices, terms=terms):\n",
    "        terms_subset = [terms[index] for index in indices]\n",
    "        return terms_subset\n",
    "# Defining Spark UDF from above function\n",
    "udf_indices_to_terms = f.udf(indices_to_terms, ArrayType(StringType()))\n",
    "\n",
    "topics = (\n",
    "    topics\n",
    "       .withColumn(\"terms\", udf_indices_to_terms(f.col(\"termIndices\")))\n",
    "    )"
   ]
  },
  {
   "cell_type": "code",
   "execution_count": null,
   "id": "57c903f8-eb11-4e6f-8e1f-947e8cf5915d",
   "metadata": {
    "tags": []
   },
   "outputs": [],
   "source": [
    "#topics.take(20)"
   ]
  },
  {
   "cell_type": "code",
   "execution_count": null,
   "id": "d858322d-6bd7-4ab2-a763-18487f6f7288",
   "metadata": {
    "tags": []
   },
   "outputs": [],
   "source": [
    "#naming topics \n",
    "topic_dict = {0: 'economics/russia&ukraine', 1: 'presidental news', 2: 'supreme court/law', 3: 'global politics', 4: 'us politics', \n",
    "              5: 'covid/russia&ukraine', 6: 'crime/protest', 7: 'tv shows'}\n",
    "              "
   ]
  },
  {
   "cell_type": "code",
   "execution_count": null,
   "id": "2c845272-aead-4302-9e3c-989bde8c9b17",
   "metadata": {
    "tags": []
   },
   "outputs": [],
   "source": [
    "small_df.cache()"
   ]
  },
  {
   "cell_type": "code",
   "execution_count": null,
   "id": "90239d4d-4470-4ff4-983b-6cbad3eb290e",
   "metadata": {
    "tags": []
   },
   "outputs": [],
   "source": [
    "small_transform = model.transform(small_df)"
   ]
  },
  {
   "cell_type": "code",
   "execution_count": null,
   "id": "382a53d8-35dc-4813-bd05-dbb2e8167ccf",
   "metadata": {
    "tags": []
   },
   "outputs": [],
   "source": [
    "small_df.unpersist()\n"
   ]
  },
  {
   "cell_type": "code",
   "execution_count": null,
   "id": "6e6f0763-3e76-4319-9e9b-bbb93b740afb",
   "metadata": {
    "tags": []
   },
   "outputs": [],
   "source": [
    "#map to topics\n",
    "mapping_expr = f.create_map([f.lit(x) for x in chain(*topic_dict.items())])"
   ]
  },
  {
   "cell_type": "code",
   "execution_count": null,
   "id": "5b078978-d2b1-4483-b007-588c927a1176",
   "metadata": {
    "tags": []
   },
   "outputs": [],
   "source": [
    "#udf to get the top topic \n",
    "max_topic = f.udf(lambda v:float(v.argmax()),FloatType())\n",
    "#using mao and udf to create a topic column\n",
    "topic = small_transform.withColumn('topic_num', max_topic(\"topicDistribution\"))\\\n",
    ".withColumn(\"topic\", mapping_expr[f.col(\"topic_num\")]).select('id','topic')"
   ]
  },
  {
   "cell_type": "code",
   "execution_count": null,
   "id": "09b8ba61-74a0-451e-af26-7a3870edf731",
   "metadata": {
    "tags": []
   },
   "outputs": [],
   "source": [
    "mini_posts = posts.select('created_utc', 'title', 'id')"
   ]
  },
  {
   "cell_type": "code",
   "execution_count": null,
   "id": "0df9f008-8b38-41c6-aefc-60e32a9518ed",
   "metadata": {
    "tags": []
   },
   "outputs": [],
   "source": [
    "#merging relevant columns wuth the topic column\n",
    "merged_df = mini_posts.join(topic, 'id')"
   ]
  },
  {
   "cell_type": "code",
   "execution_count": null,
   "id": "177b6b2a-e4f9-4dd3-80df-382e8519eb4c",
   "metadata": {
    "tags": []
   },
   "outputs": [],
   "source": [
    "merged_df.prinSchema()"
   ]
  },
  {
   "cell_type": "markdown",
   "id": "a0bf13f9-c1fb-4329-990a-3480a87d2468",
   "metadata": {
    "tags": []
   },
   "source": [
    "### read in saved topic"
   ]
  },
  {
   "cell_type": "code",
   "execution_count": 11,
   "id": "405597dd-93f5-4a67-aaec-d76742ca640d",
   "metadata": {},
   "outputs": [
    {
     "name": "stdout",
     "output_type": "stream",
     "text": [
      "root\n",
      " |-- id: string (nullable = true)\n",
      " |-- created_utc: timestamp (nullable = true)\n",
      " |-- title: string (nullable = true)\n",
      " |-- topic: string (nullable = true)\n",
      " |-- comment_created: timestamp (nullable = true)\n",
      " |-- body: string (nullable = true)\n",
      " |-- misinfo_class: boolean (nullable = true)\n",
      " |-- comment_id: string (nullable = true)\n",
      "\n"
     ]
    }
   ],
   "source": [
    "output_prefix_data_submissions = \"project/clean_topic_data.parquet\"\n",
    "s3_path = f\"s3a://sagemaker-us-east-1-562166416351/{output_prefix_data_submissions}\"\n",
    "topic_df = spark.read.parquet(s3_path, header=True)\n",
    "topic_df.printSchema()"
   ]
  },
  {
   "cell_type": "code",
   "execution_count": 12,
   "id": "70a9ca3e-ef01-46f0-854a-5fd524ac929d",
   "metadata": {
    "tags": []
   },
   "outputs": [
    {
     "name": "stdout",
     "output_type": "stream",
     "text": [
      "root\n",
      " |-- id: string (nullable = true)\n",
      " |-- title: string (nullable = true)\n",
      " |-- topic: string (nullable = true)\n",
      " |-- comment_id: string (nullable = true)\n",
      "\n"
     ]
    }
   ],
   "source": [
    "\n",
    "\n",
    "# Rename 'created_utc' to 'post_created'\n",
    "topic_df = topic_df.withColumnRenamed('created_utc', 'post_created')\n",
    "topic_df = topic_df.drop('body', 'post_created', 'misinfo_class', 'comment_created')\n",
    "\n",
    "# Show the updated schema to confirm changes\n",
    "topic_df.printSchema()"
   ]
  },
  {
   "cell_type": "code",
   "execution_count": 13,
   "id": "7ad259c4-4556-4999-9010-a64c34a8e015",
   "metadata": {
    "tags": []
   },
   "outputs": [
    {
     "name": "stdout",
     "output_type": "stream",
     "text": [
      "root\n",
      " |-- created_utc: timestamp (nullable = true)\n",
      " |-- body: string (nullable = true)\n",
      " |-- misinfo_class: boolean (nullable = false)\n",
      " |-- link_id: string (nullable = true)\n",
      " |-- id: string (nullable = true)\n",
      " |-- comment_created: timestamp (nullable = true)\n",
      " |-- comment_id: string (nullable = true)\n",
      "\n"
     ]
    }
   ],
   "source": [
    "#renaming columns and removing the t3_ from the link id to get the post id on the comment\n",
    "mini_comments = comments.select('created_utc','body','misinfo_class', 'link_id', 'id')\\\n",
    ".withColumn('comment_created', f.col('created_utc')).withColumn('comment_id', f.col('id'))\\\n",
    ".withColumn('id', f.regexp_extract('link_id', 't3_(.*)$', 1))\n",
    "mini_comments.printSchema()"
   ]
  },
  {
   "cell_type": "code",
   "execution_count": 14,
   "id": "35831b91-4a04-4fdc-b03b-aa94fdc7301b",
   "metadata": {
    "tags": []
   },
   "outputs": [],
   "source": [
    "#merging dataframes\n",
    "total_df = topic_df.join(mini_comments, ['comment_id', 'id'])"
   ]
  },
  {
   "cell_type": "code",
   "execution_count": 15,
   "id": "13fc5b70-5812-431e-a73d-183c60d3ccf6",
   "metadata": {
    "tags": []
   },
   "outputs": [
    {
     "name": "stdout",
     "output_type": "stream",
     "text": [
      "root\n",
      " |-- comment_id: string (nullable = true)\n",
      " |-- id: string (nullable = true)\n",
      " |-- title: string (nullable = true)\n",
      " |-- topic: string (nullable = true)\n",
      " |-- created_utc: timestamp (nullable = true)\n",
      " |-- body: string (nullable = true)\n",
      " |-- misinfo_class: boolean (nullable = false)\n",
      " |-- link_id: string (nullable = true)\n",
      " |-- comment_created: timestamp (nullable = true)\n",
      "\n"
     ]
    }
   ],
   "source": [
    "total_df.printSchema()"
   ]
  },
  {
   "cell_type": "markdown",
   "id": "3e6ae0eb-6f5a-48f7-a190-66ce3b68b25f",
   "metadata": {
    "jp-MarkdownHeadingCollapsed": true,
    "tags": []
   },
   "source": [
    "### Counting by topic"
   ]
  },
  {
   "cell_type": "code",
   "execution_count": null,
   "id": "a8a8a745-6a70-47ac-a356-06383eb486f3",
   "metadata": {
    "tags": []
   },
   "outputs": [],
   "source": [
    "topic_misinfo_counts = total_df.filter(f.col('misinfo_class') == True).groupBy('topic').count().toPandas()"
   ]
  },
  {
   "cell_type": "code",
   "execution_count": null,
   "id": "56e2c1e8-7b30-4dfc-a58f-d7389e7cd6bf",
   "metadata": {
    "tags": []
   },
   "outputs": [],
   "source": [
    "topic_misinfo_counts.sum()"
   ]
  },
  {
   "cell_type": "code",
   "execution_count": null,
   "id": "cc6907fa-d0ce-4fbd-b583-9c0ff8458b2e",
   "metadata": {
    "tags": []
   },
   "outputs": [],
   "source": [
    "topic_misinfo_counts.to_csv('../data/csv/topic_misinfo_true_count.csv', index = False)"
   ]
  },
  {
   "cell_type": "code",
   "execution_count": null,
   "id": "4c0e4dde-ecf9-4a48-b24b-5f46050fb1dd",
   "metadata": {
    "tags": []
   },
   "outputs": [],
   "source": [
    "topic_counts = total_df.groupBy('topic').count().toPandas()"
   ]
  },
  {
   "cell_type": "code",
   "execution_count": null,
   "id": "8be87b75-f344-4105-bef7-457abe27f46f",
   "metadata": {
    "tags": []
   },
   "outputs": [],
   "source": [
    "topic_counts"
   ]
  },
  {
   "cell_type": "code",
   "execution_count": null,
   "id": "f9b7f2b2-9589-49e4-9cf4-e8ab1fc191ec",
   "metadata": {
    "tags": []
   },
   "outputs": [],
   "source": [
    "topic_counts.to_csv('../data/csv/topic_counts.csv', index = False)"
   ]
  },
  {
   "cell_type": "code",
   "execution_count": null,
   "id": "bb792c5e-c8df-4a1c-9cfd-7da70f06ffbe",
   "metadata": {
    "tags": []
   },
   "outputs": [],
   "source": [
    "topic_misinfo_total = total_df.groupBy(['topic', 'misinfo_class']).count().toPandas()"
   ]
  },
  {
   "cell_type": "code",
   "execution_count": null,
   "id": "663ba541-c80b-4b71-b4f7-a169ecaf5ad8",
   "metadata": {
    "tags": []
   },
   "outputs": [],
   "source": [
    "topic_misinfo_total"
   ]
  },
  {
   "cell_type": "code",
   "execution_count": null,
   "id": "178f4563-338c-4e0a-b2a4-83c750e31c58",
   "metadata": {
    "tags": []
   },
   "outputs": [],
   "source": [
    "topic_misinfo_total.to_csv('../data/csv/topic_misinfo_total.csv', index = False)"
   ]
  },
  {
   "cell_type": "markdown",
   "id": "7b97b725-e783-41ff-ad52-fafae2be6aa9",
   "metadata": {
    "tags": []
   },
   "source": [
    "## Part2 Sentiment Analysis"
   ]
  },
  {
   "cell_type": "code",
   "execution_count": 17,
   "id": "843b2168-6245-439e-9c8b-59c8f5ad5f3e",
   "metadata": {
    "tags": []
   },
   "outputs": [
    {
     "name": "stdout",
     "output_type": "stream",
     "text": [
      "Collecting vaderSentiment\n",
      "  Using cached vaderSentiment-3.3.2-py2.py3-none-any.whl.metadata (572 bytes)\n",
      "Collecting textblob\n",
      "  Using cached textblob-0.18.0.post0-py3-none-any.whl.metadata (4.5 kB)\n",
      "Requirement already satisfied: requests in /opt/conda/lib/python3.10/site-packages (from vaderSentiment) (2.31.0)\n",
      "Requirement already satisfied: nltk>=3.8 in /opt/conda/lib/python3.10/site-packages (from textblob) (3.8.1)\n",
      "Requirement already satisfied: click in /opt/conda/lib/python3.10/site-packages (from nltk>=3.8->textblob) (8.1.7)\n",
      "Requirement already satisfied: joblib in /opt/conda/lib/python3.10/site-packages (from nltk>=3.8->textblob) (1.4.0)\n",
      "Requirement already satisfied: regex>=2021.8.3 in /opt/conda/lib/python3.10/site-packages (from nltk>=3.8->textblob) (2023.12.25)\n",
      "Requirement already satisfied: tqdm in /opt/conda/lib/python3.10/site-packages (from nltk>=3.8->textblob) (4.66.1)\n",
      "Requirement already satisfied: charset-normalizer<4,>=2 in /opt/conda/lib/python3.10/site-packages (from requests->vaderSentiment) (3.3.2)\n",
      "Requirement already satisfied: idna<4,>=2.5 in /opt/conda/lib/python3.10/site-packages (from requests->vaderSentiment) (3.6)\n",
      "Requirement already satisfied: urllib3<3,>=1.21.1 in /opt/conda/lib/python3.10/site-packages (from requests->vaderSentiment) (2.2.1)\n",
      "Requirement already satisfied: certifi>=2017.4.17 in /opt/conda/lib/python3.10/site-packages (from requests->vaderSentiment) (2024.2.2)\n",
      "Using cached vaderSentiment-3.3.2-py2.py3-none-any.whl (125 kB)\n",
      "Using cached textblob-0.18.0.post0-py3-none-any.whl (626 kB)\n",
      "Installing collected packages: vaderSentiment, textblob\n",
      "Successfully installed textblob-0.18.0.post0 vaderSentiment-3.3.2\n",
      "\u001b[33mWARNING: Running pip as the 'root' user can result in broken permissions and conflicting behaviour with the system package manager. It is recommended to use a virtual environment instead: https://pip.pypa.io/warnings/venv\u001b[0m\u001b[33m\n",
      "\u001b[0m"
     ]
    }
   ],
   "source": [
    "!pip install vaderSentiment textblob\n",
    "# reference for VADER:\n",
    "# https://medium.com/@tom.bailey.courses/sentiment-analysis-in-snowflake-using-python-31d7296abe1a\n",
    "# https://github.com/cjhutto/vaderSentiment"
   ]
  },
  {
   "cell_type": "code",
   "execution_count": 18,
   "id": "272bd1b0-eb43-4113-b3a7-8501518b065d",
   "metadata": {
    "tags": []
   },
   "outputs": [
    {
     "name": "stdout",
     "output_type": "stream",
     "text": [
      "root\n",
      " |-- comment_id: string (nullable = true)\n",
      " |-- id: string (nullable = true)\n",
      " |-- title: string (nullable = true)\n",
      " |-- topic: string (nullable = true)\n",
      " |-- created_utc: timestamp (nullable = true)\n",
      " |-- body: string (nullable = true)\n",
      " |-- misinfo_class: boolean (nullable = false)\n",
      " |-- link_id: string (nullable = true)\n",
      " |-- comment_created: timestamp (nullable = true)\n",
      "\n"
     ]
    }
   ],
   "source": [
    "total_df.printSchema()"
   ]
  },
  {
   "cell_type": "markdown",
   "id": "310d07f1-74c0-483b-94ea-8df38f40e0c6",
   "metadata": {
    "tags": []
   },
   "source": [
    "### VADER and TextBlob"
   ]
  },
  {
   "cell_type": "code",
   "execution_count": 19,
   "id": "b18a7fc1-ecf3-4144-ae17-1ed9ffd7c740",
   "metadata": {
    "tags": []
   },
   "outputs": [],
   "source": [
    "from vaderSentiment.vaderSentiment import SentimentIntensityAnalyzer\n",
    "import pyspark.sql.types as T\n",
    "from textblob import TextBlob\n"
   ]
  },
  {
   "cell_type": "code",
   "execution_count": 20,
   "id": "aafe85aa-74ba-47af-9832-1074d1f5e903",
   "metadata": {
    "tags": []
   },
   "outputs": [],
   "source": [
    "# Use two libraries comparing the sentiment result\n",
    "def vader_sentiment(text):\n",
    "    analyzer = SentimentIntensityAnalyzer()\n",
    "    vader_score = analyzer.polarity_scores(text)\n",
    "    return vader_score['compound']  \n",
    "\n",
    "\n",
    "def textblob_sentiment(text):\n",
    "    return TextBlob(text).sentiment.polarity"
   ]
  },
  {
   "cell_type": "code",
   "execution_count": 21,
   "id": "806805b1-ce35-4415-a55b-73fc54456abb",
   "metadata": {
    "tags": []
   },
   "outputs": [],
   "source": [
    "# UDF\n",
    "vader_udf = f.udf(vader_sentiment, T.FloatType())\n",
    "textblob_udf = f.udf(textblob_sentiment, T.FloatType())"
   ]
  },
  {
   "cell_type": "code",
   "execution_count": 22,
   "id": "1113e9df-9163-4aea-b2f4-99f5ec48d752",
   "metadata": {
    "tags": []
   },
   "outputs": [],
   "source": [
    "# Add vader score to total df\n",
    "total_df = total_df.withColumn(\"vader_score\", vader_udf(f.col(\"body\")))\n",
    "\n",
    "# Add textblob score to total df\n",
    "total_df = total_df.withColumn(\"textblob_score\", textblob_udf(f.col(\"body\")))\n"
   ]
  },
  {
   "cell_type": "markdown",
   "id": "78c5881f-785c-4527-8933-c208562abc5e",
   "metadata": {
    "jp-MarkdownHeadingCollapsed": true,
    "tags": []
   },
   "source": [
    "### output the result"
   ]
  },
  {
   "cell_type": "code",
   "execution_count": null,
   "id": "1e050053-944d-4526-8767-7220f6a464d5",
   "metadata": {
    "tags": []
   },
   "outputs": [],
   "source": [
    "total_df.printSchema()"
   ]
  },
  {
   "cell_type": "code",
   "execution_count": null,
   "id": "b7c4e881-5cec-4e08-93bb-53ea5607072e",
   "metadata": {
    "tags": []
   },
   "outputs": [],
   "source": [
    "# Add a year column\n",
    "total_df = total_df.withColumn(\"year\", f.year(\"comment_created\"))"
   ]
  },
  {
   "cell_type": "code",
   "execution_count": null,
   "id": "3c666281-939d-4b5a-9697-65437c885bf5",
   "metadata": {
    "tags": []
   },
   "outputs": [],
   "source": [
    "# Get distinct years\n",
    "year_list = [2023, 2021] "
   ]
  },
  {
   "cell_type": "code",
   "execution_count": null,
   "id": "b2f0eda6-33a9-49fe-a341-dc14914e226a",
   "metadata": {
    "tags": []
   },
   "outputs": [],
   "source": [
    "def save_par"
   ]
  },
  {
   "cell_type": "code",
   "execution_count": null,
   "id": "bf699aff-db3f-4042-a4e5-16e65e04ab19",
   "metadata": {
    "tags": []
   },
   "outputs": [],
   "source": [
    "for y in year_list:\n",
    "    # Filter the DataFrame for one year\n",
    "    df_year = total_df.filter(total_df.year == y)\n",
    "    print(f\"--- start saving {y} ------\")\n",
    "\n",
    "    # Define the output path for this particular year\n",
    "    output_path = f\"s3a://{bucket}/project/output/year={y}\"\n",
    "\n",
    "    # Write the filtered DataFrame to Parquet\n",
    "    df_year.drop(\"year\").write.mode('overwrite').parquet(output_path)\n",
    "    print(f\"{y}'s data now saved in {output_path} ------\")\n"
   ]
  },
  {
   "cell_type": "code",
   "execution_count": null,
   "id": "4538f473-d359-4169-96c8-719f1623a9b7",
   "metadata": {
    "tags": []
   },
   "outputs": [],
   "source": []
  },
  {
   "cell_type": "code",
   "execution_count": null,
   "id": "9708b1e5-1dfd-4e72-bd58-c5063ea62c6a",
   "metadata": {
    "tags": []
   },
   "outputs": [],
   "source": [
    "total_df.count()"
   ]
  },
  {
   "cell_type": "code",
   "execution_count": null,
   "id": "264d97e7-127e-4c0d-99c0-59179a9b8ea7",
   "metadata": {
    "tags": []
   },
   "outputs": [],
   "source": [
    "comments.count()"
   ]
  },
  {
   "cell_type": "code",
   "execution_count": null,
   "id": "6537f4bd-2dec-4cb2-8b32-7ede36f50472",
   "metadata": {},
   "outputs": [],
   "source": [
    "output_path = f\"s3a://{bucket}/project/output/total.parquet\"\n",
    "\n",
    "# Write the DataFrame to Parquet on S3\n",
    "total_df.write.mode('overwrite').parquet(output_path)\n",
    "# total_df.save(path=output_path, source='parquet', mode='overwrite')"
   ]
  },
  {
   "cell_type": "markdown",
   "id": "a27f0644-37fb-40c9-91d9-4384a5507bef",
   "metadata": {
    "jp-MarkdownHeadingCollapsed": true,
    "tags": []
   },
   "source": [
    "### Comparison"
   ]
  },
  {
   "cell_type": "code",
   "execution_count": null,
   "id": "8d985d64-1b51-4af7-9880-5ae48d81d0b8",
   "metadata": {
    "tags": []
   },
   "outputs": [],
   "source": [
    "total_df.cache()"
   ]
  },
  {
   "cell_type": "code",
   "execution_count": null,
   "id": "29da7fa3-8071-47d0-89f1-338a9b5ef800",
   "metadata": {
    "tags": []
   },
   "outputs": [],
   "source": [
    "# display a sample to manually inspect differences\n",
    "total_df.select(\"body\", \"vader_score\", \"textblob_score\").show()\n"
   ]
  },
  {
   "cell_type": "code",
   "execution_count": null,
   "id": "6c3d863c-d480-4c34-8b20-fd14bf83ccad",
   "metadata": {
    "tags": []
   },
   "outputs": [],
   "source": [
    "total_df.unpersist()"
   ]
  },
  {
   "cell_type": "code",
   "execution_count": null,
   "id": "90087380-17a0-49ec-8632-4df34b2034d6",
   "metadata": {
    "tags": []
   },
   "outputs": [],
   "source": [
    "total_df.describe(['vader_score', 'textblob_score']).show()\n"
   ]
  },
  {
   "cell_type": "code",
   "execution_count": null,
   "id": "5e3435df-5b54-4040-a151-df3bbfcdd99f",
   "metadata": {
    "tags": []
   },
   "outputs": [],
   "source": [
    "# compute correlation between the scores\n",
    "total_df.stat.corr(\"sentiment_score\", \"textblob_score\")\n"
   ]
  },
  {
   "cell_type": "code",
   "execution_count": null,
   "id": "9dc0dcc2-3b80-4cf5-80ca-0ce9b7e55446",
   "metadata": {},
   "outputs": [],
   "source": []
  },
  {
   "cell_type": "markdown",
   "id": "0cbbcba3-59bd-4381-91ea-16adae56f3e4",
   "metadata": {
    "jp-MarkdownHeadingCollapsed": true,
    "tags": []
   },
   "source": [
    "### Top Topics that people comment they are fake news"
   ]
  },
  {
   "cell_type": "code",
   "execution_count": null,
   "id": "9a05586b-ca70-4782-a2fd-85adf6b95135",
   "metadata": {
    "tags": []
   },
   "outputs": [],
   "source": [
    "misinfo_comments = total_df.filter((f.col(\"vader_score\") < 0) & (f.col(\"misinfo_class\") == True))"
   ]
  },
  {
   "cell_type": "code",
   "execution_count": null,
   "id": "fa16fe25-dc74-4630-9763-ecd248e96155",
   "metadata": {
    "tags": []
   },
   "outputs": [],
   "source": [
    "misinfo_comments.cache()"
   ]
  },
  {
   "cell_type": "code",
   "execution_count": null,
   "id": "acdfa570-4081-4b72-8b23-cbf2b864228e",
   "metadata": {
    "tags": []
   },
   "outputs": [],
   "source": [
    "# aggregating misinformation comments by topic\n",
    "misinfo_comments_count = misinfo_comments.groupBy(\"vader_score\").count().toPandas()\n"
   ]
  },
  {
   "cell_type": "code",
   "execution_count": null,
   "id": "3c3019e9-5eca-43b3-b618-32434e59b90e",
   "metadata": {
    "tags": []
   },
   "outputs": [],
   "source": [
    "# save to csv file\n",
    "misinfo_comments_count.to_csv('../data/csv/misinfo_comments_count.csv', index = False)"
   ]
  },
  {
   "cell_type": "code",
   "execution_count": null,
   "id": "8ddee53a-4b0e-4012-be86-7a21d929d1a9",
   "metadata": {
    "tags": []
   },
   "outputs": [],
   "source": [
    "misinfo_comments.printSchema()"
   ]
  },
  {
   "cell_type": "code",
   "execution_count": null,
   "id": "c270018b-2643-486d-bdb5-1c11769f4562",
   "metadata": {
    "tags": []
   },
   "outputs": [],
   "source": [
    "# Topics comment counts and percentage of vadar score <0\n",
    "\n",
    "misinfo_comments = misinfo_comments.withColumn(\"vader_neg\", (f.col(\"vader_score\") < 0).cast(\"int\"))\n",
    "\n",
    "# group by the 'topic' to calculate the total comments\n",
    "neg_comments_count = misinfo_comments.groupBy(\"topic\").agg(f.count(\"comment_id\").alias(\"total_comments\"),\n",
    "                                                           f.sum(\"vader_neg\").alias(\"negative_vader_count\")  \n",
    "    )\n",
    "\n",
    "# Calculate the percentage of negative VADER scores\n",
    "neg_comments_count = neg_comments_count.withColumn(\"percentage_neg_vader\", \n",
    "                           (f.col(\"negative_vader_count\") / f.col(\"total_comments\")) * 100)\n",
    "\n",
    "neg_comments_count.show()"
   ]
  },
  {
   "cell_type": "code",
   "execution_count": null,
   "id": "4e8f81fb-51b9-4512-8a9c-7554032eeed2",
   "metadata": {
    "tags": []
   },
   "outputs": [],
   "source": [
    "misinfo_comments.cache()"
   ]
  },
  {
   "cell_type": "code",
   "execution_count": null,
   "id": "1b104b9e-89f7-40df-a7fb-a302bae848a8",
   "metadata": {
    "tags": []
   },
   "outputs": [],
   "source": [
    "from pyspark.sql import functions as f\n",
    "\n",
    "# Adjusting the condition to check for VADER score less than -0.8 and renaming the column\n",
    "misinfo_comments = misinfo_comments.withColumn(\"vader_below_neg_0_8\", (f.col(\"vader_score\") < -0.8).cast(\"int\"))\n",
    "\n",
    "# Group by the 'topic' to calculate the total comments and the sum of negative comments with the new column name\n",
    "neg_comments_count = misinfo_comments.groupBy(\"topic\").agg(\n",
    "    f.count(\"comment_id\").alias(\"total_comments\"),\n",
    "    f.sum(\"vader_below_neg_0_8\").alias(\"count_below_neg_0_8\")  \n",
    ")\n",
    "\n",
    "# Calculate the percentage of negative VADER scores and rename the percentage column appropriately\n",
    "neg_comments_count = neg_comments_count.withColumn(\"percentage_below_neg_0_8\", \n",
    "                           (f.col(\"count_below_neg_0_8\") / f.col(\"total_comments\")) * 100)\n",
    "\n",
    "# Display the results\n",
    "neg_comments_count.show()\n"
   ]
  },
  {
   "cell_type": "code",
   "execution_count": null,
   "id": "885a73b9-fd78-41ef-8962-3f551e2e164c",
   "metadata": {
    "tags": []
   },
   "outputs": [],
   "source": [
    "# save to csv file\n",
    "neg_comments_count_pd = neg_comments_count.toPandas()\n",
    "neg_comments_count_pd.to_csv('../data/csv/neg_comments_count.csv', header=True, index=False)\n"
   ]
  },
  {
   "cell_type": "code",
   "execution_count": null,
   "id": "32909e23-b121-4233-ab89-26fad5d7d25d",
   "metadata": {
    "tags": []
   },
   "outputs": [],
   "source": [
    "misinfo_comments.unpersist()"
   ]
  },
  {
   "cell_type": "markdown",
   "id": "67ffb003-5a6e-4a0c-abf6-38d2bf6f3c1b",
   "metadata": {},
   "source": [
    "## Part 3"
   ]
  },
  {
   "cell_type": "markdown",
   "id": "f77bd041-ce91-4878-92e8-c881c57169d3",
   "metadata": {
    "jp-MarkdownHeadingCollapsed": true,
    "tags": []
   },
   "source": [
    "#### read data"
   ]
  },
  {
   "cell_type": "code",
   "execution_count": null,
   "id": "3efae29d-dc7a-4a57-a833-12d4e03c35f7",
   "metadata": {},
   "outputs": [],
   "source": [
    "# Define the path to the CSV file\n",
    "s3_path = f\"s3a://{bucket}/project/covid_data/epidemiology.csv\"\n",
    "\n",
    "# Read the CSV file\n",
    "epi_data = spark.read.csv(s3_path, header=True, inferSchema=True)\n",
    "\n",
    "# Show the DataFrame to verify the content\n",
    "epi_data.show()\n"
   ]
  },
  {
   "cell_type": "code",
   "execution_count": null,
   "id": "433c2081-58d3-4387-a64a-ccd05c70357c",
   "metadata": {
    "scrolled": true,
    "tags": []
   },
   "outputs": [],
   "source": [
    "file = \"google-search-trends.csv\"\n",
    "\n",
    "s3_path = f\"s3a://{bucket}/project/covid_data/{file}\"\n",
    "\n",
    "# Read the CSV file\n",
    "search_data = spark.read.csv(s3_path, header=True, inferSchema=True)\n",
    "\n",
    "# Show the DataFrame to verify the content\n",
    "search_data.show()\n",
    "search_data.printSchema()"
   ]
  },
  {
   "cell_type": "code",
   "execution_count": null,
   "id": "27f14209-5a49-42bb-968e-a7848a562b6e",
   "metadata": {
    "tags": []
   },
   "outputs": [],
   "source": [
    "#Global_vaccination_search_insights.csv\n",
    "\n",
    "file = \"Global_vaccination_search_insights.csv\"\n",
    "\n",
    "s3_path = f\"s3a://{bucket}/project/covid_data/{file}\"\n",
    "\n",
    "# Read the CSV fil\n",
    "vaccine_search = spark.read.csv(s3_path, header=True, inferSchema=True)\n",
    "\n",
    "# Show the DataFrame to verify the content\n",
    "# vaccine_data.show()\n",
    "vaccine_search.printSchema()"
   ]
  },
  {
   "cell_type": "code",
   "execution_count": null,
   "id": "a0d26fae-1549-4748-8a1c-5ab82186d9b0",
   "metadata": {
    "tags": []
   },
   "outputs": [],
   "source": [
    "# Define the path to the CSV file\n",
    "s3_path = f\"s3a://{bucket}/project/covid_data/vaccinations.csv\"\n",
    "\n",
    "# Read the CSV file\n",
    "vac_data = spark.read.csv(s3_path, header=True, inferSchema=True)\n",
    "\n",
    "# Show the DataFrame to verify the content\n",
    "vac_data.printSchema()\n"
   ]
  },
  {
   "cell_type": "markdown",
   "id": "85739496-f48c-443a-ace6-33435057a717",
   "metadata": {
    "tags": []
   },
   "source": [
    "#### functions"
   ]
  },
  {
   "cell_type": "code",
   "execution_count": 23,
   "id": "33a80c2e-adc6-4076-9c31-e25f62bac001",
   "metadata": {
    "tags": []
   },
   "outputs": [],
   "source": [
    "def add_time_columns(df, date_col='date'):\n",
    "\n",
    "    return df.withColumn(\"year\", f.year(date_col)) \\\n",
    "             .withColumn(\"month\", f.month(date_col)) \\\n",
    "             .withColumn(\"week\", f.weekofyear(date_col))"
   ]
  },
  {
   "cell_type": "code",
   "execution_count": 24,
   "id": "6694280e-673b-477f-b4df-664f2edc69fd",
   "metadata": {
    "tags": []
   },
   "outputs": [],
   "source": [
    "def group_by_weekly(df, cols):\n",
    "\n",
    "    # Prepare aggregation expressions\n",
    "    aggregations = {col: \"sum\" for col in cols}\n",
    "    \n",
    "\n",
    "    return df.groupBy(\"year\", \"week\").agg(\n",
    "        *(f.sum(c).alias(f\"sum_{c}\") for c in cols)\n",
    "    ).orderBy(\"year\", \"week\")"
   ]
  },
  {
   "cell_type": "code",
   "execution_count": 25,
   "id": "df865d53-b40b-4c9c-afbe-5aa79ab00618",
   "metadata": {
    "tags": []
   },
   "outputs": [],
   "source": [
    "def group_by_monthly(df, cols):\n",
    "\n",
    "    aggregations = {col: \"sum\" for col in cols}\n",
    "    \n",
    "    # Group by year and month, then aggregate based on the provided columns\n",
    "    return df.groupBy(\"year\", \"month\").agg(\n",
    "        *(f.sum(c).alias(f\"sum_{c}\") for c in cols)\n",
    "    ).orderBy(\"year\", \"month\")\n"
   ]
  },
  {
   "cell_type": "code",
   "execution_count": 26,
   "id": "7a6b69a6-720c-4ded-a7b1-50c8b95d1d10",
   "metadata": {
    "tags": []
   },
   "outputs": [],
   "source": [
    "def write_df_to_csv(df, fname):\n",
    "    \n",
    "    output_path = f'../data/csv/{fname}.csv'\n",
    "    pandas_df = df.toPandas()\n",
    "    pandas_df.to_csv(output_path, index=False)"
   ]
  },
  {
   "cell_type": "markdown",
   "id": "00d7a166-73bb-43eb-9268-6d22f1233a51",
   "metadata": {
    "jp-MarkdownHeadingCollapsed": true,
    "tags": []
   },
   "source": [
    "#### preprocess"
   ]
  },
  {
   "cell_type": "code",
   "execution_count": null,
   "id": "199f2a53-afdb-4a75-bb07-a1c341bd2a15",
   "metadata": {
    "tags": []
   },
   "outputs": [],
   "source": [
    "# Extract the month from the date and group by it\n",
    "epi_data = add_time_columns(epi_data)\n",
    "\n",
    "epi_agg_cols =  [\"new_confirmed\", \"new_deceased\"]\n",
    "monthly_epi_global = group_by_monthly(epi_data, epi_agg_cols)\n",
    "weekly_epi_global = group_by_weekly(epi_data, epi_agg_cols)\n"
   ]
  },
  {
   "cell_type": "code",
   "execution_count": null,
   "id": "c60f989d-af5d-47c7-8f74-4bdda52217eb",
   "metadata": {
    "tags": []
   },
   "outputs": [],
   "source": [
    "# Extract the month from the date and group by it\n",
    "vac_data = add_time_columns(vac_data)\n",
    "\n",
    "vac_agg_cols =  [\"new_persons_vaccinated\", \"new_persons_fully_vaccinated\", \"new_vaccine_doses_administered\"]\n",
    "monthly_vac_global = group_by_monthly(vac_data, vac_agg_cols)\n",
    "weekly_vac_global = group_by_weekly(vac_data, vac_agg_cols)\n"
   ]
  },
  {
   "cell_type": "code",
   "execution_count": null,
   "id": "66d52fb5-58e3-47aa-b7f3-c37d8d10f9c6",
   "metadata": {
    "tags": []
   },
   "outputs": [],
   "source": [
    "write_df_to_csv(weekly_vac_global, \"weekly_vac_global\")\n",
    "write_df_to_csv(monthly_vac_global, \"monthly_vac_global\")\n",
    "write_df_to_csv(weekly_epi_global, \"weekly_epi_global\")\n",
    "write_df_to_csv(monthly_epi_global, \"monthly_epi_global\")"
   ]
  },
  {
   "cell_type": "code",
   "execution_count": null,
   "id": "b1b99266-1e64-4ed2-9981-3beeddbca3c2",
   "metadata": {
    "tags": []
   },
   "outputs": [],
   "source": [
    "weekly_covid = weekly_epi_global.join(weekly_vac_global, [\"year\", \"week\"], 'outer')\n",
    "monthly_covid = monthly_epi_global.join(monthly_vac_global, [\"year\", \"month\"], 'outer')\n",
    "weekly_covid.show(5)"
   ]
  },
  {
   "cell_type": "code",
   "execution_count": null,
   "id": "781a1e83-c0dd-4c4c-acf7-299fc287a05b",
   "metadata": {
    "tags": []
   },
   "outputs": [],
   "source": [
    "write_df_to_csv(weekly_covid, \"weekly_covid\")\n",
    "write_df_to_csv(monthly_covid, \"monthly_covid\")"
   ]
  },
  {
   "cell_type": "markdown",
   "id": "678d86ae-6916-4b69-a65d-7490ae905ad0",
   "metadata": {},
   "source": [
    "#### agg total"
   ]
  },
  {
   "cell_type": "code",
   "execution_count": 27,
   "id": "ccb627c3-70f5-4770-a2fe-aeef37267826",
   "metadata": {
    "tags": []
   },
   "outputs": [
    {
     "name": "stdout",
     "output_type": "stream",
     "text": [
      "root\n",
      " |-- comment_id: string (nullable = true)\n",
      " |-- id: string (nullable = true)\n",
      " |-- title: string (nullable = true)\n",
      " |-- topic: string (nullable = true)\n",
      " |-- time_code: timestamp (nullable = true)\n",
      " |-- body: string (nullable = true)\n",
      " |-- misinfo_class: boolean (nullable = false)\n",
      " |-- link_id: string (nullable = true)\n",
      " |-- comment_created: timestamp (nullable = true)\n",
      " |-- vader_score: float (nullable = true)\n",
      " |-- textblob_score: float (nullable = true)\n",
      "\n"
     ]
    }
   ],
   "source": [
    "total_df.cache()\n",
    "\n",
    "total_df = total_df.withColumnRenamed(\"created_utc\", \"time_code\")\n",
    "\n",
    "total_df.printSchema()"
   ]
  },
  {
   "cell_type": "code",
   "execution_count": 28,
   "id": "5b020c2d-175c-4dd2-98af-0b936818047c",
   "metadata": {
    "tags": []
   },
   "outputs": [],
   "source": [
    "total_df = total_df.drop(\"link_id\")\n",
    "total_df = add_time_columns(total_df, \"time_code\")\n"
   ]
  },
  {
   "cell_type": "code",
   "execution_count": null,
   "id": "5e89a948-b676-477f-bffd-6dfb0eb54b1d",
   "metadata": {},
   "outputs": [],
   "source": []
  },
  {
   "cell_type": "code",
   "execution_count": 29,
   "id": "111f46dc-0ec5-4bc0-afa0-fcdde88982ba",
   "metadata": {
    "tags": []
   },
   "outputs": [
    {
     "name": "stdout",
     "output_type": "stream",
     "text": [
      "root\n",
      " |-- comment_id: string (nullable = true)\n",
      " |-- id: string (nullable = true)\n",
      " |-- title: string (nullable = true)\n",
      " |-- topic: string (nullable = true)\n",
      " |-- time_code: timestamp (nullable = true)\n",
      " |-- body: string (nullable = true)\n",
      " |-- misinfo_class: boolean (nullable = false)\n",
      " |-- comment_created: timestamp (nullable = true)\n",
      " |-- vader_score: float (nullable = true)\n",
      " |-- textblob_score: float (nullable = true)\n",
      " |-- year: integer (nullable = true)\n",
      " |-- month: integer (nullable = true)\n",
      " |-- week: integer (nullable = true)\n",
      " |-- year_month: string (nullable = true)\n",
      " |-- year_week: string (nullable = true)\n",
      "\n"
     ]
    }
   ],
   "source": [
    "total_df = total_df.withColumn(\n",
    "    \"year_month\",\n",
    "    f.concat(\n",
    "        f.col(\"year\").cast(\"string\"), f.lit(\"/\"), f.format_string(\"%02d\", \"month\")\n",
    "    )\n",
    ")\n",
    "\n",
    "# Create a new column combining 'year' and 'week'\n",
    "total_df = total_df.withColumn(\n",
    "    \"year_week\",\n",
    "    f.concat(\n",
    "        f.col(\"year\").cast(\"string\"), f.lit(\"/\"), f.format_string(\"%02d\", \"week\")\n",
    "    )\n",
    ")\n",
    "\n",
    "total_df.printSchema()"
   ]
  },
  {
   "cell_type": "code",
   "execution_count": 30,
   "id": "f3016ae6-33d5-410c-a07f-22f8b7fb27e3",
   "metadata": {
    "tags": []
   },
   "outputs": [
    {
     "data": {
      "text/plain": [
       "DataFrame[comment_id: string, id: string, title: string, topic: string, time_code: timestamp, body: string, misinfo_class: boolean, comment_created: timestamp, vader_score: float, textblob_score: float, year: int, month: int, week: int, year_month: string, year_week: string]"
      ]
     },
     "execution_count": 30,
     "metadata": {},
     "output_type": "execute_result"
    }
   ],
   "source": [
    "total_df = total_df.repartition(\"year_month\")\n",
    "total_df.cache()"
   ]
  },
  {
   "cell_type": "code",
   "execution_count": null,
   "id": "5a4ff6a2-c218-4086-909b-f51a7d1f78ba",
   "metadata": {
    "tags": []
   },
   "outputs": [],
   "source": [
    "monthly_misinfo_counts = total_df.filter(f.col('misinfo_class') == True).groupBy('year_month').count().toPandas()\n",
    "monthly_misinfo_counts.to_csv('../data/csv/monthly_misinfo_counts.csv', index = False)"
   ]
  },
  {
   "cell_type": "code",
   "execution_count": null,
   "id": "9cf4793c-4647-4e61-985e-9483a34467a0",
   "metadata": {
    "tags": []
   },
   "outputs": [],
   "source": [
    "weekly_misinfo_counts = total_df.filter(f.col('misinfo_class') == True).groupBy('year_week').count().toPandas()\n",
    "weekly_misinfo_counts.to_csv('../data/csv/weekly_misinfo_counts.csv', index = False)"
   ]
  },
  {
   "cell_type": "code",
   "execution_count": null,
   "id": "a7546673-6bb1-430d-a363-b6ba71718bd0",
   "metadata": {
    "tags": []
   },
   "outputs": [],
   "source": [
    "weekly_summary = total_df.groupBy(\"year_week\").agg(\n",
    "    f.sum(\"vader_score\").alias(\"sum_vader_score\"),\n",
    "    f.sum(\"textblob_score\").alias(\"sum_textblob_score\"),\n",
    "    f.countDistinct(\"id\").alias(\"posts_count\"),\n",
    "    f.countDistinct(\"comment_id\").alias(\"comments_count\"),\n",
    "    f.sum(f.when(f.col(\"misinfo_class\"), 1).otherwise(0)).alias(\"misinfo_count\")\n",
    ").toPandas()\n",
    "# weekly_summary.show(5)\n",
    "weekly_summary.to_csv('../data/csv/weekly_summary.csv', index = False)"
   ]
  },
  {
   "cell_type": "code",
   "execution_count": null,
   "id": "f166e298-83c3-4960-84b8-c3d4f345db18",
   "metadata": {
    "tags": []
   },
   "outputs": [
    {
     "name": "stdout",
     "output_type": "stream",
     "text": [
      "start output\n"
     ]
    },
    {
     "name": "stderr",
     "output_type": "stream",
     "text": [
      "[Stage 5:>                                                        (0 + 4) / 200]\r"
     ]
    }
   ],
   "source": [
    "# monthly_posts_counts = total_df.groupBy('year_month').agg(f.countDistinct(\"comment_id\"))\n",
    "monthly_posts_counts = total_df.groupBy('year_month').agg(f.countDistinct(\"comment_id\"))\n",
    "print(\"start output\")\n",
    "monthly_posts_counts = monthly_posts_counts.toPandas()\n",
    "# .toPandas()\n",
    "# monthly_posts_counts.to_csv('../data/csv/monthly_posts_counts.csv', index = False)"
   ]
  },
  {
   "cell_type": "code",
   "execution_count": null,
   "id": "a489a515-1f6f-4e26-9cf0-299633e3becf",
   "metadata": {},
   "outputs": [],
   "source": [
    "monthly_counts = total_df.groupBy('year_month').count().toPandas()\n"
   ]
  },
  {
   "cell_type": "code",
   "execution_count": null,
   "id": "c23a15fb-ca7c-4a06-a121-f617494d8ffa",
   "metadata": {
    "tags": []
   },
   "outputs": [],
   "source": [
    "monthly_misinfo_counts.head()"
   ]
  },
  {
   "cell_type": "code",
   "execution_count": null,
   "id": "4c4f28f4-d9ac-43c6-bacb-f75ff29d13b3",
   "metadata": {
    "tags": []
   },
   "outputs": [],
   "source": [
    "monthly_counts.rename(columns={'count': 'total_posts'}, inplace=True)\n",
    "monthly_misinfo_counts.rename(columns={'count': 'misinfo_posts'}, inplace=True)\n",
    "monthly_df = pd.merge(monthly_counts, monthly_misinfo_counts, on='year_month', how='outer')\n",
    "monthly_df.head()"
   ]
  },
  {
   "cell_type": "code",
   "execution_count": null,
   "id": "a80be954-4918-44f3-95ca-dc3f2fceedf4",
   "metadata": {
    "tags": []
   },
   "outputs": [],
   "source": [
    "weekly_counts = total_df.groupBy('year_week').count().toPandas()\n",
    "weekly_counts.to_csv('../data/csv/weekly_counts.csv', index = False)"
   ]
  },
  {
   "cell_type": "code",
   "execution_count": null,
   "id": "7dcf48ca-403d-4ad4-9d3f-3c2325474968",
   "metadata": {
    "tags": []
   },
   "outputs": [],
   "source": [
    "# weekly_posts = total_df.groupBy(\"year\", \"week\").agg(f.countDistinct(\"id\")).toPandas()\n",
    "weekly_misinfo = total_df.filter(f.col('misinfo_class') == True).groupBy(\"year\", \"week\").count().toPandas()\n",
    "weekly_misinfo"
   ]
  },
  {
   "cell_type": "code",
   "execution_count": null,
   "id": "b661bfe0-fad1-4212-871d-f433589ebb94",
   "metadata": {
    "tags": []
   },
   "outputs": [],
   "source": [
    "monthly_misinfo = total_df.filter(f.col('misinfo_class') == True).groupBy(\"year\", \"month\").count().toPandas()\n",
    "monthly_misinfo"
   ]
  },
  {
   "cell_type": "code",
   "execution_count": null,
   "id": "d0ad2467-eebb-42be-88ce-ee0d7f1f5e7d",
   "metadata": {
    "tags": []
   },
   "outputs": [],
   "source": [
    "weekly_comments = total_df.groupBy(\"year\", \"week\").agg(f.countDistinct(\"comment_id\")).toPandas()\n",
    "weekly_comments"
   ]
  },
  {
   "cell_type": "code",
   "execution_count": null,
   "id": "7e74dff4-7de5-4949-82ad-b760e7946878",
   "metadata": {
    "tags": []
   },
   "outputs": [],
   "source": [
    "weekly_summary.cache()\n",
    "weekly_summary.count()"
   ]
  },
  {
   "cell_type": "code",
   "execution_count": null,
   "id": "6cec720f-92a6-4141-866f-720f231a07da",
   "metadata": {
    "tags": []
   },
   "outputs": [],
   "source": [
    "weekly_summary.coalesce(1).write.csv(path=f'../data/csv/weekly_summary', mode='overwrite', header=True)"
   ]
  },
  {
   "cell_type": "code",
   "execution_count": null,
   "id": "a3aff2dc-dd98-4190-ad35-9d2a9a1f15c4",
   "metadata": {},
   "outputs": [],
   "source": [
    "# Repartition the DataFrame to a reasonable number before writing\n",
    "repartitioned_df = weekly_summary.repartition(10)  # Adjust the number of partitions based on your cluster size and data volume\n",
    "\n",
    "# Then write to CSV\n",
    "repartitioned_df.write.csv(path=\"path/to/output/directory\", mode='overwrite', header=True)\n"
   ]
  },
  {
   "cell_type": "code",
   "execution_count": null,
   "id": "4456b1c0-0297-4af9-8cbb-47d26034a2a2",
   "metadata": {
    "tags": []
   },
   "outputs": [],
   "source": [
    "weekly_summary_df = weekly_summary.toPandas()"
   ]
  },
  {
   "cell_type": "code",
   "execution_count": null,
   "id": "e7bbe643-0f95-4d25-868f-53f1cfb7d622",
   "metadata": {
    "tags": []
   },
   "outputs": [],
   "source": [
    "monthly_summary = total_df.groupBy(\"year\", \"month\").agg(\n",
    "    # f.sum(\"vader_score\").alias(\"sum_vader_score\"),\n",
    "    # f.sum(\"textblob_score\").alias(\"sum_textblob_score\"),\n",
    "    f.countDistinct(\"id\").alias(\"posts_count\"),\n",
    "    f.countDistinct(\"comment_id\").alias(\"comments_count\"),\n",
    "    f.sum(f.when(f.col(\"misinfo_class\"), 1).otherwise(0)).alias(\"misinfo_count\")\n",
    ")\n",
    "# weekly_summary.show(5)\n"
   ]
  },
  {
   "cell_type": "code",
   "execution_count": null,
   "id": "40f8345d-bb80-4d2c-b0d5-a76b00882d2b",
   "metadata": {
    "tags": []
   },
   "outputs": [],
   "source": [
    "monthly_summary.cache()\n"
   ]
  },
  {
   "cell_type": "code",
   "execution_count": null,
   "id": "c9e5c660-ab8c-488d-951c-7abb95ad5849",
   "metadata": {
    "tags": []
   },
   "outputs": [],
   "source": [
    "monthly_summary.count()"
   ]
  },
  {
   "cell_type": "code",
   "execution_count": null,
   "id": "0665ec24-6126-48e1-a7ab-ecd25ad51ba8",
   "metadata": {
    "tags": []
   },
   "outputs": [],
   "source": [
    "# Apply the same for the misinfo_class=True subset\n",
    "misinfo_weekly = total_df.filter(\"misinfo_class = True\").groupBy(\"year\", \"week\").agg(\n",
    "    f.sum(\"vader_score\").alias(\"sum_vader_score\"),\n",
    "    f.sum(\"textblob_score\").alias(\"sum_textblob_score\"),\n",
    "    f.countDistinct(\"id\").alias(\"posts_count\"),\n",
    "    f.countDistinct(\"comment_id\").alias(\"comments_count\")\n",
    ")\n",
    "\n",
    "# Show the results\n",
    "\n",
    "misinfo_weekly.show(5)\n",
    "write_df_to_csv(misinfo_weekly, \"misinfo_weekly\")\n"
   ]
  },
  {
   "cell_type": "code",
   "execution_count": null,
   "id": "b48d2a1c-92cd-4f57-b42e-fea40066ab86",
   "metadata": {
    "tags": []
   },
   "outputs": [],
   "source": [
    "monthly_summary = total_df.groupBy(\"year\", \"month\").agg(\n",
    "    f.sum(\"vader_score\").alias(\"sum_vader_score\"),\n",
    "    f.sum(\"textblob_score\").alias(\"sum_textblob_score\"),\n",
    "    f.countDistinct(\"id\").alias(\"posts_count\"),\n",
    "    f.countDistinct(\"comment_id\").alias(\"comments_count\"),\n",
    "    f.sum(f.when(f.col(\"misinfo_class\"), 1).otherwise(0)).alias(\"misinfo_count\")\n",
    ")\n",
    "\n",
    "# Apply the same for the misinfo_class=True subset\n",
    "misinfo_monthly = total_df.filter(\"misinfo_class = True\").groupBy(\"year\", \"month\").agg(\n",
    "    f.sum(\"vader_score\").alias(\"sum_vader_score\"),\n",
    "    f.sum(\"textblob_score\").alias(\"sum_textblob_score\"),\n",
    "    f.countDistinct(\"id\").alias(\"posts_count\"),\n",
    "    f.countDistinct(\"comment_id\").alias(\"comments_count\")\n",
    ")\n",
    "\n",
    "# Show the results\n",
    "monthly_summary.show(5)\n",
    "misinfo_monthly.show(5)"
   ]
  },
  {
   "cell_type": "code",
   "execution_count": null,
   "id": "30074605-f85f-495e-af53-9469f67d082d",
   "metadata": {
    "tags": []
   },
   "outputs": [],
   "source": [
    "write_df_to_csv(monthly_summary, \"monthly_summary\")\n",
    "\n",
    "\n",
    "write_df_to_csv(misinfo_monthly, \"misinfo_monthly\")\n"
   ]
  },
  {
   "cell_type": "code",
   "execution_count": null,
   "id": "16350439-af46-47e5-9068-9626417f0253",
   "metadata": {},
   "outputs": [],
   "source": []
  }
 ],
 "metadata": {
  "availableInstances": [
   {
    "_defaultOrder": 0,
    "_isFastLaunch": true,
    "category": "General purpose",
    "gpuNum": 0,
    "hideHardwareSpecs": false,
    "memoryGiB": 4,
    "name": "ml.t3.medium",
    "vcpuNum": 2
   },
   {
    "_defaultOrder": 1,
    "_isFastLaunch": false,
    "category": "General purpose",
    "gpuNum": 0,
    "hideHardwareSpecs": false,
    "memoryGiB": 8,
    "name": "ml.t3.large",
    "vcpuNum": 2
   },
   {
    "_defaultOrder": 2,
    "_isFastLaunch": false,
    "category": "General purpose",
    "gpuNum": 0,
    "hideHardwareSpecs": false,
    "memoryGiB": 16,
    "name": "ml.t3.xlarge",
    "vcpuNum": 4
   },
   {
    "_defaultOrder": 3,
    "_isFastLaunch": false,
    "category": "General purpose",
    "gpuNum": 0,
    "hideHardwareSpecs": false,
    "memoryGiB": 32,
    "name": "ml.t3.2xlarge",
    "vcpuNum": 8
   },
   {
    "_defaultOrder": 4,
    "_isFastLaunch": true,
    "category": "General purpose",
    "gpuNum": 0,
    "hideHardwareSpecs": false,
    "memoryGiB": 8,
    "name": "ml.m5.large",
    "vcpuNum": 2
   },
   {
    "_defaultOrder": 5,
    "_isFastLaunch": false,
    "category": "General purpose",
    "gpuNum": 0,
    "hideHardwareSpecs": false,
    "memoryGiB": 16,
    "name": "ml.m5.xlarge",
    "vcpuNum": 4
   },
   {
    "_defaultOrder": 6,
    "_isFastLaunch": false,
    "category": "General purpose",
    "gpuNum": 0,
    "hideHardwareSpecs": false,
    "memoryGiB": 32,
    "name": "ml.m5.2xlarge",
    "vcpuNum": 8
   },
   {
    "_defaultOrder": 7,
    "_isFastLaunch": false,
    "category": "General purpose",
    "gpuNum": 0,
    "hideHardwareSpecs": false,
    "memoryGiB": 64,
    "name": "ml.m5.4xlarge",
    "vcpuNum": 16
   },
   {
    "_defaultOrder": 8,
    "_isFastLaunch": false,
    "category": "General purpose",
    "gpuNum": 0,
    "hideHardwareSpecs": false,
    "memoryGiB": 128,
    "name": "ml.m5.8xlarge",
    "vcpuNum": 32
   },
   {
    "_defaultOrder": 9,
    "_isFastLaunch": false,
    "category": "General purpose",
    "gpuNum": 0,
    "hideHardwareSpecs": false,
    "memoryGiB": 192,
    "name": "ml.m5.12xlarge",
    "vcpuNum": 48
   },
   {
    "_defaultOrder": 10,
    "_isFastLaunch": false,
    "category": "General purpose",
    "gpuNum": 0,
    "hideHardwareSpecs": false,
    "memoryGiB": 256,
    "name": "ml.m5.16xlarge",
    "vcpuNum": 64
   },
   {
    "_defaultOrder": 11,
    "_isFastLaunch": false,
    "category": "General purpose",
    "gpuNum": 0,
    "hideHardwareSpecs": false,
    "memoryGiB": 384,
    "name": "ml.m5.24xlarge",
    "vcpuNum": 96
   },
   {
    "_defaultOrder": 12,
    "_isFastLaunch": false,
    "category": "General purpose",
    "gpuNum": 0,
    "hideHardwareSpecs": false,
    "memoryGiB": 8,
    "name": "ml.m5d.large",
    "vcpuNum": 2
   },
   {
    "_defaultOrder": 13,
    "_isFastLaunch": false,
    "category": "General purpose",
    "gpuNum": 0,
    "hideHardwareSpecs": false,
    "memoryGiB": 16,
    "name": "ml.m5d.xlarge",
    "vcpuNum": 4
   },
   {
    "_defaultOrder": 14,
    "_isFastLaunch": false,
    "category": "General purpose",
    "gpuNum": 0,
    "hideHardwareSpecs": false,
    "memoryGiB": 32,
    "name": "ml.m5d.2xlarge",
    "vcpuNum": 8
   },
   {
    "_defaultOrder": 15,
    "_isFastLaunch": false,
    "category": "General purpose",
    "gpuNum": 0,
    "hideHardwareSpecs": false,
    "memoryGiB": 64,
    "name": "ml.m5d.4xlarge",
    "vcpuNum": 16
   },
   {
    "_defaultOrder": 16,
    "_isFastLaunch": false,
    "category": "General purpose",
    "gpuNum": 0,
    "hideHardwareSpecs": false,
    "memoryGiB": 128,
    "name": "ml.m5d.8xlarge",
    "vcpuNum": 32
   },
   {
    "_defaultOrder": 17,
    "_isFastLaunch": false,
    "category": "General purpose",
    "gpuNum": 0,
    "hideHardwareSpecs": false,
    "memoryGiB": 192,
    "name": "ml.m5d.12xlarge",
    "vcpuNum": 48
   },
   {
    "_defaultOrder": 18,
    "_isFastLaunch": false,
    "category": "General purpose",
    "gpuNum": 0,
    "hideHardwareSpecs": false,
    "memoryGiB": 256,
    "name": "ml.m5d.16xlarge",
    "vcpuNum": 64
   },
   {
    "_defaultOrder": 19,
    "_isFastLaunch": false,
    "category": "General purpose",
    "gpuNum": 0,
    "hideHardwareSpecs": false,
    "memoryGiB": 384,
    "name": "ml.m5d.24xlarge",
    "vcpuNum": 96
   },
   {
    "_defaultOrder": 20,
    "_isFastLaunch": false,
    "category": "General purpose",
    "gpuNum": 0,
    "hideHardwareSpecs": true,
    "memoryGiB": 0,
    "name": "ml.geospatial.interactive",
    "supportedImageNames": [
     "sagemaker-geospatial-v1-0"
    ],
    "vcpuNum": 0
   },
   {
    "_defaultOrder": 21,
    "_isFastLaunch": true,
    "category": "Compute optimized",
    "gpuNum": 0,
    "hideHardwareSpecs": false,
    "memoryGiB": 4,
    "name": "ml.c5.large",
    "vcpuNum": 2
   },
   {
    "_defaultOrder": 22,
    "_isFastLaunch": false,
    "category": "Compute optimized",
    "gpuNum": 0,
    "hideHardwareSpecs": false,
    "memoryGiB": 8,
    "name": "ml.c5.xlarge",
    "vcpuNum": 4
   },
   {
    "_defaultOrder": 23,
    "_isFastLaunch": false,
    "category": "Compute optimized",
    "gpuNum": 0,
    "hideHardwareSpecs": false,
    "memoryGiB": 16,
    "name": "ml.c5.2xlarge",
    "vcpuNum": 8
   },
   {
    "_defaultOrder": 24,
    "_isFastLaunch": false,
    "category": "Compute optimized",
    "gpuNum": 0,
    "hideHardwareSpecs": false,
    "memoryGiB": 32,
    "name": "ml.c5.4xlarge",
    "vcpuNum": 16
   },
   {
    "_defaultOrder": 25,
    "_isFastLaunch": false,
    "category": "Compute optimized",
    "gpuNum": 0,
    "hideHardwareSpecs": false,
    "memoryGiB": 72,
    "name": "ml.c5.9xlarge",
    "vcpuNum": 36
   },
   {
    "_defaultOrder": 26,
    "_isFastLaunch": false,
    "category": "Compute optimized",
    "gpuNum": 0,
    "hideHardwareSpecs": false,
    "memoryGiB": 96,
    "name": "ml.c5.12xlarge",
    "vcpuNum": 48
   },
   {
    "_defaultOrder": 27,
    "_isFastLaunch": false,
    "category": "Compute optimized",
    "gpuNum": 0,
    "hideHardwareSpecs": false,
    "memoryGiB": 144,
    "name": "ml.c5.18xlarge",
    "vcpuNum": 72
   },
   {
    "_defaultOrder": 28,
    "_isFastLaunch": false,
    "category": "Compute optimized",
    "gpuNum": 0,
    "hideHardwareSpecs": false,
    "memoryGiB": 192,
    "name": "ml.c5.24xlarge",
    "vcpuNum": 96
   },
   {
    "_defaultOrder": 29,
    "_isFastLaunch": true,
    "category": "Accelerated computing",
    "gpuNum": 1,
    "hideHardwareSpecs": false,
    "memoryGiB": 16,
    "name": "ml.g4dn.xlarge",
    "vcpuNum": 4
   },
   {
    "_defaultOrder": 30,
    "_isFastLaunch": false,
    "category": "Accelerated computing",
    "gpuNum": 1,
    "hideHardwareSpecs": false,
    "memoryGiB": 32,
    "name": "ml.g4dn.2xlarge",
    "vcpuNum": 8
   },
   {
    "_defaultOrder": 31,
    "_isFastLaunch": false,
    "category": "Accelerated computing",
    "gpuNum": 1,
    "hideHardwareSpecs": false,
    "memoryGiB": 64,
    "name": "ml.g4dn.4xlarge",
    "vcpuNum": 16
   },
   {
    "_defaultOrder": 32,
    "_isFastLaunch": false,
    "category": "Accelerated computing",
    "gpuNum": 1,
    "hideHardwareSpecs": false,
    "memoryGiB": 128,
    "name": "ml.g4dn.8xlarge",
    "vcpuNum": 32
   },
   {
    "_defaultOrder": 33,
    "_isFastLaunch": false,
    "category": "Accelerated computing",
    "gpuNum": 4,
    "hideHardwareSpecs": false,
    "memoryGiB": 192,
    "name": "ml.g4dn.12xlarge",
    "vcpuNum": 48
   },
   {
    "_defaultOrder": 34,
    "_isFastLaunch": false,
    "category": "Accelerated computing",
    "gpuNum": 1,
    "hideHardwareSpecs": false,
    "memoryGiB": 256,
    "name": "ml.g4dn.16xlarge",
    "vcpuNum": 64
   },
   {
    "_defaultOrder": 35,
    "_isFastLaunch": false,
    "category": "Accelerated computing",
    "gpuNum": 1,
    "hideHardwareSpecs": false,
    "memoryGiB": 61,
    "name": "ml.p3.2xlarge",
    "vcpuNum": 8
   },
   {
    "_defaultOrder": 36,
    "_isFastLaunch": false,
    "category": "Accelerated computing",
    "gpuNum": 4,
    "hideHardwareSpecs": false,
    "memoryGiB": 244,
    "name": "ml.p3.8xlarge",
    "vcpuNum": 32
   },
   {
    "_defaultOrder": 37,
    "_isFastLaunch": false,
    "category": "Accelerated computing",
    "gpuNum": 8,
    "hideHardwareSpecs": false,
    "memoryGiB": 488,
    "name": "ml.p3.16xlarge",
    "vcpuNum": 64
   },
   {
    "_defaultOrder": 38,
    "_isFastLaunch": false,
    "category": "Accelerated computing",
    "gpuNum": 8,
    "hideHardwareSpecs": false,
    "memoryGiB": 768,
    "name": "ml.p3dn.24xlarge",
    "vcpuNum": 96
   },
   {
    "_defaultOrder": 39,
    "_isFastLaunch": false,
    "category": "Memory Optimized",
    "gpuNum": 0,
    "hideHardwareSpecs": false,
    "memoryGiB": 16,
    "name": "ml.r5.large",
    "vcpuNum": 2
   },
   {
    "_defaultOrder": 40,
    "_isFastLaunch": false,
    "category": "Memory Optimized",
    "gpuNum": 0,
    "hideHardwareSpecs": false,
    "memoryGiB": 32,
    "name": "ml.r5.xlarge",
    "vcpuNum": 4
   },
   {
    "_defaultOrder": 41,
    "_isFastLaunch": false,
    "category": "Memory Optimized",
    "gpuNum": 0,
    "hideHardwareSpecs": false,
    "memoryGiB": 64,
    "name": "ml.r5.2xlarge",
    "vcpuNum": 8
   },
   {
    "_defaultOrder": 42,
    "_isFastLaunch": false,
    "category": "Memory Optimized",
    "gpuNum": 0,
    "hideHardwareSpecs": false,
    "memoryGiB": 128,
    "name": "ml.r5.4xlarge",
    "vcpuNum": 16
   },
   {
    "_defaultOrder": 43,
    "_isFastLaunch": false,
    "category": "Memory Optimized",
    "gpuNum": 0,
    "hideHardwareSpecs": false,
    "memoryGiB": 256,
    "name": "ml.r5.8xlarge",
    "vcpuNum": 32
   },
   {
    "_defaultOrder": 44,
    "_isFastLaunch": false,
    "category": "Memory Optimized",
    "gpuNum": 0,
    "hideHardwareSpecs": false,
    "memoryGiB": 384,
    "name": "ml.r5.12xlarge",
    "vcpuNum": 48
   },
   {
    "_defaultOrder": 45,
    "_isFastLaunch": false,
    "category": "Memory Optimized",
    "gpuNum": 0,
    "hideHardwareSpecs": false,
    "memoryGiB": 512,
    "name": "ml.r5.16xlarge",
    "vcpuNum": 64
   },
   {
    "_defaultOrder": 46,
    "_isFastLaunch": false,
    "category": "Memory Optimized",
    "gpuNum": 0,
    "hideHardwareSpecs": false,
    "memoryGiB": 768,
    "name": "ml.r5.24xlarge",
    "vcpuNum": 96
   },
   {
    "_defaultOrder": 47,
    "_isFastLaunch": false,
    "category": "Accelerated computing",
    "gpuNum": 1,
    "hideHardwareSpecs": false,
    "memoryGiB": 16,
    "name": "ml.g5.xlarge",
    "vcpuNum": 4
   },
   {
    "_defaultOrder": 48,
    "_isFastLaunch": false,
    "category": "Accelerated computing",
    "gpuNum": 1,
    "hideHardwareSpecs": false,
    "memoryGiB": 32,
    "name": "ml.g5.2xlarge",
    "vcpuNum": 8
   },
   {
    "_defaultOrder": 49,
    "_isFastLaunch": false,
    "category": "Accelerated computing",
    "gpuNum": 1,
    "hideHardwareSpecs": false,
    "memoryGiB": 64,
    "name": "ml.g5.4xlarge",
    "vcpuNum": 16
   },
   {
    "_defaultOrder": 50,
    "_isFastLaunch": false,
    "category": "Accelerated computing",
    "gpuNum": 1,
    "hideHardwareSpecs": false,
    "memoryGiB": 128,
    "name": "ml.g5.8xlarge",
    "vcpuNum": 32
   },
   {
    "_defaultOrder": 51,
    "_isFastLaunch": false,
    "category": "Accelerated computing",
    "gpuNum": 1,
    "hideHardwareSpecs": false,
    "memoryGiB": 256,
    "name": "ml.g5.16xlarge",
    "vcpuNum": 64
   },
   {
    "_defaultOrder": 52,
    "_isFastLaunch": false,
    "category": "Accelerated computing",
    "gpuNum": 4,
    "hideHardwareSpecs": false,
    "memoryGiB": 192,
    "name": "ml.g5.12xlarge",
    "vcpuNum": 48
   },
   {
    "_defaultOrder": 53,
    "_isFastLaunch": false,
    "category": "Accelerated computing",
    "gpuNum": 4,
    "hideHardwareSpecs": false,
    "memoryGiB": 384,
    "name": "ml.g5.24xlarge",
    "vcpuNum": 96
   },
   {
    "_defaultOrder": 54,
    "_isFastLaunch": false,
    "category": "Accelerated computing",
    "gpuNum": 8,
    "hideHardwareSpecs": false,
    "memoryGiB": 768,
    "name": "ml.g5.48xlarge",
    "vcpuNum": 192
   },
   {
    "_defaultOrder": 55,
    "_isFastLaunch": false,
    "category": "Accelerated computing",
    "gpuNum": 8,
    "hideHardwareSpecs": false,
    "memoryGiB": 1152,
    "name": "ml.p4d.24xlarge",
    "vcpuNum": 96
   },
   {
    "_defaultOrder": 56,
    "_isFastLaunch": false,
    "category": "Accelerated computing",
    "gpuNum": 8,
    "hideHardwareSpecs": false,
    "memoryGiB": 1152,
    "name": "ml.p4de.24xlarge",
    "vcpuNum": 96
   },
   {
    "_defaultOrder": 57,
    "_isFastLaunch": false,
    "category": "Accelerated computing",
    "gpuNum": 0,
    "hideHardwareSpecs": false,
    "memoryGiB": 32,
    "name": "ml.trn1.2xlarge",
    "vcpuNum": 8
   },
   {
    "_defaultOrder": 58,
    "_isFastLaunch": false,
    "category": "Accelerated computing",
    "gpuNum": 0,
    "hideHardwareSpecs": false,
    "memoryGiB": 512,
    "name": "ml.trn1.32xlarge",
    "vcpuNum": 128
   },
   {
    "_defaultOrder": 59,
    "_isFastLaunch": false,
    "category": "Accelerated computing",
    "gpuNum": 0,
    "hideHardwareSpecs": false,
    "memoryGiB": 512,
    "name": "ml.trn1n.32xlarge",
    "vcpuNum": 128
   }
  ],
  "instance_type": "ml.t3.xlarge",
  "kernelspec": {
   "display_name": "Python 3 (Data Science 3.0)",
   "language": "python",
   "name": "python3__SAGEMAKER_INTERNAL__arn:aws:sagemaker:us-east-1:081325390199:image/sagemaker-data-science-310-v1"
  },
  "language_info": {
   "codemirror_mode": {
    "name": "ipython",
    "version": 3
   },
   "file_extension": ".py",
   "mimetype": "text/x-python",
   "name": "python",
   "nbconvert_exporter": "python",
   "pygments_lexer": "ipython3",
   "version": "3.10.6"
  }
 },
 "nbformat": 4,
 "nbformat_minor": 5
}
