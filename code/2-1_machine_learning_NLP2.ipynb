{
 "cells": [
  {
   "cell_type": "markdown",
   "id": "52fa24e1-d3be-4788-8957-6b7e4a634a54",
   "metadata": {
    "tags": []
   },
   "source": [
    "# NLP"
   ]
  },
  {
   "cell_type": "code",
   "execution_count": 2,
   "id": "e4835604-fac5-40d6-8ce0-4f828829c0f1",
   "metadata": {
    "tags": []
   },
   "outputs": [
    {
     "name": "stdout",
     "output_type": "stream",
     "text": [
      "Collecting package metadata (current_repodata.json): done\n",
      "Solving environment: done\n",
      "\n",
      "\n",
      "==> WARNING: A newer version of conda exists. <==\n",
      "  current version: 23.3.1\n",
      "  latest version: 24.3.0\n",
      "\n",
      "Please update conda by running\n",
      "\n",
      "    $ conda update -n base -c defaults conda\n",
      "\n",
      "Or to minimize the number of packages updated during conda update use\n",
      "\n",
      "     conda install conda=24.3.0\n",
      "\n",
      "\n",
      "\n",
      "# All requested packages already installed.\n",
      "\n",
      "\n",
      "Note: you may need to restart the kernel to use updated packages.\n",
      "Requirement already satisfied: pyspark==3.4.0 in /opt/conda/lib/python3.10/site-packages (3.4.0)\n",
      "Requirement already satisfied: py4j==0.10.9.7 in /opt/conda/lib/python3.10/site-packages (from pyspark==3.4.0) (0.10.9.7)\n",
      "\u001b[33mWARNING: Running pip as the 'root' user can result in broken permissions and conflicting behaviour with the system package manager. It is recommended to use a virtual environment instead: https://pip.pypa.io/warnings/venv\u001b[0m\u001b[33m\n",
      "\u001b[0m\n",
      "\u001b[1m[\u001b[0m\u001b[34;49mnotice\u001b[0m\u001b[1;39;49m]\u001b[0m\u001b[39;49m A new release of pip is available: \u001b[0m\u001b[31;49m23.3.1\u001b[0m\u001b[39;49m -> \u001b[0m\u001b[32;49m24.0\u001b[0m\n",
      "\u001b[1m[\u001b[0m\u001b[34;49mnotice\u001b[0m\u001b[1;39;49m]\u001b[0m\u001b[39;49m To update, run: \u001b[0m\u001b[32;49mpip install --upgrade pip\u001b[0m\n",
      "Note: you may need to restart the kernel to use updated packages.\n",
      "Requirement already satisfied: spark-nlp==5.1.3 in /opt/conda/lib/python3.10/site-packages (5.1.3)\n",
      "\u001b[33mWARNING: Running pip as the 'root' user can result in broken permissions and conflicting behaviour with the system package manager. It is recommended to use a virtual environment instead: https://pip.pypa.io/warnings/venv\u001b[0m\u001b[33m\n",
      "\u001b[0m\n",
      "\u001b[1m[\u001b[0m\u001b[34;49mnotice\u001b[0m\u001b[1;39;49m]\u001b[0m\u001b[39;49m A new release of pip is available: \u001b[0m\u001b[31;49m23.3.1\u001b[0m\u001b[39;49m -> \u001b[0m\u001b[32;49m24.0\u001b[0m\n",
      "\u001b[1m[\u001b[0m\u001b[34;49mnotice\u001b[0m\u001b[1;39;49m]\u001b[0m\u001b[39;49m To update, run: \u001b[0m\u001b[32;49mpip install --upgrade pip\u001b[0m\n",
      "Note: you may need to restart the kernel to use updated packages.\n"
     ]
    },
    {
     "data": {
      "text/html": [
       "<script>Jupyter.notebook.kernel.restart()</script>"
      ],
      "text/plain": [
       "<IPython.core.display.HTML object>"
      ]
     },
     "execution_count": 2,
     "metadata": {},
     "output_type": "execute_result"
    }
   ],
   "source": [
    "# Setup - Run only once per Kernel App\n",
    "%conda install openjdk -y\n",
    "\n",
    "# install PySpark\n",
    "%pip install pyspark==3.4.0\n",
    "\n",
    "# install spark-nlp\n",
    "%pip install spark-nlp==5.1.3\n",
    "\n",
    "# restart kernel\n",
    "from IPython.core.display import HTML\n",
    "HTML(\"<script>Jupyter.notebook.kernel.restart()</script>\")"
   ]
  },
  {
   "cell_type": "code",
   "execution_count": 3,
   "id": "52c93a3c-8a9b-45d2-9162-73060d75ed13",
   "metadata": {
    "tags": []
   },
   "outputs": [
    {
     "name": "stderr",
     "output_type": "stream",
     "text": [
      "Warning: Ignoring non-Spark config property: fs.s3a.aws.credentials.provider\n"
     ]
    },
    {
     "name": "stdout",
     "output_type": "stream",
     "text": [
      ":: loading settings :: url = jar:file:/opt/conda/lib/python3.10/site-packages/pyspark/jars/ivy-2.5.1.jar!/org/apache/ivy/core/settings/ivysettings.xml\n"
     ]
    },
    {
     "name": "stderr",
     "output_type": "stream",
     "text": [
      "Ivy Default Cache set to: /root/.ivy2/cache\n",
      "The jars for the packages stored in: /root/.ivy2/jars\n",
      "org.apache.hadoop#hadoop-aws added as a dependency\n",
      ":: resolving dependencies :: org.apache.spark#spark-submit-parent-14c1e9cc-2235-4fd2-9604-c15e907ca378;1.0\n",
      "\tconfs: [default]\n",
      "\tfound org.apache.hadoop#hadoop-aws;3.2.2 in central\n",
      "\tfound com.amazonaws#aws-java-sdk-bundle;1.11.563 in central\n",
      ":: resolution report :: resolve 329ms :: artifacts dl 21ms\n",
      "\t:: modules in use:\n",
      "\tcom.amazonaws#aws-java-sdk-bundle;1.11.563 from central in [default]\n",
      "\torg.apache.hadoop#hadoop-aws;3.2.2 from central in [default]\n",
      "\t---------------------------------------------------------------------\n",
      "\t|                  |            modules            ||   artifacts   |\n",
      "\t|       conf       | number| search|dwnlded|evicted|| number|dwnlded|\n",
      "\t---------------------------------------------------------------------\n",
      "\t|      default     |   2   |   0   |   0   |   0   ||   2   |   0   |\n",
      "\t---------------------------------------------------------------------\n",
      ":: retrieving :: org.apache.spark#spark-submit-parent-14c1e9cc-2235-4fd2-9604-c15e907ca378\n",
      "\tconfs: [default]\n",
      "\t0 artifacts copied, 2 already retrieved (0kB/11ms)\n",
      "24/04/17 01:51:10 WARN NativeCodeLoader: Unable to load native-hadoop library for your platform... using builtin-java classes where applicable\n",
      "Setting default log level to \"WARN\".\n",
      "To adjust logging level use sc.setLogLevel(newLevel). For SparkR, use setLogLevel(newLevel).\n"
     ]
    },
    {
     "name": "stdout",
     "output_type": "stream",
     "text": [
      "3.4.0\n"
     ]
    }
   ],
   "source": [
    "# Import pyspark and build Spark session\n",
    "from pyspark.sql import SparkSession\n",
    "\n",
    "spark = (\n",
    "    SparkSession.builder.appName(\"PySparkApp\")\n",
    "    .config(\"spark.jars.packages\", \"org.apache.hadoop:hadoop-aws:3.2.2\")\n",
    "    .config(\n",
    "        \"fs.s3a.aws.credentials.provider\",\n",
    "        \"com.amazonaws.auth.ContainerCredentialsProvider\",\n",
    "    )\n",
    "    .getOrCreate()\n",
    ")\n",
    "\n",
    "print(spark.version)"
   ]
  },
  {
   "cell_type": "code",
   "execution_count": 4,
   "id": "b7675366-cdbe-4d51-a90a-29fe6eac8bd1",
   "metadata": {
    "tags": []
   },
   "outputs": [
    {
     "name": "stdout",
     "output_type": "stream",
     "text": [
      "sagemaker.config INFO - Not applying SDK defaults from location: /etc/xdg/sagemaker/config.yaml\n",
      "sagemaker.config INFO - Not applying SDK defaults from location: /root/.config/sagemaker/config.yaml\n",
      "sagemaker.config INFO - Not applying SDK defaults from location: /etc/xdg/sagemaker/config.yaml\n",
      "sagemaker.config INFO - Not applying SDK defaults from location: /root/.config/sagemaker/config.yaml\n",
      "reading submissions from s3a://sagemaker-us-east-1-851725257127/project/submissions/yyyy=*\n"
     ]
    },
    {
     "name": "stderr",
     "output_type": "stream",
     "text": [
      "24/04/17 01:51:17 WARN MetricsConfig: Cannot locate configuration: tried hadoop-metrics2-s3a-file-system.properties,hadoop-metrics2.properties\n",
      "24/04/17 01:51:24 WARN package: Truncated the string representation of a plan since it was too large. This behavior can be adjusted by setting 'spark.sql.debug.maxToStringFields'.\n"
     ]
    }
   ],
   "source": [
    "import sagemaker\n",
    "session = sagemaker.Session()\n",
    "bucket = session.default_bucket()\n",
    "output_prefix_data_submissions = \"project/submissions/yyyy=*\"\n",
    "s3_path = f\"s3a://{bucket}/{output_prefix_data_submissions}\"\n",
    "print(f\"reading submissions from {s3_path}\")\n",
    "posts = spark.read.parquet(s3_path, header=True)"
   ]
  },
  {
   "cell_type": "code",
   "execution_count": 5,
   "id": "57cc9c28-fcfb-4087-8496-69f9621bce20",
   "metadata": {
    "tags": []
   },
   "outputs": [],
   "source": [
    "#reading comments\n",
    "output_prefix_data_comments = \"project/comments/yyyy=*\"\n",
    "s3_path = f\"s3a://{bucket}/{output_prefix_data_comments}\"\n",
    "comments = spark.read.parquet(s3_path, header=True)"
   ]
  },
  {
   "cell_type": "code",
   "execution_count": 6,
   "id": "975425e1-807b-47e4-8d45-51f2bef229e5",
   "metadata": {
    "tags": []
   },
   "outputs": [],
   "source": [
    "#import packages\n",
    "import pyspark.sql.functions as f\n",
    "from sklearn.decomposition import LatentDirichletAllocation\n",
    "from sklearn.feature_extraction.text import TfidfVectorizer\n",
    "import nltk"
   ]
  },
  {
   "cell_type": "markdown",
   "id": "02eb5d2d-cde7-4808-ab74-608bed513c98",
   "metadata": {
    "tags": []
   },
   "source": [
    "## Adding variables"
   ]
  },
  {
   "cell_type": "code",
   "execution_count": 7,
   "id": "68bec61e-6327-4e74-a4bb-69c788c68089",
   "metadata": {
    "tags": []
   },
   "outputs": [],
   "source": [
    "## Clean the comments body content\n",
    "# define a function\n",
    "def clean_text(df):\n",
    "    # Lowercase all text\n",
    "    df = df.withColumn(\"body\", f.lower(f.col(\"body\")))\n",
    "    # Remove special characters (keeping only alphanumeric and spaces)\n",
    "    df = df.withColumn(\"body\", f.regexp_replace(f.col(\"body\"), \"[^a-zA-Z0-9\\\\s]\", \"\"))\n",
    "    # Trim spaces\n",
    "    df = df.withColumn(\"body\", f.trim(f.col(\"body\")))\n",
    "    return df\n",
    "\n",
    "# Apply the cleaning function\n",
    "comments = clean_text(comments)"
   ]
  },
  {
   "cell_type": "code",
   "execution_count": 8,
   "id": "383ab7a3-bcd9-46c5-8839-02a6662b63b4",
   "metadata": {
    "tags": []
   },
   "outputs": [],
   "source": [
    "# Beside correct typing, also adding the potential typos\n",
    "comments = comments.withColumn('misinfo_class', \n",
    "                    f.when(comments.body.rlike(r'fake news|bullshit|misinfo|clickbait|unreliable|propoganda|propaganda|fraud|deceptive|fabricated|deep state|wake up|truth about'), True)\\\n",
    "                    .otherwise(False))"
   ]
  },
  {
   "cell_type": "markdown",
   "id": "dd2db5ca-ed59-46cd-a7dd-d40132f1b14d",
   "metadata": {
    "tags": []
   },
   "source": [
    "## LDA"
   ]
  },
  {
   "cell_type": "code",
   "execution_count": 9,
   "id": "d9f582fd-430c-438e-b3b2-bbbe9b898183",
   "metadata": {
    "tags": []
   },
   "outputs": [],
   "source": [
    "from pyspark.ml.feature import Tokenizer\n",
    "from pyspark.ml.feature import StopWordsRemover\n",
    "from pyspark.ml import Pipeline\n",
    "from nltk.corpus import stopwords\n",
    "from pyspark.ml.feature import CountVectorizer , IDF\n",
    "from pyspark.ml.clustering import LDA\n",
    "import pyspark.sql.functions as f\n",
    "from pyspark.sql.types import StringType, ArrayType, FloatType\n",
    "from itertools import chain"
   ]
  },
  {
   "cell_type": "code",
   "execution_count": 10,
   "id": "b6363d70-7933-48de-b9af-35bcd343d4b9",
   "metadata": {
    "tags": []
   },
   "outputs": [],
   "source": [
    "#create small df to use for LDA\n",
    "small_df = posts.select('title', 'id')"
   ]
  },
  {
   "cell_type": "code",
   "execution_count": 11,
   "id": "4160e462-5c2c-423e-afba-faaefb3c5d38",
   "metadata": {
    "tags": []
   },
   "outputs": [
    {
     "data": {
      "text/plain": [
       "Tokenizer_3729b217de3d"
      ]
     },
     "execution_count": 11,
     "metadata": {},
     "output_type": "execute_result"
    }
   ],
   "source": [
    "#create tokenizer\n",
    "tokenizer = Tokenizer(outputCol=\"words\")\n",
    "tokenizer.setInputCol(\"title\")"
   ]
  },
  {
   "cell_type": "code",
   "execution_count": 12,
   "id": "0215f5cb-7ba2-4719-aea2-56f7ce759890",
   "metadata": {
    "tags": []
   },
   "outputs": [
    {
     "data": {
      "text/plain": [
       "StopWordsRemover_3e06c0745692"
      ]
     },
     "execution_count": 12,
     "metadata": {},
     "output_type": "execute_result"
    }
   ],
   "source": [
    "#remove stop words \n",
    "StopWords = stopwords.words(\"english\")\n",
    "#removing stop words in other languages and other common words\n",
    "additional = ['@reuters:', '–' '&amp;', '@ap:', 'rt', ':', 'از', 'آهنگ', 'دانلود', 'در', 'به', 'جدید', '@apentertainment:',\n",
    "             '|', 'के', 'में', 'و', 'في', 'من', '@bbcworld:', 'de', 'la', 'di', 'की', 'से', 'bio', 'many','know', 'age', 'says', 'one',\n",
    "             'net', 'user]', '[deleted', 'look', '–']\n",
    "StopWords = StopWords + additional\n",
    "remover = StopWordsRemover(stopWords=StopWords)\n",
    "remover.setInputCol(\"words\")\n",
    "remover.setOutputCol(\"filtered\")"
   ]
  },
  {
   "cell_type": "code",
   "execution_count": 13,
   "id": "ee054b06-5f5b-43bc-a6e5-ee61471bf45a",
   "metadata": {
    "tags": []
   },
   "outputs": [],
   "source": [
    "#count vectorizer\n",
    "cv = CountVectorizer(inputCol=\"filtered\", outputCol=\"raw_features\", vocabSize=5000, minDF=25)\n",
    "# IDF\n",
    "idf = IDF(inputCol=\"raw_features\", outputCol=\"features\")"
   ]
  },
  {
   "cell_type": "code",
   "execution_count": 14,
   "id": "8e6170b1-f7a0-4023-841e-57ebb30c953d",
   "metadata": {
    "tags": []
   },
   "outputs": [
    {
     "data": {
      "text/plain": [
       "LDA_8a38a4826146"
      ]
     },
     "execution_count": 14,
     "metadata": {},
     "output_type": "execute_result"
    }
   ],
   "source": [
    "#lda model \n",
    "lda = LDA()\n",
    "lda.setK(8)\n",
    "lda.setMaxIter(10)\n",
    "lda.setSeed(13)"
   ]
  },
  {
   "cell_type": "code",
   "execution_count": 15,
   "id": "72999f26-04f0-4dca-8b01-1aec4ab620de",
   "metadata": {
    "tags": []
   },
   "outputs": [],
   "source": [
    "pipeline = Pipeline(stages=[tokenizer, remover, cv, idf, lda])"
   ]
  },
  {
   "cell_type": "code",
   "execution_count": null,
   "id": "9f8827de-715f-4f09-892e-60a7e84d2ef3",
   "metadata": {
    "tags": []
   },
   "outputs": [
    {
     "name": "stderr",
     "output_type": "stream",
     "text": [
      "24/04/17 02:00:13 WARN InstanceBuilder: Failed to load implementation from:dev.ludovic.netlib.blas.JNIBLAS\n",
      "[Stage 38:========>                                              (16 + 4) / 104]\r"
     ]
    }
   ],
   "source": [
    "model = pipeline.fit(small_df)"
   ]
  },
  {
   "cell_type": "code",
   "execution_count": 39,
   "id": "973b6ec9-04b0-4745-a01b-f80737112529",
   "metadata": {
    "tags": []
   },
   "outputs": [],
   "source": [
    "topics = model.stages[-1].describeTopics()\n",
    "terms = model.stages[-3].vocabulary"
   ]
  },
  {
   "cell_type": "code",
   "execution_count": 40,
   "id": "30ab96a0-bf8e-457e-a93e-42cc635dd4f5",
   "metadata": {
    "tags": []
   },
   "outputs": [],
   "source": [
    "#get word from index of term \n",
    "def indices_to_terms(indices, terms=terms):\n",
    "        terms_subset = [terms[index] for index in indices]\n",
    "        return terms_subset\n",
    "# Defining Spark UDF from above function\n",
    "udf_indices_to_terms = f.udf(indices_to_terms, ArrayType(StringType()))\n",
    "\n",
    "topics = (\n",
    "    topics\n",
    "       .withColumn(\"terms\", udf_indices_to_terms(f.col(\"termIndices\")))\n",
    "    )"
   ]
  },
  {
   "cell_type": "code",
   "execution_count": null,
   "id": "57c903f8-eb11-4e6f-8e1f-947e8cf5915d",
   "metadata": {
    "tags": []
   },
   "outputs": [],
   "source": [
    "#topics.take(20)"
   ]
  },
  {
   "cell_type": "code",
   "execution_count": 41,
   "id": "d858322d-6bd7-4ab2-a763-18487f6f7288",
   "metadata": {
    "tags": []
   },
   "outputs": [],
   "source": [
    "#naming topics \n",
    "topic_dict = {0: 'economics/russia&ukraine', 1: 'presidental news', 2: 'supreme court/law', 3: 'global politics', 4: 'us politics', \n",
    "              5: 'covid/russia&ukraine', 6: 'crime/protest', 7: 'tv shows'}\n",
    "              "
   ]
  },
  {
   "cell_type": "code",
   "execution_count": 42,
   "id": "2c845272-aead-4302-9e3c-989bde8c9b17",
   "metadata": {
    "tags": []
   },
   "outputs": [
    {
     "data": {
      "text/plain": [
       "DataFrame[title: string, id: string]"
      ]
     },
     "execution_count": 42,
     "metadata": {},
     "output_type": "execute_result"
    }
   ],
   "source": [
    "small_df.cache()"
   ]
  },
  {
   "cell_type": "code",
   "execution_count": 43,
   "id": "90239d4d-4470-4ff4-983b-6cbad3eb290e",
   "metadata": {
    "tags": []
   },
   "outputs": [],
   "source": [
    "small_transform = model.transform(small_df)"
   ]
  },
  {
   "cell_type": "code",
   "execution_count": 44,
   "id": "382a53d8-35dc-4813-bd05-dbb2e8167ccf",
   "metadata": {
    "tags": []
   },
   "outputs": [
    {
     "data": {
      "text/plain": [
       "DataFrame[title: string, id: string]"
      ]
     },
     "execution_count": 44,
     "metadata": {},
     "output_type": "execute_result"
    }
   ],
   "source": [
    "small_df.unpersist()\n"
   ]
  },
  {
   "cell_type": "code",
   "execution_count": 45,
   "id": "6e6f0763-3e76-4319-9e9b-bbb93b740afb",
   "metadata": {
    "tags": []
   },
   "outputs": [],
   "source": [
    "#map to topics\n",
    "mapping_expr = f.create_map([f.lit(x) for x in chain(*topic_dict.items())])"
   ]
  },
  {
   "cell_type": "code",
   "execution_count": 46,
   "id": "5b078978-d2b1-4483-b007-588c927a1176",
   "metadata": {
    "tags": []
   },
   "outputs": [],
   "source": [
    "#udf to get the top topic \n",
    "max_topic = f.udf(lambda v:float(v.argmax()),FloatType())\n",
    "#using mao and udf to create a topic column\n",
    "topic = small_transform.withColumn('topic_num', max_topic(\"topicDistribution\"))\\\n",
    ".withColumn(\"topic\", mapping_expr[f.col(\"topic_num\")]).select('id','topic')"
   ]
  },
  {
   "cell_type": "code",
   "execution_count": 47,
   "id": "09b8ba61-74a0-451e-af26-7a3870edf731",
   "metadata": {
    "tags": []
   },
   "outputs": [],
   "source": [
    "mini_posts = posts.select('created_utc', 'title', 'id')"
   ]
  },
  {
   "cell_type": "code",
   "execution_count": 48,
   "id": "0df9f008-8b38-41c6-aefc-60e32a9518ed",
   "metadata": {
    "tags": []
   },
   "outputs": [],
   "source": [
    "#merging relevant columns wuth the topic column\n",
    "merged_df = mini_posts.join(topic, 'id')"
   ]
  },
  {
   "cell_type": "code",
   "execution_count": 30,
   "id": "177b6b2a-e4f9-4dd3-80df-382e8519eb4c",
   "metadata": {
    "tags": []
   },
   "outputs": [
    {
     "name": "stderr",
     "output_type": "stream",
     "text": [
      "                                                                                \r"
     ]
    },
    {
     "data": {
      "text/plain": [
       "[Row(id='10000r8', created_utc=datetime.datetime(2022, 12, 31, 18, 10, 56), title='Who dares bins? Councils in England use ex-SAS soldiers to catch fly-tippers', topic='us politics'),\n",
       " Row(id='10004rz', created_utc=datetime.datetime(2022, 12, 31, 18, 16, 6), title='Iran tests military drones in wargame near Strait of Hormuz', topic='covid/russia&ukraine'),\n",
       " Row(id='1000b7b', created_utc=datetime.datetime(2022, 12, 31, 18, 24, 30), title='Wise Registry Cleaner Pro 11.3.4 Crack Here [2023]', topic='presidental news'),\n",
       " Row(id='1000e7x', created_utc=datetime.datetime(2022, 12, 31, 18, 28, 22), title='ai-Marketing', topic='economics/russia&ukraine'),\n",
       " Row(id='1000o6u', created_utc=datetime.datetime(2022, 12, 31, 18, 41, 24), title='VuzeVPN Not Responding Big Sur 1.0.8.1 Crack Activation Key', topic='presidental news')]"
      ]
     },
     "execution_count": 30,
     "metadata": {},
     "output_type": "execute_result"
    }
   ],
   "source": [
    "#merged_df.take(5)"
   ]
  },
  {
   "cell_type": "markdown",
   "id": "a0bf13f9-c1fb-4329-990a-3480a87d2468",
   "metadata": {},
   "source": [
    "## Adding comments"
   ]
  },
  {
   "cell_type": "code",
   "execution_count": 49,
   "id": "7ad259c4-4556-4999-9010-a64c34a8e015",
   "metadata": {
    "tags": []
   },
   "outputs": [],
   "source": [
    "#renaming columns and removing the t3_ from the link id to get the post id on the comment\n",
    "mini_comments = comments.select('created_utc','body','misinfo_class', 'link_id', 'id')\\\n",
    ".withColumn('comment_created', f.col('created_utc')).withColumn('comment_id', f.col('id'))\\\n",
    ".withColumn('id', f.regexp_extract('link_id', 't3_(.*)$', 1))"
   ]
  },
  {
   "cell_type": "code",
   "execution_count": 50,
   "id": "35831b91-4a04-4fdc-b03b-aa94fdc7301b",
   "metadata": {
    "tags": []
   },
   "outputs": [],
   "source": [
    "#merging dataframes\n",
    "total_df = merged_df.join(mini_comments, 'id')"
   ]
  },
  {
   "cell_type": "code",
   "execution_count": 33,
   "id": "13fc5b70-5812-431e-a73d-183c60d3ccf6",
   "metadata": {
    "tags": []
   },
   "outputs": [
    {
     "name": "stderr",
     "output_type": "stream",
     "text": [
      "                                                                                \r"
     ]
    },
    {
     "data": {
      "text/plain": [
       "[Row(id='1005crh', created_utc=datetime.datetime(2022, 12, 31, 22, 29, 9), title='North Korea opens New Year with missile launch', topic='economics/russia&ukraine', created_utc=datetime.datetime(2022, 12, 31, 23, 55, 54), body=\"Kind of? I'm not sure if they're up and running right now what with COVID and all, but for years it was possible to book guided tours and stay in Pyongyang. Not exactly a smart thing to do (just ask the family of Otto Warmbier), but you could do it. The Kim family also loves to entertain celebrities, Dennis Rodman is probably the most famous example these days and before he died Billy Graham loved to visit Pyongyang.\", misinfo_class=False, link_id='t3_1005crh', comment_created=datetime.datetime(2022, 12, 31, 23, 55, 54), comment_id='j2fx4ag'),\n",
       " Row(id='1005crh', created_utc=datetime.datetime(2022, 12, 31, 22, 29, 9), title='North Korea opens New Year with missile launch', topic='economics/russia&ukraine', created_utc=datetime.datetime(2022, 12, 31, 23, 57, 5), body=\"I'd be up for some peaceful use of nuclear weapons for entertainment/celebratory purposes.\", misinfo_class=False, link_id='t3_1005crh', comment_created=datetime.datetime(2022, 12, 31, 23, 57, 5), comment_id='j2fx9vr'),\n",
       " Row(id='1005crh', created_utc=datetime.datetime(2022, 12, 31, 22, 29, 9), title='North Korea opens New Year with missile launch', topic='economics/russia&ukraine', created_utc=datetime.datetime(2022, 12, 31, 23, 58, 42), body=\"Don't forget about the all the cyber heists, over 100mil in stolen crypto and ransom ware\", misinfo_class=False, link_id='t3_1005crh', comment_created=datetime.datetime(2022, 12, 31, 23, 58, 42), comment_id='j2fxhtr'),\n",
       " Row(id='1005crh', created_utc=datetime.datetime(2022, 12, 31, 22, 29, 9), title='North Korea opens New Year with missile launch', topic='economics/russia&ukraine', created_utc=datetime.datetime(2022, 12, 31, 23, 58, 47), body='It’s how he gets rid of all his worn out sex toys.', misinfo_class=False, link_id='t3_1005crh', comment_created=datetime.datetime(2022, 12, 31, 23, 58, 47), comment_id='j2fxi7v'),\n",
       " Row(id='1005crh', created_utc=datetime.datetime(2022, 12, 31, 22, 29, 9), title='North Korea opens New Year with missile launch', topic='economics/russia&ukraine', created_utc=datetime.datetime(2022, 12, 31, 23, 58, 56), body='I thought they resolved to launch fewer missiles?', misinfo_class=False, link_id='t3_1005crh', comment_created=datetime.datetime(2022, 12, 31, 23, 58, 56), comment_id='j2fxizk'),\n",
       " Row(id='1005crh', created_utc=datetime.datetime(2022, 12, 31, 22, 29, 9), title='North Korea opens New Year with missile launch', topic='economics/russia&ukraine', created_utc=datetime.datetime(2022, 12, 31, 23, 40, 1), body=\"Start it off with a bang, why don't you\", misinfo_class=False, link_id='t3_1005crh', comment_created=datetime.datetime(2022, 12, 31, 23, 40, 1), comment_id='j2fuz7w'),\n",
       " Row(id='1005crh', created_utc=datetime.datetime(2022, 12, 31, 22, 29, 9), title='North Korea opens New Year with missile launch', topic='economics/russia&ukraine', created_utc=datetime.datetime(2022, 12, 31, 23, 40, 43), body='I have seen a documentary where is was shown that all rockets must be pointy', misinfo_class=False, link_id='t3_1005crh', comment_created=datetime.datetime(2022, 12, 31, 23, 40, 43), comment_id='j2fv2ix'),\n",
       " Row(id='1005crh', created_utc=datetime.datetime(2022, 12, 31, 22, 29, 9), title='North Korea opens New Year with missile launch', topic='economics/russia&ukraine', created_utc=datetime.datetime(2022, 12, 31, 23, 40, 56), body='Fear of missilling out*', misinfo_class=False, link_id='t3_1005crh', comment_created=datetime.datetime(2022, 12, 31, 23, 40, 56), comment_id='j2fv3ko'),\n",
       " Row(id='1005crh', created_utc=datetime.datetime(2022, 12, 31, 22, 29, 9), title='North Korea opens New Year with missile launch', topic='economics/russia&ukraine', created_utc=datetime.datetime(2022, 12, 31, 23, 42, 2), body='You make it sound like North Korea is a vacation spot for Bond villains where they can just kick back and gawk at human suffering', misinfo_class=False, link_id='t3_1005crh', comment_created=datetime.datetime(2022, 12, 31, 23, 42, 2), comment_id='j2fv8qm'),\n",
       " Row(id='1005crh', created_utc=datetime.datetime(2022, 12, 31, 22, 29, 9), title='North Korea opens New Year with missile launch', topic='economics/russia&ukraine', created_utc=datetime.datetime(2022, 12, 31, 23, 48, 7), body='Are we sure it just wasn’t an epic bottle rocket?', misinfo_class=False, link_id='t3_1005crh', comment_created=datetime.datetime(2022, 12, 31, 23, 48, 7), comment_id='j2fw2dp')]"
      ]
     },
     "execution_count": 33,
     "metadata": {},
     "output_type": "execute_result"
    }
   ],
   "source": [
    "#total_df.take(10)"
   ]
  },
  {
   "cell_type": "markdown",
   "id": "3e6ae0eb-6f5a-48f7-a190-66ce3b68b25f",
   "metadata": {
    "tags": []
   },
   "source": [
    "## Counting by topic"
   ]
  },
  {
   "cell_type": "code",
   "execution_count": null,
   "id": "a8a8a745-6a70-47ac-a356-06383eb486f3",
   "metadata": {
    "tags": []
   },
   "outputs": [],
   "source": [
    "topic_misinfo_counts = total_df.filter(f.col('misinfo_class') == True).groupBy('topic').count().toPandas()"
   ]
  },
  {
   "cell_type": "code",
   "execution_count": 134,
   "id": "56e2c1e8-7b30-4dfc-a58f-d7389e7cd6bf",
   "metadata": {},
   "outputs": [
    {
     "data": {
      "text/html": [
       "<div>\n",
       "<style scoped>\n",
       "    .dataframe tbody tr th:only-of-type {\n",
       "        vertical-align: middle;\n",
       "    }\n",
       "\n",
       "    .dataframe tbody tr th {\n",
       "        vertical-align: top;\n",
       "    }\n",
       "\n",
       "    .dataframe thead th {\n",
       "        text-align: right;\n",
       "    }\n",
       "</style>\n",
       "<table border=\"1\" class=\"dataframe\">\n",
       "  <thead>\n",
       "    <tr style=\"text-align: right;\">\n",
       "      <th></th>\n",
       "      <th>topic</th>\n",
       "      <th>count</th>\n",
       "    </tr>\n",
       "  </thead>\n",
       "  <tbody>\n",
       "    <tr>\n",
       "      <th>0</th>\n",
       "      <td>us politics</td>\n",
       "      <td>24261</td>\n",
       "    </tr>\n",
       "    <tr>\n",
       "      <th>1</th>\n",
       "      <td>economics/russia&amp;ukraine</td>\n",
       "      <td>47848</td>\n",
       "    </tr>\n",
       "    <tr>\n",
       "      <th>2</th>\n",
       "      <td>crime/protest</td>\n",
       "      <td>90683</td>\n",
       "    </tr>\n",
       "    <tr>\n",
       "      <th>3</th>\n",
       "      <td>global politics</td>\n",
       "      <td>35838</td>\n",
       "    </tr>\n",
       "    <tr>\n",
       "      <th>4</th>\n",
       "      <td>presidental news</td>\n",
       "      <td>42871</td>\n",
       "    </tr>\n",
       "    <tr>\n",
       "      <th>5</th>\n",
       "      <td>tv shows</td>\n",
       "      <td>14998</td>\n",
       "    </tr>\n",
       "    <tr>\n",
       "      <th>6</th>\n",
       "      <td>covid/russia&amp;ukraine</td>\n",
       "      <td>91546</td>\n",
       "    </tr>\n",
       "    <tr>\n",
       "      <th>7</th>\n",
       "      <td>supreme court/law</td>\n",
       "      <td>59082</td>\n",
       "    </tr>\n",
       "  </tbody>\n",
       "</table>\n",
       "</div>"
      ],
      "text/plain": [
       "                      topic  count\n",
       "0               us politics  24261\n",
       "1  economics/russia&ukraine  47848\n",
       "2             crime/protest  90683\n",
       "3           global politics  35838\n",
       "4          presidental news  42871\n",
       "5                  tv shows  14998\n",
       "6      covid/russia&ukraine  91546\n",
       "7         supreme court/law  59082"
      ]
     },
     "execution_count": 134,
     "metadata": {},
     "output_type": "execute_result"
    }
   ],
   "source": [
    "topic_misinfo_counts"
   ]
  },
  {
   "cell_type": "code",
   "execution_count": 135,
   "id": "cc6907fa-d0ce-4fbd-b583-9c0ff8458b2e",
   "metadata": {
    "tags": []
   },
   "outputs": [],
   "source": [
    "topic_misinfo_counts.to_csv('../data/csv/topic_misinfo_true_count.csv', index = False)"
   ]
  },
  {
   "cell_type": "code",
   "execution_count": 136,
   "id": "4c0e4dde-ecf9-4a48-b24b-5f46050fb1dd",
   "metadata": {
    "tags": []
   },
   "outputs": [
    {
     "name": "stderr",
     "output_type": "stream",
     "text": [
      "24/04/13 04:56:35 WARN RowBasedKeyValueBatch: Calling spill() on RowBasedKeyValueBatch. Will not spill but return 0.\n",
      "24/04/13 04:56:35 WARN RowBasedKeyValueBatch: Calling spill() on RowBasedKeyValueBatch. Will not spill but return 0.\n",
      "24/04/13 04:56:35 WARN RowBasedKeyValueBatch: Calling spill() on RowBasedKeyValueBatch. Will not spill but return 0.\n",
      "24/04/13 04:56:35 WARN RowBasedKeyValueBatch: Calling spill() on RowBasedKeyValueBatch. Will not spill but return 0.\n",
      "24/04/13 04:56:35 WARN RowBasedKeyValueBatch: Calling spill() on RowBasedKeyValueBatch. Will not spill but return 0.\n",
      "24/04/13 04:56:35 WARN RowBasedKeyValueBatch: Calling spill() on RowBasedKeyValueBatch. Will not spill but return 0.\n",
      "24/04/13 04:56:36 WARN RowBasedKeyValueBatch: Calling spill() on RowBasedKeyValueBatch. Will not spill but return 0.\n",
      "24/04/13 04:56:36 WARN RowBasedKeyValueBatch: Calling spill() on RowBasedKeyValueBatch. Will not spill but return 0.\n",
      "24/04/13 04:56:36 WARN RowBasedKeyValueBatch: Calling spill() on RowBasedKeyValueBatch. Will not spill but return 0.\n",
      "24/04/13 04:56:36 WARN RowBasedKeyValueBatch: Calling spill() on RowBasedKeyValueBatch. Will not spill but return 0.\n",
      "24/04/13 04:56:38 WARN RowBasedKeyValueBatch: Calling spill() on RowBasedKeyValueBatch. Will not spill but return 0.\n",
      "24/04/13 04:56:38 WARN RowBasedKeyValueBatch: Calling spill() on RowBasedKeyValueBatch. Will not spill but return 0.\n",
      "24/04/13 04:56:38 WARN RowBasedKeyValueBatch: Calling spill() on RowBasedKeyValueBatch. Will not spill but return 0.\n",
      "24/04/13 04:56:38 WARN RowBasedKeyValueBatch: Calling spill() on RowBasedKeyValueBatch. Will not spill but return 0.\n",
      "24/04/13 04:56:40 WARN RowBasedKeyValueBatch: Calling spill() on RowBasedKeyValueBatch. Will not spill but return 0.\n",
      "24/04/13 04:56:40 WARN RowBasedKeyValueBatch: Calling spill() on RowBasedKeyValueBatch. Will not spill but return 0.\n",
      "24/04/13 04:56:40 WARN RowBasedKeyValueBatch: Calling spill() on RowBasedKeyValueBatch. Will not spill but return 0.\n",
      "24/04/13 04:56:40 WARN RowBasedKeyValueBatch: Calling spill() on RowBasedKeyValueBatch. Will not spill but return 0.\n",
      "24/04/13 04:56:42 WARN RowBasedKeyValueBatch: Calling spill() on RowBasedKeyValueBatch. Will not spill but return 0.\n",
      "24/04/13 04:56:42 WARN RowBasedKeyValueBatch: Calling spill() on RowBasedKeyValueBatch. Will not spill but return 0.\n",
      "24/04/13 04:56:42 WARN RowBasedKeyValueBatch: Calling spill() on RowBasedKeyValueBatch. Will not spill but return 0.\n",
      "24/04/13 04:56:42 WARN RowBasedKeyValueBatch: Calling spill() on RowBasedKeyValueBatch. Will not spill but return 0.\n",
      "24/04/13 04:56:43 WARN RowBasedKeyValueBatch: Calling spill() on RowBasedKeyValueBatch. Will not spill but return 0.\n",
      "24/04/13 04:56:43 WARN RowBasedKeyValueBatch: Calling spill() on RowBasedKeyValueBatch. Will not spill but return 0.\n",
      "24/04/13 04:56:44 WARN RowBasedKeyValueBatch: Calling spill() on RowBasedKeyValueBatch. Will not spill but return 0.\n",
      "24/04/13 04:56:44 WARN RowBasedKeyValueBatch: Calling spill() on RowBasedKeyValueBatch. Will not spill but return 0.\n",
      "24/04/13 04:56:45 WARN RowBasedKeyValueBatch: Calling spill() on RowBasedKeyValueBatch. Will not spill but return 0.\n",
      "24/04/13 04:56:46 WARN RowBasedKeyValueBatch: Calling spill() on RowBasedKeyValueBatch. Will not spill but return 0.\n",
      "24/04/13 04:56:46 WARN RowBasedKeyValueBatch: Calling spill() on RowBasedKeyValueBatch. Will not spill but return 0.\n",
      "24/04/13 04:56:46 WARN RowBasedKeyValueBatch: Calling spill() on RowBasedKeyValueBatch. Will not spill but return 0.\n",
      "24/04/13 04:56:47 WARN RowBasedKeyValueBatch: Calling spill() on RowBasedKeyValueBatch. Will not spill but return 0.\n",
      "24/04/13 04:56:48 WARN RowBasedKeyValueBatch: Calling spill() on RowBasedKeyValueBatch. Will not spill but return 0.\n",
      "24/04/13 04:56:48 WARN RowBasedKeyValueBatch: Calling spill() on RowBasedKeyValueBatch. Will not spill but return 0.\n",
      "24/04/13 04:56:48 WARN RowBasedKeyValueBatch: Calling spill() on RowBasedKeyValueBatch. Will not spill but return 0.\n",
      "24/04/13 04:56:49 WARN RowBasedKeyValueBatch: Calling spill() on RowBasedKeyValueBatch. Will not spill but return 0.\n",
      "24/04/13 04:56:50 WARN RowBasedKeyValueBatch: Calling spill() on RowBasedKeyValueBatch. Will not spill but return 0.\n",
      "24/04/13 04:56:50 WARN RowBasedKeyValueBatch: Calling spill() on RowBasedKeyValueBatch. Will not spill but return 0.\n",
      "24/04/13 04:56:50 WARN RowBasedKeyValueBatch: Calling spill() on RowBasedKeyValueBatch. Will not spill but return 0.\n",
      "24/04/13 04:56:51 WARN RowBasedKeyValueBatch: Calling spill() on RowBasedKeyValueBatch. Will not spill but return 0.\n",
      "24/04/13 04:56:52 WARN RowBasedKeyValueBatch: Calling spill() on RowBasedKeyValueBatch. Will not spill but return 0.\n",
      "24/04/13 04:56:52 WARN RowBasedKeyValueBatch: Calling spill() on RowBasedKeyValueBatch. Will not spill but return 0.\n",
      "24/04/13 04:56:52 WARN RowBasedKeyValueBatch: Calling spill() on RowBasedKeyValueBatch. Will not spill but return 0.\n",
      "                                                                                \r"
     ]
    }
   ],
   "source": [
    "topic_counts = total_df.groupBy('topic').count().toPandas()"
   ]
  },
  {
   "cell_type": "code",
   "execution_count": 137,
   "id": "8be87b75-f344-4105-bef7-457abe27f46f",
   "metadata": {
    "tags": []
   },
   "outputs": [
    {
     "data": {
      "text/html": [
       "<div>\n",
       "<style scoped>\n",
       "    .dataframe tbody tr th:only-of-type {\n",
       "        vertical-align: middle;\n",
       "    }\n",
       "\n",
       "    .dataframe tbody tr th {\n",
       "        vertical-align: top;\n",
       "    }\n",
       "\n",
       "    .dataframe thead th {\n",
       "        text-align: right;\n",
       "    }\n",
       "</style>\n",
       "<table border=\"1\" class=\"dataframe\">\n",
       "  <thead>\n",
       "    <tr style=\"text-align: right;\">\n",
       "      <th></th>\n",
       "      <th>topic</th>\n",
       "      <th>count</th>\n",
       "    </tr>\n",
       "  </thead>\n",
       "  <tbody>\n",
       "    <tr>\n",
       "      <th>0</th>\n",
       "      <td>us politics</td>\n",
       "      <td>2761048</td>\n",
       "    </tr>\n",
       "    <tr>\n",
       "      <th>1</th>\n",
       "      <td>economics/russia&amp;ukraine</td>\n",
       "      <td>5721107</td>\n",
       "    </tr>\n",
       "    <tr>\n",
       "      <th>2</th>\n",
       "      <td>crime/protest</td>\n",
       "      <td>11658072</td>\n",
       "    </tr>\n",
       "    <tr>\n",
       "      <th>3</th>\n",
       "      <td>global politics</td>\n",
       "      <td>4542845</td>\n",
       "    </tr>\n",
       "    <tr>\n",
       "      <th>4</th>\n",
       "      <td>presidental news</td>\n",
       "      <td>5028581</td>\n",
       "    </tr>\n",
       "    <tr>\n",
       "      <th>5</th>\n",
       "      <td>tv shows</td>\n",
       "      <td>2008234</td>\n",
       "    </tr>\n",
       "    <tr>\n",
       "      <th>6</th>\n",
       "      <td>covid/russia&amp;ukraine</td>\n",
       "      <td>11446475</td>\n",
       "    </tr>\n",
       "    <tr>\n",
       "      <th>7</th>\n",
       "      <td>supreme court/law</td>\n",
       "      <td>6738106</td>\n",
       "    </tr>\n",
       "  </tbody>\n",
       "</table>\n",
       "</div>"
      ],
      "text/plain": [
       "                      topic     count\n",
       "0               us politics   2761048\n",
       "1  economics/russia&ukraine   5721107\n",
       "2             crime/protest  11658072\n",
       "3           global politics   4542845\n",
       "4          presidental news   5028581\n",
       "5                  tv shows   2008234\n",
       "6      covid/russia&ukraine  11446475\n",
       "7         supreme court/law   6738106"
      ]
     },
     "execution_count": 137,
     "metadata": {},
     "output_type": "execute_result"
    }
   ],
   "source": [
    "topic_counts"
   ]
  },
  {
   "cell_type": "code",
   "execution_count": 138,
   "id": "f9b7f2b2-9589-49e4-9cf4-e8ab1fc191ec",
   "metadata": {
    "tags": []
   },
   "outputs": [],
   "source": [
    "topic_counts.to_csv('../data/csv/topic_counts.csv', index = False)"
   ]
  },
  {
   "cell_type": "code",
   "execution_count": 139,
   "id": "bb792c5e-c8df-4a1c-9cfd-7da70f06ffbe",
   "metadata": {
    "tags": []
   },
   "outputs": [
    {
     "name": "stderr",
     "output_type": "stream",
     "text": [
      "24/04/13 05:19:02 WARN RowBasedKeyValueBatch: Calling spill() on RowBasedKeyValueBatch. Will not spill but return 0.\n",
      "24/04/13 05:19:02 WARN RowBasedKeyValueBatch: Calling spill() on RowBasedKeyValueBatch. Will not spill but return 0.\n",
      "24/04/13 05:19:02 WARN RowBasedKeyValueBatch: Calling spill() on RowBasedKeyValueBatch. Will not spill but return 0.\n",
      "24/04/13 05:19:02 WARN RowBasedKeyValueBatch: Calling spill() on RowBasedKeyValueBatch. Will not spill but return 0.\n",
      "24/04/13 05:19:03 WARN RowBasedKeyValueBatch: Calling spill() on RowBasedKeyValueBatch. Will not spill but return 0.\n",
      "24/04/13 05:19:03 WARN RowBasedKeyValueBatch: Calling spill() on RowBasedKeyValueBatch. Will not spill but return 0.\n",
      "24/04/13 05:19:03 WARN RowBasedKeyValueBatch: Calling spill() on RowBasedKeyValueBatch. Will not spill but return 0.\n",
      "24/04/13 05:19:03 WARN RowBasedKeyValueBatch: Calling spill() on RowBasedKeyValueBatch. Will not spill but return 0.\n",
      "24/04/13 05:19:04 WARN RowBasedKeyValueBatch: Calling spill() on RowBasedKeyValueBatch. Will not spill but return 0.\n",
      "24/04/13 05:19:04 WARN RowBasedKeyValueBatch: Calling spill() on RowBasedKeyValueBatch. Will not spill but return 0.\n",
      "24/04/13 05:19:04 WARN RowBasedKeyValueBatch: Calling spill() on RowBasedKeyValueBatch. Will not spill but return 0.\n",
      "24/04/13 05:19:04 WARN RowBasedKeyValueBatch: Calling spill() on RowBasedKeyValueBatch. Will not spill but return 0.\n",
      "24/04/13 05:19:04 WARN RowBasedKeyValueBatch: Calling spill() on RowBasedKeyValueBatch. Will not spill but return 0.\n",
      "24/04/13 05:19:05 WARN RowBasedKeyValueBatch: Calling spill() on RowBasedKeyValueBatch. Will not spill but return 0.\n",
      "24/04/13 05:19:05 WARN RowBasedKeyValueBatch: Calling spill() on RowBasedKeyValueBatch. Will not spill but return 0.\n",
      "24/04/13 05:19:05 WARN RowBasedKeyValueBatch: Calling spill() on RowBasedKeyValueBatch. Will not spill but return 0.\n",
      "24/04/13 05:19:05 WARN RowBasedKeyValueBatch: Calling spill() on RowBasedKeyValueBatch. Will not spill but return 0.\n",
      "24/04/13 05:19:05 WARN RowBasedKeyValueBatch: Calling spill() on RowBasedKeyValueBatch. Will not spill but return 0.\n",
      "24/04/13 05:19:05 WARN RowBasedKeyValueBatch: Calling spill() on RowBasedKeyValueBatch. Will not spill but return 0.\n",
      "24/04/13 05:19:05 WARN RowBasedKeyValueBatch: Calling spill() on RowBasedKeyValueBatch. Will not spill but return 0.\n",
      "24/04/13 05:19:06 WARN RowBasedKeyValueBatch: Calling spill() on RowBasedKeyValueBatch. Will not spill but return 0.\n",
      "24/04/13 05:19:06 WARN RowBasedKeyValueBatch: Calling spill() on RowBasedKeyValueBatch. Will not spill but return 0.\n",
      "24/04/13 05:19:06 WARN RowBasedKeyValueBatch: Calling spill() on RowBasedKeyValueBatch. Will not spill but return 0.\n",
      "24/04/13 05:19:06 WARN RowBasedKeyValueBatch: Calling spill() on RowBasedKeyValueBatch. Will not spill but return 0.\n",
      "24/04/13 05:19:07 WARN RowBasedKeyValueBatch: Calling spill() on RowBasedKeyValueBatch. Will not spill but return 0.\n",
      "24/04/13 05:19:07 WARN RowBasedKeyValueBatch: Calling spill() on RowBasedKeyValueBatch. Will not spill but return 0.\n",
      "24/04/13 05:19:07 WARN RowBasedKeyValueBatch: Calling spill() on RowBasedKeyValueBatch. Will not spill but return 0.\n",
      "24/04/13 05:19:07 WARN RowBasedKeyValueBatch: Calling spill() on RowBasedKeyValueBatch. Will not spill but return 0.\n",
      "24/04/13 05:19:08 WARN RowBasedKeyValueBatch: Calling spill() on RowBasedKeyValueBatch. Will not spill but return 0.\n",
      "24/04/13 05:19:08 WARN RowBasedKeyValueBatch: Calling spill() on RowBasedKeyValueBatch. Will not spill but return 0.\n",
      "24/04/13 05:19:08 WARN RowBasedKeyValueBatch: Calling spill() on RowBasedKeyValueBatch. Will not spill but return 0.\n",
      "24/04/13 05:19:08 WARN RowBasedKeyValueBatch: Calling spill() on RowBasedKeyValueBatch. Will not spill but return 0.\n",
      "24/04/13 05:19:09 WARN RowBasedKeyValueBatch: Calling spill() on RowBasedKeyValueBatch. Will not spill but return 0.\n",
      "24/04/13 05:19:09 WARN RowBasedKeyValueBatch: Calling spill() on RowBasedKeyValueBatch. Will not spill but return 0.\n",
      "24/04/13 05:19:09 WARN RowBasedKeyValueBatch: Calling spill() on RowBasedKeyValueBatch. Will not spill but return 0.\n",
      "24/04/13 05:19:09 WARN RowBasedKeyValueBatch: Calling spill() on RowBasedKeyValueBatch. Will not spill but return 0.\n",
      "24/04/13 05:19:10 WARN RowBasedKeyValueBatch: Calling spill() on RowBasedKeyValueBatch. Will not spill but return 0.\n",
      "24/04/13 05:19:10 WARN RowBasedKeyValueBatch: Calling spill() on RowBasedKeyValueBatch. Will not spill but return 0.\n",
      "24/04/13 05:19:10 WARN RowBasedKeyValueBatch: Calling spill() on RowBasedKeyValueBatch. Will not spill but return 0.\n",
      "24/04/13 05:19:10 WARN RowBasedKeyValueBatch: Calling spill() on RowBasedKeyValueBatch. Will not spill but return 0.\n",
      "24/04/13 05:19:10 WARN RowBasedKeyValueBatch: Calling spill() on RowBasedKeyValueBatch. Will not spill but return 0.\n",
      "24/04/13 05:19:11 WARN RowBasedKeyValueBatch: Calling spill() on RowBasedKeyValueBatch. Will not spill but return 0.\n",
      "24/04/13 05:19:11 WARN RowBasedKeyValueBatch: Calling spill() on RowBasedKeyValueBatch. Will not spill but return 0.\n",
      "24/04/13 05:19:11 WARN RowBasedKeyValueBatch: Calling spill() on RowBasedKeyValueBatch. Will not spill but return 0.\n",
      "24/04/13 05:19:12 WARN RowBasedKeyValueBatch: Calling spill() on RowBasedKeyValueBatch. Will not spill but return 0.\n",
      "24/04/13 05:19:12 WARN RowBasedKeyValueBatch: Calling spill() on RowBasedKeyValueBatch. Will not spill but return 0.\n",
      "24/04/13 05:19:12 WARN RowBasedKeyValueBatch: Calling spill() on RowBasedKeyValueBatch. Will not spill but return 0.\n",
      "24/04/13 05:19:12 WARN RowBasedKeyValueBatch: Calling spill() on RowBasedKeyValueBatch. Will not spill but return 0.\n",
      "24/04/13 05:19:13 WARN RowBasedKeyValueBatch: Calling spill() on RowBasedKeyValueBatch. Will not spill but return 0.\n",
      "24/04/13 05:19:13 WARN RowBasedKeyValueBatch: Calling spill() on RowBasedKeyValueBatch. Will not spill but return 0.\n",
      "24/04/13 05:19:13 WARN RowBasedKeyValueBatch: Calling spill() on RowBasedKeyValueBatch. Will not spill but return 0.\n",
      "24/04/13 05:19:13 WARN RowBasedKeyValueBatch: Calling spill() on RowBasedKeyValueBatch. Will not spill but return 0.\n",
      "24/04/13 05:19:14 WARN RowBasedKeyValueBatch: Calling spill() on RowBasedKeyValueBatch. Will not spill but return 0.\n",
      "24/04/13 05:19:14 WARN RowBasedKeyValueBatch: Calling spill() on RowBasedKeyValueBatch. Will not spill but return 0.\n",
      "24/04/13 05:19:14 WARN RowBasedKeyValueBatch: Calling spill() on RowBasedKeyValueBatch. Will not spill but return 0.\n",
      "24/04/13 05:19:14 WARN RowBasedKeyValueBatch: Calling spill() on RowBasedKeyValueBatch. Will not spill but return 0.\n",
      "24/04/13 05:19:14 WARN RowBasedKeyValueBatch: Calling spill() on RowBasedKeyValueBatch. Will not spill but return 0.\n",
      "24/04/13 05:19:15 WARN RowBasedKeyValueBatch: Calling spill() on RowBasedKeyValueBatch. Will not spill but return 0.\n",
      "24/04/13 05:19:15 WARN RowBasedKeyValueBatch: Calling spill() on RowBasedKeyValueBatch. Will not spill but return 0.\n",
      "24/04/13 05:19:15 WARN RowBasedKeyValueBatch: Calling spill() on RowBasedKeyValueBatch. Will not spill but return 0.\n",
      "24/04/13 05:19:16 WARN RowBasedKeyValueBatch: Calling spill() on RowBasedKeyValueBatch. Will not spill but return 0.\n",
      "24/04/13 05:19:16 WARN RowBasedKeyValueBatch: Calling spill() on RowBasedKeyValueBatch. Will not spill but return 0.\n",
      "24/04/13 05:19:16 WARN RowBasedKeyValueBatch: Calling spill() on RowBasedKeyValueBatch. Will not spill but return 0.\n",
      "24/04/13 05:19:17 WARN RowBasedKeyValueBatch: Calling spill() on RowBasedKeyValueBatch. Will not spill but return 0.\n",
      "24/04/13 05:19:17 WARN RowBasedKeyValueBatch: Calling spill() on RowBasedKeyValueBatch. Will not spill but return 0.\n",
      "24/04/13 05:19:17 WARN RowBasedKeyValueBatch: Calling spill() on RowBasedKeyValueBatch. Will not spill but return 0.\n",
      "24/04/13 05:19:17 WARN RowBasedKeyValueBatch: Calling spill() on RowBasedKeyValueBatch. Will not spill but return 0.\n",
      "24/04/13 05:19:18 WARN RowBasedKeyValueBatch: Calling spill() on RowBasedKeyValueBatch. Will not spill but return 0.\n",
      "24/04/13 05:19:18 WARN RowBasedKeyValueBatch: Calling spill() on RowBasedKeyValueBatch. Will not spill but return 0.\n",
      "24/04/13 05:19:18 WARN RowBasedKeyValueBatch: Calling spill() on RowBasedKeyValueBatch. Will not spill but return 0.\n",
      "24/04/13 05:19:19 WARN RowBasedKeyValueBatch: Calling spill() on RowBasedKeyValueBatch. Will not spill but return 0.\n",
      "24/04/13 05:19:19 WARN RowBasedKeyValueBatch: Calling spill() on RowBasedKeyValueBatch. Will not spill but return 0.\n",
      "                                                                                \r"
     ]
    }
   ],
   "source": [
    "topic_misinfo_total = total_df.groupBy(['topic', 'misinfo_class']).count().toPandas()"
   ]
  },
  {
   "cell_type": "code",
   "execution_count": 140,
   "id": "663ba541-c80b-4b71-b4f7-a169ecaf5ad8",
   "metadata": {
    "tags": []
   },
   "outputs": [
    {
     "data": {
      "text/html": [
       "<div>\n",
       "<style scoped>\n",
       "    .dataframe tbody tr th:only-of-type {\n",
       "        vertical-align: middle;\n",
       "    }\n",
       "\n",
       "    .dataframe tbody tr th {\n",
       "        vertical-align: top;\n",
       "    }\n",
       "\n",
       "    .dataframe thead th {\n",
       "        text-align: right;\n",
       "    }\n",
       "</style>\n",
       "<table border=\"1\" class=\"dataframe\">\n",
       "  <thead>\n",
       "    <tr style=\"text-align: right;\">\n",
       "      <th></th>\n",
       "      <th>topic</th>\n",
       "      <th>misinfo_class</th>\n",
       "      <th>count</th>\n",
       "    </tr>\n",
       "  </thead>\n",
       "  <tbody>\n",
       "    <tr>\n",
       "      <th>0</th>\n",
       "      <td>economics/russia&amp;ukraine</td>\n",
       "      <td>True</td>\n",
       "      <td>47848</td>\n",
       "    </tr>\n",
       "    <tr>\n",
       "      <th>1</th>\n",
       "      <td>covid/russia&amp;ukraine</td>\n",
       "      <td>False</td>\n",
       "      <td>11354929</td>\n",
       "    </tr>\n",
       "    <tr>\n",
       "      <th>2</th>\n",
       "      <td>supreme court/law</td>\n",
       "      <td>True</td>\n",
       "      <td>59082</td>\n",
       "    </tr>\n",
       "    <tr>\n",
       "      <th>3</th>\n",
       "      <td>global politics</td>\n",
       "      <td>True</td>\n",
       "      <td>35838</td>\n",
       "    </tr>\n",
       "    <tr>\n",
       "      <th>4</th>\n",
       "      <td>crime/protest</td>\n",
       "      <td>False</td>\n",
       "      <td>11567389</td>\n",
       "    </tr>\n",
       "    <tr>\n",
       "      <th>5</th>\n",
       "      <td>economics/russia&amp;ukraine</td>\n",
       "      <td>False</td>\n",
       "      <td>5673259</td>\n",
       "    </tr>\n",
       "    <tr>\n",
       "      <th>6</th>\n",
       "      <td>supreme court/law</td>\n",
       "      <td>False</td>\n",
       "      <td>6679024</td>\n",
       "    </tr>\n",
       "    <tr>\n",
       "      <th>7</th>\n",
       "      <td>us politics</td>\n",
       "      <td>True</td>\n",
       "      <td>24261</td>\n",
       "    </tr>\n",
       "    <tr>\n",
       "      <th>8</th>\n",
       "      <td>crime/protest</td>\n",
       "      <td>True</td>\n",
       "      <td>90683</td>\n",
       "    </tr>\n",
       "    <tr>\n",
       "      <th>9</th>\n",
       "      <td>tv shows</td>\n",
       "      <td>True</td>\n",
       "      <td>14998</td>\n",
       "    </tr>\n",
       "    <tr>\n",
       "      <th>10</th>\n",
       "      <td>global politics</td>\n",
       "      <td>False</td>\n",
       "      <td>4507007</td>\n",
       "    </tr>\n",
       "    <tr>\n",
       "      <th>11</th>\n",
       "      <td>us politics</td>\n",
       "      <td>False</td>\n",
       "      <td>2736787</td>\n",
       "    </tr>\n",
       "    <tr>\n",
       "      <th>12</th>\n",
       "      <td>presidental news</td>\n",
       "      <td>False</td>\n",
       "      <td>4985710</td>\n",
       "    </tr>\n",
       "    <tr>\n",
       "      <th>13</th>\n",
       "      <td>presidental news</td>\n",
       "      <td>True</td>\n",
       "      <td>42871</td>\n",
       "    </tr>\n",
       "    <tr>\n",
       "      <th>14</th>\n",
       "      <td>tv shows</td>\n",
       "      <td>False</td>\n",
       "      <td>1993236</td>\n",
       "    </tr>\n",
       "    <tr>\n",
       "      <th>15</th>\n",
       "      <td>covid/russia&amp;ukraine</td>\n",
       "      <td>True</td>\n",
       "      <td>91546</td>\n",
       "    </tr>\n",
       "  </tbody>\n",
       "</table>\n",
       "</div>"
      ],
      "text/plain": [
       "                       topic  misinfo_class     count\n",
       "0   economics/russia&ukraine           True     47848\n",
       "1       covid/russia&ukraine          False  11354929\n",
       "2          supreme court/law           True     59082\n",
       "3            global politics           True     35838\n",
       "4              crime/protest          False  11567389\n",
       "5   economics/russia&ukraine          False   5673259\n",
       "6          supreme court/law          False   6679024\n",
       "7                us politics           True     24261\n",
       "8              crime/protest           True     90683\n",
       "9                   tv shows           True     14998\n",
       "10           global politics          False   4507007\n",
       "11               us politics          False   2736787\n",
       "12          presidental news          False   4985710\n",
       "13          presidental news           True     42871\n",
       "14                  tv shows          False   1993236\n",
       "15      covid/russia&ukraine           True     91546"
      ]
     },
     "execution_count": 140,
     "metadata": {},
     "output_type": "execute_result"
    }
   ],
   "source": [
    "topic_misinfo_total"
   ]
  },
  {
   "cell_type": "code",
   "execution_count": 141,
   "id": "178f4563-338c-4e0a-b2a4-83c750e31c58",
   "metadata": {
    "tags": []
   },
   "outputs": [],
   "source": [
    "topic_misinfo_total.to_csv('../data/csv/topic_misinfo_total.csv', index = False)"
   ]
  },
  {
   "cell_type": "markdown",
   "id": "7b97b725-e783-41ff-ad52-fafae2be6aa9",
   "metadata": {
    "tags": []
   },
   "source": [
    "## Sentiment Analysis"
   ]
  },
  {
   "cell_type": "code",
   "execution_count": 51,
   "id": "843b2168-6245-439e-9c8b-59c8f5ad5f3e",
   "metadata": {
    "tags": []
   },
   "outputs": [
    {
     "name": "stdout",
     "output_type": "stream",
     "text": [
      "Requirement already satisfied: vaderSentiment in /opt/conda/lib/python3.10/site-packages (3.3.2)\n",
      "Requirement already satisfied: textblob in /opt/conda/lib/python3.10/site-packages (0.18.0.post0)\n",
      "Requirement already satisfied: requests in /opt/conda/lib/python3.10/site-packages (from vaderSentiment) (2.31.0)\n",
      "Requirement already satisfied: nltk>=3.8 in /opt/conda/lib/python3.10/site-packages (from textblob) (3.8.1)\n",
      "Requirement already satisfied: click in /opt/conda/lib/python3.10/site-packages (from nltk>=3.8->textblob) (8.1.7)\n",
      "Requirement already satisfied: joblib in /opt/conda/lib/python3.10/site-packages (from nltk>=3.8->textblob) (1.3.2)\n",
      "Requirement already satisfied: regex>=2021.8.3 in /opt/conda/lib/python3.10/site-packages (from nltk>=3.8->textblob) (2022.7.9)\n",
      "Requirement already satisfied: tqdm in /opt/conda/lib/python3.10/site-packages (from nltk>=3.8->textblob) (4.64.1)\n",
      "Requirement already satisfied: charset-normalizer<4,>=2 in /opt/conda/lib/python3.10/site-packages (from requests->vaderSentiment) (2.0.4)\n",
      "Requirement already satisfied: idna<4,>=2.5 in /opt/conda/lib/python3.10/site-packages (from requests->vaderSentiment) (3.3)\n",
      "Requirement already satisfied: urllib3<3,>=1.21.1 in /opt/conda/lib/python3.10/site-packages (from requests->vaderSentiment) (2.1.0)\n",
      "Requirement already satisfied: certifi>=2017.4.17 in /opt/conda/lib/python3.10/site-packages (from requests->vaderSentiment) (2024.2.2)\n",
      "\u001b[33mWARNING: Running pip as the 'root' user can result in broken permissions and conflicting behaviour with the system package manager. It is recommended to use a virtual environment instead: https://pip.pypa.io/warnings/venv\u001b[0m\u001b[33m\n",
      "\u001b[0m\n",
      "\u001b[1m[\u001b[0m\u001b[34;49mnotice\u001b[0m\u001b[1;39;49m]\u001b[0m\u001b[39;49m A new release of pip is available: \u001b[0m\u001b[31;49m23.3.1\u001b[0m\u001b[39;49m -> \u001b[0m\u001b[32;49m24.0\u001b[0m\n",
      "\u001b[1m[\u001b[0m\u001b[34;49mnotice\u001b[0m\u001b[1;39;49m]\u001b[0m\u001b[39;49m To update, run: \u001b[0m\u001b[32;49mpip install --upgrade pip\u001b[0m\n"
     ]
    }
   ],
   "source": [
    "!pip install vaderSentiment textblob\n",
    "# reference for VADER:\n",
    "# https://medium.com/@tom.bailey.courses/sentiment-analysis-in-snowflake-using-python-31d7296abe1a\n",
    "# https://github.com/cjhutto/vaderSentiment"
   ]
  },
  {
   "cell_type": "code",
   "execution_count": 52,
   "id": "272bd1b0-eb43-4113-b3a7-8501518b065d",
   "metadata": {
    "tags": []
   },
   "outputs": [
    {
     "name": "stdout",
     "output_type": "stream",
     "text": [
      "root\n",
      " |-- id: string (nullable = true)\n",
      " |-- created_utc: timestamp (nullable = true)\n",
      " |-- title: string (nullable = true)\n",
      " |-- topic: string (nullable = true)\n",
      " |-- created_utc: timestamp (nullable = true)\n",
      " |-- body: string (nullable = true)\n",
      " |-- misinfo_class: boolean (nullable = false)\n",
      " |-- link_id: string (nullable = true)\n",
      " |-- comment_created: timestamp (nullable = true)\n",
      " |-- comment_id: string (nullable = true)\n",
      "\n"
     ]
    }
   ],
   "source": [
    "total_df.printSchema()"
   ]
  },
  {
   "cell_type": "markdown",
   "id": "310d07f1-74c0-483b-94ea-8df38f40e0c6",
   "metadata": {
    "tags": []
   },
   "source": [
    "### VADER and TextBlob"
   ]
  },
  {
   "cell_type": "code",
   "execution_count": 53,
   "id": "b18a7fc1-ecf3-4144-ae17-1ed9ffd7c740",
   "metadata": {
    "tags": []
   },
   "outputs": [],
   "source": [
    "from vaderSentiment.vaderSentiment import SentimentIntensityAnalyzer\n",
    "import pyspark.sql.types as T\n",
    "from textblob import TextBlob\n"
   ]
  },
  {
   "cell_type": "code",
   "execution_count": 54,
   "id": "aafe85aa-74ba-47af-9832-1074d1f5e903",
   "metadata": {
    "tags": []
   },
   "outputs": [],
   "source": [
    "# Use two libraries comparing the sentiment result\n",
    "def vader_sentiment(text):\n",
    "    analyzer = SentimentIntensityAnalyzer()\n",
    "    vader_score = analyzer.polarity_scores(text)\n",
    "    return vader_score['compound']  \n",
    "\n",
    "\n",
    "def textblob_sentiment(text):\n",
    "    return TextBlob(text).sentiment.polarity"
   ]
  },
  {
   "cell_type": "code",
   "execution_count": 55,
   "id": "806805b1-ce35-4415-a55b-73fc54456abb",
   "metadata": {
    "tags": []
   },
   "outputs": [],
   "source": [
    "# UDF\n",
    "vader_udf = f.udf(vader_sentiment, T.FloatType())\n",
    "textblob_udf = f.udf(textblob_sentiment, T.FloatType())"
   ]
  },
  {
   "cell_type": "code",
   "execution_count": 56,
   "id": "1113e9df-9163-4aea-b2f4-99f5ec48d752",
   "metadata": {
    "tags": []
   },
   "outputs": [],
   "source": [
    "# Add vader score to total df\n",
    "total_df = total_df.withColumn(\"vader_score\", vader_udf(f.col(\"body\")))\n",
    "\n",
    "# Add textblob score to total df\n",
    "total_df = total_df.withColumn(\"textblob_score\", textblob_udf(f.col(\"body\")))\n"
   ]
  },
  {
   "cell_type": "markdown",
   "id": "a27f0644-37fb-40c9-91d9-4384a5507bef",
   "metadata": {},
   "source": [
    "### Comparison"
   ]
  },
  {
   "cell_type": "code",
   "execution_count": 50,
   "id": "8d985d64-1b51-4af7-9880-5ae48d81d0b8",
   "metadata": {
    "tags": []
   },
   "outputs": [
    {
     "data": {
      "text/plain": [
       "DataFrame[id: string, created_utc: timestamp, title: string, topic: string, created_utc: timestamp, body: string, misinfo_class: boolean, link_id: string, comment_created: timestamp, comment_id: string, vader_score: float, textblob_score: float]"
      ]
     },
     "execution_count": 50,
     "metadata": {},
     "output_type": "execute_result"
    }
   ],
   "source": [
    "total_df.cache()"
   ]
  },
  {
   "cell_type": "code",
   "execution_count": 51,
   "id": "29da7fa3-8071-47d0-89f1-338a9b5ef800",
   "metadata": {
    "tags": []
   },
   "outputs": [
    {
     "name": "stderr",
     "output_type": "stream",
     "text": [
      "[Stage 48:>                                                         (0 + 1) / 1]\r"
     ]
    },
    {
     "name": "stdout",
     "output_type": "stream",
     "text": [
      "+--------------------+-----------+--------------+\n",
      "|                body|vader_score|textblob_score|\n",
      "+--------------------+-----------+--------------+\n",
      "|kind of im not su...|     0.7254|    0.27857143|\n",
      "|id be up for some...|     0.0772|          0.25|\n",
      "|dont forget about...|    -0.3682|           0.0|\n",
      "|its how he gets r...|     -0.296|           0.0|\n",
      "|i thought they re...|     0.1779|           0.0|\n",
      "|start it off with...|        0.0|           0.0|\n",
      "|i have seen a doc...|        0.0|           0.0|\n",
      "|fear of missillin...|    -0.4939|           0.0|\n",
      "|you make it sound...|    -0.7184|    0.13333334|\n",
      "|are we sure it ju...|     0.3182|           0.3|\n",
      "|and less rockets ...|    -0.6369| -0.0033333334|\n",
      "|pretty sure my ne...|     0.6705|          0.25|\n",
      "|             deleted|        0.0|           0.0|\n",
      "|they wanted to up...|     0.5719|    0.46818182|\n",
      "|we bring joyous c...|     0.6249|    0.13636364|\n",
      "| fear of missing out|    -0.6597|          -0.2|\n",
      "|i hope atlantis s...|     0.4404|           0.0|\n",
      "|he really hates fish|    -0.4927|           0.2|\n",
      "|baby youre a fire...|        0.0|           0.0|\n",
      "|theyre just wishi...|     0.6808|    0.46818182|\n",
      "+--------------------+-----------+--------------+\n",
      "only showing top 20 rows\n",
      "\n"
     ]
    },
    {
     "name": "stderr",
     "output_type": "stream",
     "text": [
      "                                                                                \r"
     ]
    }
   ],
   "source": [
    "# display a sample to manually inspect differences\n",
    "total_df.select(\"body\", \"vader_score\", \"textblob_score\").show()\n"
   ]
  },
  {
   "cell_type": "code",
   "execution_count": 53,
   "id": "6c3d863c-d480-4c34-8b20-fd14bf83ccad",
   "metadata": {
    "tags": []
   },
   "outputs": [
    {
     "data": {
      "text/plain": [
       "DataFrame[id: string, created_utc: timestamp, title: string, topic: string, created_utc: timestamp, body: string, misinfo_class: boolean, link_id: string, comment_created: timestamp, comment_id: string, vader_score: float, textblob_score: float]"
      ]
     },
     "execution_count": 53,
     "metadata": {},
     "output_type": "execute_result"
    }
   ],
   "source": [
    "total_df.unpersist()"
   ]
  },
  {
   "cell_type": "code",
   "execution_count": null,
   "id": "90087380-17a0-49ec-8632-4df34b2034d6",
   "metadata": {
    "tags": []
   },
   "outputs": [],
   "source": [
    "total_df.describe(['vader_score', 'textblob_score']).show()\n"
   ]
  },
  {
   "cell_type": "code",
   "execution_count": null,
   "id": "5e3435df-5b54-4040-a151-df3bbfcdd99f",
   "metadata": {},
   "outputs": [],
   "source": [
    "# compute correlation between the scores\n",
    "total_df.stat.corr(\"sentiment_score\", \"textblob_score\")\n"
   ]
  },
  {
   "cell_type": "code",
   "execution_count": null,
   "id": "9dc0dcc2-3b80-4cf5-80ca-0ce9b7e55446",
   "metadata": {},
   "outputs": [],
   "source": []
  },
  {
   "cell_type": "markdown",
   "id": "0cbbcba3-59bd-4381-91ea-16adae56f3e4",
   "metadata": {},
   "source": [
    "### Top Topics that people comment they are fake news"
   ]
  },
  {
   "cell_type": "code",
   "execution_count": 58,
   "id": "9a05586b-ca70-4782-a2fd-85adf6b95135",
   "metadata": {
    "tags": []
   },
   "outputs": [],
   "source": [
    "misinfo_comments = total_df.filter((f.col(\"vader_score\") < 0) & (f.col(\"misinfo_class\") == True))"
   ]
  },
  {
   "cell_type": "code",
   "execution_count": 59,
   "id": "fa16fe25-dc74-4630-9763-ecd248e96155",
   "metadata": {
    "tags": []
   },
   "outputs": [
    {
     "data": {
      "text/plain": [
       "DataFrame[id: string, created_utc: timestamp, title: string, topic: string, created_utc: timestamp, body: string, misinfo_class: boolean, link_id: string, comment_created: timestamp, comment_id: string, vader_score: float, textblob_score: float]"
      ]
     },
     "execution_count": 59,
     "metadata": {},
     "output_type": "execute_result"
    }
   ],
   "source": [
    "misinfo_comments.cache()"
   ]
  },
  {
   "cell_type": "code",
   "execution_count": 60,
   "id": "acdfa570-4081-4b72-8b23-cbf2b864228e",
   "metadata": {
    "tags": []
   },
   "outputs": [
    {
     "name": "stderr",
     "output_type": "stream",
     "text": [
      "                                                                                \r"
     ]
    }
   ],
   "source": [
    "# aggregating misinformation comments by topic\n",
    "misinfo_comments_count = misinfo_comments.groupBy(\"vader_score\").count().toPandas()\n"
   ]
  },
  {
   "cell_type": "code",
   "execution_count": 64,
   "id": "3c3019e9-5eca-43b3-b618-32434e59b90e",
   "metadata": {
    "tags": []
   },
   "outputs": [],
   "source": [
    "# save to csv file\n",
    "misinfo_comments_count.to_csv('../data/csv/misinfo_comments_count.csv', index = False)"
   ]
  },
  {
   "cell_type": "code",
   "execution_count": 73,
   "id": "8ddee53a-4b0e-4012-be86-7a21d929d1a9",
   "metadata": {
    "tags": []
   },
   "outputs": [
    {
     "name": "stdout",
     "output_type": "stream",
     "text": [
      "root\n",
      " |-- id: string (nullable = true)\n",
      " |-- created_utc: timestamp (nullable = true)\n",
      " |-- title: string (nullable = true)\n",
      " |-- topic: string (nullable = true)\n",
      " |-- created_utc: timestamp (nullable = true)\n",
      " |-- body: string (nullable = true)\n",
      " |-- misinfo_class: boolean (nullable = false)\n",
      " |-- link_id: string (nullable = true)\n",
      " |-- comment_created: timestamp (nullable = true)\n",
      " |-- comment_id: string (nullable = true)\n",
      " |-- vader_score: float (nullable = true)\n",
      " |-- textblob_score: float (nullable = true)\n",
      "\n"
     ]
    },
    {
     "name": "stderr",
     "output_type": "stream",
     "text": [
      "[Stage 68:==========>                                            (56 + 4) / 298]\r"
     ]
    }
   ],
   "source": [
    "misinfo_comments.printSchema()"
   ]
  },
  {
   "cell_type": "code",
   "execution_count": 60,
   "id": "c270018b-2643-486d-bdb5-1c11769f4562",
   "metadata": {
    "tags": []
   },
   "outputs": [
    {
     "name": "stderr",
     "output_type": "stream",
     "text": [
      "                                                                                \r"
     ]
    },
    {
     "name": "stdout",
     "output_type": "stream",
     "text": [
      "+--------------------+--------------+--------------------+--------------------+\n",
      "|               topic|total_comments|negative_vader_count|percentage_neg_vader|\n",
      "+--------------------+--------------+--------------------+--------------------+\n",
      "|         us politics|         48503|               48503|               100.0|\n",
      "|economics/russia&...|         91577|               91577|               100.0|\n",
      "|       crime/protest|        111858|              111858|               100.0|\n",
      "|     global politics|         53414|               53414|               100.0|\n",
      "|    presidental news|         52837|               52837|               100.0|\n",
      "|            tv shows|         24860|               24860|               100.0|\n",
      "|covid/russia&ukraine|        134401|              134401|               100.0|\n",
      "|   supreme court/law|         74628|               74628|               100.0|\n",
      "+--------------------+--------------+--------------------+--------------------+\n",
      "\n"
     ]
    },
    {
     "ename": "AttributeError",
     "evalue": "'DataFrame' object has no attribute 'to_csv'",
     "output_type": "error",
     "traceback": [
      "\u001b[0;31m---------------------------------------------------------------------------\u001b[0m",
      "\u001b[0;31mAttributeError\u001b[0m                            Traceback (most recent call last)",
      "Cell \u001b[0;32mIn[60], line 17\u001b[0m\n\u001b[1;32m     14\u001b[0m neg_comments_count\u001b[38;5;241m.\u001b[39mshow()\n\u001b[1;32m     16\u001b[0m \u001b[38;5;66;03m# save to csv file\u001b[39;00m\n\u001b[0;32m---> 17\u001b[0m \u001b[43mneg_comments_count\u001b[49m\u001b[38;5;241;43m.\u001b[39;49m\u001b[43mto_csv\u001b[49m(\u001b[38;5;124m'\u001b[39m\u001b[38;5;124m../data/csv/neg_comments_count.csv\u001b[39m\u001b[38;5;124m'\u001b[39m, header\u001b[38;5;241m=\u001b[39m \u001b[38;5;28;01mTrue\u001b[39;00m,index \u001b[38;5;241m=\u001b[39m \u001b[38;5;28;01mFalse\u001b[39;00m)\n",
      "File \u001b[0;32m/opt/conda/lib/python3.10/site-packages/pyspark/sql/dataframe.py:2977\u001b[0m, in \u001b[0;36mDataFrame.__getattr__\u001b[0;34m(self, name)\u001b[0m\n\u001b[1;32m   2944\u001b[0m \u001b[38;5;250m\u001b[39m\u001b[38;5;124;03m\"\"\"Returns the :class:`Column` denoted by ``name``.\u001b[39;00m\n\u001b[1;32m   2945\u001b[0m \n\u001b[1;32m   2946\u001b[0m \u001b[38;5;124;03m.. versionadded:: 1.3.0\u001b[39;00m\n\u001b[0;32m   (...)\u001b[0m\n\u001b[1;32m   2974\u001b[0m \u001b[38;5;124;03m+---+\u001b[39;00m\n\u001b[1;32m   2975\u001b[0m \u001b[38;5;124;03m\"\"\"\u001b[39;00m\n\u001b[1;32m   2976\u001b[0m \u001b[38;5;28;01mif\u001b[39;00m name \u001b[38;5;129;01mnot\u001b[39;00m \u001b[38;5;129;01min\u001b[39;00m \u001b[38;5;28mself\u001b[39m\u001b[38;5;241m.\u001b[39mcolumns:\n\u001b[0;32m-> 2977\u001b[0m     \u001b[38;5;28;01mraise\u001b[39;00m \u001b[38;5;167;01mAttributeError\u001b[39;00m(\n\u001b[1;32m   2978\u001b[0m         \u001b[38;5;124m\"\u001b[39m\u001b[38;5;124m'\u001b[39m\u001b[38;5;132;01m%s\u001b[39;00m\u001b[38;5;124m'\u001b[39m\u001b[38;5;124m object has no attribute \u001b[39m\u001b[38;5;124m'\u001b[39m\u001b[38;5;132;01m%s\u001b[39;00m\u001b[38;5;124m'\u001b[39m\u001b[38;5;124m\"\u001b[39m \u001b[38;5;241m%\u001b[39m (\u001b[38;5;28mself\u001b[39m\u001b[38;5;241m.\u001b[39m\u001b[38;5;18m__class__\u001b[39m\u001b[38;5;241m.\u001b[39m\u001b[38;5;18m__name__\u001b[39m, name)\n\u001b[1;32m   2979\u001b[0m     )\n\u001b[1;32m   2980\u001b[0m jc \u001b[38;5;241m=\u001b[39m \u001b[38;5;28mself\u001b[39m\u001b[38;5;241m.\u001b[39m_jdf\u001b[38;5;241m.\u001b[39mapply(name)\n\u001b[1;32m   2981\u001b[0m \u001b[38;5;28;01mreturn\u001b[39;00m Column(jc)\n",
      "\u001b[0;31mAttributeError\u001b[0m: 'DataFrame' object has no attribute 'to_csv'"
     ]
    }
   ],
   "source": [
    "# Topics comment counts and percentage of vadar score <0\n",
    "\n",
    "misinfo_comments = misinfo_comments.withColumn(\"vader_neg\", (f.col(\"vader_score\") < 0).cast(\"int\"))\n",
    "\n",
    "# group by the 'topic' to calculate the total comments\n",
    "neg_comments_count = misinfo_comments.groupBy(\"topic\").agg(f.count(\"comment_id\").alias(\"total_comments\"),\n",
    "                                                           f.sum(\"vader_neg\").alias(\"negative_vader_count\")  \n",
    "    )\n",
    "\n",
    "# Calculate the percentage of negative VADER scores\n",
    "neg_comments_count = neg_comments_count.withColumn(\"percentage_neg_vader\", \n",
    "                           (f.col(\"negative_vader_count\") / f.col(\"total_comments\")) * 100)\n",
    "\n",
    "neg_comments_count.show()"
   ]
  },
  {
   "cell_type": "code",
   "execution_count": 70,
   "id": "4e8f81fb-51b9-4512-8a9c-7554032eeed2",
   "metadata": {
    "tags": []
   },
   "outputs": [
    {
     "data": {
      "text/plain": [
       "DataFrame[id: string, created_utc: timestamp, title: string, topic: string, created_utc: timestamp, body: string, misinfo_class: boolean, link_id: string, comment_created: timestamp, comment_id: string, vader_score: float, textblob_score: float, vader_neg: int, vader_below_neg_0_5: int, vader_below_neg_0_6: int, vader_below_neg_0_7: int]"
      ]
     },
     "execution_count": 70,
     "metadata": {},
     "output_type": "execute_result"
    }
   ],
   "source": [
    "misinfo_comments.cache()"
   ]
  },
  {
   "cell_type": "code",
   "execution_count": 85,
   "id": "1b104b9e-89f7-40df-a7fb-a302bae848a8",
   "metadata": {
    "tags": []
   },
   "outputs": [
    {
     "name": "stderr",
     "output_type": "stream",
     "text": [
      "[Stage 197:===============================================>     (180 + 4) / 200]\r"
     ]
    },
    {
     "name": "stdout",
     "output_type": "stream",
     "text": [
      "+--------------------+--------------+-------------------+------------------------+\n",
      "|               topic|total_comments|count_below_neg_0_8|percentage_below_neg_0_8|\n",
      "+--------------------+--------------+-------------------+------------------------+\n",
      "|         us politics|         48503|              19239|      39.665587695606455|\n",
      "|economics/russia&...|         91577|              35744|      39.031634580735336|\n",
      "|       crime/protest|        111858|              48657|       43.49890039156788|\n",
      "|     global politics|         53414|              20609|      38.583517429887294|\n",
      "|    presidental news|         52837|              21466|       40.62683346897061|\n",
      "|            tv shows|         24860|              10391|       41.79806918744971|\n",
      "|covid/russia&ukraine|        134401|              49112|       36.54139478128883|\n",
      "|   supreme court/law|         74628|              30347|      40.664361901699095|\n",
      "+--------------------+--------------+-------------------+------------------------+\n",
      "\n"
     ]
    },
    {
     "name": "stderr",
     "output_type": "stream",
     "text": [
      "                                                                                \r"
     ]
    }
   ],
   "source": [
    "from pyspark.sql import functions as f\n",
    "\n",
    "# Adjusting the condition to check for VADER score less than -0.8 and renaming the column\n",
    "misinfo_comments = misinfo_comments.withColumn(\"vader_below_neg_0_8\", (f.col(\"vader_score\") < -0.8).cast(\"int\"))\n",
    "\n",
    "# Group by the 'topic' to calculate the total comments and the sum of negative comments with the new column name\n",
    "neg_comments_count = misinfo_comments.groupBy(\"topic\").agg(\n",
    "    f.count(\"comment_id\").alias(\"total_comments\"),\n",
    "    f.sum(\"vader_below_neg_0_8\").alias(\"count_below_neg_0_8\")  \n",
    ")\n",
    "\n",
    "# Calculate the percentage of negative VADER scores and rename the percentage column appropriately\n",
    "neg_comments_count = neg_comments_count.withColumn(\"percentage_below_neg_0_8\", \n",
    "                           (f.col(\"count_below_neg_0_8\") / f.col(\"total_comments\")) * 100)\n",
    "\n",
    "# Display the results\n",
    "neg_comments_count.show()\n"
   ]
  },
  {
   "cell_type": "code",
   "execution_count": 88,
   "id": "885a73b9-fd78-41ef-8962-3f551e2e164c",
   "metadata": {
    "tags": []
   },
   "outputs": [],
   "source": [
    "# save to csv file\n",
    "neg_comments_count_pd = neg_comments_count.toPandas()\n",
    "neg_comments_count_pd.to_csv('../data/csv/neg_comments_count.csv', header=True, index=False)\n"
   ]
  },
  {
   "cell_type": "code",
   "execution_count": 89,
   "id": "32909e23-b121-4233-ab89-26fad5d7d25d",
   "metadata": {
    "tags": []
   },
   "outputs": [
    {
     "data": {
      "text/plain": [
       "DataFrame[id: string, created_utc: timestamp, title: string, topic: string, created_utc: timestamp, body: string, misinfo_class: boolean, link_id: string, comment_created: timestamp, comment_id: string, vader_score: float, textblob_score: float, vader_neg: int, vader_below_neg_0_5: int, vader_below_neg_0_6: int, vader_below_neg_0_7: int, vader_below_neg_0_8: int]"
      ]
     },
     "execution_count": 89,
     "metadata": {},
     "output_type": "execute_result"
    }
   ],
   "source": [
    "misinfo_comments.unpersist()"
   ]
  },
  {
   "cell_type": "code",
   "execution_count": null,
   "id": "721a7422-2969-447e-b7b3-61cc49a7afaf",
   "metadata": {},
   "outputs": [],
   "source": []
  }
 ],
 "metadata": {
  "availableInstances": [
   {
    "_defaultOrder": 0,
    "_isFastLaunch": true,
    "category": "General purpose",
    "gpuNum": 0,
    "hideHardwareSpecs": false,
    "memoryGiB": 4,
    "name": "ml.t3.medium",
    "vcpuNum": 2
   },
   {
    "_defaultOrder": 1,
    "_isFastLaunch": false,
    "category": "General purpose",
    "gpuNum": 0,
    "hideHardwareSpecs": false,
    "memoryGiB": 8,
    "name": "ml.t3.large",
    "vcpuNum": 2
   },
   {
    "_defaultOrder": 2,
    "_isFastLaunch": false,
    "category": "General purpose",
    "gpuNum": 0,
    "hideHardwareSpecs": false,
    "memoryGiB": 16,
    "name": "ml.t3.xlarge",
    "vcpuNum": 4
   },
   {
    "_defaultOrder": 3,
    "_isFastLaunch": false,
    "category": "General purpose",
    "gpuNum": 0,
    "hideHardwareSpecs": false,
    "memoryGiB": 32,
    "name": "ml.t3.2xlarge",
    "vcpuNum": 8
   },
   {
    "_defaultOrder": 4,
    "_isFastLaunch": true,
    "category": "General purpose",
    "gpuNum": 0,
    "hideHardwareSpecs": false,
    "memoryGiB": 8,
    "name": "ml.m5.large",
    "vcpuNum": 2
   },
   {
    "_defaultOrder": 5,
    "_isFastLaunch": false,
    "category": "General purpose",
    "gpuNum": 0,
    "hideHardwareSpecs": false,
    "memoryGiB": 16,
    "name": "ml.m5.xlarge",
    "vcpuNum": 4
   },
   {
    "_defaultOrder": 6,
    "_isFastLaunch": false,
    "category": "General purpose",
    "gpuNum": 0,
    "hideHardwareSpecs": false,
    "memoryGiB": 32,
    "name": "ml.m5.2xlarge",
    "vcpuNum": 8
   },
   {
    "_defaultOrder": 7,
    "_isFastLaunch": false,
    "category": "General purpose",
    "gpuNum": 0,
    "hideHardwareSpecs": false,
    "memoryGiB": 64,
    "name": "ml.m5.4xlarge",
    "vcpuNum": 16
   },
   {
    "_defaultOrder": 8,
    "_isFastLaunch": false,
    "category": "General purpose",
    "gpuNum": 0,
    "hideHardwareSpecs": false,
    "memoryGiB": 128,
    "name": "ml.m5.8xlarge",
    "vcpuNum": 32
   },
   {
    "_defaultOrder": 9,
    "_isFastLaunch": false,
    "category": "General purpose",
    "gpuNum": 0,
    "hideHardwareSpecs": false,
    "memoryGiB": 192,
    "name": "ml.m5.12xlarge",
    "vcpuNum": 48
   },
   {
    "_defaultOrder": 10,
    "_isFastLaunch": false,
    "category": "General purpose",
    "gpuNum": 0,
    "hideHardwareSpecs": false,
    "memoryGiB": 256,
    "name": "ml.m5.16xlarge",
    "vcpuNum": 64
   },
   {
    "_defaultOrder": 11,
    "_isFastLaunch": false,
    "category": "General purpose",
    "gpuNum": 0,
    "hideHardwareSpecs": false,
    "memoryGiB": 384,
    "name": "ml.m5.24xlarge",
    "vcpuNum": 96
   },
   {
    "_defaultOrder": 12,
    "_isFastLaunch": false,
    "category": "General purpose",
    "gpuNum": 0,
    "hideHardwareSpecs": false,
    "memoryGiB": 8,
    "name": "ml.m5d.large",
    "vcpuNum": 2
   },
   {
    "_defaultOrder": 13,
    "_isFastLaunch": false,
    "category": "General purpose",
    "gpuNum": 0,
    "hideHardwareSpecs": false,
    "memoryGiB": 16,
    "name": "ml.m5d.xlarge",
    "vcpuNum": 4
   },
   {
    "_defaultOrder": 14,
    "_isFastLaunch": false,
    "category": "General purpose",
    "gpuNum": 0,
    "hideHardwareSpecs": false,
    "memoryGiB": 32,
    "name": "ml.m5d.2xlarge",
    "vcpuNum": 8
   },
   {
    "_defaultOrder": 15,
    "_isFastLaunch": false,
    "category": "General purpose",
    "gpuNum": 0,
    "hideHardwareSpecs": false,
    "memoryGiB": 64,
    "name": "ml.m5d.4xlarge",
    "vcpuNum": 16
   },
   {
    "_defaultOrder": 16,
    "_isFastLaunch": false,
    "category": "General purpose",
    "gpuNum": 0,
    "hideHardwareSpecs": false,
    "memoryGiB": 128,
    "name": "ml.m5d.8xlarge",
    "vcpuNum": 32
   },
   {
    "_defaultOrder": 17,
    "_isFastLaunch": false,
    "category": "General purpose",
    "gpuNum": 0,
    "hideHardwareSpecs": false,
    "memoryGiB": 192,
    "name": "ml.m5d.12xlarge",
    "vcpuNum": 48
   },
   {
    "_defaultOrder": 18,
    "_isFastLaunch": false,
    "category": "General purpose",
    "gpuNum": 0,
    "hideHardwareSpecs": false,
    "memoryGiB": 256,
    "name": "ml.m5d.16xlarge",
    "vcpuNum": 64
   },
   {
    "_defaultOrder": 19,
    "_isFastLaunch": false,
    "category": "General purpose",
    "gpuNum": 0,
    "hideHardwareSpecs": false,
    "memoryGiB": 384,
    "name": "ml.m5d.24xlarge",
    "vcpuNum": 96
   },
   {
    "_defaultOrder": 20,
    "_isFastLaunch": false,
    "category": "General purpose",
    "gpuNum": 0,
    "hideHardwareSpecs": true,
    "memoryGiB": 0,
    "name": "ml.geospatial.interactive",
    "supportedImageNames": [
     "sagemaker-geospatial-v1-0"
    ],
    "vcpuNum": 0
   },
   {
    "_defaultOrder": 21,
    "_isFastLaunch": true,
    "category": "Compute optimized",
    "gpuNum": 0,
    "hideHardwareSpecs": false,
    "memoryGiB": 4,
    "name": "ml.c5.large",
    "vcpuNum": 2
   },
   {
    "_defaultOrder": 22,
    "_isFastLaunch": false,
    "category": "Compute optimized",
    "gpuNum": 0,
    "hideHardwareSpecs": false,
    "memoryGiB": 8,
    "name": "ml.c5.xlarge",
    "vcpuNum": 4
   },
   {
    "_defaultOrder": 23,
    "_isFastLaunch": false,
    "category": "Compute optimized",
    "gpuNum": 0,
    "hideHardwareSpecs": false,
    "memoryGiB": 16,
    "name": "ml.c5.2xlarge",
    "vcpuNum": 8
   },
   {
    "_defaultOrder": 24,
    "_isFastLaunch": false,
    "category": "Compute optimized",
    "gpuNum": 0,
    "hideHardwareSpecs": false,
    "memoryGiB": 32,
    "name": "ml.c5.4xlarge",
    "vcpuNum": 16
   },
   {
    "_defaultOrder": 25,
    "_isFastLaunch": false,
    "category": "Compute optimized",
    "gpuNum": 0,
    "hideHardwareSpecs": false,
    "memoryGiB": 72,
    "name": "ml.c5.9xlarge",
    "vcpuNum": 36
   },
   {
    "_defaultOrder": 26,
    "_isFastLaunch": false,
    "category": "Compute optimized",
    "gpuNum": 0,
    "hideHardwareSpecs": false,
    "memoryGiB": 96,
    "name": "ml.c5.12xlarge",
    "vcpuNum": 48
   },
   {
    "_defaultOrder": 27,
    "_isFastLaunch": false,
    "category": "Compute optimized",
    "gpuNum": 0,
    "hideHardwareSpecs": false,
    "memoryGiB": 144,
    "name": "ml.c5.18xlarge",
    "vcpuNum": 72
   },
   {
    "_defaultOrder": 28,
    "_isFastLaunch": false,
    "category": "Compute optimized",
    "gpuNum": 0,
    "hideHardwareSpecs": false,
    "memoryGiB": 192,
    "name": "ml.c5.24xlarge",
    "vcpuNum": 96
   },
   {
    "_defaultOrder": 29,
    "_isFastLaunch": true,
    "category": "Accelerated computing",
    "gpuNum": 1,
    "hideHardwareSpecs": false,
    "memoryGiB": 16,
    "name": "ml.g4dn.xlarge",
    "vcpuNum": 4
   },
   {
    "_defaultOrder": 30,
    "_isFastLaunch": false,
    "category": "Accelerated computing",
    "gpuNum": 1,
    "hideHardwareSpecs": false,
    "memoryGiB": 32,
    "name": "ml.g4dn.2xlarge",
    "vcpuNum": 8
   },
   {
    "_defaultOrder": 31,
    "_isFastLaunch": false,
    "category": "Accelerated computing",
    "gpuNum": 1,
    "hideHardwareSpecs": false,
    "memoryGiB": 64,
    "name": "ml.g4dn.4xlarge",
    "vcpuNum": 16
   },
   {
    "_defaultOrder": 32,
    "_isFastLaunch": false,
    "category": "Accelerated computing",
    "gpuNum": 1,
    "hideHardwareSpecs": false,
    "memoryGiB": 128,
    "name": "ml.g4dn.8xlarge",
    "vcpuNum": 32
   },
   {
    "_defaultOrder": 33,
    "_isFastLaunch": false,
    "category": "Accelerated computing",
    "gpuNum": 4,
    "hideHardwareSpecs": false,
    "memoryGiB": 192,
    "name": "ml.g4dn.12xlarge",
    "vcpuNum": 48
   },
   {
    "_defaultOrder": 34,
    "_isFastLaunch": false,
    "category": "Accelerated computing",
    "gpuNum": 1,
    "hideHardwareSpecs": false,
    "memoryGiB": 256,
    "name": "ml.g4dn.16xlarge",
    "vcpuNum": 64
   },
   {
    "_defaultOrder": 35,
    "_isFastLaunch": false,
    "category": "Accelerated computing",
    "gpuNum": 1,
    "hideHardwareSpecs": false,
    "memoryGiB": 61,
    "name": "ml.p3.2xlarge",
    "vcpuNum": 8
   },
   {
    "_defaultOrder": 36,
    "_isFastLaunch": false,
    "category": "Accelerated computing",
    "gpuNum": 4,
    "hideHardwareSpecs": false,
    "memoryGiB": 244,
    "name": "ml.p3.8xlarge",
    "vcpuNum": 32
   },
   {
    "_defaultOrder": 37,
    "_isFastLaunch": false,
    "category": "Accelerated computing",
    "gpuNum": 8,
    "hideHardwareSpecs": false,
    "memoryGiB": 488,
    "name": "ml.p3.16xlarge",
    "vcpuNum": 64
   },
   {
    "_defaultOrder": 38,
    "_isFastLaunch": false,
    "category": "Accelerated computing",
    "gpuNum": 8,
    "hideHardwareSpecs": false,
    "memoryGiB": 768,
    "name": "ml.p3dn.24xlarge",
    "vcpuNum": 96
   },
   {
    "_defaultOrder": 39,
    "_isFastLaunch": false,
    "category": "Memory Optimized",
    "gpuNum": 0,
    "hideHardwareSpecs": false,
    "memoryGiB": 16,
    "name": "ml.r5.large",
    "vcpuNum": 2
   },
   {
    "_defaultOrder": 40,
    "_isFastLaunch": false,
    "category": "Memory Optimized",
    "gpuNum": 0,
    "hideHardwareSpecs": false,
    "memoryGiB": 32,
    "name": "ml.r5.xlarge",
    "vcpuNum": 4
   },
   {
    "_defaultOrder": 41,
    "_isFastLaunch": false,
    "category": "Memory Optimized",
    "gpuNum": 0,
    "hideHardwareSpecs": false,
    "memoryGiB": 64,
    "name": "ml.r5.2xlarge",
    "vcpuNum": 8
   },
   {
    "_defaultOrder": 42,
    "_isFastLaunch": false,
    "category": "Memory Optimized",
    "gpuNum": 0,
    "hideHardwareSpecs": false,
    "memoryGiB": 128,
    "name": "ml.r5.4xlarge",
    "vcpuNum": 16
   },
   {
    "_defaultOrder": 43,
    "_isFastLaunch": false,
    "category": "Memory Optimized",
    "gpuNum": 0,
    "hideHardwareSpecs": false,
    "memoryGiB": 256,
    "name": "ml.r5.8xlarge",
    "vcpuNum": 32
   },
   {
    "_defaultOrder": 44,
    "_isFastLaunch": false,
    "category": "Memory Optimized",
    "gpuNum": 0,
    "hideHardwareSpecs": false,
    "memoryGiB": 384,
    "name": "ml.r5.12xlarge",
    "vcpuNum": 48
   },
   {
    "_defaultOrder": 45,
    "_isFastLaunch": false,
    "category": "Memory Optimized",
    "gpuNum": 0,
    "hideHardwareSpecs": false,
    "memoryGiB": 512,
    "name": "ml.r5.16xlarge",
    "vcpuNum": 64
   },
   {
    "_defaultOrder": 46,
    "_isFastLaunch": false,
    "category": "Memory Optimized",
    "gpuNum": 0,
    "hideHardwareSpecs": false,
    "memoryGiB": 768,
    "name": "ml.r5.24xlarge",
    "vcpuNum": 96
   },
   {
    "_defaultOrder": 47,
    "_isFastLaunch": false,
    "category": "Accelerated computing",
    "gpuNum": 1,
    "hideHardwareSpecs": false,
    "memoryGiB": 16,
    "name": "ml.g5.xlarge",
    "vcpuNum": 4
   },
   {
    "_defaultOrder": 48,
    "_isFastLaunch": false,
    "category": "Accelerated computing",
    "gpuNum": 1,
    "hideHardwareSpecs": false,
    "memoryGiB": 32,
    "name": "ml.g5.2xlarge",
    "vcpuNum": 8
   },
   {
    "_defaultOrder": 49,
    "_isFastLaunch": false,
    "category": "Accelerated computing",
    "gpuNum": 1,
    "hideHardwareSpecs": false,
    "memoryGiB": 64,
    "name": "ml.g5.4xlarge",
    "vcpuNum": 16
   },
   {
    "_defaultOrder": 50,
    "_isFastLaunch": false,
    "category": "Accelerated computing",
    "gpuNum": 1,
    "hideHardwareSpecs": false,
    "memoryGiB": 128,
    "name": "ml.g5.8xlarge",
    "vcpuNum": 32
   },
   {
    "_defaultOrder": 51,
    "_isFastLaunch": false,
    "category": "Accelerated computing",
    "gpuNum": 1,
    "hideHardwareSpecs": false,
    "memoryGiB": 256,
    "name": "ml.g5.16xlarge",
    "vcpuNum": 64
   },
   {
    "_defaultOrder": 52,
    "_isFastLaunch": false,
    "category": "Accelerated computing",
    "gpuNum": 4,
    "hideHardwareSpecs": false,
    "memoryGiB": 192,
    "name": "ml.g5.12xlarge",
    "vcpuNum": 48
   },
   {
    "_defaultOrder": 53,
    "_isFastLaunch": false,
    "category": "Accelerated computing",
    "gpuNum": 4,
    "hideHardwareSpecs": false,
    "memoryGiB": 384,
    "name": "ml.g5.24xlarge",
    "vcpuNum": 96
   },
   {
    "_defaultOrder": 54,
    "_isFastLaunch": false,
    "category": "Accelerated computing",
    "gpuNum": 8,
    "hideHardwareSpecs": false,
    "memoryGiB": 768,
    "name": "ml.g5.48xlarge",
    "vcpuNum": 192
   },
   {
    "_defaultOrder": 55,
    "_isFastLaunch": false,
    "category": "Accelerated computing",
    "gpuNum": 8,
    "hideHardwareSpecs": false,
    "memoryGiB": 1152,
    "name": "ml.p4d.24xlarge",
    "vcpuNum": 96
   },
   {
    "_defaultOrder": 56,
    "_isFastLaunch": false,
    "category": "Accelerated computing",
    "gpuNum": 8,
    "hideHardwareSpecs": false,
    "memoryGiB": 1152,
    "name": "ml.p4de.24xlarge",
    "vcpuNum": 96
   },
   {
    "_defaultOrder": 57,
    "_isFastLaunch": false,
    "category": "Accelerated computing",
    "gpuNum": 0,
    "hideHardwareSpecs": false,
    "memoryGiB": 32,
    "name": "ml.trn1.2xlarge",
    "vcpuNum": 8
   },
   {
    "_defaultOrder": 58,
    "_isFastLaunch": false,
    "category": "Accelerated computing",
    "gpuNum": 0,
    "hideHardwareSpecs": false,
    "memoryGiB": 512,
    "name": "ml.trn1.32xlarge",
    "vcpuNum": 128
   },
   {
    "_defaultOrder": 59,
    "_isFastLaunch": false,
    "category": "Accelerated computing",
    "gpuNum": 0,
    "hideHardwareSpecs": false,
    "memoryGiB": 512,
    "name": "ml.trn1n.32xlarge",
    "vcpuNum": 128
   }
  ],
  "instance_type": "ml.t3.xlarge",
  "kernelspec": {
   "display_name": "Python 3 (Data Science 3.0)",
   "language": "python",
   "name": "python3__SAGEMAKER_INTERNAL__arn:aws:sagemaker:us-east-1:081325390199:image/sagemaker-data-science-310-v1"
  },
  "language_info": {
   "codemirror_mode": {
    "name": "ipython",
    "version": 3
   },
   "file_extension": ".py",
   "mimetype": "text/x-python",
   "name": "python",
   "nbconvert_exporter": "python",
   "pygments_lexer": "ipython3",
   "version": "3.10.6"
  }
 },
 "nbformat": 4,
 "nbformat_minor": 5
}
