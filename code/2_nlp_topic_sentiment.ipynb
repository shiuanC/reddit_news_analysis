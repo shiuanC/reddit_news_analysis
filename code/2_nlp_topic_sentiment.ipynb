{
 "cells": [
  {
   "cell_type": "markdown",
   "id": "52fa24e1-d3be-4788-8957-6b7e4a634a54",
   "metadata": {
    "tags": []
   },
   "source": [
    "# NLP Topic Modeling and Sentiment "
   ]
  },
  {
   "cell_type": "code",
   "execution_count": 1,
   "id": "e4835604-fac5-40d6-8ce0-4f828829c0f1",
   "metadata": {
    "tags": []
   },
   "outputs": [
    {
     "name": "stdout",
     "output_type": "stream",
     "text": [
      "\n",
      "Downloading and Extracting Packages:\n",
      "\n",
      "Preparing transaction: done\n",
      "Verifying transaction: done\n",
      "Executing transaction: done\n",
      "\n",
      "Note: you may need to restart the kernel to use updated packages.\n",
      "Requirement already satisfied: sagemaker_pyspark in /opt/conda/lib/python3.10/site-packages (1.4.5)\n",
      "Requirement already satisfied: pyspark==3.3.0 in /opt/conda/lib/python3.10/site-packages (from sagemaker_pyspark) (3.3.0)\n",
      "Requirement already satisfied: numpy in /opt/conda/lib/python3.10/site-packages (from sagemaker_pyspark) (1.23.1)\n",
      "Requirement already satisfied: py4j==0.10.9.5 in /opt/conda/lib/python3.10/site-packages (from pyspark==3.3.0->sagemaker_pyspark) (0.10.9.5)\n",
      "\u001b[33mWARNING: Running pip as the 'root' user can result in broken permissions and conflicting behaviour with the system package manager. It is recommended to use a virtual environment instead: https://pip.pypa.io/warnings/venv\u001b[0m\u001b[33m\n",
      "\u001b[0mRequirement already satisfied: spark-nlp==5.1.3 in /opt/conda/lib/python3.10/site-packages (5.1.3)\n",
      "\u001b[33mWARNING: Running pip as the 'root' user can result in broken permissions and conflicting behaviour with the system package manager. It is recommended to use a virtual environment instead: https://pip.pypa.io/warnings/venv\u001b[0m\u001b[33m\n",
      "\u001b[0mNote: you may need to restart the kernel to use updated packages.\n",
      "Requirement already satisfied: numpy==1.23.1 in /opt/conda/lib/python3.10/site-packages (1.23.1)\n",
      "\u001b[33mWARNING: Running pip as the 'root' user can result in broken permissions and conflicting behaviour with the system package manager. It is recommended to use a virtual environment instead: https://pip.pypa.io/warnings/venv\u001b[0m\u001b[33m\n",
      "\u001b[0mNote: you may need to restart the kernel to use updated packages.\n"
     ]
    },
    {
     "data": {
      "text/html": [
       "<script>Jupyter.notebook.kernel.restart()</script>"
      ],
      "text/plain": [
       "<IPython.core.display.HTML object>"
      ]
     },
     "execution_count": 1,
     "metadata": {},
     "output_type": "execute_result"
    }
   ],
   "source": [
    "# Setup - Run only once per Kernel App\n",
    "%conda install https://anaconda.org/conda-forge/openjdk/11.0.1/download/linux-64/openjdk-11.0.1-hacce0ff_1021.tar.bz2\n",
    "\n",
    "# install PySpark\n",
    "!pip install sagemaker_pyspark\n",
    "\n",
    "%pip install spark-nlp==5.1.3\n",
    "\n",
    "%pip install numpy==1.23.1\n",
    "\n",
    "# restart kernel\n",
    "from IPython.core.display import HTML\n",
    "HTML(\"<script>Jupyter.notebook.kernel.restart()</script>\")"
   ]
  },
  {
   "cell_type": "code",
   "execution_count": 2,
   "id": "52c93a3c-8a9b-45d2-9162-73060d75ed13",
   "metadata": {
    "tags": []
   },
   "outputs": [
    {
     "name": "stdout",
     "output_type": "stream",
     "text": [
      ":: loading settings :: url = jar:file:/opt/conda/lib/python3.10/site-packages/pyspark/jars/ivy-2.5.0.jar!/org/apache/ivy/core/settings/ivysettings.xml\n"
     ]
    },
    {
     "name": "stderr",
     "output_type": "stream",
     "text": [
      "Ivy Default Cache set to: /root/.ivy2/cache\n",
      "The jars for the packages stored in: /root/.ivy2/jars\n",
      "com.johnsnowlabs.nlp#spark-nlp_2.12 added as a dependency\n",
      "org.apache.hadoop#hadoop-aws added as a dependency\n",
      ":: resolving dependencies :: org.apache.spark#spark-submit-parent-d26c86fb-f692-410e-be68-e60da5fffae9;1.0\n",
      "\tconfs: [default]\n",
      "\tfound com.johnsnowlabs.nlp#spark-nlp_2.12;5.1.3 in central\n",
      "\tfound com.typesafe#config;1.4.2 in central\n",
      "\tfound org.rocksdb#rocksdbjni;6.29.5 in central\n",
      "\tfound com.amazonaws#aws-java-sdk-bundle;1.11.828 in central\n",
      "\tfound com.github.universal-automata#liblevenshtein;3.0.0 in central\n",
      "\tfound com.google.protobuf#protobuf-java-util;3.0.0-beta-3 in central\n",
      "\tfound com.google.protobuf#protobuf-java;3.0.0-beta-3 in central\n",
      "\tfound com.google.code.gson#gson;2.3 in central\n",
      "\tfound it.unimi.dsi#fastutil;7.0.12 in central\n",
      "\tfound org.projectlombok#lombok;1.16.8 in central\n",
      "\tfound com.google.cloud#google-cloud-storage;2.20.1 in central\n",
      "\tfound com.google.guava#guava;31.1-jre in central\n",
      "\tfound com.google.guava#failureaccess;1.0.1 in central\n",
      "\tfound com.google.guava#listenablefuture;9999.0-empty-to-avoid-conflict-with-guava in central\n",
      "\tfound com.google.errorprone#error_prone_annotations;2.18.0 in central\n",
      "\tfound com.google.j2objc#j2objc-annotations;1.3 in central\n",
      "\tfound com.google.http-client#google-http-client;1.43.0 in central\n",
      "\tfound io.opencensus#opencensus-contrib-http-util;0.31.1 in central\n",
      "\tfound com.google.http-client#google-http-client-jackson2;1.43.0 in central\n",
      "\tfound com.google.http-client#google-http-client-gson;1.43.0 in central\n",
      "\tfound com.google.api-client#google-api-client;2.2.0 in central\n",
      "\tfound commons-codec#commons-codec;1.15 in central\n",
      "\tfound com.google.oauth-client#google-oauth-client;1.34.1 in central\n",
      "\tfound com.google.http-client#google-http-client-apache-v2;1.43.0 in central\n",
      "\tfound com.google.apis#google-api-services-storage;v1-rev20220705-2.0.0 in central\n",
      "\tfound com.google.code.gson#gson;2.10.1 in central\n",
      "\tfound com.google.cloud#google-cloud-core;2.12.0 in central\n",
      "\tfound io.grpc#grpc-context;1.53.0 in central\n",
      "\tfound com.google.auto.value#auto-value-annotations;1.10.1 in central\n",
      "\tfound com.google.auto.value#auto-value;1.10.1 in central\n",
      "\tfound javax.annotation#javax.annotation-api;1.3.2 in central\n",
      "\tfound commons-logging#commons-logging;1.2 in central\n",
      "\tfound com.google.cloud#google-cloud-core-http;2.12.0 in central\n",
      "\tfound com.google.http-client#google-http-client-appengine;1.43.0 in central\n",
      "\tfound com.google.api#gax-httpjson;0.108.2 in central\n",
      "\tfound com.google.cloud#google-cloud-core-grpc;2.12.0 in central\n",
      "\tfound io.grpc#grpc-alts;1.53.0 in central\n",
      "\tfound io.grpc#grpc-grpclb;1.53.0 in central\n",
      "\tfound org.conscrypt#conscrypt-openjdk-uber;2.5.2 in central\n",
      "\tfound io.grpc#grpc-auth;1.53.0 in central\n",
      "\tfound io.grpc#grpc-protobuf;1.53.0 in central\n",
      "\tfound io.grpc#grpc-protobuf-lite;1.53.0 in central\n",
      "\tfound io.grpc#grpc-core;1.53.0 in central\n",
      "\tfound com.google.api#gax;2.23.2 in central\n",
      "\tfound com.google.api#gax-grpc;2.23.2 in central\n",
      "\tfound com.google.auth#google-auth-library-credentials;1.16.0 in central\n",
      "\tfound com.google.auth#google-auth-library-oauth2-http;1.16.0 in central\n",
      "\tfound com.google.api#api-common;2.6.2 in central\n",
      "\tfound io.opencensus#opencensus-api;0.31.1 in central\n",
      "\tfound com.google.api.grpc#proto-google-iam-v1;1.9.2 in central\n",
      "\tfound com.google.protobuf#protobuf-java;3.21.12 in central\n",
      "\tfound com.google.protobuf#protobuf-java-util;3.21.12 in central\n",
      "\tfound com.google.api.grpc#proto-google-common-protos;2.14.2 in central\n",
      "\tfound org.threeten#threetenbp;1.6.5 in central\n",
      "\tfound com.google.api.grpc#proto-google-cloud-storage-v2;2.20.1-alpha in central\n",
      "\tfound com.google.api.grpc#grpc-google-cloud-storage-v2;2.20.1-alpha in central\n",
      "\tfound com.google.api.grpc#gapic-google-cloud-storage-v2;2.20.1-alpha in central\n",
      "\tfound com.fasterxml.jackson.core#jackson-core;2.14.2 in central\n",
      "\tfound com.google.code.findbugs#jsr305;3.0.2 in central\n",
      "\tfound io.grpc#grpc-api;1.53.0 in central\n",
      "\tfound io.grpc#grpc-stub;1.53.0 in central\n",
      "\tfound org.checkerframework#checker-qual;3.31.0 in central\n",
      "\tfound io.perfmark#perfmark-api;0.26.0 in central\n",
      "\tfound com.google.android#annotations;4.1.1.4 in central\n",
      "\tfound org.codehaus.mojo#animal-sniffer-annotations;1.22 in central\n",
      "\tfound io.opencensus#opencensus-proto;0.2.0 in central\n",
      "\tfound io.grpc#grpc-services;1.53.0 in central\n",
      "\tfound com.google.re2j#re2j;1.6 in central\n",
      "\tfound io.grpc#grpc-netty-shaded;1.53.0 in central\n",
      "\tfound io.grpc#grpc-googleapis;1.53.0 in central\n",
      "\tfound io.grpc#grpc-xds;1.53.0 in central\n",
      "\tfound com.navigamez#greex;1.0 in central\n",
      "\tfound dk.brics.automaton#automaton;1.11-8 in central\n",
      "\tfound com.johnsnowlabs.nlp#tensorflow-cpu_2.12;0.4.4 in central\n",
      "\tfound com.microsoft.onnxruntime#onnxruntime;1.15.0 in central\n",
      "\tfound org.apache.hadoop#hadoop-aws;3.2.2 in central\n",
      ":: resolution report :: resolve 3201ms :: artifacts dl 398ms\n",
      "\t:: modules in use:\n",
      "\tcom.amazonaws#aws-java-sdk-bundle;1.11.828 from central in [default]\n",
      "\tcom.fasterxml.jackson.core#jackson-core;2.14.2 from central in [default]\n",
      "\tcom.github.universal-automata#liblevenshtein;3.0.0 from central in [default]\n",
      "\tcom.google.android#annotations;4.1.1.4 from central in [default]\n",
      "\tcom.google.api#api-common;2.6.2 from central in [default]\n",
      "\tcom.google.api#gax;2.23.2 from central in [default]\n",
      "\tcom.google.api#gax-grpc;2.23.2 from central in [default]\n",
      "\tcom.google.api#gax-httpjson;0.108.2 from central in [default]\n",
      "\tcom.google.api-client#google-api-client;2.2.0 from central in [default]\n",
      "\tcom.google.api.grpc#gapic-google-cloud-storage-v2;2.20.1-alpha from central in [default]\n",
      "\tcom.google.api.grpc#grpc-google-cloud-storage-v2;2.20.1-alpha from central in [default]\n",
      "\tcom.google.api.grpc#proto-google-cloud-storage-v2;2.20.1-alpha from central in [default]\n",
      "\tcom.google.api.grpc#proto-google-common-protos;2.14.2 from central in [default]\n",
      "\tcom.google.api.grpc#proto-google-iam-v1;1.9.2 from central in [default]\n",
      "\tcom.google.apis#google-api-services-storage;v1-rev20220705-2.0.0 from central in [default]\n",
      "\tcom.google.auth#google-auth-library-credentials;1.16.0 from central in [default]\n",
      "\tcom.google.auth#google-auth-library-oauth2-http;1.16.0 from central in [default]\n",
      "\tcom.google.auto.value#auto-value;1.10.1 from central in [default]\n",
      "\tcom.google.auto.value#auto-value-annotations;1.10.1 from central in [default]\n",
      "\tcom.google.cloud#google-cloud-core;2.12.0 from central in [default]\n",
      "\tcom.google.cloud#google-cloud-core-grpc;2.12.0 from central in [default]\n",
      "\tcom.google.cloud#google-cloud-core-http;2.12.0 from central in [default]\n",
      "\tcom.google.cloud#google-cloud-storage;2.20.1 from central in [default]\n",
      "\tcom.google.code.findbugs#jsr305;3.0.2 from central in [default]\n",
      "\tcom.google.code.gson#gson;2.10.1 from central in [default]\n",
      "\tcom.google.errorprone#error_prone_annotations;2.18.0 from central in [default]\n",
      "\tcom.google.guava#failureaccess;1.0.1 from central in [default]\n",
      "\tcom.google.guava#guava;31.1-jre from central in [default]\n",
      "\tcom.google.guava#listenablefuture;9999.0-empty-to-avoid-conflict-with-guava from central in [default]\n",
      "\tcom.google.http-client#google-http-client;1.43.0 from central in [default]\n",
      "\tcom.google.http-client#google-http-client-apache-v2;1.43.0 from central in [default]\n",
      "\tcom.google.http-client#google-http-client-appengine;1.43.0 from central in [default]\n",
      "\tcom.google.http-client#google-http-client-gson;1.43.0 from central in [default]\n",
      "\tcom.google.http-client#google-http-client-jackson2;1.43.0 from central in [default]\n",
      "\tcom.google.j2objc#j2objc-annotations;1.3 from central in [default]\n",
      "\tcom.google.oauth-client#google-oauth-client;1.34.1 from central in [default]\n",
      "\tcom.google.protobuf#protobuf-java;3.21.12 from central in [default]\n",
      "\tcom.google.protobuf#protobuf-java-util;3.21.12 from central in [default]\n",
      "\tcom.google.re2j#re2j;1.6 from central in [default]\n",
      "\tcom.johnsnowlabs.nlp#spark-nlp_2.12;5.1.3 from central in [default]\n",
      "\tcom.johnsnowlabs.nlp#tensorflow-cpu_2.12;0.4.4 from central in [default]\n",
      "\tcom.microsoft.onnxruntime#onnxruntime;1.15.0 from central in [default]\n",
      "\tcom.navigamez#greex;1.0 from central in [default]\n",
      "\tcom.typesafe#config;1.4.2 from central in [default]\n",
      "\tcommons-codec#commons-codec;1.15 from central in [default]\n",
      "\tcommons-logging#commons-logging;1.2 from central in [default]\n",
      "\tdk.brics.automaton#automaton;1.11-8 from central in [default]\n",
      "\tio.grpc#grpc-alts;1.53.0 from central in [default]\n",
      "\tio.grpc#grpc-api;1.53.0 from central in [default]\n",
      "\tio.grpc#grpc-auth;1.53.0 from central in [default]\n",
      "\tio.grpc#grpc-context;1.53.0 from central in [default]\n",
      "\tio.grpc#grpc-core;1.53.0 from central in [default]\n",
      "\tio.grpc#grpc-googleapis;1.53.0 from central in [default]\n",
      "\tio.grpc#grpc-grpclb;1.53.0 from central in [default]\n",
      "\tio.grpc#grpc-netty-shaded;1.53.0 from central in [default]\n",
      "\tio.grpc#grpc-protobuf;1.53.0 from central in [default]\n",
      "\tio.grpc#grpc-protobuf-lite;1.53.0 from central in [default]\n",
      "\tio.grpc#grpc-services;1.53.0 from central in [default]\n",
      "\tio.grpc#grpc-stub;1.53.0 from central in [default]\n",
      "\tio.grpc#grpc-xds;1.53.0 from central in [default]\n",
      "\tio.opencensus#opencensus-api;0.31.1 from central in [default]\n",
      "\tio.opencensus#opencensus-contrib-http-util;0.31.1 from central in [default]\n",
      "\tio.opencensus#opencensus-proto;0.2.0 from central in [default]\n",
      "\tio.perfmark#perfmark-api;0.26.0 from central in [default]\n",
      "\tit.unimi.dsi#fastutil;7.0.12 from central in [default]\n",
      "\tjavax.annotation#javax.annotation-api;1.3.2 from central in [default]\n",
      "\torg.apache.hadoop#hadoop-aws;3.2.2 from central in [default]\n",
      "\torg.checkerframework#checker-qual;3.31.0 from central in [default]\n",
      "\torg.codehaus.mojo#animal-sniffer-annotations;1.22 from central in [default]\n",
      "\torg.conscrypt#conscrypt-openjdk-uber;2.5.2 from central in [default]\n",
      "\torg.projectlombok#lombok;1.16.8 from central in [default]\n",
      "\torg.rocksdb#rocksdbjni;6.29.5 from central in [default]\n",
      "\torg.threeten#threetenbp;1.6.5 from central in [default]\n",
      "\t:: evicted modules:\n",
      "\tcom.google.protobuf#protobuf-java-util;3.0.0-beta-3 by [com.google.protobuf#protobuf-java-util;3.21.12] in [default]\n",
      "\tcom.google.protobuf#protobuf-java;3.0.0-beta-3 by [com.google.protobuf#protobuf-java;3.21.12] in [default]\n",
      "\tcom.google.code.gson#gson;2.3 by [com.google.code.gson#gson;2.10.1] in [default]\n",
      "\tcom.amazonaws#aws-java-sdk-bundle;1.11.563 by [com.amazonaws#aws-java-sdk-bundle;1.11.828] in [default]\n",
      "\t---------------------------------------------------------------------\n",
      "\t|                  |            modules            ||   artifacts   |\n",
      "\t|       conf       | number| search|dwnlded|evicted|| number|dwnlded|\n",
      "\t---------------------------------------------------------------------\n",
      "\t|      default     |   77  |   0   |   0   |   4   ||   73  |   0   |\n",
      "\t---------------------------------------------------------------------\n",
      ":: retrieving :: org.apache.spark#spark-submit-parent-d26c86fb-f692-410e-be68-e60da5fffae9\n",
      "\tconfs: [default]\n",
      "\t0 artifacts copied, 73 already retrieved (0kB/27ms)\n"
     ]
    },
    {
     "name": "stdout",
     "output_type": "stream",
     "text": [
      "24/04/28 21:55:25 WARN NativeCodeLoader: Unable to load native-hadoop library for your platform... using builtin-java classes where applicable\n"
     ]
    },
    {
     "name": "stderr",
     "output_type": "stream",
     "text": [
      "Setting default log level to \"WARN\".\n",
      "To adjust logging level use sc.setLogLevel(newLevel). For SparkR, use setLogLevel(newLevel).\n"
     ]
    },
    {
     "name": "stdout",
     "output_type": "stream",
     "text": [
      "3.3.0\n"
     ]
    }
   ],
   "source": [
    "# Import pyspark and build Spark session\n",
    "from pyspark.sql import SparkSession\n",
    "\n",
    "spark = SparkSession.builder \\\n",
    ".appName(\"sagemaker-spark\") \\\n",
    ".master(\"local[*]\") \\\n",
    ".config(\"spark.driver.memory\", \"8G\") \\\n",
    ".config(\"spark.driver.maxResultSize\", \"0\") \\\n",
    ".config(\"spark.kryoserializer.buffer.max\", \"2000M\") \\\n",
    ".config(\"spark.jars.packages\", \"com.johnsnowlabs.nlp:spark-nlp_2.12:5.1.3,org.apache.hadoop:hadoop-aws:3.2.2\") \\\n",
    ".config(\"spark.hadoop.fs.s3a.aws.credentials.provider\", \"com.amazonaws.auth.ContainerCredentialsProvider\") \\\n",
    ".getOrCreate()\n",
    "\n",
    "print(spark.version)"
   ]
  },
  {
   "cell_type": "code",
   "execution_count": 3,
   "id": "cd055bf4-1555-46db-a50a-0ea2bbb3235f",
   "metadata": {
    "tags": []
   },
   "outputs": [],
   "source": [
    "sc = spark.sparkContext"
   ]
  },
  {
   "cell_type": "code",
   "execution_count": 4,
   "id": "b7675366-cdbe-4d51-a90a-29fe6eac8bd1",
   "metadata": {
    "tags": []
   },
   "outputs": [
    {
     "name": "stdout",
     "output_type": "stream",
     "text": [
      "sagemaker.config INFO - Not applying SDK defaults from location: /etc/xdg/sagemaker/config.yaml\n",
      "sagemaker.config INFO - Not applying SDK defaults from location: /root/.config/sagemaker/config.yaml\n",
      "reading submissions from s3a://sagemaker-us-east-1-562166416351/project/submissions/yyyy=*\n",
      "24/04/28 21:55:35 WARN MetricsConfig: Cannot locate configuration: tried hadoop-metrics2-s3a-file-system.properties,hadoop-metrics2.properties\n"
     ]
    },
    {
     "name": "stderr",
     "output_type": "stream",
     "text": [
      "                                                                                \r"
     ]
    },
    {
     "name": "stdout",
     "output_type": "stream",
     "text": [
      "24/04/28 21:55:40 WARN package: Truncated the string representation of a plan since it was too large. This behavior can be adjusted by setting 'spark.sql.debug.maxToStringFields'.\n"
     ]
    }
   ],
   "source": [
    "import sagemaker\n",
    "session = sagemaker.Session()\n",
    "bucket = session.default_bucket()\n",
    "output_prefix_data_submissions = \"project/submissions/yyyy=*\"\n",
    "s3_path = f\"s3a://{bucket}/{output_prefix_data_submissions}\"\n",
    "print(f\"reading submissions from {s3_path}\")\n",
    "posts = spark.read.parquet(s3_path, header=True)"
   ]
  },
  {
   "cell_type": "code",
   "execution_count": 5,
   "id": "57cc9c28-fcfb-4087-8496-69f9621bce20",
   "metadata": {
    "tags": []
   },
   "outputs": [],
   "source": [
    "#reading comments\n",
    "output_prefix_data_comments = \"project/comments/yyyy=*\"\n",
    "s3_path = f\"s3a://{bucket}/{output_prefix_data_comments}\"\n",
    "comments = spark.read.parquet(s3_path, header=True)"
   ]
  },
  {
   "cell_type": "markdown",
   "id": "02eb5d2d-cde7-4808-ab74-608bed513c98",
   "metadata": {},
   "source": [
    "# Adding variables"
   ]
  },
  {
   "cell_type": "code",
   "execution_count": 7,
   "id": "77bf9dd8-f80b-45fe-88b4-61b4bb821c86",
   "metadata": {},
   "outputs": [],
   "source": [
    "import pyspark.sql.functions as f"
   ]
  },
  {
   "cell_type": "code",
   "execution_count": 8,
   "id": "383ab7a3-bcd9-46c5-8839-02a6662b63b4",
   "metadata": {},
   "outputs": [],
   "source": [
    "comments = comments.withColumn('misinfo_class', \n",
    "                    f.when(comments.body.rlike(r'fake news|bullshit|misinfo|clickbait|unreliable|propoganda'), True)\\\n",
    "                    .otherwise(False))"
   ]
  },
  {
   "cell_type": "markdown",
   "id": "dd2db5ca-ed59-46cd-a7dd-d40132f1b14d",
   "metadata": {},
   "source": [
    "# LDA"
   ]
  },
  {
   "cell_type": "code",
   "execution_count": 9,
   "id": "471a5470-391d-401a-b533-289b13a92eaf",
   "metadata": {
    "tags": []
   },
   "outputs": [],
   "source": [
    "#from pyspark.ml.feature import Tokenizer, StopWordsRemover\n",
    "from sparknlp.base import DocumentAssembler, Finisher\n",
    "from sparknlp.annotator import Lemmatizer, Normalizer, Tokenizer, StopWordsCleaner\n",
    "from pyspark.ml import Pipeline\n",
    "from nltk.corpus import stopwords\n",
    "from pyspark.ml.feature import CountVectorizer , IDF\n",
    "from pyspark.ml.clustering import LDA\n",
    "from pyspark.sql.types import StringType, ArrayType, FloatType\n",
    "from itertools import chain"
   ]
  },
  {
   "cell_type": "code",
   "execution_count": 10,
   "id": "d6f287ec-01a8-4760-a87a-2c2ad1d6a02b",
   "metadata": {
    "tags": []
   },
   "outputs": [],
   "source": [
    "#create small df to use for LDA\n",
    "small_df = posts.select('title', 'id')"
   ]
  },
  {
   "cell_type": "code",
   "execution_count": 11,
   "id": "ecd69e85-fcb1-4f10-a008-12eadc203653",
   "metadata": {
    "tags": []
   },
   "outputs": [
    {
     "data": {
      "text/plain": [
       "DocumentAssembler_b9e0027956a5"
      ]
     },
     "execution_count": 11,
     "metadata": {},
     "output_type": "execute_result"
    }
   ],
   "source": [
    "documentAssembler = DocumentAssembler()       \n",
    "documentAssembler.setInputCol('title')      \n",
    "documentAssembler.setOutputCol('document')"
   ]
  },
  {
   "cell_type": "code",
   "execution_count": 12,
   "id": "ab06c31c-d33c-47d4-9170-160de56af296",
   "metadata": {
    "tags": []
   },
   "outputs": [
    {
     "data": {
      "text/plain": [
       "Tokenizer_a6894445bce4"
      ]
     },
     "execution_count": 12,
     "metadata": {},
     "output_type": "execute_result"
    }
   ],
   "source": [
    "#create tokenizer\n",
    "tokenizer = Tokenizer() \n",
    "tokenizer.setInputCols([\"document\"]) \n",
    "tokenizer.setOutputCol(\"token\")"
   ]
  },
  {
   "cell_type": "code",
   "execution_count": 13,
   "id": "9dc062d4-4287-4b88-b7c3-935fdf26597b",
   "metadata": {
    "tags": []
   },
   "outputs": [],
   "source": [
    "#normalize\n",
    "normalizer = Normalizer() \\\n",
    "     .setInputCols(['token']) \\\n",
    "     .setOutputCol('normalized') \\\n",
    "     .setLowercase(True)"
   ]
  },
  {
   "cell_type": "code",
   "execution_count": 14,
   "id": "834feea9-8010-478d-8443-5e4842e3bb73",
   "metadata": {},
   "outputs": [],
   "source": [
    "#remove stop words\n",
    "StopWords = stopwords.words(\"english\")\n",
    "#adding news sources and stopwords in other languages\n",
    "StopWords += ['reuters', 'في','از', 'ap', 'says', 'bbcworld', 'amp', 'rt', 'apentertainment', 'la', 'user', 'deleted',\n",
    "             'क', 'di','در','آهنگ', 'de', 'el', 'en','دانلود', 'به', 'म']\n",
    "stopwords_cleaner = StopWordsCleaner()\\\n",
    "      .setInputCols(\"normalized\")\\\n",
    "      .setOutputCol(\"cleanTokens\")\\\n",
    "      .setStopWords(StopWords)\\\n",
    "      .setCaseSensitive(False)"
   ]
  },
  {
   "cell_type": "code",
   "execution_count": 15,
   "id": "935ef95d-e758-48d0-85eb-de94fb435c5d",
   "metadata": {
    "tags": []
   },
   "outputs": [],
   "source": [
    "finisher = Finisher() \\\n",
    "    .setInputCols([\"cleanTokens\"]) \\\n",
    "    .setOutputCols([\"tokens\"]) \\\n",
    "    .setOutputAsArray(True) \\\n",
    "    .setCleanAnnotations(False)"
   ]
  },
  {
   "cell_type": "code",
   "execution_count": 16,
   "id": "8066942b-58d8-4893-a9e1-26783dbc5352",
   "metadata": {
    "tags": []
   },
   "outputs": [],
   "source": [
    "#count vectorizer\n",
    "cv = CountVectorizer(inputCol=\"tokens\", outputCol=\"raw_features\", vocabSize=5000, minDF=25)\n",
    "# IDF\n",
    "idf = IDF(inputCol=\"raw_features\", outputCol=\"features\")"
   ]
  },
  {
   "cell_type": "code",
   "execution_count": 17,
   "id": "66af8adc-46b3-4b28-8a6b-bd82eb74ec03",
   "metadata": {
    "tags": []
   },
   "outputs": [
    {
     "data": {
      "text/plain": [
       "LDA_bc3b20696163"
      ]
     },
     "execution_count": 17,
     "metadata": {},
     "output_type": "execute_result"
    }
   ],
   "source": [
    "#lda model \n",
    "lda = LDA()\n",
    "lda.setK(8)\n",
    "lda.setMaxIter(20)\n",
    "lda.setSeed(13)"
   ]
  },
  {
   "cell_type": "code",
   "execution_count": 18,
   "id": "34e69b2a-0f45-42bf-96b8-3db31ae268dd",
   "metadata": {
    "tags": []
   },
   "outputs": [],
   "source": [
    "pipeline = Pipeline(stages=[documentAssembler, \n",
    "                            tokenizer, \n",
    "                            normalizer, \n",
    "                            stopwords_cleaner, \n",
    "                            finisher, \n",
    "                            cv, \n",
    "                            idf, \n",
    "                            lda])"
   ]
  },
  {
   "cell_type": "code",
   "execution_count": 19,
   "id": "d9bfd398-3262-4f1d-a79f-9476fc0d863a",
   "metadata": {
    "tags": []
   },
   "outputs": [
    {
     "name": "stderr",
     "output_type": "stream",
     "text": [
      "WARNING: An illegal reflective access operation has occurred\n",
      "WARNING: Illegal reflective access by org.apache.spark.util.SizeEstimator$ (file:/opt/conda/lib/python3.10/site-packages/pyspark/jars/spark-core_2.12-3.3.0.jar) to field java.util.regex.Pattern.pattern\n",
      "WARNING: Please consider reporting this to the maintainers of org.apache.spark.util.SizeEstimator$\n",
      "WARNING: Use --illegal-access=warn to enable warnings of further illegal reflective access operations\n",
      "WARNING: All illegal access operations will be denied in a future release\n",
      "                                                                                \r"
     ]
    },
    {
     "name": "stdout",
     "output_type": "stream",
     "text": [
      "24/04/28 22:11:14 WARN BLAS: Failed to load implementation from: com.github.fommil.netlib.NativeSystemBLAS\n",
      "24/04/28 22:11:14 WARN BLAS: Failed to load implementation from: com.github.fommil.netlib.NativeRefBLAS\n"
     ]
    },
    {
     "name": "stderr",
     "output_type": "stream",
     "text": [
      "                                                                                \r"
     ]
    }
   ],
   "source": [
    "model = pipeline.fit(small_df)"
   ]
  },
  {
   "cell_type": "code",
   "execution_count": 20,
   "id": "53760122-950e-4d4a-babb-30c1fb6dd83d",
   "metadata": {
    "tags": []
   },
   "outputs": [],
   "source": [
    "small_df = model.transform(small_df)"
   ]
  },
  {
   "cell_type": "code",
   "execution_count": 21,
   "id": "474ea1de-ca5b-449b-b2d2-e68fdfc98863",
   "metadata": {
    "tags": []
   },
   "outputs": [],
   "source": [
    "topics = model.stages[-1].describeTopics()\n",
    "terms = model.stages[-3].vocabulary"
   ]
  },
  {
   "cell_type": "code",
   "execution_count": 22,
   "id": "301897fe-2389-4449-9ede-746bcb36d7e5",
   "metadata": {
    "tags": []
   },
   "outputs": [],
   "source": [
    "#get word from index of term \n",
    "def indices_to_terms(indices, terms=terms):\n",
    "        terms_subset = [terms[index] for index in indices]\n",
    "        return terms_subset\n",
    "# Defining Spark UDF from above function\n",
    "udf_indices_to_terms = f.udf(indices_to_terms, ArrayType(StringType()))\n",
    "\n",
    "topics = (\n",
    "    topics\n",
    "       .withColumn(\"terms\", udf_indices_to_terms(f.col(\"termIndices\")))\n",
    "    )"
   ]
  },
  {
   "cell_type": "code",
   "execution_count": 23,
   "id": "90a15568-ab07-4926-af9f-e05dc0cd37d0",
   "metadata": {
    "tags": []
   },
   "outputs": [
    {
     "name": "stderr",
     "output_type": "stream",
     "text": [
      "                                                                                \r"
     ]
    },
    {
     "data": {
      "text/plain": [
       "[Row(topic=0, termIndices=[3, 5, 4, 16, 0, 59, 44, 73, 75, 1], termWeights=[0.01523288802545935, 0.010485966412544834, 0.010254985354030934, 0.008019252593690828, 0.007197787751295313, 0.00663928369728547, 0.005761071866242008, 0.004795471554043201, 0.004670295470041335, 0.0046590487674986625], terms=['ukraine', 'russian', 'russia', 'war', 'us', 'putin', 'minister', 'eu', 'media', 'new']),\n",
       " Row(topic=1, termIndices=[33, 1, 74, 127, 2, 223, 209, 7, 343, 432], termWeights=[0.009090685817965462, 0.0070490682605516995, 0.00697780724115689, 0.005716209232198239, 0.005388807972733376, 0.005135984878955494, 0.005023314583232904, 0.004732374604808212, 0.0043867201924320314, 0.0039042769001899473], terms=['video', 'new', 'twitter', 'youtube', 'covid', 'elon', 'musk', 'news', 'hong', 'kong']),\n",
       " Row(topic=2, termIndices=[9, 19, 95, 124, 93, 30, 108, 0, 48, 77], termWeights=[0.008739848346906, 0.00573235920679256, 0.005584539395288148, 0.0049359615855023315, 0.004845691343441333, 0.004172595441602654, 0.00405515324365129, 0.003847989883800659, 0.0036657644392473036, 0.003454618503554659], terms=['police', 'man', 'shooting', 'capitol', 'school', 'trump', 'black', 'us', 'house', 'woman']),\n",
       " Row(topic=3, termIndices=[15, 46, 47, 22, 42, 39, 52, 96, 99, 64], termWeights=[0.02129730385966088, 0.014058467961361518, 0.013986387629667798, 0.012176152029622783, 0.011896621941537847, 0.011699597661902955, 0.01116605595782701, 0.00888353701616018, 0.008559387878894533, 0.00823678642985009], terms=['episode', 'mtv', 'splitsvilla', 'live', 'th', 'show', 'full', 'getting', 'june', 'free']),\n",
       " Row(topic=4, termIndices=[2, 13, 0, 269, 80, 69, 130, 1, 14, 28], termWeights=[0.0064554850905403785, 0.005082958049814537, 0.004886273513516861, 0.0037611010487145578, 0.0037240513283598787, 0.0036589587408347216, 0.0036406275964301817, 0.0036123945297126584, 0.003603800259034374, 0.003550754332509907], terms=['covid', 'world', 'us', 'queen', 'cases', 'global', 'pandemic', 'new', 'india', 'day']),\n",
       " Row(topic=5, termIndices=[11, 0, 12, 6, 102, 83, 29, 126, 1, 216], termWeights=[0.007835583850760578, 0.007416912933643171, 0.005295291744220061, 0.005003153023217165, 0.004961007048435579, 0.004555019853531812, 0.004401233572624716, 0.004297652134629389, 0.004187714724546295, 0.004082985339222862], terms=['biden', 'us', 'president', 'china', 'climate', 'un', 'court', 'iran', 'new', 'korea']),\n",
       " Row(topic=6, termIndices=[129, 2, 10, 0, 278, 281, 360, 409, 249, 221], termWeights=[0.006337647521627791, 0.006219365786750606, 0.004572455375151202, 0.004168662494216328, 0.0034143994510795147, 0.0034043771977325206, 0.0033626880653580046, 0.003360392899229119, 0.00327245739195259, 0.003180763101173055], terms=['crypto', 'covid', 'people', 'us', 'keep', 'bitcoin', 'variant', 'جدید', 'cut', 'international']),\n",
       " Row(topic=7, termIndices=[23, 40, 68, 79, 89, 65, 122, 141, 212, 26], termWeights=[0.012982197995040976, 0.00953001357943644, 0.00849700164545135, 0.008056915825724912, 0.007523115529693167, 0.0073457719394570044, 0.007028527707438429, 0.006676660872172567, 0.005067899699099611, 0.00497749566634108], terms=['age', 'family', 'worth', 'height', 'net', 'indian', 'biography', 'wiki', 'actor', 'market'])]"
      ]
     },
     "execution_count": 23,
     "metadata": {},
     "output_type": "execute_result"
    }
   ],
   "source": [
    "topics.take(10)"
   ]
  },
  {
   "cell_type": "code",
   "execution_count": 24,
   "id": "d858322d-6bd7-4ab2-a763-18487f6f7288",
   "metadata": {
    "tags": []
   },
   "outputs": [],
   "source": [
    "#naming topics \n",
    "topic_dict = {0: 'russia&ukraine', 1: 'social media', 2: 'current events', 3: 'tv shows', 4: 'covid', \n",
    "              5: 'foriegn relations', 6: 'emerging tech', 7: 'demographic info'}\n",
    "              "
   ]
  },
  {
   "cell_type": "code",
   "execution_count": 25,
   "id": "6e6f0763-3e76-4319-9e9b-bbb93b740afb",
   "metadata": {
    "tags": []
   },
   "outputs": [],
   "source": [
    "#map to topics\n",
    "mapping_expr = f.create_map([f.lit(x) for x in chain(*topic_dict.items())])"
   ]
  },
  {
   "cell_type": "code",
   "execution_count": 26,
   "id": "5b078978-d2b1-4483-b007-588c927a1176",
   "metadata": {
    "tags": []
   },
   "outputs": [],
   "source": [
    "#udf to get the top topic \n",
    "max_topic = f.udf(lambda v:float(v.argmax()),FloatType())\n",
    "#using mao and udf to create a topic column\n",
    "topic = small_df.withColumn('topic_num', max_topic(\"topicDistribution\"))\\\n",
    ".withColumn(\"topic\", mapping_expr[f.col(\"topic_num\")]).select('id','topic')"
   ]
  },
  {
   "cell_type": "code",
   "execution_count": 27,
   "id": "09b8ba61-74a0-451e-af26-7a3870edf731",
   "metadata": {
    "tags": []
   },
   "outputs": [],
   "source": [
    "mini_posts = posts.select('created_utc', 'title', 'id')"
   ]
  },
  {
   "cell_type": "code",
   "execution_count": 28,
   "id": "0df9f008-8b38-41c6-aefc-60e32a9518ed",
   "metadata": {
    "tags": []
   },
   "outputs": [],
   "source": [
    "#merging relevant columns wuth the topic column\n",
    "merged_df = mini_posts.join(topic, 'id')"
   ]
  },
  {
   "cell_type": "markdown",
   "id": "a0bf13f9-c1fb-4329-990a-3480a87d2468",
   "metadata": {},
   "source": [
    "#### Adding comments"
   ]
  },
  {
   "cell_type": "code",
   "execution_count": 29,
   "id": "7ad259c4-4556-4999-9010-a64c34a8e015",
   "metadata": {
    "tags": []
   },
   "outputs": [],
   "source": [
    "#renaming columns and removing the t3_ from the link id to get the post id on the comment\n",
    "mini_comments = comments\\\n",
    ".withColumn('comment_created', f.col('created_utc')).withColumn('comment_id', f.col('id'))\\\n",
    ".withColumn('id', f.regexp_extract('link_id', 't3_(.*)$', 1))\\\n",
    ".select('comment_created','body','misinfo_class', 'comment_id', 'id')"
   ]
  },
  {
   "cell_type": "code",
   "execution_count": 30,
   "id": "35831b91-4a04-4fdc-b03b-aa94fdc7301b",
   "metadata": {
    "tags": []
   },
   "outputs": [],
   "source": [
    "#merging dataframes\n",
    "total_df = merged_df.join(mini_comments, 'id')"
   ]
  },
  {
   "cell_type": "code",
   "execution_count": 31,
   "id": "d101de9f-0c48-40c2-b428-5c68633759cd",
   "metadata": {
    "tags": []
   },
   "outputs": [
    {
     "name": "stderr",
     "output_type": "stream",
     "text": [
      "                                                                                \r"
     ]
    }
   ],
   "source": [
    "#save clean df\n",
    "bucket = session.default_bucket()\n",
    "s3_path = f\"s3a://{bucket}/project/clean_topic_data.parquet\"\n",
    "total_df.write.mode(\"overwrite\").parquet(s3_path)"
   ]
  },
  {
   "cell_type": "markdown",
   "id": "9f40b626-9d6f-4dc5-869b-99d8e6346d90",
   "metadata": {},
   "source": [
    "### Analysis"
   ]
  },
  {
   "cell_type": "code",
   "execution_count": 6,
   "id": "22d4bda2-e0a6-4224-9dfe-4c783151d2a2",
   "metadata": {
    "tags": []
   },
   "outputs": [],
   "source": [
    "output_prefix_data_submissions = \"project/clean_topic_data.parquet\"\n",
    "s3_path = f\"s3a://{bucket}/{output_prefix_data_submissions}\"\n",
    "total_df = spark.read.parquet(s3_path, header=True)"
   ]
  },
  {
   "cell_type": "code",
   "execution_count": 9,
   "id": "6e5138e7-55bb-4616-baee-f5dc34a7827b",
   "metadata": {
    "tags": []
   },
   "outputs": [
    {
     "name": "stderr",
     "output_type": "stream",
     "text": [
      "                                                                                \r"
     ]
    }
   ],
   "source": [
    "topic_misinfo_counts = total_df.filter(f.col('misinfo_class') == True).groupBy('topic').count().toPandas()"
   ]
  },
  {
   "cell_type": "code",
   "execution_count": 10,
   "id": "88def718-506c-4a5c-a93e-556f6a856928",
   "metadata": {
    "tags": []
   },
   "outputs": [],
   "source": [
    "topic_misinfo_counts.to_csv('../data/csv/topic_misinfo_true_count.csv', index = False)"
   ]
  },
  {
   "cell_type": "code",
   "execution_count": 11,
   "id": "1029a1ad-1912-481e-b6ab-88a6823a70de",
   "metadata": {
    "tags": []
   },
   "outputs": [
    {
     "name": "stderr",
     "output_type": "stream",
     "text": [
      "                                                                                \r"
     ]
    }
   ],
   "source": [
    "topic_counts = total_df.groupBy('topic').count().toPandas()"
   ]
  },
  {
   "cell_type": "code",
   "execution_count": 12,
   "id": "076b63e9-b259-480f-a54e-46efb72c5830",
   "metadata": {
    "tags": []
   },
   "outputs": [],
   "source": [
    "topic_counts.to_csv('../data/csv/topic_counts.csv', index = False)"
   ]
  },
  {
   "cell_type": "markdown",
   "id": "ff4eb9b9-2ed0-4734-9435-e2e13f3e5464",
   "metadata": {},
   "source": [
    "## Sentiment Analysis"
   ]
  },
  {
   "cell_type": "code",
   "execution_count": 32,
   "id": "892fc2bc-dd23-4f12-96e5-06da6f3a3a20",
   "metadata": {
    "tags": []
   },
   "outputs": [
    {
     "name": "stdout",
     "output_type": "stream",
     "text": [
      "Requirement already satisfied: vaderSentiment in /opt/conda/lib/python3.10/site-packages (3.3.2)\n",
      "Requirement already satisfied: textblob in /opt/conda/lib/python3.10/site-packages (0.18.0.post0)\n",
      "Requirement already satisfied: requests in /opt/conda/lib/python3.10/site-packages (from vaderSentiment) (2.31.0)\n",
      "Requirement already satisfied: nltk>=3.8 in /opt/conda/lib/python3.10/site-packages (from textblob) (3.8.1)\n",
      "Requirement already satisfied: click in /opt/conda/lib/python3.10/site-packages (from nltk>=3.8->textblob) (8.1.7)\n",
      "Requirement already satisfied: joblib in /opt/conda/lib/python3.10/site-packages (from nltk>=3.8->textblob) (1.4.0)\n",
      "Requirement already satisfied: regex>=2021.8.3 in /opt/conda/lib/python3.10/site-packages (from nltk>=3.8->textblob) (2023.12.25)\n",
      "Requirement already satisfied: tqdm in /opt/conda/lib/python3.10/site-packages (from nltk>=3.8->textblob) (4.66.1)\n",
      "Requirement already satisfied: charset-normalizer<4,>=2 in /opt/conda/lib/python3.10/site-packages (from requests->vaderSentiment) (3.3.2)\n",
      "Requirement already satisfied: idna<4,>=2.5 in /opt/conda/lib/python3.10/site-packages (from requests->vaderSentiment) (3.6)\n",
      "Requirement already satisfied: urllib3<3,>=1.21.1 in /opt/conda/lib/python3.10/site-packages (from requests->vaderSentiment) (2.2.1)\n",
      "Requirement already satisfied: certifi>=2017.4.17 in /opt/conda/lib/python3.10/site-packages (from requests->vaderSentiment) (2024.2.2)\n",
      "\u001b[33mWARNING: Running pip as the 'root' user can result in broken permissions and conflicting behaviour with the system package manager. It is recommended to use a virtual environment instead: https://pip.pypa.io/warnings/venv\u001b[0m\u001b[33m\n",
      "\u001b[0m"
     ]
    }
   ],
   "source": [
    "!pip install vaderSentiment textblob\n",
    "# reference for VADER:\n",
    "# https://medium.com/@tom.bailey.courses/sentiment-analysis-in-snowflake-using-python-31d7296abe1a\n",
    "# https://github.com/cjhutto/vaderSentiment"
   ]
  },
  {
   "cell_type": "code",
   "execution_count": 33,
   "id": "56138590-c4ff-472c-9807-cfbcf457f5fd",
   "metadata": {
    "tags": []
   },
   "outputs": [],
   "source": [
    "output_prefix_data_submissions = \"project/clean_topic_data.parquet\"\n",
    "s3_path = f\"s3a://{bucket}/{output_prefix_data_submissions}\"\n",
    "total_df = spark.read.parquet(s3_path, header=True)"
   ]
  },
  {
   "cell_type": "code",
   "execution_count": 34,
   "id": "6a256266-ecb8-4c79-aec7-1e28ec73a416",
   "metadata": {
    "tags": []
   },
   "outputs": [
    {
     "name": "stdout",
     "output_type": "stream",
     "text": [
      "root\n",
      " |-- id: string (nullable = true)\n",
      " |-- created_utc: timestamp (nullable = true)\n",
      " |-- title: string (nullable = true)\n",
      " |-- topic: string (nullable = true)\n",
      " |-- comment_created: timestamp (nullable = true)\n",
      " |-- body: string (nullable = true)\n",
      " |-- misinfo_class: boolean (nullable = true)\n",
      " |-- comment_id: string (nullable = true)\n",
      "\n"
     ]
    }
   ],
   "source": [
    "total_df.printSchema()"
   ]
  },
  {
   "cell_type": "code",
   "execution_count": 35,
   "id": "549f5d68-de1b-4f0f-9042-b2f21cfc5f05",
   "metadata": {
    "tags": []
   },
   "outputs": [],
   "source": [
    "from vaderSentiment.vaderSentiment import SentimentIntensityAnalyzer\n",
    "import pyspark.sql.types as T\n",
    "from textblob import TextBlob"
   ]
  },
  {
   "cell_type": "code",
   "execution_count": 36,
   "id": "48ec1ffe-2304-43f6-b36c-25f6b87c719e",
   "metadata": {
    "tags": []
   },
   "outputs": [],
   "source": [
    "# Use two libraries comparing the sentiment result\n",
    "def vader_sentiment(text):\n",
    "    analyzer = SentimentIntensityAnalyzer()\n",
    "    vader_score = analyzer.polarity_scores(text)\n",
    "    return vader_score['compound']  \n",
    "\n",
    "\n",
    "def textblob_sentiment(text):\n",
    "    return TextBlob(text).sentiment.polarity"
   ]
  },
  {
   "cell_type": "code",
   "execution_count": 37,
   "id": "db39f135-07ad-41e9-847c-888ece835d1e",
   "metadata": {
    "tags": []
   },
   "outputs": [],
   "source": [
    "# UDF\n",
    "vader_udf = f.udf(vader_sentiment, T.FloatType())\n",
    "textblob_udf = f.udf(textblob_sentiment, T.FloatType())"
   ]
  },
  {
   "cell_type": "code",
   "execution_count": 38,
   "id": "dec1e0c6-d03c-4c94-8b84-0ffd8f3ad993",
   "metadata": {
    "tags": []
   },
   "outputs": [],
   "source": [
    "# Add vader score to total df\n",
    "total_df = total_df.withColumn(\"vader_score\", vader_udf(f.col(\"body\")))\n",
    "\n",
    "# Add textblob score to total df\n",
    "total_df = total_df.withColumn(\"textblob_score\", textblob_udf(f.col(\"body\")))"
   ]
  },
  {
   "cell_type": "markdown",
   "id": "6095c4ba-aa03-4ef6-a3a8-107cb1d1cbf0",
   "metadata": {},
   "source": [
    "## Analyze Sentiment"
   ]
  },
  {
   "cell_type": "code",
   "execution_count": 15,
   "id": "8d7a2ec0-b1f6-413d-84a7-b4345e170943",
   "metadata": {},
   "outputs": [
    {
     "name": "stderr",
     "output_type": "stream",
     "text": [
      "[Stage 2:>                                                          (0 + 1) / 1]\r"
     ]
    },
    {
     "name": "stdout",
     "output_type": "stream",
     "text": [
      "+--------------------+-----------+--------------+\n",
      "|                body|vader_score|textblob_score|\n",
      "+--------------------+-----------+--------------+\n",
      "| 8 dead, 10 injured.|    -0.7906|          -0.2|\n",
      "|Very little infor...|        0.0|      -0.24375|\n",
      "|Says military sid...|    -0.4019|         -0.15|\n",
      "|Who's going to pr...|        0.0|           0.0|\n",
      "|True. They're try...|     0.3919|          0.35|\n",
      "|Fair point. Talib...|     0.5423|         0.475|\n",
      "|           [removed]|        0.0|           0.0|\n",
      "|           [removed]|        0.0|           0.0|\n",
      "|In an alternate u...|     0.6908|           0.2|\n",
      "|&gt;Police chief ...|    -0.7531|          -0.3|\n",
      "|Take his pension ...|    -0.6908|   -0.33333334|\n",
      "|Probably forgot h...|        0.0|           0.0|\n",
      "|Forget it, Jake. ...|    -0.2263|           0.0|\n",
      "|&gt; I'd bet he h...|    -0.5423|          -0.4|\n",
      "|           [removed]|        0.0|           0.0|\n",
      "|By his own logic,...|        0.0|           0.6|\n",
      "|Wait...they were ...|     0.3252|           0.0|\n",
      "|           [removed]|        0.0|           0.0|\n",
      "|a LEO that thinks...|    -0.1759|           0.0|\n",
      "|You stumble 2x in...|    -0.8776|    0.10694444|\n",
      "+--------------------+-----------+--------------+\n",
      "only showing top 20 rows\n",
      "\n"
     ]
    },
    {
     "name": "stderr",
     "output_type": "stream",
     "text": [
      "                                                                                \r"
     ]
    }
   ],
   "source": [
    "# display a sample to manually inspect differences\n",
    "total_df.select(\"body\", \"vader_score\", \"textblob_score\").show()"
   ]
  },
  {
   "cell_type": "code",
   "execution_count": 40,
   "id": "a42babba-4f81-4d14-853f-5cc7c287b008",
   "metadata": {
    "tags": []
   },
   "outputs": [],
   "source": [
    "misinfo_comments = total_df.filter(f.col(\"misinfo_class\") == True)"
   ]
  },
  {
   "cell_type": "code",
   "execution_count": 16,
   "id": "bf630e32-8cd4-496b-8691-dd9107a2a52e",
   "metadata": {
    "tags": []
   },
   "outputs": [
    {
     "name": "stderr",
     "output_type": "stream",
     "text": [
      "                                                                                \r"
     ]
    }
   ],
   "source": [
    "# aggregating misinformation comments by topic\n",
    "misinfo_comments_count = misinfo_comments.groupBy(\"vader_score\").count().toPandas()"
   ]
  },
  {
   "cell_type": "code",
   "execution_count": 17,
   "id": "20094753-b1bb-4346-b96b-59fed4e4d81a",
   "metadata": {
    "tags": []
   },
   "outputs": [],
   "source": [
    "# save to csv file\n",
    "misinfo_comments_count.to_csv('../data/csv/misinfo_comments_count.csv', index = False)"
   ]
  },
  {
   "cell_type": "code",
   "execution_count": 41,
   "id": "5056182b-bdfc-408e-b3ee-812d42a4c293",
   "metadata": {
    "tags": []
   },
   "outputs": [
    {
     "name": "stderr",
     "output_type": "stream",
     "text": [
      "[Stage 79:=======================================================>(56 + 1) / 57]\r"
     ]
    },
    {
     "name": "stdout",
     "output_type": "stream",
     "text": [
      "+-----------------+--------------+--------------------+--------------------+\n",
      "|            topic|total_comments|negative_vader_count|percentage_neg_vader|\n",
      "+-----------------+--------------+--------------------+--------------------+\n",
      "|    emerging tech|         47188|               34707|   73.55047893532254|\n",
      "|     social media|         39298|               29771|   75.75703598147489|\n",
      "|   current events|         64453|               51426|   79.78837292290505|\n",
      "|            covid|         40208|               29852|   74.24393155590927|\n",
      "|   russia&ukraine|        113047|               85636|   75.75256309322671|\n",
      "| demographic info|         34852|               26276|   75.39309078388615|\n",
      "|         tv shows|         13166|                9594|   72.86951238037369|\n",
      "|foriegn relations|         54915|               41612|   75.77528908312847|\n",
      "+-----------------+--------------+--------------------+--------------------+\n",
      "\n"
     ]
    },
    {
     "name": "stderr",
     "output_type": "stream",
     "text": [
      "                                                                                \r"
     ]
    }
   ],
   "source": [
    "# Topics comment counts and percentage of vadar score <0\n",
    "\n",
    "misinfo_comments = misinfo_comments.withColumn(\"vader_neg\", (f.col(\"vader_score\") < 0).cast(\"int\"))\n",
    "\n",
    "# group by the 'topic' to calculate the total comments\n",
    "neg_comments_count = misinfo_comments.groupBy(\"topic\").agg(f.count(\"comment_id\").alias(\"total_comments\"),\n",
    "                                                           f.sum(\"vader_neg\").alias(\"negative_vader_count\")  \n",
    "    )\n",
    "\n",
    "# Calculate the percentage of negative VADER scores\n",
    "neg_comments_count = neg_comments_count.withColumn(\"percentage_neg_vader\", \n",
    "                           (f.col(\"negative_vader_count\") / f.col(\"total_comments\")) * 100)\n",
    "\n",
    "neg_comments_count.show()"
   ]
  },
  {
   "cell_type": "code",
   "execution_count": 42,
   "id": "02f84faf-39d5-40f4-ba8d-17f973b5d267",
   "metadata": {
    "tags": []
   },
   "outputs": [
    {
     "name": "stderr",
     "output_type": "stream",
     "text": [
      "[Stage 82:=======================================================>(56 + 1) / 57]\r"
     ]
    },
    {
     "name": "stdout",
     "output_type": "stream",
     "text": [
      "+-----------------+--------------+-------------------+------------------------+\n",
      "|            topic|total_comments|count_below_neg_0_8|percentage_below_neg_0_8|\n",
      "+-----------------+--------------+-------------------+------------------------+\n",
      "|    emerging tech|         47188|              14998|       31.78350428074934|\n",
      "|     social media|         39298|              13419|       34.14677591734948|\n",
      "|   current events|         64453|              25635|      39.773168044931964|\n",
      "|            covid|         40208|              12893|       32.06575805809789|\n",
      "|   russia&ukraine|        113047|              37486|       33.15965925676931|\n",
      "| demographic info|         34852|              10035|       28.79318260071158|\n",
      "|         tv shows|         13166|               4131|       31.37627221631475|\n",
      "|foriegn relations|         54915|              18437|      33.573704816534644|\n",
      "+-----------------+--------------+-------------------+------------------------+\n",
      "\n"
     ]
    },
    {
     "name": "stderr",
     "output_type": "stream",
     "text": [
      "                                                                                \r"
     ]
    }
   ],
   "source": [
    "# Adjusting the condition to check for VADER score less than -0.8 and renaming the column\n",
    "misinfo_comments = misinfo_comments.withColumn(\"vader_below_neg_0_8\", (f.col(\"vader_score\") < -0.8).cast(\"int\"))\n",
    "\n",
    "# Group by the 'topic' to calculate the total comments and the sum of negative comments with the new column name\n",
    "neg_comments_count = misinfo_comments.groupBy(\"topic\").agg(\n",
    "    f.count(\"comment_id\").alias(\"total_comments\"),\n",
    "    f.sum(\"vader_below_neg_0_8\").alias(\"count_below_neg_0_8\")  \n",
    ")\n",
    "\n",
    "# Calculate the percentage of negative VADER scores and rename the percentage column appropriately\n",
    "neg_comments_count = neg_comments_count.withColumn(\"percentage_below_neg_0_8\", \n",
    "                           (f.col(\"count_below_neg_0_8\") / f.col(\"total_comments\")) * 100)\n",
    "\n",
    "# Display the results\n",
    "neg_comments_count.show()"
   ]
  },
  {
   "cell_type": "code",
   "execution_count": 43,
   "id": "cf180e09-0634-4c3b-a1e7-79f29288cf10",
   "metadata": {
    "tags": []
   },
   "outputs": [
    {
     "name": "stderr",
     "output_type": "stream",
     "text": [
      "                                                                                \r"
     ]
    }
   ],
   "source": [
    "# save to csv file\n",
    "neg_comments_count_pd = neg_comments_count.toPandas()\n",
    "neg_comments_count_pd.to_csv('../data/csv/neg_comments_count.csv', header=True, index=False)"
   ]
  },
  {
   "cell_type": "code",
   "execution_count": null,
   "id": "7cbb45ff-84ab-4a7f-8989-eb777727e00c",
   "metadata": {},
   "outputs": [],
   "source": []
  }
 ],
 "metadata": {
  "availableInstances": [
   {
    "_defaultOrder": 0,
    "_isFastLaunch": true,
    "category": "General purpose",
    "gpuNum": 0,
    "hideHardwareSpecs": false,
    "memoryGiB": 4,
    "name": "ml.t3.medium",
    "vcpuNum": 2
   },
   {
    "_defaultOrder": 1,
    "_isFastLaunch": false,
    "category": "General purpose",
    "gpuNum": 0,
    "hideHardwareSpecs": false,
    "memoryGiB": 8,
    "name": "ml.t3.large",
    "vcpuNum": 2
   },
   {
    "_defaultOrder": 2,
    "_isFastLaunch": false,
    "category": "General purpose",
    "gpuNum": 0,
    "hideHardwareSpecs": false,
    "memoryGiB": 16,
    "name": "ml.t3.xlarge",
    "vcpuNum": 4
   },
   {
    "_defaultOrder": 3,
    "_isFastLaunch": false,
    "category": "General purpose",
    "gpuNum": 0,
    "hideHardwareSpecs": false,
    "memoryGiB": 32,
    "name": "ml.t3.2xlarge",
    "vcpuNum": 8
   },
   {
    "_defaultOrder": 4,
    "_isFastLaunch": true,
    "category": "General purpose",
    "gpuNum": 0,
    "hideHardwareSpecs": false,
    "memoryGiB": 8,
    "name": "ml.m5.large",
    "vcpuNum": 2
   },
   {
    "_defaultOrder": 5,
    "_isFastLaunch": false,
    "category": "General purpose",
    "gpuNum": 0,
    "hideHardwareSpecs": false,
    "memoryGiB": 16,
    "name": "ml.m5.xlarge",
    "vcpuNum": 4
   },
   {
    "_defaultOrder": 6,
    "_isFastLaunch": false,
    "category": "General purpose",
    "gpuNum": 0,
    "hideHardwareSpecs": false,
    "memoryGiB": 32,
    "name": "ml.m5.2xlarge",
    "vcpuNum": 8
   },
   {
    "_defaultOrder": 7,
    "_isFastLaunch": false,
    "category": "General purpose",
    "gpuNum": 0,
    "hideHardwareSpecs": false,
    "memoryGiB": 64,
    "name": "ml.m5.4xlarge",
    "vcpuNum": 16
   },
   {
    "_defaultOrder": 8,
    "_isFastLaunch": false,
    "category": "General purpose",
    "gpuNum": 0,
    "hideHardwareSpecs": false,
    "memoryGiB": 128,
    "name": "ml.m5.8xlarge",
    "vcpuNum": 32
   },
   {
    "_defaultOrder": 9,
    "_isFastLaunch": false,
    "category": "General purpose",
    "gpuNum": 0,
    "hideHardwareSpecs": false,
    "memoryGiB": 192,
    "name": "ml.m5.12xlarge",
    "vcpuNum": 48
   },
   {
    "_defaultOrder": 10,
    "_isFastLaunch": false,
    "category": "General purpose",
    "gpuNum": 0,
    "hideHardwareSpecs": false,
    "memoryGiB": 256,
    "name": "ml.m5.16xlarge",
    "vcpuNum": 64
   },
   {
    "_defaultOrder": 11,
    "_isFastLaunch": false,
    "category": "General purpose",
    "gpuNum": 0,
    "hideHardwareSpecs": false,
    "memoryGiB": 384,
    "name": "ml.m5.24xlarge",
    "vcpuNum": 96
   },
   {
    "_defaultOrder": 12,
    "_isFastLaunch": false,
    "category": "General purpose",
    "gpuNum": 0,
    "hideHardwareSpecs": false,
    "memoryGiB": 8,
    "name": "ml.m5d.large",
    "vcpuNum": 2
   },
   {
    "_defaultOrder": 13,
    "_isFastLaunch": false,
    "category": "General purpose",
    "gpuNum": 0,
    "hideHardwareSpecs": false,
    "memoryGiB": 16,
    "name": "ml.m5d.xlarge",
    "vcpuNum": 4
   },
   {
    "_defaultOrder": 14,
    "_isFastLaunch": false,
    "category": "General purpose",
    "gpuNum": 0,
    "hideHardwareSpecs": false,
    "memoryGiB": 32,
    "name": "ml.m5d.2xlarge",
    "vcpuNum": 8
   },
   {
    "_defaultOrder": 15,
    "_isFastLaunch": false,
    "category": "General purpose",
    "gpuNum": 0,
    "hideHardwareSpecs": false,
    "memoryGiB": 64,
    "name": "ml.m5d.4xlarge",
    "vcpuNum": 16
   },
   {
    "_defaultOrder": 16,
    "_isFastLaunch": false,
    "category": "General purpose",
    "gpuNum": 0,
    "hideHardwareSpecs": false,
    "memoryGiB": 128,
    "name": "ml.m5d.8xlarge",
    "vcpuNum": 32
   },
   {
    "_defaultOrder": 17,
    "_isFastLaunch": false,
    "category": "General purpose",
    "gpuNum": 0,
    "hideHardwareSpecs": false,
    "memoryGiB": 192,
    "name": "ml.m5d.12xlarge",
    "vcpuNum": 48
   },
   {
    "_defaultOrder": 18,
    "_isFastLaunch": false,
    "category": "General purpose",
    "gpuNum": 0,
    "hideHardwareSpecs": false,
    "memoryGiB": 256,
    "name": "ml.m5d.16xlarge",
    "vcpuNum": 64
   },
   {
    "_defaultOrder": 19,
    "_isFastLaunch": false,
    "category": "General purpose",
    "gpuNum": 0,
    "hideHardwareSpecs": false,
    "memoryGiB": 384,
    "name": "ml.m5d.24xlarge",
    "vcpuNum": 96
   },
   {
    "_defaultOrder": 20,
    "_isFastLaunch": false,
    "category": "General purpose",
    "gpuNum": 0,
    "hideHardwareSpecs": true,
    "memoryGiB": 0,
    "name": "ml.geospatial.interactive",
    "supportedImageNames": [
     "sagemaker-geospatial-v1-0"
    ],
    "vcpuNum": 0
   },
   {
    "_defaultOrder": 21,
    "_isFastLaunch": true,
    "category": "Compute optimized",
    "gpuNum": 0,
    "hideHardwareSpecs": false,
    "memoryGiB": 4,
    "name": "ml.c5.large",
    "vcpuNum": 2
   },
   {
    "_defaultOrder": 22,
    "_isFastLaunch": false,
    "category": "Compute optimized",
    "gpuNum": 0,
    "hideHardwareSpecs": false,
    "memoryGiB": 8,
    "name": "ml.c5.xlarge",
    "vcpuNum": 4
   },
   {
    "_defaultOrder": 23,
    "_isFastLaunch": false,
    "category": "Compute optimized",
    "gpuNum": 0,
    "hideHardwareSpecs": false,
    "memoryGiB": 16,
    "name": "ml.c5.2xlarge",
    "vcpuNum": 8
   },
   {
    "_defaultOrder": 24,
    "_isFastLaunch": false,
    "category": "Compute optimized",
    "gpuNum": 0,
    "hideHardwareSpecs": false,
    "memoryGiB": 32,
    "name": "ml.c5.4xlarge",
    "vcpuNum": 16
   },
   {
    "_defaultOrder": 25,
    "_isFastLaunch": false,
    "category": "Compute optimized",
    "gpuNum": 0,
    "hideHardwareSpecs": false,
    "memoryGiB": 72,
    "name": "ml.c5.9xlarge",
    "vcpuNum": 36
   },
   {
    "_defaultOrder": 26,
    "_isFastLaunch": false,
    "category": "Compute optimized",
    "gpuNum": 0,
    "hideHardwareSpecs": false,
    "memoryGiB": 96,
    "name": "ml.c5.12xlarge",
    "vcpuNum": 48
   },
   {
    "_defaultOrder": 27,
    "_isFastLaunch": false,
    "category": "Compute optimized",
    "gpuNum": 0,
    "hideHardwareSpecs": false,
    "memoryGiB": 144,
    "name": "ml.c5.18xlarge",
    "vcpuNum": 72
   },
   {
    "_defaultOrder": 28,
    "_isFastLaunch": false,
    "category": "Compute optimized",
    "gpuNum": 0,
    "hideHardwareSpecs": false,
    "memoryGiB": 192,
    "name": "ml.c5.24xlarge",
    "vcpuNum": 96
   },
   {
    "_defaultOrder": 29,
    "_isFastLaunch": true,
    "category": "Accelerated computing",
    "gpuNum": 1,
    "hideHardwareSpecs": false,
    "memoryGiB": 16,
    "name": "ml.g4dn.xlarge",
    "vcpuNum": 4
   },
   {
    "_defaultOrder": 30,
    "_isFastLaunch": false,
    "category": "Accelerated computing",
    "gpuNum": 1,
    "hideHardwareSpecs": false,
    "memoryGiB": 32,
    "name": "ml.g4dn.2xlarge",
    "vcpuNum": 8
   },
   {
    "_defaultOrder": 31,
    "_isFastLaunch": false,
    "category": "Accelerated computing",
    "gpuNum": 1,
    "hideHardwareSpecs": false,
    "memoryGiB": 64,
    "name": "ml.g4dn.4xlarge",
    "vcpuNum": 16
   },
   {
    "_defaultOrder": 32,
    "_isFastLaunch": false,
    "category": "Accelerated computing",
    "gpuNum": 1,
    "hideHardwareSpecs": false,
    "memoryGiB": 128,
    "name": "ml.g4dn.8xlarge",
    "vcpuNum": 32
   },
   {
    "_defaultOrder": 33,
    "_isFastLaunch": false,
    "category": "Accelerated computing",
    "gpuNum": 4,
    "hideHardwareSpecs": false,
    "memoryGiB": 192,
    "name": "ml.g4dn.12xlarge",
    "vcpuNum": 48
   },
   {
    "_defaultOrder": 34,
    "_isFastLaunch": false,
    "category": "Accelerated computing",
    "gpuNum": 1,
    "hideHardwareSpecs": false,
    "memoryGiB": 256,
    "name": "ml.g4dn.16xlarge",
    "vcpuNum": 64
   },
   {
    "_defaultOrder": 35,
    "_isFastLaunch": false,
    "category": "Accelerated computing",
    "gpuNum": 1,
    "hideHardwareSpecs": false,
    "memoryGiB": 61,
    "name": "ml.p3.2xlarge",
    "vcpuNum": 8
   },
   {
    "_defaultOrder": 36,
    "_isFastLaunch": false,
    "category": "Accelerated computing",
    "gpuNum": 4,
    "hideHardwareSpecs": false,
    "memoryGiB": 244,
    "name": "ml.p3.8xlarge",
    "vcpuNum": 32
   },
   {
    "_defaultOrder": 37,
    "_isFastLaunch": false,
    "category": "Accelerated computing",
    "gpuNum": 8,
    "hideHardwareSpecs": false,
    "memoryGiB": 488,
    "name": "ml.p3.16xlarge",
    "vcpuNum": 64
   },
   {
    "_defaultOrder": 38,
    "_isFastLaunch": false,
    "category": "Accelerated computing",
    "gpuNum": 8,
    "hideHardwareSpecs": false,
    "memoryGiB": 768,
    "name": "ml.p3dn.24xlarge",
    "vcpuNum": 96
   },
   {
    "_defaultOrder": 39,
    "_isFastLaunch": false,
    "category": "Memory Optimized",
    "gpuNum": 0,
    "hideHardwareSpecs": false,
    "memoryGiB": 16,
    "name": "ml.r5.large",
    "vcpuNum": 2
   },
   {
    "_defaultOrder": 40,
    "_isFastLaunch": false,
    "category": "Memory Optimized",
    "gpuNum": 0,
    "hideHardwareSpecs": false,
    "memoryGiB": 32,
    "name": "ml.r5.xlarge",
    "vcpuNum": 4
   },
   {
    "_defaultOrder": 41,
    "_isFastLaunch": false,
    "category": "Memory Optimized",
    "gpuNum": 0,
    "hideHardwareSpecs": false,
    "memoryGiB": 64,
    "name": "ml.r5.2xlarge",
    "vcpuNum": 8
   },
   {
    "_defaultOrder": 42,
    "_isFastLaunch": false,
    "category": "Memory Optimized",
    "gpuNum": 0,
    "hideHardwareSpecs": false,
    "memoryGiB": 128,
    "name": "ml.r5.4xlarge",
    "vcpuNum": 16
   },
   {
    "_defaultOrder": 43,
    "_isFastLaunch": false,
    "category": "Memory Optimized",
    "gpuNum": 0,
    "hideHardwareSpecs": false,
    "memoryGiB": 256,
    "name": "ml.r5.8xlarge",
    "vcpuNum": 32
   },
   {
    "_defaultOrder": 44,
    "_isFastLaunch": false,
    "category": "Memory Optimized",
    "gpuNum": 0,
    "hideHardwareSpecs": false,
    "memoryGiB": 384,
    "name": "ml.r5.12xlarge",
    "vcpuNum": 48
   },
   {
    "_defaultOrder": 45,
    "_isFastLaunch": false,
    "category": "Memory Optimized",
    "gpuNum": 0,
    "hideHardwareSpecs": false,
    "memoryGiB": 512,
    "name": "ml.r5.16xlarge",
    "vcpuNum": 64
   },
   {
    "_defaultOrder": 46,
    "_isFastLaunch": false,
    "category": "Memory Optimized",
    "gpuNum": 0,
    "hideHardwareSpecs": false,
    "memoryGiB": 768,
    "name": "ml.r5.24xlarge",
    "vcpuNum": 96
   },
   {
    "_defaultOrder": 47,
    "_isFastLaunch": false,
    "category": "Accelerated computing",
    "gpuNum": 1,
    "hideHardwareSpecs": false,
    "memoryGiB": 16,
    "name": "ml.g5.xlarge",
    "vcpuNum": 4
   },
   {
    "_defaultOrder": 48,
    "_isFastLaunch": false,
    "category": "Accelerated computing",
    "gpuNum": 1,
    "hideHardwareSpecs": false,
    "memoryGiB": 32,
    "name": "ml.g5.2xlarge",
    "vcpuNum": 8
   },
   {
    "_defaultOrder": 49,
    "_isFastLaunch": false,
    "category": "Accelerated computing",
    "gpuNum": 1,
    "hideHardwareSpecs": false,
    "memoryGiB": 64,
    "name": "ml.g5.4xlarge",
    "vcpuNum": 16
   },
   {
    "_defaultOrder": 50,
    "_isFastLaunch": false,
    "category": "Accelerated computing",
    "gpuNum": 1,
    "hideHardwareSpecs": false,
    "memoryGiB": 128,
    "name": "ml.g5.8xlarge",
    "vcpuNum": 32
   },
   {
    "_defaultOrder": 51,
    "_isFastLaunch": false,
    "category": "Accelerated computing",
    "gpuNum": 1,
    "hideHardwareSpecs": false,
    "memoryGiB": 256,
    "name": "ml.g5.16xlarge",
    "vcpuNum": 64
   },
   {
    "_defaultOrder": 52,
    "_isFastLaunch": false,
    "category": "Accelerated computing",
    "gpuNum": 4,
    "hideHardwareSpecs": false,
    "memoryGiB": 192,
    "name": "ml.g5.12xlarge",
    "vcpuNum": 48
   },
   {
    "_defaultOrder": 53,
    "_isFastLaunch": false,
    "category": "Accelerated computing",
    "gpuNum": 4,
    "hideHardwareSpecs": false,
    "memoryGiB": 384,
    "name": "ml.g5.24xlarge",
    "vcpuNum": 96
   },
   {
    "_defaultOrder": 54,
    "_isFastLaunch": false,
    "category": "Accelerated computing",
    "gpuNum": 8,
    "hideHardwareSpecs": false,
    "memoryGiB": 768,
    "name": "ml.g5.48xlarge",
    "vcpuNum": 192
   },
   {
    "_defaultOrder": 55,
    "_isFastLaunch": false,
    "category": "Accelerated computing",
    "gpuNum": 8,
    "hideHardwareSpecs": false,
    "memoryGiB": 1152,
    "name": "ml.p4d.24xlarge",
    "vcpuNum": 96
   },
   {
    "_defaultOrder": 56,
    "_isFastLaunch": false,
    "category": "Accelerated computing",
    "gpuNum": 8,
    "hideHardwareSpecs": false,
    "memoryGiB": 1152,
    "name": "ml.p4de.24xlarge",
    "vcpuNum": 96
   },
   {
    "_defaultOrder": 57,
    "_isFastLaunch": false,
    "category": "Accelerated computing",
    "gpuNum": 0,
    "hideHardwareSpecs": false,
    "memoryGiB": 32,
    "name": "ml.trn1.2xlarge",
    "vcpuNum": 8
   },
   {
    "_defaultOrder": 58,
    "_isFastLaunch": false,
    "category": "Accelerated computing",
    "gpuNum": 0,
    "hideHardwareSpecs": false,
    "memoryGiB": 512,
    "name": "ml.trn1.32xlarge",
    "vcpuNum": 128
   },
   {
    "_defaultOrder": 59,
    "_isFastLaunch": false,
    "category": "Accelerated computing",
    "gpuNum": 0,
    "hideHardwareSpecs": false,
    "memoryGiB": 512,
    "name": "ml.trn1n.32xlarge",
    "vcpuNum": 128
   }
  ],
  "instance_type": "ml.g4dn.xlarge",
  "kernelspec": {
   "display_name": "Python 3 (Data Science 3.0)",
   "language": "python",
   "name": "python3__SAGEMAKER_INTERNAL__arn:aws:sagemaker:us-east-1:081325390199:image/sagemaker-data-science-310-v1"
  },
  "language_info": {
   "codemirror_mode": {
    "name": "ipython",
    "version": 3
   },
   "file_extension": ".py",
   "mimetype": "text/x-python",
   "name": "python",
   "nbconvert_exporter": "python",
   "pygments_lexer": "ipython3",
   "version": "3.10.6"
  }
 },
 "nbformat": 4,
 "nbformat_minor": 5
}
