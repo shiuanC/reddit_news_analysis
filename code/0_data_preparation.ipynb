{
 "cells": [
  {
   "cell_type": "markdown",
   "id": "45ad4921-9c72-4f7f-8359-0c5d3f05c9b6",
   "metadata": {},
   "source": [
    "# Data Preparation"
   ]
  },
  {
   "cell_type": "code",
   "execution_count": 1,
   "id": "deee4396-c3f6-40be-8be3-7edaae9fb2f9",
   "metadata": {
    "tags": []
   },
   "outputs": [
    {
     "name": "stdout",
     "output_type": "stream",
     "text": [
      "Collecting package metadata (current_repodata.json): done\n",
      "Solving environment: done\n",
      "\n",
      "\n",
      "==> WARNING: A newer version of conda exists. <==\n",
      "  current version: 23.3.1\n",
      "  latest version: 24.3.0\n",
      "\n",
      "Please update conda by running\n",
      "\n",
      "    $ conda update -n base -c defaults conda\n",
      "\n",
      "Or to minimize the number of packages updated during conda update use\n",
      "\n",
      "     conda install conda=24.3.0\n",
      "\n",
      "\n",
      "\n",
      "# All requested packages already installed.\n",
      "\n",
      "\n",
      "Note: you may need to restart the kernel to use updated packages.\n",
      "Requirement already satisfied: pyspark==3.2.0 in /opt/conda/lib/python3.10/site-packages (3.2.0)\n",
      "Requirement already satisfied: py4j==0.10.9.2 in /opt/conda/lib/python3.10/site-packages (from pyspark==3.2.0) (0.10.9.2)\n",
      "\u001b[33mWARNING: Running pip as the 'root' user can result in broken permissions and conflicting behaviour with the system package manager. It is recommended to use a virtual environment instead: https://pip.pypa.io/warnings/venv\u001b[0m\u001b[33m\n",
      "\u001b[0m\n",
      "\u001b[1m[\u001b[0m\u001b[34;49mnotice\u001b[0m\u001b[1;39;49m]\u001b[0m\u001b[39;49m A new release of pip is available: \u001b[0m\u001b[31;49m23.3.1\u001b[0m\u001b[39;49m -> \u001b[0m\u001b[32;49m24.0\u001b[0m\n",
      "\u001b[1m[\u001b[0m\u001b[34;49mnotice\u001b[0m\u001b[1;39;49m]\u001b[0m\u001b[39;49m To update, run: \u001b[0m\u001b[32;49mpip install --upgrade pip\u001b[0m\n",
      "Note: you may need to restart the kernel to use updated packages.\n",
      "Requirement already satisfied: numpy==1.23.1 in /opt/conda/lib/python3.10/site-packages (1.23.1)\n",
      "\u001b[33mWARNING: Running pip as the 'root' user can result in broken permissions and conflicting behaviour with the system package manager. It is recommended to use a virtual environment instead: https://pip.pypa.io/warnings/venv\u001b[0m\u001b[33m\n",
      "\u001b[0m\n",
      "\u001b[1m[\u001b[0m\u001b[34;49mnotice\u001b[0m\u001b[1;39;49m]\u001b[0m\u001b[39;49m A new release of pip is available: \u001b[0m\u001b[31;49m23.3.1\u001b[0m\u001b[39;49m -> \u001b[0m\u001b[32;49m24.0\u001b[0m\n",
      "\u001b[1m[\u001b[0m\u001b[34;49mnotice\u001b[0m\u001b[1;39;49m]\u001b[0m\u001b[39;49m To update, run: \u001b[0m\u001b[32;49mpip install --upgrade pip\u001b[0m\n",
      "Note: you may need to restart the kernel to use updated packages.\n"
     ]
    },
    {
     "data": {
      "text/html": [
       "<script>Jupyter.notebook.kernel.restart()</script>"
      ],
      "text/plain": [
       "<IPython.core.display.HTML object>"
      ]
     },
     "execution_count": 1,
     "metadata": {},
     "output_type": "execute_result"
    }
   ],
   "source": [
    "# Setup - Run only once per Kernel App\n",
    "%conda install openjdk -y\n",
    "\n",
    "# install PySpark\n",
    "%pip install pyspark==3.2.0\n",
    "\n",
    "# restart kernel\n",
    "from IPython.core.display import HTML\n",
    "\n",
    "%pip install  numpy==1.23.1\n",
    "\n",
    "HTML(\"<script>Jupyter.notebook.kernel.restart()</script>\")"
   ]
  },
  {
   "cell_type": "code",
   "execution_count": 3,
   "id": "94ffbd9b-deb6-40ad-82b4-97c50f2f82c1",
   "metadata": {
    "tags": []
   },
   "outputs": [
    {
     "name": "stderr",
     "output_type": "stream",
     "text": [
      "Warning: Ignoring non-Spark config property: fs.s3a.aws.credentials.provider\n",
      "WARNING: An illegal reflective access operation has occurred\n",
      "WARNING: Illegal reflective access by org.apache.spark.unsafe.Platform (file:/opt/conda/lib/python3.10/site-packages/pyspark/jars/spark-unsafe_2.12-3.2.0.jar) to constructor java.nio.DirectByteBuffer(long,int)\n",
      "WARNING: Please consider reporting this to the maintainers of org.apache.spark.unsafe.Platform\n",
      "WARNING: Use --illegal-access=warn to enable warnings of further illegal reflective access operations\n",
      "WARNING: All illegal access operations will be denied in a future release\n"
     ]
    },
    {
     "name": "stdout",
     "output_type": "stream",
     "text": [
      ":: loading settings :: url = jar:file:/opt/conda/lib/python3.10/site-packages/pyspark/jars/ivy-2.5.0.jar!/org/apache/ivy/core/settings/ivysettings.xml\n"
     ]
    },
    {
     "name": "stderr",
     "output_type": "stream",
     "text": [
      "Ivy Default Cache set to: /root/.ivy2/cache\n",
      "The jars for the packages stored in: /root/.ivy2/jars\n",
      "org.apache.hadoop#hadoop-aws added as a dependency\n",
      ":: resolving dependencies :: org.apache.spark#spark-submit-parent-c450c22c-b6f3-41da-8688-b0b6340d43e7;1.0\n",
      "\tconfs: [default]\n",
      "\tfound org.apache.hadoop#hadoop-aws;3.2.2 in central\n",
      "\tfound com.amazonaws#aws-java-sdk-bundle;1.11.563 in central\n",
      ":: resolution report :: resolve 420ms :: artifacts dl 23ms\n",
      "\t:: modules in use:\n",
      "\tcom.amazonaws#aws-java-sdk-bundle;1.11.563 from central in [default]\n",
      "\torg.apache.hadoop#hadoop-aws;3.2.2 from central in [default]\n",
      "\t---------------------------------------------------------------------\n",
      "\t|                  |            modules            ||   artifacts   |\n",
      "\t|       conf       | number| search|dwnlded|evicted|| number|dwnlded|\n",
      "\t---------------------------------------------------------------------\n",
      "\t|      default     |   2   |   0   |   0   |   0   ||   2   |   0   |\n",
      "\t---------------------------------------------------------------------\n",
      ":: retrieving :: org.apache.spark#spark-submit-parent-c450c22c-b6f3-41da-8688-b0b6340d43e7\n",
      "\tconfs: [default]\n",
      "\t0 artifacts copied, 2 already retrieved (0kB/26ms)\n",
      "24/04/03 16:51:00 WARN NativeCodeLoader: Unable to load native-hadoop library for your platform... using builtin-java classes where applicable\n",
      "Using Spark's default log4j profile: org/apache/spark/log4j-defaults.properties\n",
      "Setting default log level to \"WARN\".\n",
      "To adjust logging level use sc.setLogLevel(newLevel). For SparkR, use setLogLevel(newLevel).\n"
     ]
    },
    {
     "name": "stdout",
     "output_type": "stream",
     "text": [
      "3.2.0\n"
     ]
    }
   ],
   "source": [
    "# Import pyspark and build Spark session\n",
    "from pyspark.sql import SparkSession\n",
    "\n",
    "spark = (\n",
    "    SparkSession.builder.appName(\"PySparkApp\")\n",
    "    .config(\"spark.jars.packages\", \"org.apache.hadoop:hadoop-aws:3.2.2\")\n",
    "    .config(\n",
    "        \"fs.s3a.aws.credentials.provider\",\n",
    "        \"com.amazonaws.auth.ContainerCredentialsProvider\",\n",
    "    )\n",
    "    .getOrCreate()\n",
    ")\n",
    "\n",
    "print(spark.version)"
   ]
  },
  {
   "cell_type": "code",
   "execution_count": 4,
   "id": "a00b13aa-7ae6-463b-ae92-b8f48997aa5e",
   "metadata": {
    "tags": []
   },
   "outputs": [],
   "source": [
    "## other libs\n",
    "import pyspark.sql.functions as f\n",
    "from pyspark.sql.window import Window\n",
    "from pyspark.sql.types import StringType\n",
    "from urllib.parse import urlparse\n",
    "import regex as re\n",
    "import numpy as np"
   ]
  },
  {
   "cell_type": "code",
   "execution_count": 5,
   "id": "985a807b-4af0-4692-99b6-b285a565c591",
   "metadata": {
    "tags": []
   },
   "outputs": [
    {
     "name": "stdout",
     "output_type": "stream",
     "text": [
      "sagemaker.config INFO - Not applying SDK defaults from location: /etc/xdg/sagemaker/config.yaml\n",
      "sagemaker.config INFO - Not applying SDK defaults from location: /root/.config/sagemaker/config.yaml\n",
      "sagemaker.config INFO - Not applying SDK defaults from location: /etc/xdg/sagemaker/config.yaml\n",
      "sagemaker.config INFO - Not applying SDK defaults from location: /root/.config/sagemaker/config.yaml\n",
      "reading submissions from s3a://sagemaker-us-east-1-839279087569/project/submissions/yyyy=*\n"
     ]
    },
    {
     "name": "stderr",
     "output_type": "stream",
     "text": [
      "24/04/03 16:51:09 WARN MetricsConfig: Cannot locate configuration: tried hadoop-metrics2-s3a-file-system.properties,hadoop-metrics2.properties\n",
      "24/04/03 16:51:17 WARN package: Truncated the string representation of a plan since it was too large. This behavior can be adjusted by setting 'spark.sql.debug.maxToStringFields'.\n",
      "[Stage 1:======================================================>(103 + 1) / 104]\r"
     ]
    },
    {
     "name": "stdout",
     "output_type": "stream",
     "text": [
      "shape of the posts dataframe is 1,847,138x68\n",
      "CPU times: user 2.83 s, sys: 298 ms, total: 3.12 s\n",
      "Wall time: 3min 34s\n"
     ]
    },
    {
     "name": "stderr",
     "output_type": "stream",
     "text": [
      "                                                                                \r"
     ]
    }
   ],
   "source": [
    "%%time\n",
    "import sagemaker\n",
    "session = sagemaker.Session()\n",
    "bucket = session.default_bucket()\n",
    "output_prefix_data_submissions = \"project/submissions/yyyy=*\"\n",
    "s3_path = f\"s3a://{bucket}/{output_prefix_data_submissions}\"\n",
    "print(f\"reading submissions from {s3_path}\")\n",
    "posts = spark.read.parquet(s3_path, header=True)\n",
    "print(f\"shape of the posts dataframe is {posts.count():,}x{len(posts.columns)}\")"
   ]
  },
  {
   "cell_type": "code",
   "execution_count": 6,
   "id": "d933e8b3-83ab-441d-8f6f-5352b649195b",
   "metadata": {
    "tags": []
   },
   "outputs": [],
   "source": [
    "#reading comments\n",
    "output_prefix_data_comments = \"project/comments/yyyy=*\"\n",
    "s3_path = f\"s3a://{bucket}/{output_prefix_data_comments}\"\n",
    "comments = spark.read.parquet(s3_path, header=True)"
   ]
  },
  {
   "cell_type": "markdown",
   "id": "0545029e-d5fe-4c47-850d-9e7dd0fec4c9",
   "metadata": {},
   "source": [
    "## Create Source column"
   ]
  },
  {
   "cell_type": "code",
   "execution_count": 8,
   "id": "5ba63cd5-38fa-4802-8ce9-cc7b5c5a4b35",
   "metadata": {
    "tags": []
   },
   "outputs": [
    {
     "name": "stderr",
     "output_type": "stream",
     "text": [
      "                                                                                \r"
     ]
    },
    {
     "name": "stdout",
     "output_type": "stream",
     "text": [
      "shape of the posts dataframe is 1,753,936x7\n"
     ]
    },
    {
     "name": "stderr",
     "output_type": "stream",
     "text": [
      "[Stage 8:>                                                          (0 + 1) / 1]\r"
     ]
    },
    {
     "name": "stdout",
     "output_type": "stream",
     "text": [
      "+----------------------------------------------------------------------------------+-------------------------------------------------------------------------------------------------------------------------------------------------------------------------------------------------------------------------+---------+-----+----------+-------------------+------------+\n",
      "|title                                                                             |url                                                                                                                                                                                                                      |subreddit|score|source    |created_utc        |num_comments|\n",
      "+----------------------------------------------------------------------------------+-------------------------------------------------------------------------------------------------------------------------------------------------------------------------------------------------------------------------+---------+-----+----------+-------------------+------------+\n",
      "|New Warp Drive Model Requires No 'Exotic Matter,' Scientists Say We Can Build It  |https://thedebrief.org/new-warp-drive-model-requires-no-exotic-matter-scientists-say-we-can-build-it/                                                                                                                    |news     |1    |thedebrief|2021-03-30 10:52:37|0           |\n",
      "|مسؤول تركي لصحيفة إسرائيلية: مستعدون لتبادل السفراء مع تل أبيب                    |https://awjouh.com/%d9%85%d8%b3%d8%a4%d9%88%d9%84-%d8%aa%d8%b1%d9%83%d9%8a-%d9%84%d8%b5%d8%ad%d9%8a%d9%81%d8%a9-%d8%a5%d8%b3%d8%b1%d8%a7%d8%a6%d9%8a%d9%84%d9%8a%d8%a9-%d9%85%d8%b3%d8%aa%d8%b9%d8%af%d9%88%d9%86-%d9%84/|worldnews|1    |awjouh    |2021-03-30 10:53:05|0           |\n",
      "|The China-Iran Axis, Beijing gains influence and helps Tehran evade U.S. sanctions|https://www.wsj.com/articles/the-china-iran-axis-11617059716                                                                                                                                                             |worldnews|1    |wsj       |2021-03-30 10:53:18|1           |\n",
      "|UNICAL CES admission forms for 2020/2021 session                                  |https://newspotng.com/unical-ces-admission-forms-for-2020-2021-session/?feed_id=255327&amp;_unique_id=60630361f07e4                                                                                                      |news     |1    |newspotng |2021-03-30 10:54:26|0           |\n",
      "|The China-Iran Axis, Beijing gains influence and helps Tehran evade U.S. sanctions|https://archive.is/WazPI                                                                                                                                                                                                 |worldnews|1    |archive   |2021-03-30 10:54:37|0           |\n",
      "+----------------------------------------------------------------------------------+-------------------------------------------------------------------------------------------------------------------------------------------------------------------------------------------------------------------------+---------+-----+----------+-------------------+------------+\n",
      "only showing top 5 rows\n",
      "\n"
     ]
    },
    {
     "name": "stderr",
     "output_type": "stream",
     "text": [
      "Traceback (most recent call last):\n",
      "  File \"/opt/conda/lib/python3.10/site-packages/pyspark/python/lib/pyspark.zip/pyspark/daemon.py\", line 186, in manager\n",
      "  File \"/opt/conda/lib/python3.10/site-packages/pyspark/python/lib/pyspark.zip/pyspark/daemon.py\", line 74, in worker\n",
      "  File \"/opt/conda/lib/python3.10/site-packages/pyspark/python/lib/pyspark.zip/pyspark/worker.py\", line 663, in main\n",
      "    if read_int(infile) == SpecialLengths.END_OF_STREAM:\n",
      "  File \"/opt/conda/lib/python3.10/site-packages/pyspark/python/lib/pyspark.zip/pyspark/serializers.py\", line 564, in read_int\n",
      "    raise EOFError\n",
      "EOFError\n",
      "Traceback (most recent call last):                                              \n",
      "  File \"/opt/conda/lib/python3.10/site-packages/pyspark/python/lib/pyspark.zip/pyspark/daemon.py\", line 186, in manager\n",
      "  File \"/opt/conda/lib/python3.10/site-packages/pyspark/python/lib/pyspark.zip/pyspark/daemon.py\", line 74, in worker\n",
      "  File \"/opt/conda/lib/python3.10/site-packages/pyspark/python/lib/pyspark.zip/pyspark/worker.py\", line 663, in main\n",
      "    if read_int(infile) == SpecialLengths.END_OF_STREAM:\n",
      "  File \"/opt/conda/lib/python3.10/site-packages/pyspark/python/lib/pyspark.zip/pyspark/serializers.py\", line 564, in read_int\n",
      "    raise EOFError\n",
      "EOFError\n"
     ]
    }
   ],
   "source": [
    "def extract_refined_domain(url):\n",
    "    try:\n",
    "        parsed_url = urlparse(url)\n",
    "        # Handling Google AMP URLs\n",
    "        if \"www.google.com\" in parsed_url.netloc in url:\n",
    "            # amp_url = url.split(\"/amp/s/\")\n",
    "            if 'amp/s/' in url:\n",
    "                amp_url =  url.split('amp/s/')[1]\n",
    "            elif 'url=' in url:\n",
    "                amp_url=  url.split('url=')[1]\n",
    "            domain = urlparse('http://' + amp_url).netloc\n",
    "        else:\n",
    "            domain = parsed_url.netloc\n",
    "\n",
    "        # Splitting the domain and returning the first meaningful part\n",
    "        domain_parts = domain.split('.')\n",
    "        domain_part = domain_parts[1] if domain_parts[0] in ['www', 'amp'] else domain_parts[0]\n",
    "\n",
    "\n",
    "        # For Twitter, returning the username\n",
    "        if \"twitter.com\" in domain:\n",
    "            path_parts = parsed_url.path.split('/')\n",
    "            return path_parts[1] if len(path_parts) > 1 else domain_part\n",
    "\n",
    "        return domain_part.lower()\n",
    "    except:\n",
    "        return None\n",
    "    \n",
    "\n",
    "extract_refined_domain_udf = f.udf(extract_refined_domain, StringType())\n",
    "\n",
    "posts = posts.withColumn(\"source\", extract_refined_domain_udf(\"url\"))\n",
    "# filter out source=reddit, which mean the post is deleted\n",
    "posts = posts.filter((f.col(\"source\") != \"reddit\") &(f.col(\"source\") != \"\"))\n",
    "posts = posts.filter((f.col(\"url\") != \"\") & (f.col(\"url\").isNotNull()))\n",
    "posts = posts.select(\"title\", \"url\", \"subreddit\", \"score\", \"source\", \"created_utc\", \"num_comments\")\n",
    "\n",
    "print(f\"shape of the posts dataframe is {posts.count():,}x{len(posts.columns)}\")\n",
    "posts.show(5, truncate=False)"
   ]
  },
  {
   "cell_type": "markdown",
   "id": "29bc4c2e-1d66-42ae-882d-0c9238a3b984",
   "metadata": {},
   "source": [
    "### Top table of all"
   ]
  },
  {
   "cell_type": "code",
   "execution_count": 9,
   "id": "0d37f8c3-66d8-40f2-a781-ec33ade17914",
   "metadata": {
    "tags": []
   },
   "outputs": [],
   "source": [
    "agg_df = posts.groupBy('source').agg(\n",
    "    count('source').alias('frequency'), \n",
    "    sum('score').alias('total_score')\n",
    ")\n",
    "\n",
    "# Order by frequency and total_score in descending order and take the top 100\n",
    "top_agg_df = agg_df.orderBy(f.col('frequency').desc(), f.col('total_score').desc()).limit(100)\n"
   ]
  },
  {
   "cell_type": "code",
   "execution_count": 10,
   "id": "a91ad9ca-4b81-4f5a-bf7a-a22cd1cdcd0e",
   "metadata": {
    "tags": []
   },
   "outputs": [
    {
     "name": "stderr",
     "output_type": "stream",
     "text": [
      "                                                                                \r"
     ]
    }
   ],
   "source": [
    "# Path for storing the CSV\n",
    "csv_path = '../data/csv/top100_source.csv'\n",
    "\n",
    "# Store the DataFrame in CSV format\n",
    "top_agg_df.write.csv(csv_path, header=True, mode=\"overwrite\")"
   ]
  },
  {
   "cell_type": "markdown",
   "id": "95b4885e-7fef-4e6a-8a39-43773be7b04e",
   "metadata": {},
   "source": [
    "## Top table for each subreddit"
   ]
  },
  {
   "cell_type": "code",
   "execution_count": 11,
   "id": "b6f6f361-60e1-499c-bf48-7659d9254d79",
   "metadata": {
    "tags": []
   },
   "outputs": [
    {
     "name": "stderr",
     "output_type": "stream",
     "text": [
      "[Stage 13:=====================================================>(103 + 1) / 104]\r"
     ]
    },
    {
     "name": "stdout",
     "output_type": "stream",
     "text": [
      "+----------------+----------+---------+-----------+\n",
      "|source          |subreddit |frequency|total_score|\n",
      "+----------------+----------+---------+-----------+\n",
      "|Reuters         |newsbotbot|319430   |326981     |\n",
      "|rajacreator     |news      |68724    |68724      |\n",
      "|AP              |newsbotbot|63863    |67048      |\n",
      "|bluzz           |worldnews |57339    |57337      |\n",
      "|BBCWorld        |newsbotbot|33872    |34721      |\n",
      "|tellygupshup    |news      |31600    |31596      |\n",
      "|popularnews     |news      |30489    |30488      |\n",
      "|reuters         |worldnews |30239    |22228485   |\n",
      "|news            |news      |26432    |3752334    |\n",
      "|youtube         |news      |24798    |24722      |\n",
      "|bbc             |worldnews |20050    |9322004    |\n",
      "|newsnationglobal|news      |17184    |17183      |\n",
      "|theguardian     |worldnews |16865    |13074555   |\n",
      "|roknonline      |news      |15960    |15960      |\n",
      "|BBCNews         |newsbotbot|15717    |16134      |\n",
      "|cnn             |news      |13803    |21969606   |\n",
      "|youtube         |worldnews |13782    |13750      |\n",
      "|cde             |news      |13240    |13276      |\n",
      "|newspotng       |news      |12812    |12811      |\n",
      "|apnews          |news      |10870    |17623972   |\n",
      "+----------------+----------+---------+-----------+\n",
      "only showing top 20 rows\n",
      "\n"
     ]
    },
    {
     "name": "stderr",
     "output_type": "stream",
     "text": [
      "                                                                                \r"
     ]
    }
   ],
   "source": [
    "agg_df = posts.groupBy('source', 'subreddit').agg(\n",
    "    count('source').alias('frequency'), \n",
    "    sum('score').alias('total_score')\n",
    ")\n",
    "\n",
    "# Order by frequency in descending order and take the top results\n",
    "top_agg_df = agg_df.orderBy('frequency', ascending=False)\n",
    "\n",
    "# Show the results\n",
    "top_agg_df.show(truncate=False)"
   ]
  },
  {
   "cell_type": "code",
   "execution_count": 12,
   "id": "73aa0b7d-191d-4da2-9406-18b911b0c46c",
   "metadata": {
    "tags": []
   },
   "outputs": [
    {
     "name": "stderr",
     "output_type": "stream",
     "text": [
      "[Stage 16:=====================================================>(103 + 1) / 104]\r"
     ]
    },
    {
     "name": "stdout",
     "output_type": "stream",
     "text": [
      "shape of the agg_df dataframe is 60,670x4\n"
     ]
    },
    {
     "name": "stderr",
     "output_type": "stream",
     "text": [
      "                                                                                \r"
     ]
    }
   ],
   "source": [
    "print(f\"shape of the agg_df dataframe is {agg_df.count():,}x{len(agg_df.columns)}\")"
   ]
  },
  {
   "cell_type": "code",
   "execution_count": 13,
   "id": "4b1f01c9-87cb-49f5-933d-95f366d092b0",
   "metadata": {
    "tags": []
   },
   "outputs": [
    {
     "name": "stderr",
     "output_type": "stream",
     "text": [
      "[Stage 22:=====================================================>(103 + 1) / 104]\r"
     ]
    },
    {
     "name": "stdout",
     "output_type": "stream",
     "text": [
      "+---------------+---------+---------+-----------+\n",
      "|         source|subreddit|frequency|total_score|\n",
      "+---------------+---------+---------+-----------+\n",
      "|        reuters|worldnews|    30239|   22228485|\n",
      "|            cnn|     news|    13803|   21969606|\n",
      "|        nbcnews|     news|     8055|   18513337|\n",
      "|         apnews|     news|    10870|   17623972|\n",
      "|businessinsider|worldnews|     4554|   15379993|\n",
      "|    theguardian|worldnews|    16865|   13074555|\n",
      "|           cnbc|     news|     4539|   13032172|\n",
      "|        cbsnews|     news|     3748|   12349286|\n",
      "|        reuters|     news|     9508|   12002004|\n",
      "|    theguardian|     news|     7783|   11855783|\n",
      "|           news|worldnews|     8096|   10240638|\n",
      "|            bbc|worldnews|    20050|    9322004|\n",
      "|        abcnews|     news|     5304|    9320267|\n",
      "|       newsweek|worldnews|     3512|    7927665|\n",
      "|         pravda|worldnews|     2457|    6852223|\n",
      "|            bbc|     news|     8984|    6051611|\n",
      "|         apnews|worldnews|     9537|    5923777|\n",
      "|            cnn|worldnews|     6732|    4600360|\n",
      "|        edition|worldnews|     4821|    3881868|\n",
      "|       france24|worldnews|     4406|    3787861|\n",
      "+---------------+---------+---------+-----------+\n",
      "only showing top 20 rows\n",
      "\n"
     ]
    },
    {
     "name": "stderr",
     "output_type": "stream",
     "text": [
      "                                                                                \r"
     ]
    }
   ],
   "source": [
    "agg_df.orderBy('total_score', ascending=False).show()"
   ]
  },
  {
   "cell_type": "code",
   "execution_count": 14,
   "id": "30353d23-1b5c-4008-b536-7c6e6a5e6028",
   "metadata": {
    "tags": []
   },
   "outputs": [
    {
     "name": "stderr",
     "output_type": "stream",
     "text": [
      "[Stage 25:=====================================================>(103 + 1) / 104]\r"
     ]
    },
    {
     "name": "stdout",
     "output_type": "stream",
     "text": [
      "+----------------+---------+---------+-----------+----+\n",
      "|source          |subreddit|frequency|total_score|rank|\n",
      "+----------------+---------+---------+-----------+----+\n",
      "|rajacreator     |news     |68724    |68724      |1   |\n",
      "|tellygupshup    |news     |31600    |31596      |2   |\n",
      "|popularnews     |news     |30489    |30488      |3   |\n",
      "|news            |news     |26432    |3752334    |4   |\n",
      "|youtube         |news     |24798    |24722      |5   |\n",
      "|newsnationglobal|news     |17184    |17183      |6   |\n",
      "|roknonline      |news     |15960    |15960      |7   |\n",
      "|cnn             |news     |13803    |21969606   |8   |\n",
      "|cde             |news     |13240    |13276      |9   |\n",
      "|newspotng       |news     |12812    |12811      |10  |\n",
      "|apnews          |news     |10870    |17623972   |11  |\n",
      "|youtu           |news     |10686    |10672      |12  |\n",
      "|timesofindia    |news     |9784     |9788       |13  |\n",
      "|reuters         |news     |9508     |12002004   |14  |\n",
      "|laquilablog     |news     |9118     |9118       |15  |\n",
      "|bbc             |news     |8984     |6051611    |16  |\n",
      "|otakupages      |news     |8600     |8600       |17  |\n",
      "|msdrnews        |news     |8366     |8365       |18  |\n",
      "|nbcnews         |news     |8055     |18513337   |19  |\n",
      "|theguardian     |news     |7783     |11855783   |20  |\n",
      "+----------------+---------+---------+-----------+----+\n",
      "only showing top 20 rows\n",
      "\n"
     ]
    },
    {
     "name": "stderr",
     "output_type": "stream",
     "text": [
      "                                                                                \r"
     ]
    }
   ],
   "source": [
    "# Define a window specification\n",
    "windowSpec = Window.partitionBy(\"subreddit\").orderBy(f.col(\"frequency\").desc(), f.col(\"total_score\").desc())\n",
    "\n",
    "# Rank each row within its subreddit based on frequency and score\n",
    "ranked_df = agg_df.withColumn(\"rank\", row_number().over(windowSpec))\n",
    "\n",
    "# Filter for the top 20 in each subreddit\n",
    "top_100_each_subreddit = ranked_df.filter(f.col(\"rank\") <= 100)\n",
    "\n",
    "# Show the results\n",
    "top_100_each_subreddit.show(truncate=False)"
   ]
  },
  {
   "cell_type": "code",
   "execution_count": 15,
   "id": "60843089-91d7-4624-86e9-d1090d3f5eed",
   "metadata": {
    "tags": []
   },
   "outputs": [
    {
     "name": "stderr",
     "output_type": "stream",
     "text": [
      "[Stage 31:=====================================================>(103 + 1) / 104]\r"
     ]
    },
    {
     "name": "stdout",
     "output_type": "stream",
     "text": [
      "shape of the agg_df dataframe is 204x5\n"
     ]
    },
    {
     "name": "stderr",
     "output_type": "stream",
     "text": [
      "                                                                                \r"
     ]
    }
   ],
   "source": [
    "print(f\"shape of the agg_df dataframe is {top_100_each_subreddit.count():,}x{len(top_100_each_subreddit.columns)}\")"
   ]
  },
  {
   "cell_type": "markdown",
   "id": "2d5a6a8c-a93e-4949-9183-c1d24d0e78b6",
   "metadata": {},
   "source": [
    "## creating aggregated csv files"
   ]
  },
  {
   "cell_type": "code",
   "execution_count": 7,
   "id": "17bcde0a-a93c-45cc-a7da-d3f0fd45bb9e",
   "metadata": {
    "tags": []
   },
   "outputs": [
    {
     "name": "stderr",
     "output_type": "stream",
     "text": [
      "                                                                                \r"
     ]
    }
   ],
   "source": [
    "#comments containing misinformation \n",
    "misinfo = comments.withColumn('misinfo_class', \n",
    "                    f.when(comments.body.rlike(r'fake news|bullshit|misinfo|clickbait|unreliable|propoganda'), True)\\\n",
    "                    .otherwise(False)).groupBy('misinfo_class').count().toPandas()"
   ]
  },
  {
   "cell_type": "code",
   "execution_count": 8,
   "id": "ea865008-5a70-4f7d-935d-fb40da415fc0",
   "metadata": {
    "tags": []
   },
   "outputs": [],
   "source": [
    "misinfo.to_csv('../data/csv/misinformation.csv', index = False)"
   ]
  },
  {
   "cell_type": "code",
   "execution_count": 21,
   "id": "2fa377c2-38a9-446a-aab0-6ae782fc06fc",
   "metadata": {
    "tags": []
   },
   "outputs": [
    {
     "name": "stderr",
     "output_type": "stream",
     "text": [
      "                                                                                \r"
     ]
    }
   ],
   "source": [
    "#comments per year\n",
    "comments_year = comments.withColumn('year', f.year(f.col('created_utc'))).groupBy(['year']).count().toPandas()"
   ]
  },
  {
   "cell_type": "code",
   "execution_count": 22,
   "id": "fc8d3ecd-f8c3-477b-b8d1-4b5c821cc872",
   "metadata": {
    "tags": []
   },
   "outputs": [],
   "source": [
    "comments_year.to_csv('../data/csv/comments_per_year.csv', index = False)"
   ]
  },
  {
   "cell_type": "code",
   "execution_count": 23,
   "id": "ea93cfca-8781-4d61-9e55-544d990ef3a2",
   "metadata": {
    "tags": []
   },
   "outputs": [
    {
     "name": "stderr",
     "output_type": "stream",
     "text": [
      "                                                                                \r"
     ]
    }
   ],
   "source": [
    "#comments on day of the week\n",
    "day_of_week = comments.withColumn('day', f.dayofweek(f.col('created_utc'))).groupBy(['day']).count().toPandas()"
   ]
  },
  {
   "cell_type": "code",
   "execution_count": 24,
   "id": "4872c942-2962-44d4-a15e-11235acacca7",
   "metadata": {
    "tags": []
   },
   "outputs": [],
   "source": [
    "day_of_week.to_csv('../data/csv/comments_day.csv', index = False)"
   ]
  },
  {
   "cell_type": "code",
   "execution_count": 25,
   "id": "1244f55d-b6cb-41b0-912c-8c1174047f8e",
   "metadata": {
    "tags": []
   },
   "outputs": [
    {
     "name": "stderr",
     "output_type": "stream",
     "text": [
      "                                                                                \r"
     ]
    }
   ],
   "source": [
    "#submissions per year\n",
    "submissions_year = posts.withColumn('year', f.year(f.col('created_utc'))).groupBy('year').count().toPandas()"
   ]
  },
  {
   "cell_type": "code",
   "execution_count": 26,
   "id": "c6d09702-a6f0-4d02-9501-2c897ccf8f6a",
   "metadata": {
    "tags": []
   },
   "outputs": [],
   "source": [
    "submissions_year.to_csv('../data/csv//submissions_per_year.csv', index = False)"
   ]
  },
  {
   "cell_type": "code",
   "execution_count": 11,
   "id": "8860524b-63f6-4ad0-ac27-bd8d7fba9f32",
   "metadata": {
    "tags": []
   },
   "outputs": [
    {
     "name": "stderr",
     "output_type": "stream",
     "text": [
      "                                                                                \r"
     ]
    }
   ],
   "source": [
    "#submissions per day of the week\n",
    "submissions_day = posts.withColumn('day', f.dayofweek(f.col('created_utc'))).groupBy('day').count().toPandas()"
   ]
  },
  {
   "cell_type": "code",
   "execution_count": 12,
   "id": "9e245d90-c92a-48cc-831e-58561afe2442",
   "metadata": {
    "tags": []
   },
   "outputs": [],
   "source": [
    "submissions_day.to_csv('../data/csv/submissions_day.csv', index = False)"
   ]
  },
  {
   "cell_type": "code",
   "execution_count": 28,
   "id": "1d89b871-cd29-4811-b89c-8c56f63b1108",
   "metadata": {
    "tags": []
   },
   "outputs": [
    {
     "name": "stderr",
     "output_type": "stream",
     "text": [
      "                                                                                \r"
     ]
    }
   ],
   "source": [
    "#summary on comments score\n",
    "score = comments.select('score').summary().toPandas()"
   ]
  },
  {
   "cell_type": "code",
   "execution_count": 29,
   "id": "d1395ea7-19a8-4579-ba87-c99507c79dae",
   "metadata": {
    "tags": []
   },
   "outputs": [],
   "source": [
    "score.to_csv('../data/csv/comments_score.csv', index = False)"
   ]
  },
  {
   "cell_type": "markdown",
   "id": "10d23bf1-c872-478b-82f8-e6bdf5c7fb99",
   "metadata": {},
   "source": [
    "## Analyze top users"
   ]
  },
  {
   "cell_type": "code",
   "execution_count": 15,
   "id": "85281b1b-e28f-4ea2-b322-4ed4ae7b9183",
   "metadata": {
    "tags": []
   },
   "outputs": [],
   "source": [
    "#reading submissions\n",
    "output_prefix_data_submissions = f\"project/submissions/yyyy=*\"\n",
    "s3_path = f\"s3a://{bucket}/{output_prefix_data_submissions}\"\n",
    "submissions = spark.read.parquet(s3_path, header=True)"
   ]
  },
  {
   "cell_type": "code",
   "execution_count": 16,
   "id": "6a6c8109-d185-417d-a22a-58c920c359b6",
   "metadata": {
    "tags": []
   },
   "outputs": [],
   "source": [
    "author_df = submissions.select(\"subreddit\", \"created_utc\",\"author\").withColumn(\"year\", f.year(\"created_utc\")) "
   ]
  },
  {
   "cell_type": "code",
   "execution_count": 17,
   "id": "598dbe7d-18f8-4c99-9063-60e5cbe64b18",
   "metadata": {
    "tags": []
   },
   "outputs": [],
   "source": [
    "news_df = author_df.filter(author_df[\"subreddit\"] == \"news\")\n",
    "worldnews_df = author_df.filter(author_df[\"subreddit\"] == \"worldnews\")"
   ]
  },
  {
   "cell_type": "code",
   "execution_count": 20,
   "id": "62252c93-0b81-4f2b-b990-2680ff557467",
   "metadata": {
    "tags": []
   },
   "outputs": [],
   "source": [
    "#function to aggregate data\n",
    "def author_agg(df, num):\n",
    "    new_df = df.groupBy(\"author\").agg(f.count(\"*\").alias(\"submission_count\")) \\\n",
    "                          .filter(f.col(\"submission_count\") > num)\n",
    "    return new_df"
   ]
  },
  {
   "cell_type": "code",
   "execution_count": 21,
   "id": "bc3d3354-49aa-431a-8514-1894aef338f6",
   "metadata": {
    "tags": []
   },
   "outputs": [],
   "source": [
    "news_df_filtered = author_agg(news_df,5000)"
   ]
  },
  {
   "cell_type": "code",
   "execution_count": 22,
   "id": "ef1926ca-f74c-480e-9a47-dcd662a8176c",
   "metadata": {
    "tags": []
   },
   "outputs": [
    {
     "name": "stderr",
     "output_type": "stream",
     "text": [
      "                                                                                \r"
     ]
    }
   ],
   "source": [
    "#getting top users\n",
    "top_news_authors = news_df_filtered.orderBy(f.desc(\"submission_count\")).limit(11).toPandas()"
   ]
  },
  {
   "cell_type": "code",
   "execution_count": 24,
   "id": "814351a1-5c0c-4174-8727-086446d50057",
   "metadata": {
    "tags": []
   },
   "outputs": [],
   "source": [
    "top_news_authors.to_csv('../data/csv/top_news_authors.csv', index = False)"
   ]
  },
  {
   "cell_type": "code",
   "execution_count": 25,
   "id": "114eb36e-823c-400d-9431-930bb093ac3f",
   "metadata": {
    "tags": []
   },
   "outputs": [],
   "source": [
    "#same as above\n",
    "worldnews_df_filtered = author_agg(worldnews_df,5000)"
   ]
  },
  {
   "cell_type": "code",
   "execution_count": 26,
   "id": "e77af91b-4d51-477c-82ba-5f0349c30817",
   "metadata": {
    "tags": []
   },
   "outputs": [
    {
     "name": "stderr",
     "output_type": "stream",
     "text": [
      "                                                                                \r"
     ]
    }
   ],
   "source": [
    "top_worldnews_authors = worldnews_df_filtered.orderBy(f.desc(\"submission_count\")).limit(11).toPandas()"
   ]
  },
  {
   "cell_type": "code",
   "execution_count": 27,
   "id": "2b35c6ef-895d-43fe-aeec-17ebb001ac05",
   "metadata": {
    "tags": []
   },
   "outputs": [
    {
     "data": {
      "text/html": [
       "<div>\n",
       "<style scoped>\n",
       "    .dataframe tbody tr th:only-of-type {\n",
       "        vertical-align: middle;\n",
       "    }\n",
       "\n",
       "    .dataframe tbody tr th {\n",
       "        vertical-align: top;\n",
       "    }\n",
       "\n",
       "    .dataframe thead th {\n",
       "        text-align: right;\n",
       "    }\n",
       "</style>\n",
       "<table border=\"1\" class=\"dataframe\">\n",
       "  <thead>\n",
       "    <tr style=\"text-align: right;\">\n",
       "      <th></th>\n",
       "      <th>author</th>\n",
       "      <th>submission_count</th>\n",
       "    </tr>\n",
       "  </thead>\n",
       "  <tbody>\n",
       "    <tr>\n",
       "      <th>0</th>\n",
       "      <td>[deleted]</td>\n",
       "      <td>114086</td>\n",
       "    </tr>\n",
       "    <tr>\n",
       "      <th>1</th>\n",
       "      <td>harryg888</td>\n",
       "      <td>57339</td>\n",
       "    </tr>\n",
       "    <tr>\n",
       "      <th>2</th>\n",
       "      <td>theworldnnews</td>\n",
       "      <td>5509</td>\n",
       "    </tr>\n",
       "    <tr>\n",
       "      <th>3</th>\n",
       "      <td>AdrienSergent</td>\n",
       "      <td>5139</td>\n",
       "    </tr>\n",
       "    <tr>\n",
       "      <th>4</th>\n",
       "      <td>Infoseven7</td>\n",
       "      <td>5107</td>\n",
       "    </tr>\n",
       "  </tbody>\n",
       "</table>\n",
       "</div>"
      ],
      "text/plain": [
       "          author  submission_count\n",
       "0      [deleted]            114086\n",
       "1      harryg888             57339\n",
       "2  theworldnnews              5509\n",
       "3  AdrienSergent              5139\n",
       "4     Infoseven7              5107"
      ]
     },
     "execution_count": 27,
     "metadata": {},
     "output_type": "execute_result"
    }
   ],
   "source": [
    "top_worldnews_authors"
   ]
  },
  {
   "cell_type": "code",
   "execution_count": 28,
   "id": "73657c4f-52d8-4cc6-b3fa-574c87b873ad",
   "metadata": {
    "tags": []
   },
   "outputs": [],
   "source": [
    "top_worldnews_authors.to_csv('../data/csv/top_worldnews_authors.csv', index = False)"
   ]
  },
  {
   "cell_type": "code",
   "execution_count": null,
   "id": "a7aea20a-9394-4e94-b021-fafe03c23a6a",
   "metadata": {},
   "outputs": [],
   "source": []
  }
 ],
 "metadata": {
  "availableInstances": [
   {
    "_defaultOrder": 0,
    "_isFastLaunch": true,
    "category": "General purpose",
    "gpuNum": 0,
    "hideHardwareSpecs": false,
    "memoryGiB": 4,
    "name": "ml.t3.medium",
    "vcpuNum": 2
   },
   {
    "_defaultOrder": 1,
    "_isFastLaunch": false,
    "category": "General purpose",
    "gpuNum": 0,
    "hideHardwareSpecs": false,
    "memoryGiB": 8,
    "name": "ml.t3.large",
    "vcpuNum": 2
   },
   {
    "_defaultOrder": 2,
    "_isFastLaunch": false,
    "category": "General purpose",
    "gpuNum": 0,
    "hideHardwareSpecs": false,
    "memoryGiB": 16,
    "name": "ml.t3.xlarge",
    "vcpuNum": 4
   },
   {
    "_defaultOrder": 3,
    "_isFastLaunch": false,
    "category": "General purpose",
    "gpuNum": 0,
    "hideHardwareSpecs": false,
    "memoryGiB": 32,
    "name": "ml.t3.2xlarge",
    "vcpuNum": 8
   },
   {
    "_defaultOrder": 4,
    "_isFastLaunch": true,
    "category": "General purpose",
    "gpuNum": 0,
    "hideHardwareSpecs": false,
    "memoryGiB": 8,
    "name": "ml.m5.large",
    "vcpuNum": 2
   },
   {
    "_defaultOrder": 5,
    "_isFastLaunch": false,
    "category": "General purpose",
    "gpuNum": 0,
    "hideHardwareSpecs": false,
    "memoryGiB": 16,
    "name": "ml.m5.xlarge",
    "vcpuNum": 4
   },
   {
    "_defaultOrder": 6,
    "_isFastLaunch": false,
    "category": "General purpose",
    "gpuNum": 0,
    "hideHardwareSpecs": false,
    "memoryGiB": 32,
    "name": "ml.m5.2xlarge",
    "vcpuNum": 8
   },
   {
    "_defaultOrder": 7,
    "_isFastLaunch": false,
    "category": "General purpose",
    "gpuNum": 0,
    "hideHardwareSpecs": false,
    "memoryGiB": 64,
    "name": "ml.m5.4xlarge",
    "vcpuNum": 16
   },
   {
    "_defaultOrder": 8,
    "_isFastLaunch": false,
    "category": "General purpose",
    "gpuNum": 0,
    "hideHardwareSpecs": false,
    "memoryGiB": 128,
    "name": "ml.m5.8xlarge",
    "vcpuNum": 32
   },
   {
    "_defaultOrder": 9,
    "_isFastLaunch": false,
    "category": "General purpose",
    "gpuNum": 0,
    "hideHardwareSpecs": false,
    "memoryGiB": 192,
    "name": "ml.m5.12xlarge",
    "vcpuNum": 48
   },
   {
    "_defaultOrder": 10,
    "_isFastLaunch": false,
    "category": "General purpose",
    "gpuNum": 0,
    "hideHardwareSpecs": false,
    "memoryGiB": 256,
    "name": "ml.m5.16xlarge",
    "vcpuNum": 64
   },
   {
    "_defaultOrder": 11,
    "_isFastLaunch": false,
    "category": "General purpose",
    "gpuNum": 0,
    "hideHardwareSpecs": false,
    "memoryGiB": 384,
    "name": "ml.m5.24xlarge",
    "vcpuNum": 96
   },
   {
    "_defaultOrder": 12,
    "_isFastLaunch": false,
    "category": "General purpose",
    "gpuNum": 0,
    "hideHardwareSpecs": false,
    "memoryGiB": 8,
    "name": "ml.m5d.large",
    "vcpuNum": 2
   },
   {
    "_defaultOrder": 13,
    "_isFastLaunch": false,
    "category": "General purpose",
    "gpuNum": 0,
    "hideHardwareSpecs": false,
    "memoryGiB": 16,
    "name": "ml.m5d.xlarge",
    "vcpuNum": 4
   },
   {
    "_defaultOrder": 14,
    "_isFastLaunch": false,
    "category": "General purpose",
    "gpuNum": 0,
    "hideHardwareSpecs": false,
    "memoryGiB": 32,
    "name": "ml.m5d.2xlarge",
    "vcpuNum": 8
   },
   {
    "_defaultOrder": 15,
    "_isFastLaunch": false,
    "category": "General purpose",
    "gpuNum": 0,
    "hideHardwareSpecs": false,
    "memoryGiB": 64,
    "name": "ml.m5d.4xlarge",
    "vcpuNum": 16
   },
   {
    "_defaultOrder": 16,
    "_isFastLaunch": false,
    "category": "General purpose",
    "gpuNum": 0,
    "hideHardwareSpecs": false,
    "memoryGiB": 128,
    "name": "ml.m5d.8xlarge",
    "vcpuNum": 32
   },
   {
    "_defaultOrder": 17,
    "_isFastLaunch": false,
    "category": "General purpose",
    "gpuNum": 0,
    "hideHardwareSpecs": false,
    "memoryGiB": 192,
    "name": "ml.m5d.12xlarge",
    "vcpuNum": 48
   },
   {
    "_defaultOrder": 18,
    "_isFastLaunch": false,
    "category": "General purpose",
    "gpuNum": 0,
    "hideHardwareSpecs": false,
    "memoryGiB": 256,
    "name": "ml.m5d.16xlarge",
    "vcpuNum": 64
   },
   {
    "_defaultOrder": 19,
    "_isFastLaunch": false,
    "category": "General purpose",
    "gpuNum": 0,
    "hideHardwareSpecs": false,
    "memoryGiB": 384,
    "name": "ml.m5d.24xlarge",
    "vcpuNum": 96
   },
   {
    "_defaultOrder": 20,
    "_isFastLaunch": false,
    "category": "General purpose",
    "gpuNum": 0,
    "hideHardwareSpecs": true,
    "memoryGiB": 0,
    "name": "ml.geospatial.interactive",
    "supportedImageNames": [
     "sagemaker-geospatial-v1-0"
    ],
    "vcpuNum": 0
   },
   {
    "_defaultOrder": 21,
    "_isFastLaunch": true,
    "category": "Compute optimized",
    "gpuNum": 0,
    "hideHardwareSpecs": false,
    "memoryGiB": 4,
    "name": "ml.c5.large",
    "vcpuNum": 2
   },
   {
    "_defaultOrder": 22,
    "_isFastLaunch": false,
    "category": "Compute optimized",
    "gpuNum": 0,
    "hideHardwareSpecs": false,
    "memoryGiB": 8,
    "name": "ml.c5.xlarge",
    "vcpuNum": 4
   },
   {
    "_defaultOrder": 23,
    "_isFastLaunch": false,
    "category": "Compute optimized",
    "gpuNum": 0,
    "hideHardwareSpecs": false,
    "memoryGiB": 16,
    "name": "ml.c5.2xlarge",
    "vcpuNum": 8
   },
   {
    "_defaultOrder": 24,
    "_isFastLaunch": false,
    "category": "Compute optimized",
    "gpuNum": 0,
    "hideHardwareSpecs": false,
    "memoryGiB": 32,
    "name": "ml.c5.4xlarge",
    "vcpuNum": 16
   },
   {
    "_defaultOrder": 25,
    "_isFastLaunch": false,
    "category": "Compute optimized",
    "gpuNum": 0,
    "hideHardwareSpecs": false,
    "memoryGiB": 72,
    "name": "ml.c5.9xlarge",
    "vcpuNum": 36
   },
   {
    "_defaultOrder": 26,
    "_isFastLaunch": false,
    "category": "Compute optimized",
    "gpuNum": 0,
    "hideHardwareSpecs": false,
    "memoryGiB": 96,
    "name": "ml.c5.12xlarge",
    "vcpuNum": 48
   },
   {
    "_defaultOrder": 27,
    "_isFastLaunch": false,
    "category": "Compute optimized",
    "gpuNum": 0,
    "hideHardwareSpecs": false,
    "memoryGiB": 144,
    "name": "ml.c5.18xlarge",
    "vcpuNum": 72
   },
   {
    "_defaultOrder": 28,
    "_isFastLaunch": false,
    "category": "Compute optimized",
    "gpuNum": 0,
    "hideHardwareSpecs": false,
    "memoryGiB": 192,
    "name": "ml.c5.24xlarge",
    "vcpuNum": 96
   },
   {
    "_defaultOrder": 29,
    "_isFastLaunch": true,
    "category": "Accelerated computing",
    "gpuNum": 1,
    "hideHardwareSpecs": false,
    "memoryGiB": 16,
    "name": "ml.g4dn.xlarge",
    "vcpuNum": 4
   },
   {
    "_defaultOrder": 30,
    "_isFastLaunch": false,
    "category": "Accelerated computing",
    "gpuNum": 1,
    "hideHardwareSpecs": false,
    "memoryGiB": 32,
    "name": "ml.g4dn.2xlarge",
    "vcpuNum": 8
   },
   {
    "_defaultOrder": 31,
    "_isFastLaunch": false,
    "category": "Accelerated computing",
    "gpuNum": 1,
    "hideHardwareSpecs": false,
    "memoryGiB": 64,
    "name": "ml.g4dn.4xlarge",
    "vcpuNum": 16
   },
   {
    "_defaultOrder": 32,
    "_isFastLaunch": false,
    "category": "Accelerated computing",
    "gpuNum": 1,
    "hideHardwareSpecs": false,
    "memoryGiB": 128,
    "name": "ml.g4dn.8xlarge",
    "vcpuNum": 32
   },
   {
    "_defaultOrder": 33,
    "_isFastLaunch": false,
    "category": "Accelerated computing",
    "gpuNum": 4,
    "hideHardwareSpecs": false,
    "memoryGiB": 192,
    "name": "ml.g4dn.12xlarge",
    "vcpuNum": 48
   },
   {
    "_defaultOrder": 34,
    "_isFastLaunch": false,
    "category": "Accelerated computing",
    "gpuNum": 1,
    "hideHardwareSpecs": false,
    "memoryGiB": 256,
    "name": "ml.g4dn.16xlarge",
    "vcpuNum": 64
   },
   {
    "_defaultOrder": 35,
    "_isFastLaunch": false,
    "category": "Accelerated computing",
    "gpuNum": 1,
    "hideHardwareSpecs": false,
    "memoryGiB": 61,
    "name": "ml.p3.2xlarge",
    "vcpuNum": 8
   },
   {
    "_defaultOrder": 36,
    "_isFastLaunch": false,
    "category": "Accelerated computing",
    "gpuNum": 4,
    "hideHardwareSpecs": false,
    "memoryGiB": 244,
    "name": "ml.p3.8xlarge",
    "vcpuNum": 32
   },
   {
    "_defaultOrder": 37,
    "_isFastLaunch": false,
    "category": "Accelerated computing",
    "gpuNum": 8,
    "hideHardwareSpecs": false,
    "memoryGiB": 488,
    "name": "ml.p3.16xlarge",
    "vcpuNum": 64
   },
   {
    "_defaultOrder": 38,
    "_isFastLaunch": false,
    "category": "Accelerated computing",
    "gpuNum": 8,
    "hideHardwareSpecs": false,
    "memoryGiB": 768,
    "name": "ml.p3dn.24xlarge",
    "vcpuNum": 96
   },
   {
    "_defaultOrder": 39,
    "_isFastLaunch": false,
    "category": "Memory Optimized",
    "gpuNum": 0,
    "hideHardwareSpecs": false,
    "memoryGiB": 16,
    "name": "ml.r5.large",
    "vcpuNum": 2
   },
   {
    "_defaultOrder": 40,
    "_isFastLaunch": false,
    "category": "Memory Optimized",
    "gpuNum": 0,
    "hideHardwareSpecs": false,
    "memoryGiB": 32,
    "name": "ml.r5.xlarge",
    "vcpuNum": 4
   },
   {
    "_defaultOrder": 41,
    "_isFastLaunch": false,
    "category": "Memory Optimized",
    "gpuNum": 0,
    "hideHardwareSpecs": false,
    "memoryGiB": 64,
    "name": "ml.r5.2xlarge",
    "vcpuNum": 8
   },
   {
    "_defaultOrder": 42,
    "_isFastLaunch": false,
    "category": "Memory Optimized",
    "gpuNum": 0,
    "hideHardwareSpecs": false,
    "memoryGiB": 128,
    "name": "ml.r5.4xlarge",
    "vcpuNum": 16
   },
   {
    "_defaultOrder": 43,
    "_isFastLaunch": false,
    "category": "Memory Optimized",
    "gpuNum": 0,
    "hideHardwareSpecs": false,
    "memoryGiB": 256,
    "name": "ml.r5.8xlarge",
    "vcpuNum": 32
   },
   {
    "_defaultOrder": 44,
    "_isFastLaunch": false,
    "category": "Memory Optimized",
    "gpuNum": 0,
    "hideHardwareSpecs": false,
    "memoryGiB": 384,
    "name": "ml.r5.12xlarge",
    "vcpuNum": 48
   },
   {
    "_defaultOrder": 45,
    "_isFastLaunch": false,
    "category": "Memory Optimized",
    "gpuNum": 0,
    "hideHardwareSpecs": false,
    "memoryGiB": 512,
    "name": "ml.r5.16xlarge",
    "vcpuNum": 64
   },
   {
    "_defaultOrder": 46,
    "_isFastLaunch": false,
    "category": "Memory Optimized",
    "gpuNum": 0,
    "hideHardwareSpecs": false,
    "memoryGiB": 768,
    "name": "ml.r5.24xlarge",
    "vcpuNum": 96
   },
   {
    "_defaultOrder": 47,
    "_isFastLaunch": false,
    "category": "Accelerated computing",
    "gpuNum": 1,
    "hideHardwareSpecs": false,
    "memoryGiB": 16,
    "name": "ml.g5.xlarge",
    "vcpuNum": 4
   },
   {
    "_defaultOrder": 48,
    "_isFastLaunch": false,
    "category": "Accelerated computing",
    "gpuNum": 1,
    "hideHardwareSpecs": false,
    "memoryGiB": 32,
    "name": "ml.g5.2xlarge",
    "vcpuNum": 8
   },
   {
    "_defaultOrder": 49,
    "_isFastLaunch": false,
    "category": "Accelerated computing",
    "gpuNum": 1,
    "hideHardwareSpecs": false,
    "memoryGiB": 64,
    "name": "ml.g5.4xlarge",
    "vcpuNum": 16
   },
   {
    "_defaultOrder": 50,
    "_isFastLaunch": false,
    "category": "Accelerated computing",
    "gpuNum": 1,
    "hideHardwareSpecs": false,
    "memoryGiB": 128,
    "name": "ml.g5.8xlarge",
    "vcpuNum": 32
   },
   {
    "_defaultOrder": 51,
    "_isFastLaunch": false,
    "category": "Accelerated computing",
    "gpuNum": 1,
    "hideHardwareSpecs": false,
    "memoryGiB": 256,
    "name": "ml.g5.16xlarge",
    "vcpuNum": 64
   },
   {
    "_defaultOrder": 52,
    "_isFastLaunch": false,
    "category": "Accelerated computing",
    "gpuNum": 4,
    "hideHardwareSpecs": false,
    "memoryGiB": 192,
    "name": "ml.g5.12xlarge",
    "vcpuNum": 48
   },
   {
    "_defaultOrder": 53,
    "_isFastLaunch": false,
    "category": "Accelerated computing",
    "gpuNum": 4,
    "hideHardwareSpecs": false,
    "memoryGiB": 384,
    "name": "ml.g5.24xlarge",
    "vcpuNum": 96
   },
   {
    "_defaultOrder": 54,
    "_isFastLaunch": false,
    "category": "Accelerated computing",
    "gpuNum": 8,
    "hideHardwareSpecs": false,
    "memoryGiB": 768,
    "name": "ml.g5.48xlarge",
    "vcpuNum": 192
   },
   {
    "_defaultOrder": 55,
    "_isFastLaunch": false,
    "category": "Accelerated computing",
    "gpuNum": 8,
    "hideHardwareSpecs": false,
    "memoryGiB": 1152,
    "name": "ml.p4d.24xlarge",
    "vcpuNum": 96
   },
   {
    "_defaultOrder": 56,
    "_isFastLaunch": false,
    "category": "Accelerated computing",
    "gpuNum": 8,
    "hideHardwareSpecs": false,
    "memoryGiB": 1152,
    "name": "ml.p4de.24xlarge",
    "vcpuNum": 96
   },
   {
    "_defaultOrder": 57,
    "_isFastLaunch": false,
    "category": "Accelerated computing",
    "gpuNum": 0,
    "hideHardwareSpecs": false,
    "memoryGiB": 32,
    "name": "ml.trn1.2xlarge",
    "vcpuNum": 8
   },
   {
    "_defaultOrder": 58,
    "_isFastLaunch": false,
    "category": "Accelerated computing",
    "gpuNum": 0,
    "hideHardwareSpecs": false,
    "memoryGiB": 512,
    "name": "ml.trn1.32xlarge",
    "vcpuNum": 128
   },
   {
    "_defaultOrder": 59,
    "_isFastLaunch": false,
    "category": "Accelerated computing",
    "gpuNum": 0,
    "hideHardwareSpecs": false,
    "memoryGiB": 512,
    "name": "ml.trn1n.32xlarge",
    "vcpuNum": 128
   }
  ],
  "instance_type": "ml.t3.xlarge",
  "kernelspec": {
   "display_name": "Python 3 (ipykernel)",
   "language": "python",
   "name": "python3"
  },
  "language_info": {
   "codemirror_mode": {
    "name": "ipython",
    "version": 3
   },
   "file_extension": ".py",
   "mimetype": "text/x-python",
   "name": "python",
   "nbconvert_exporter": "python",
   "pygments_lexer": "ipython3",
   "version": "3.11.5"
  }
 },
 "nbformat": 4,
 "nbformat_minor": 5
}
