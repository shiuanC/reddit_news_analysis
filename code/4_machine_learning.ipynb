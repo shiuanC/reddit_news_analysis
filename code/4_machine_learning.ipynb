{
 "cells": [
  {
   "cell_type": "markdown",
   "id": "ff8b3409-9a90-44c8-84f2-68ee97cfc3d4",
   "metadata": {},
   "source": [
    "# Machine Learning"
   ]
  },
  {
   "cell_type": "code",
   "execution_count": 1,
   "id": "454feb8c-4414-4044-931c-597c4bd3401c",
   "metadata": {
    "tags": []
   },
   "outputs": [
    {
     "name": "stdout",
     "output_type": "stream",
     "text": [
      "\n",
      "Downloading and Extracting Packages:\n",
      "\n",
      "Preparing transaction: done\n",
      "Verifying transaction: done\n",
      "Executing transaction: done\n",
      "\n",
      "Note: you may need to restart the kernel to use updated packages.\n",
      "Requirement already satisfied: sagemaker_pyspark in /opt/conda/lib/python3.10/site-packages (1.4.5)\n",
      "Requirement already satisfied: pyspark==3.3.0 in /opt/conda/lib/python3.10/site-packages (from sagemaker_pyspark) (3.3.0)\n",
      "Requirement already satisfied: numpy in /opt/conda/lib/python3.10/site-packages (from sagemaker_pyspark) (1.26.4)\n",
      "Requirement already satisfied: py4j==0.10.9.5 in /opt/conda/lib/python3.10/site-packages (from pyspark==3.3.0->sagemaker_pyspark) (0.10.9.5)\n",
      "\u001b[33mWARNING: Running pip as the 'root' user can result in broken permissions and conflicting behaviour with the system package manager. It is recommended to use a virtual environment instead: https://pip.pypa.io/warnings/venv\u001b[0m\u001b[33m\n",
      "\u001b[0m"
     ]
    },
    {
     "data": {
      "text/html": [
       "<script>Jupyter.notebook.kernel.restart()</script>"
      ],
      "text/plain": [
       "<IPython.core.display.HTML object>"
      ]
     },
     "execution_count": 1,
     "metadata": {},
     "output_type": "execute_result"
    }
   ],
   "source": [
    "# Setup - Run only once per Kernel App\n",
    "%conda install https://anaconda.org/conda-forge/openjdk/11.0.1/download/linux-64/openjdk-11.0.1-hacce0ff_1021.tar.bz2\n",
    "\n",
    "# install PySpark\n",
    "!pip install sagemaker_pyspark\n",
    "\n",
    "# restart kernel\n",
    "from IPython.core.display import HTML\n",
    "HTML(\"<script>Jupyter.notebook.kernel.restart()</script>\")"
   ]
  },
  {
   "cell_type": "code",
   "execution_count": 2,
   "id": "f0c9d138-de91-4b19-9622-786772e0d5ed",
   "metadata": {
    "tags": []
   },
   "outputs": [
    {
     "name": "stdout",
     "output_type": "stream",
     "text": [
      "sagemaker.config INFO - Not applying SDK defaults from location: /etc/xdg/sagemaker/config.yaml\n",
      "sagemaker.config INFO - Not applying SDK defaults from location: /root/.config/sagemaker/config.yaml\n"
     ]
    }
   ],
   "source": [
    "import sagemaker\n",
    "sess = sagemaker.Session()\n",
    "bucket = sess.default_bucket()"
   ]
  },
  {
   "cell_type": "code",
   "execution_count": 3,
   "id": "4a253258-676c-4fb8-9a7a-871e7eee7ad4",
   "metadata": {
    "tags": []
   },
   "outputs": [
    {
     "name": "stderr",
     "output_type": "stream",
     "text": [
      "Warning: Ignoring non-Spark config property: fs.s3a.aws.credentials.provider\n"
     ]
    },
    {
     "name": "stdout",
     "output_type": "stream",
     "text": [
      ":: loading settings :: url = jar:file:/opt/conda/lib/python3.10/site-packages/pyspark/jars/ivy-2.5.0.jar!/org/apache/ivy/core/settings/ivysettings.xml\n"
     ]
    },
    {
     "name": "stderr",
     "output_type": "stream",
     "text": [
      "Ivy Default Cache set to: /root/.ivy2/cache\n",
      "The jars for the packages stored in: /root/.ivy2/jars\n",
      "org.apache.hadoop#hadoop-aws added as a dependency\n",
      ":: resolving dependencies :: org.apache.spark#spark-submit-parent-9e2da41e-687e-4cee-ab97-cf5244ff7ab4;1.0\n",
      "\tconfs: [default]\n",
      "\tfound org.apache.hadoop#hadoop-aws;3.2.2 in central\n",
      "\tfound com.amazonaws#aws-java-sdk-bundle;1.11.563 in central\n",
      ":: resolution report :: resolve 327ms :: artifacts dl 21ms\n",
      "\t:: modules in use:\n",
      "\tcom.amazonaws#aws-java-sdk-bundle;1.11.563 from central in [default]\n",
      "\torg.apache.hadoop#hadoop-aws;3.2.2 from central in [default]\n",
      "\t---------------------------------------------------------------------\n",
      "\t|                  |            modules            ||   artifacts   |\n",
      "\t|       conf       | number| search|dwnlded|evicted|| number|dwnlded|\n",
      "\t---------------------------------------------------------------------\n",
      "\t|      default     |   2   |   0   |   0   |   0   ||   2   |   0   |\n",
      "\t---------------------------------------------------------------------\n",
      ":: retrieving :: org.apache.spark#spark-submit-parent-9e2da41e-687e-4cee-ab97-cf5244ff7ab4\n",
      "\tconfs: [default]\n",
      "\t0 artifacts copied, 2 already retrieved (0kB/10ms)\n"
     ]
    },
    {
     "name": "stdout",
     "output_type": "stream",
     "text": [
      "24/04/28 19:58:31 WARN NativeCodeLoader: Unable to load native-hadoop library for your platform... using builtin-java classes where applicable\n"
     ]
    },
    {
     "name": "stderr",
     "output_type": "stream",
     "text": [
      "Setting default log level to \"WARN\".\n",
      "To adjust logging level use sc.setLogLevel(newLevel). For SparkR, use setLogLevel(newLevel).\n"
     ]
    }
   ],
   "source": [
    "from pyspark.sql import SparkSession\n",
    "\n",
    "spark = (\n",
    "    SparkSession.builder.appName(\"PySparkApp\")\n",
    "    .config(\"spark.jars.packages\", \"org.apache.hadoop:hadoop-aws:3.2.2\")\n",
    "    .config(\n",
    "        \"fs.s3a.aws.credentials.provider\",\n",
    "        \"com.amazonaws.auth.ContainerCredentialsProvider\",\n",
    "    )\n",
    "    .getOrCreate()\n",
    ")"
   ]
  },
  {
   "cell_type": "code",
   "execution_count": 4,
   "id": "e2254971-7a41-485c-a13f-d854a98fb932",
   "metadata": {
    "tags": []
   },
   "outputs": [
    {
     "name": "stdout",
     "output_type": "stream",
     "text": [
      "24/04/28 19:48:28 WARN MetricsConfig: Cannot locate configuration: tried hadoop-metrics2-s3a-file-system.properties,hadoop-metrics2.properties\n"
     ]
    },
    {
     "name": "stderr",
     "output_type": "stream",
     "text": [
      "                                                                                \r"
     ]
    }
   ],
   "source": [
    "output_prefix_data_submissions = \"project/clean_topic_data.parquet\"\n",
    "s3_path = f\"s3a://{bucket}/{output_prefix_data_submissions}\"\n",
    "total_df = spark.read.parquet(s3_path, header=True)"
   ]
  },
  {
   "cell_type": "code",
   "execution_count": 87,
   "id": "6465700d-5327-4577-953c-26bb301af58e",
   "metadata": {
    "tags": []
   },
   "outputs": [],
   "source": [
    "import pyspark.sql.functions as f"
   ]
  },
  {
   "cell_type": "code",
   "execution_count": 7,
   "id": "cc22b745-91d4-4ee9-adf4-7c2c5ba72552",
   "metadata": {
    "tags": []
   },
   "outputs": [],
   "source": [
    "total_df = total_df.withColumn('misinfo_class', \n",
    "                    f.when(total_df.misinfo_class == True, 1)\\\n",
    "                    .otherwise(0))"
   ]
  },
  {
   "cell_type": "code",
   "execution_count": 8,
   "id": "39f98307-1a66-4033-9d51-d7efcb5aa2be",
   "metadata": {
    "tags": []
   },
   "outputs": [],
   "source": [
    "#recode true/false to 0 and 1 and get count of misinfo articles\n",
    "cnt_cond = lambda cond: f.sum(f.when(cond, 1).otherwise(0))\n",
    "misinfo_titles = total_df.groupby('id').agg(cnt_cond(f.col(\"misinfo_class\") == 1).alias('true_count'))\n",
    "\n",
    "#use count to show when articles have misinfo comments\n",
    "misinfo_titles = misinfo_titles.withColumn('label', f.when(misinfo_titles.true_count > 0, 'perceived misinfo')\\\n",
    "                    .otherwise('no perceived misinfo')) "
   ]
  },
  {
   "cell_type": "code",
   "execution_count": 9,
   "id": "aa8561b5-dc49-4f69-a600-faad85a75f81",
   "metadata": {
    "tags": []
   },
   "outputs": [],
   "source": [
    "mini_df = total_df.select('id','title','topic')"
   ]
  },
  {
   "cell_type": "code",
   "execution_count": 10,
   "id": "6c8547e7-a6c7-43f3-8be3-8b561580ad0f",
   "metadata": {
    "tags": []
   },
   "outputs": [],
   "source": [
    "#merge dataframes\n",
    "ml_df = misinfo_titles.join(mini_df, 'id')"
   ]
  },
  {
   "cell_type": "code",
   "execution_count": 11,
   "id": "29859fda-6be6-4fb2-9a6f-c9288d767927",
   "metadata": {
    "tags": []
   },
   "outputs": [],
   "source": [
    "#droping duplicates\n",
    "df_sorted = ml_df.sort(ml_df.id)\n",
    "\n",
    "distinct_df = df_sorted.distinct()"
   ]
  },
  {
   "cell_type": "code",
   "execution_count": 84,
   "id": "bdd83a5a-c181-4bab-831c-ab83554a7437",
   "metadata": {
    "tags": []
   },
   "outputs": [
    {
     "name": "stderr",
     "output_type": "stream",
     "text": [
      "[Stage 85:>                                                         (0 + 1) / 1]\r"
     ]
    },
    {
     "name": "stdout",
     "output_type": "stream",
     "text": [
      "+-------+----------+--------------------+--------------------+-----------------+\n",
      "|     id|true_count|               label|               title|            topic|\n",
      "+-------+----------+--------------------+--------------------+-----------------+\n",
      "|10000r8|         0|no percieved misinfo|Who dares bins? C...|foriegn relations|\n",
      "|10004rz|         0|no percieved misinfo|Iran tests milita...|   russia&ukraine|\n",
      "|1002mg4|         0|no percieved misinfo|Netanyahu says Is...|foriegn relations|\n",
      "|10053qn|         0|no percieved misinfo|Shocking photos s...|         tv shows|\n",
      "|1005crh|         0|no percieved misinfo|North Korea opens...|foriegn relations|\n",
      "|1005hxz|         0|no percieved misinfo|Zelenskyy: Russia...|   russia&ukraine|\n",
      "|10068xa|         0|no percieved misinfo|Ukrainian Defense...|   russia&ukraine|\n",
      "|10069te|         2|   perceived misinfo|Putin Changes Gas...|   russia&ukraine|\n",
      "|1006bor|         1|   perceived misinfo|Thousands in the ...|foriegn relations|\n",
      "|1006h0e|         0|no percieved misinfo|California Bans D...|   current events|\n",
      "|1006i0y|         0|no percieved misinfo|Four senior Russi...|   current events|\n",
      "|1006ijp|         1|   perceived misinfo|‘Terror on New Ye...|   russia&ukraine|\n",
      "|1006k43|         0|no percieved misinfo|Four senior Russi...|   current events|\n",
      "|1007in5|         0|no percieved misinfo|The Biggest News ...|            covid|\n",
      "|1007v1r|         0|no percieved misinfo|North Korea's Kim...|foriegn relations|\n",
      "|1008dqw|         0|no percieved misinfo|@Reuters: Former ...|     social media|\n",
      "|1008gp3|         0|no percieved misinfo|Holiday cruise fr...|   russia&ukraine|\n",
      "|1008s2g|         2|   perceived misinfo|Croatia welcomes ...|   current events|\n",
      "|1009o6v|         0|no percieved misinfo|Venezuelan opposi...|foriegn relations|\n",
      "|1009vk6|         1|   perceived misinfo|Australian govern...|     social media|\n",
      "+-------+----------+--------------------+--------------------+-----------------+\n",
      "only showing top 20 rows\n",
      "\n"
     ]
    },
    {
     "name": "stderr",
     "output_type": "stream",
     "text": [
      "                                                                                \r"
     ]
    }
   ],
   "source": [
    "distinct_df.show()"
   ]
  },
  {
   "cell_type": "code",
   "execution_count": 12,
   "id": "3d5e11d4-ebf1-4428-8601-6f146828b8bd",
   "metadata": {
    "tags": []
   },
   "outputs": [
    {
     "name": "stderr",
     "output_type": "stream",
     "text": [
      "[Stage 5:>                                                          (0 + 4) / 5]\r"
     ]
    },
    {
     "name": "stdout",
     "output_type": "stream",
     "text": [
      "24/04/28 19:49:19 WARN RowBasedKeyValueBatch: Calling spill() on RowBasedKeyValueBatch. Will not spill but return 0.\n",
      "24/04/28 19:49:19 WARN RowBasedKeyValueBatch: Calling spill() on RowBasedKeyValueBatch. Will not spill but return 0.\n",
      "24/04/28 19:49:19 WARN RowBasedKeyValueBatch: Calling spill() on RowBasedKeyValueBatch. Will not spill but return 0.\n",
      "24/04/28 19:49:19 WARN RowBasedKeyValueBatch: Calling spill() on RowBasedKeyValueBatch. Will not spill but return 0.\n",
      "24/04/28 19:49:19 WARN RowBasedKeyValueBatch: Calling spill() on RowBasedKeyValueBatch. Will not spill but return 0.\n",
      "24/04/28 19:49:19 WARN RowBasedKeyValueBatch: Calling spill() on RowBasedKeyValueBatch. Will not spill but return 0.\n",
      "24/04/28 19:49:19 WARN RowBasedKeyValueBatch: Calling spill() on RowBasedKeyValueBatch. Will not spill but return 0.\n",
      "24/04/28 19:49:19 WARN RowBasedKeyValueBatch: Calling spill() on RowBasedKeyValueBatch. Will not spill but return 0.\n",
      "24/04/28 19:49:20 WARN RowBasedKeyValueBatch: Calling spill() on RowBasedKeyValueBatch. Will not spill but return 0.\n",
      "24/04/28 19:49:20 WARN RowBasedKeyValueBatch: Calling spill() on RowBasedKeyValueBatch. Will not spill but return 0.\n",
      "24/04/28 19:49:20 WARN RowBasedKeyValueBatch: Calling spill() on RowBasedKeyValueBatch. Will not spill but return 0.\n",
      "24/04/28 19:49:20 WARN RowBasedKeyValueBatch: Calling spill() on RowBasedKeyValueBatch. Will not spill but return 0.\n",
      "24/04/28 19:49:20 WARN RowBasedKeyValueBatch: Calling spill() on RowBasedKeyValueBatch. Will not spill but return 0.\n",
      "24/04/28 19:49:20 WARN RowBasedKeyValueBatch: Calling spill() on RowBasedKeyValueBatch. Will not spill but return 0.\n",
      "24/04/28 19:49:20 WARN RowBasedKeyValueBatch: Calling spill() on RowBasedKeyValueBatch. Will not spill but return 0.\n",
      "24/04/28 19:49:21 WARN RowBasedKeyValueBatch: Calling spill() on RowBasedKeyValueBatch. Will not spill but return 0.\n",
      "24/04/28 19:49:21 WARN RowBasedKeyValueBatch: Calling spill() on RowBasedKeyValueBatch. Will not spill but return 0.\n",
      "24/04/28 19:49:21 WARN RowBasedKeyValueBatch: Calling spill() on RowBasedKeyValueBatch. Will not spill but return 0.\n",
      "24/04/28 19:49:21 WARN RowBasedKeyValueBatch: Calling spill() on RowBasedKeyValueBatch. Will not spill but return 0.\n",
      "24/04/28 19:49:21 WARN RowBasedKeyValueBatch: Calling spill() on RowBasedKeyValueBatch. Will not spill but return 0.\n",
      "24/04/28 19:49:21 WARN RowBasedKeyValueBatch: Calling spill() on RowBasedKeyValueBatch. Will not spill but return 0.\n",
      "24/04/28 19:49:21 WARN RowBasedKeyValueBatch: Calling spill() on RowBasedKeyValueBatch. Will not spill but return 0.\n",
      "24/04/28 19:49:22 WARN RowBasedKeyValueBatch: Calling spill() on RowBasedKeyValueBatch. Will not spill but return 0.\n",
      "24/04/28 19:49:22 WARN RowBasedKeyValueBatch: Calling spill() on RowBasedKeyValueBatch. Will not spill but return 0.\n",
      "24/04/28 19:49:22 WARN RowBasedKeyValueBatch: Calling spill() on RowBasedKeyValueBatch. Will not spill but return 0.\n",
      "24/04/28 19:49:22 WARN RowBasedKeyValueBatch: Calling spill() on RowBasedKeyValueBatch. Will not spill but return 0.\n",
      "24/04/28 19:49:22 WARN RowBasedKeyValueBatch: Calling spill() on RowBasedKeyValueBatch. Will not spill but return 0.\n",
      "24/04/28 19:49:22 WARN RowBasedKeyValueBatch: Calling spill() on RowBasedKeyValueBatch. Will not spill but return 0.\n",
      "24/04/28 19:49:22 WARN RowBasedKeyValueBatch: Calling spill() on RowBasedKeyValueBatch. Will not spill but return 0.\n",
      "24/04/28 19:49:23 WARN RowBasedKeyValueBatch: Calling spill() on RowBasedKeyValueBatch. Will not spill but return 0.\n",
      "24/04/28 19:49:23 WARN RowBasedKeyValueBatch: Calling spill() on RowBasedKeyValueBatch. Will not spill but return 0.\n",
      "24/04/28 19:49:23 WARN RowBasedKeyValueBatch: Calling spill() on RowBasedKeyValueBatch. Will not spill but return 0.\n",
      "24/04/28 19:49:23 WARN RowBasedKeyValueBatch: Calling spill() on RowBasedKeyValueBatch. Will not spill but return 0.\n",
      "24/04/28 19:49:23 WARN RowBasedKeyValueBatch: Calling spill() on RowBasedKeyValueBatch. Will not spill but return 0.\n",
      "24/04/28 19:49:23 WARN RowBasedKeyValueBatch: Calling spill() on RowBasedKeyValueBatch. Will not spill but return 0.\n",
      "24/04/28 19:49:23 WARN RowBasedKeyValueBatch: Calling spill() on RowBasedKeyValueBatch. Will not spill but return 0.\n",
      "24/04/28 19:49:23 WARN RowBasedKeyValueBatch: Calling spill() on RowBasedKeyValueBatch. Will not spill but return 0.\n",
      "24/04/28 19:49:23 WARN RowBasedKeyValueBatch: Calling spill() on RowBasedKeyValueBatch. Will not spill but return 0.\n",
      "24/04/28 19:49:24 WARN RowBasedKeyValueBatch: Calling spill() on RowBasedKeyValueBatch. Will not spill but return 0.\n",
      "24/04/28 19:49:24 WARN RowBasedKeyValueBatch: Calling spill() on RowBasedKeyValueBatch. Will not spill but return 0.\n",
      "24/04/28 19:49:24 WARN RowBasedKeyValueBatch: Calling spill() on RowBasedKeyValueBatch. Will not spill but return 0.\n",
      "24/04/28 19:49:24 WARN RowBasedKeyValueBatch: Calling spill() on RowBasedKeyValueBatch. Will not spill but return 0.\n",
      "24/04/28 19:49:24 WARN RowBasedKeyValueBatch: Calling spill() on RowBasedKeyValueBatch. Will not spill but return 0.\n",
      "24/04/28 19:49:24 WARN RowBasedKeyValueBatch: Calling spill() on RowBasedKeyValueBatch. Will not spill but return 0.\n",
      "24/04/28 19:49:24 WARN RowBasedKeyValueBatch: Calling spill() on RowBasedKeyValueBatch. Will not spill but return 0.\n",
      "24/04/28 19:49:24 WARN RowBasedKeyValueBatch: Calling spill() on RowBasedKeyValueBatch. Will not spill but return 0.\n",
      "24/04/28 19:49:25 WARN RowBasedKeyValueBatch: Calling spill() on RowBasedKeyValueBatch. Will not spill but return 0.\n",
      "24/04/28 19:49:25 WARN RowBasedKeyValueBatch: Calling spill() on RowBasedKeyValueBatch. Will not spill but return 0.\n",
      "24/04/28 19:49:25 WARN RowBasedKeyValueBatch: Calling spill() on RowBasedKeyValueBatch. Will not spill but return 0.\n",
      "24/04/28 19:49:25 WARN RowBasedKeyValueBatch: Calling spill() on RowBasedKeyValueBatch. Will not spill but return 0.\n",
      "24/04/28 19:49:25 WARN RowBasedKeyValueBatch: Calling spill() on RowBasedKeyValueBatch. Will not spill but return 0.\n",
      "24/04/28 19:49:25 WARN RowBasedKeyValueBatch: Calling spill() on RowBasedKeyValueBatch. Will not spill but return 0.\n",
      "24/04/28 19:49:25 WARN RowBasedKeyValueBatch: Calling spill() on RowBasedKeyValueBatch. Will not spill but return 0.\n",
      "24/04/28 19:49:25 WARN RowBasedKeyValueBatch: Calling spill() on RowBasedKeyValueBatch. Will not spill but return 0.\n",
      "24/04/28 19:49:26 WARN RowBasedKeyValueBatch: Calling spill() on RowBasedKeyValueBatch. Will not spill but return 0.\n",
      "24/04/28 19:49:26 WARN RowBasedKeyValueBatch: Calling spill() on RowBasedKeyValueBatch. Will not spill but return 0.\n",
      "24/04/28 19:49:26 WARN RowBasedKeyValueBatch: Calling spill() on RowBasedKeyValueBatch. Will not spill but return 0.\n",
      "24/04/28 19:49:26 WARN RowBasedKeyValueBatch: Calling spill() on RowBasedKeyValueBatch. Will not spill but return 0.\n",
      "24/04/28 19:49:26 WARN RowBasedKeyValueBatch: Calling spill() on RowBasedKeyValueBatch. Will not spill but return 0.\n",
      "24/04/28 19:49:26 WARN RowBasedKeyValueBatch: Calling spill() on RowBasedKeyValueBatch. Will not spill but return 0.\n",
      "24/04/28 19:49:26 WARN RowBasedKeyValueBatch: Calling spill() on RowBasedKeyValueBatch. Will not spill but return 0.\n",
      "24/04/28 19:49:26 WARN RowBasedKeyValueBatch: Calling spill() on RowBasedKeyValueBatch. Will not spill but return 0.\n",
      "24/04/28 19:49:27 WARN RowBasedKeyValueBatch: Calling spill() on RowBasedKeyValueBatch. Will not spill but return 0.\n",
      "24/04/28 19:49:27 WARN RowBasedKeyValueBatch: Calling spill() on RowBasedKeyValueBatch. Will not spill but return 0.\n",
      "24/04/28 19:49:27 WARN RowBasedKeyValueBatch: Calling spill() on RowBasedKeyValueBatch. Will not spill but return 0.\n",
      "24/04/28 19:49:27 WARN RowBasedKeyValueBatch: Calling spill() on RowBasedKeyValueBatch. Will not spill but return 0.\n",
      "24/04/28 19:49:27 WARN RowBasedKeyValueBatch: Calling spill() on RowBasedKeyValueBatch. Will not spill but return 0.\n",
      "24/04/28 19:49:27 WARN RowBasedKeyValueBatch: Calling spill() on RowBasedKeyValueBatch. Will not spill but return 0.\n",
      "24/04/28 19:49:27 WARN RowBasedKeyValueBatch: Calling spill() on RowBasedKeyValueBatch. Will not spill but return 0.\n",
      "24/04/28 19:49:28 WARN RowBasedKeyValueBatch: Calling spill() on RowBasedKeyValueBatch. Will not spill but return 0.\n",
      "24/04/28 19:49:28 WARN RowBasedKeyValueBatch: Calling spill() on RowBasedKeyValueBatch. Will not spill but return 0.\n",
      "24/04/28 19:49:28 WARN RowBasedKeyValueBatch: Calling spill() on RowBasedKeyValueBatch. Will not spill but return 0.\n",
      "24/04/28 19:49:28 WARN RowBasedKeyValueBatch: Calling spill() on RowBasedKeyValueBatch. Will not spill but return 0.\n",
      "24/04/28 19:49:28 WARN RowBasedKeyValueBatch: Calling spill() on RowBasedKeyValueBatch. Will not spill but return 0.\n",
      "24/04/28 19:49:28 WARN RowBasedKeyValueBatch: Calling spill() on RowBasedKeyValueBatch. Will not spill but return 0.\n",
      "24/04/28 19:49:28 WARN RowBasedKeyValueBatch: Calling spill() on RowBasedKeyValueBatch. Will not spill but return 0.\n",
      "24/04/28 19:49:29 WARN RowBasedKeyValueBatch: Calling spill() on RowBasedKeyValueBatch. Will not spill but return 0.\n",
      "24/04/28 19:49:29 WARN RowBasedKeyValueBatch: Calling spill() on RowBasedKeyValueBatch. Will not spill but return 0.\n",
      "24/04/28 19:49:29 WARN RowBasedKeyValueBatch: Calling spill() on RowBasedKeyValueBatch. Will not spill but return 0.\n",
      "24/04/28 19:49:29 WARN RowBasedKeyValueBatch: Calling spill() on RowBasedKeyValueBatch. Will not spill but return 0.\n",
      "24/04/28 19:49:29 WARN RowBasedKeyValueBatch: Calling spill() on RowBasedKeyValueBatch. Will not spill but return 0.\n",
      "24/04/28 19:49:29 WARN RowBasedKeyValueBatch: Calling spill() on RowBasedKeyValueBatch. Will not spill but return 0.\n",
      "24/04/28 19:49:30 WARN RowBasedKeyValueBatch: Calling spill() on RowBasedKeyValueBatch. Will not spill but return 0.\n",
      "24/04/28 19:49:30 WARN RowBasedKeyValueBatch: Calling spill() on RowBasedKeyValueBatch. Will not spill but return 0.\n",
      "24/04/28 19:49:30 WARN RowBasedKeyValueBatch: Calling spill() on RowBasedKeyValueBatch. Will not spill but return 0.\n",
      "24/04/28 19:49:30 WARN RowBasedKeyValueBatch: Calling spill() on RowBasedKeyValueBatch. Will not spill but return 0.\n",
      "24/04/28 19:49:30 WARN RowBasedKeyValueBatch: Calling spill() on RowBasedKeyValueBatch. Will not spill but return 0.\n",
      "24/04/28 19:49:30 WARN RowBasedKeyValueBatch: Calling spill() on RowBasedKeyValueBatch. Will not spill but return 0.\n",
      "24/04/28 19:49:50 WARN RowBasedKeyValueBatch: Calling spill() on RowBasedKeyValueBatch. Will not spill but return 0.\n"
     ]
    },
    {
     "name": "stderr",
     "output_type": "stream",
     "text": [
      "                                                                                \r"
     ]
    }
   ],
   "source": [
    "classified_articles = distinct_df.groupby('label').count().toPandas()"
   ]
  },
  {
   "cell_type": "code",
   "execution_count": 13,
   "id": "75ebb7f8-75d2-42b0-a3a9-843daca935da",
   "metadata": {
    "tags": []
   },
   "outputs": [],
   "source": [
    "classified_articles.to_csv('../data/csv/articles_classified.csv', index = False)"
   ]
  },
  {
   "cell_type": "code",
   "execution_count": 14,
   "id": "3e40cef9-0b20-43ad-8e8d-69991c58e5b2",
   "metadata": {
    "tags": []
   },
   "outputs": [
    {
     "name": "stderr",
     "output_type": "stream",
     "text": [
      "                                                                                \r"
     ]
    }
   ],
   "source": [
    "#saving distinct article data\n",
    "bucket = sess.default_bucket()\n",
    "s3_path = f\"s3a://{bucket}/project/ml_distinct_article_data.parquet\"\n",
    "distinct_df.write.mode(\"overwrite\").parquet(s3_path)"
   ]
  },
  {
   "cell_type": "markdown",
   "id": "c262700f-7055-4e12-8e1e-be04ebd732dc",
   "metadata": {},
   "source": [
    "# Adding top words"
   ]
  },
  {
   "cell_type": "code",
   "execution_count": 15,
   "id": "5760f3f6-ae64-442c-bf28-d0ae4e482fd1",
   "metadata": {
    "tags": []
   },
   "outputs": [],
   "source": [
    "output_prefix_data_submissions = \"project/ml_distinct_article_data.parquet\"\n",
    "s3_path = f\"s3a://{bucket}/{output_prefix_data_submissions}\"\n",
    "ml_df = spark.read.parquet(s3_path, header=True)"
   ]
  },
  {
   "cell_type": "code",
   "execution_count": 13,
   "id": "835a40cf-9ecd-4623-b12c-39a2bdfbcc0b",
   "metadata": {
    "tags": []
   },
   "outputs": [],
   "source": [
    "#taking the top terms from the topic modeling tp predict misinfo articles\n",
    "terms = ['ukraine', 'russian', 'russia', 'us', 'war', 'putin', 'president', 'eu', 'china', 'ukrainian',\n",
    "         'covid', 'vaccine', 'new', 'elon', 'news', 'musk', 'hong', 'twitter', 'kong', 'court',\n",
    "'police', 'market', 'shooting', 'man', 'analysis', 'report', 'school', 'black', 'us', 'industry',\n",
    "'episode', 'mtv', 'splitsvilla', 'live', 'show', 'th', 'full', 'getting', 'june', 'already',\n",
    "'world', 'us', 'covid', 'global', 'queen', 'top', 'need', 'pandemic', 'water', 'watch',\n",
    "'us', 'biden', 'new', 'iran', 'power', 'china', 'climate', 'korea', 'president', 'money',\n",
    "'crypto', 'covid', 'people', 'bitcoin', 'keep', 'japan', 'variant', 'usa', 'cases', 'johnson',\n",
    "'age', 'family', 'worth', 'height', 'net', 'biography', 'indian', 'wiki', 'actor', 'born']"
   ]
  },
  {
   "cell_type": "code",
   "execution_count": 17,
   "id": "65c50e22-b556-4949-be49-2d7fd3c283ee",
   "metadata": {
    "tags": []
   },
   "outputs": [],
   "source": [
    "for term in terms:\n",
    "    ml_df = ml_df.withColumn(f'{term}', f.when(ml_df.title.rlike(f'{term}'), 1).otherwise(0))"
   ]
  },
  {
   "cell_type": "markdown",
   "id": "7b973b9c-53be-4a46-bd22-bd17f77eee99",
   "metadata": {},
   "source": [
    "## Machine Learning Prep"
   ]
  },
  {
   "cell_type": "code",
   "execution_count": 19,
   "id": "2f040c4e-e8ae-4141-91d1-71d0103bce89",
   "metadata": {
    "tags": []
   },
   "outputs": [],
   "source": [
    "major_df = ml_df.filter(f.col(\"label\") == \"no perceived misinfo\")\n",
    "minor_df = ml_df.filter(f.col(\"label\") == \"perceived misinfo\")"
   ]
  },
  {
   "cell_type": "code",
   "execution_count": 20,
   "id": "79994d14-d530-44b7-b60f-59b9ff7e9c69",
   "metadata": {
    "tags": []
   },
   "outputs": [],
   "source": [
    "#undersampling non misinfo articles to have equal classes\n",
    "sampled_majority_df = major_df.sample(False, 1/4)\n",
    "combined_df_2 = sampled_majority_df.unionAll(minor_df)"
   ]
  },
  {
   "cell_type": "code",
   "execution_count": 21,
   "id": "c56430cb-5cd2-4f8f-9139-5919789fb82f",
   "metadata": {
    "tags": []
   },
   "outputs": [],
   "source": [
    "full_sample = sampled_majority_df.unionAll(minor_df)"
   ]
  },
  {
   "cell_type": "code",
   "execution_count": 22,
   "id": "ed9c41f7-b651-4603-96db-7e740ca1a0fe",
   "metadata": {
    "tags": []
   },
   "outputs": [
    {
     "name": "stderr",
     "output_type": "stream",
     "text": [
      "                                                                                \r"
     ]
    }
   ],
   "source": [
    "sample_count = full_sample.groupby('label').count().toPandas()"
   ]
  },
  {
   "cell_type": "code",
   "execution_count": 23,
   "id": "272d95a0-f74c-449d-8454-8472bcd9631f",
   "metadata": {
    "tags": []
   },
   "outputs": [
    {
     "data": {
      "text/html": [
       "<div>\n",
       "<style scoped>\n",
       "    .dataframe tbody tr th:only-of-type {\n",
       "        vertical-align: middle;\n",
       "    }\n",
       "\n",
       "    .dataframe tbody tr th {\n",
       "        vertical-align: top;\n",
       "    }\n",
       "\n",
       "    .dataframe thead th {\n",
       "        text-align: right;\n",
       "    }\n",
       "</style>\n",
       "<table border=\"1\" class=\"dataframe\">\n",
       "  <thead>\n",
       "    <tr style=\"text-align: right;\">\n",
       "      <th></th>\n",
       "      <th>label</th>\n",
       "      <th>count</th>\n",
       "    </tr>\n",
       "  </thead>\n",
       "  <tbody>\n",
       "    <tr>\n",
       "      <th>0</th>\n",
       "      <td>no perceived misinfo</td>\n",
       "      <td>91922</td>\n",
       "    </tr>\n",
       "    <tr>\n",
       "      <th>1</th>\n",
       "      <td>perceived misinfo</td>\n",
       "      <td>76555</td>\n",
       "    </tr>\n",
       "  </tbody>\n",
       "</table>\n",
       "</div>"
      ],
      "text/plain": [
       "                  label  count\n",
       "0  no perceived misinfo  91922\n",
       "1     perceived misinfo  76555"
      ]
     },
     "execution_count": 23,
     "metadata": {},
     "output_type": "execute_result"
    }
   ],
   "source": [
    "sample_count"
   ]
  },
  {
   "cell_type": "code",
   "execution_count": 24,
   "id": "a1bb842e-1d72-44f3-a4ad-652b02ee1651",
   "metadata": {
    "tags": []
   },
   "outputs": [],
   "source": [
    "sample_count.to_csv('../data/csv/sample_misinfo_count.csv', index = False)"
   ]
  },
  {
   "cell_type": "code",
   "execution_count": 25,
   "id": "d464c394-fad7-4411-b099-ad542f1e95ff",
   "metadata": {
    "tags": []
   },
   "outputs": [
    {
     "name": "stdout",
     "output_type": "stream",
     "text": [
      "24/04/28 19:51:51 WARN package: Truncated the string representation of a plan since it was too large. This behavior can be adjusted by setting 'spark.sql.debug.maxToStringFields'.\n"
     ]
    },
    {
     "name": "stderr",
     "output_type": "stream",
     "text": [
      "                                                                                \r"
     ]
    }
   ],
   "source": [
    "#saving ML ready data\n",
    "bucket = sess.default_bucket()\n",
    "s3_path = f\"s3a://{bucket}/project/ml_topic_data.parquet\"\n",
    "full_sample.write.mode(\"overwrite\").parquet(s3_path)"
   ]
  },
  {
   "cell_type": "markdown",
   "id": "bc4bf799-cc08-4831-95c7-d2c2e5bcaa2d",
   "metadata": {},
   "source": [
    "# Machine Learning"
   ]
  },
  {
   "cell_type": "code",
   "execution_count": 51,
   "id": "83f289d3-e889-4796-b23f-984e945a59f2",
   "metadata": {
    "tags": []
   },
   "outputs": [],
   "source": [
    "from pyspark.ml.classification import LogisticRegression\n",
    "from pyspark.ml import Pipeline\n",
    "from pyspark.ml.feature import VectorAssembler, StringIndexer, OneHotEncoder, IndexToString"
   ]
  },
  {
   "cell_type": "code",
   "execution_count": 52,
   "id": "4fd85403-2b6c-4959-808a-6e235550ec59",
   "metadata": {
    "tags": []
   },
   "outputs": [],
   "source": [
    "output_prefix_data_submissions = \"project/ml_topic_data.parquet\"\n",
    "s3_path = f\"s3a://{bucket}/{output_prefix_data_submissions}\"\n",
    "sample_df = spark.read.parquet(s3_path, header=True)"
   ]
  },
  {
   "cell_type": "code",
   "execution_count": 53,
   "id": "16b3a9e2-5776-40fd-8185-505585e9405b",
   "metadata": {
    "tags": []
   },
   "outputs": [],
   "source": [
    "#spliiting data\n",
    "train_data, test_data, val_data = sample_df.randomSplit([0.8, 0.18, 0.02], 24)"
   ]
  },
  {
   "cell_type": "code",
   "execution_count": 54,
   "id": "0123b6ef-d888-4678-bc8f-92970699024c",
   "metadata": {
    "tags": []
   },
   "outputs": [],
   "source": [
    "#indexing string columns\n",
    "stringIndexer_label= StringIndexer(inputCol=\"label\", outputCol=\"label_index\")\n",
    "stringIndexer_topic = StringIndexer(inputCol=\"topic\", outputCol=\"topic_ix\")"
   ]
  },
  {
   "cell_type": "code",
   "execution_count": 55,
   "id": "ba0b3c9b-365f-4ad9-b924-c5a5e0e26f4a",
   "metadata": {
    "tags": []
   },
   "outputs": [
    {
     "name": "stderr",
     "output_type": "stream",
     "text": [
      "                                                                                \r"
     ]
    }
   ],
   "source": [
    "#fitting\n",
    "stringIndexer_label = stringIndexer_label.fit(sample_df)\n",
    "stringIndexer_topic = stringIndexer_topic.fit(sample_df)"
   ]
  },
  {
   "cell_type": "code",
   "execution_count": 56,
   "id": "355b9731-cb8d-451f-853b-2fcbc6e4f3dc",
   "metadata": {
    "tags": []
   },
   "outputs": [],
   "source": [
    "#creating vector for topic data\n",
    "onehot_topic = OneHotEncoder(inputCol=\"topic_ix\", outputCol=\"topic_vec\")"
   ]
  },
  {
   "cell_type": "code",
   "execution_count": 57,
   "id": "5af794a5-d630-4407-ba74-b0b22c142795",
   "metadata": {
    "tags": []
   },
   "outputs": [],
   "source": [
    "#adding the terms to create vector assembler input columns\n",
    "vec = ['topic_vec'] + terms"
   ]
  },
  {
   "cell_type": "code",
   "execution_count": 58,
   "id": "cfdb5383-37b8-47b8-8713-fc832be4df5e",
   "metadata": {},
   "outputs": [],
   "source": [
    "vectorAssembler_features = VectorAssembler(\n",
    "    inputCols=vec, \n",
    "    outputCol= \"features\")"
   ]
  },
  {
   "cell_type": "code",
   "execution_count": 59,
   "id": "367d934d-6a8f-463f-ba4c-7487ef838451",
   "metadata": {
    "tags": []
   },
   "outputs": [
    {
     "data": {
      "text/plain": [
       "LogisticRegression_740941a06871"
      ]
     },
     "execution_count": 59,
     "metadata": {},
     "output_type": "execute_result"
    }
   ],
   "source": [
    "#creating logistic regression\n",
    "lr = LogisticRegression(featuresCol = 'features', labelCol = 'label_index')\n",
    "lr.setMaxIter(10)"
   ]
  },
  {
   "cell_type": "code",
   "execution_count": 60,
   "id": "a789f1a1-004b-4570-933b-4851b1307355",
   "metadata": {
    "tags": []
   },
   "outputs": [],
   "source": [
    "#converting labels back \n",
    "labelConverter = IndexToString(inputCol=\"prediction\", \n",
    "                               outputCol=\"predictedMisinfo\", \n",
    "                               labels= ['no perceived misinfo', 'perceived misinfo'])"
   ]
  },
  {
   "cell_type": "code",
   "execution_count": 61,
   "id": "c5bfbaac-514b-4bb4-9777-773d1d60dd70",
   "metadata": {
    "tags": []
   },
   "outputs": [],
   "source": [
    "pipeline_model = Pipeline(stages= [stringIndexer_label, stringIndexer_topic, onehot_topic, \n",
    "                                   vectorAssembler_features, lr,labelConverter])"
   ]
  },
  {
   "cell_type": "code",
   "execution_count": 62,
   "id": "6a5cd44a-a870-4d7f-bd1c-53e24937fe1a",
   "metadata": {},
   "outputs": [
    {
     "name": "stderr",
     "output_type": "stream",
     "text": [
      "                                                                                \r"
     ]
    }
   ],
   "source": [
    "model = pipeline_model.fit(train_data)"
   ]
  },
  {
   "cell_type": "code",
   "execution_count": 63,
   "id": "6a214a8f-a18e-43ab-9ea4-fb7292846020",
   "metadata": {},
   "outputs": [],
   "source": [
    "predictions = model.transform(test_data)"
   ]
  },
  {
   "cell_type": "markdown",
   "id": "4a24cf63-7341-4004-8e70-06923bfe15b5",
   "metadata": {},
   "source": [
    "## Evaluations"
   ]
  },
  {
   "cell_type": "code",
   "execution_count": 67,
   "id": "f7ef6006-8188-486a-af6a-e80b685479df",
   "metadata": {
    "tags": []
   },
   "outputs": [
    {
     "name": "stderr",
     "output_type": "stream",
     "text": [
      "                                                                                \r"
     ]
    }
   ],
   "source": [
    "from pyspark.ml.evaluation import BinaryClassificationEvaluator, MulticlassClassificationEvaluator\n",
    "#examine accuracy\n",
    "evaluator = MulticlassClassificationEvaluator(labelCol=\"label_index\", predictionCol=\"prediction\", metricName=\"accuracy\")\n",
    "accuracy = evaluator.evaluate(predictions)"
   ]
  },
  {
   "cell_type": "code",
   "execution_count": 68,
   "id": "9b6b80f3-266e-4911-aa0a-a2cd8e4c0ff4",
   "metadata": {
    "tags": []
   },
   "outputs": [
    {
     "name": "stdout",
     "output_type": "stream",
     "text": [
      "Accuracy = 0.563238\n",
      "Test Error = 0.436762\n"
     ]
    }
   ],
   "source": [
    "print(\"Accuracy = %g\" % accuracy)\n",
    "print(\"Test Error = %g\" % (1.0 - accuracy))"
   ]
  },
  {
   "cell_type": "code",
   "execution_count": 70,
   "id": "b0a750eb-0a96-4183-aec0-8c4f5818a4e9",
   "metadata": {
    "tags": []
   },
   "outputs": [],
   "source": [
    "train_pred = model.transform(train_data)"
   ]
  },
  {
   "cell_type": "code",
   "execution_count": 71,
   "id": "2bcb469e-b02c-4b71-a033-935ca84e4ec8",
   "metadata": {
    "tags": []
   },
   "outputs": [
    {
     "name": "stderr",
     "output_type": "stream",
     "text": [
      "                                                                                \r"
     ]
    }
   ],
   "source": [
    "#examine accuracy of training data\n",
    "evaluator = MulticlassClassificationEvaluator(labelCol=\"label_index\", predictionCol=\"prediction\", metricName=\"accuracy\")\n",
    "accuracy_train = evaluator.evaluate(train_pred)"
   ]
  },
  {
   "cell_type": "code",
   "execution_count": 72,
   "id": "6c454295-2bf2-4435-aedf-428bdde16893",
   "metadata": {
    "tags": []
   },
   "outputs": [
    {
     "name": "stdout",
     "output_type": "stream",
     "text": [
      "Accuracy = 0.57348\n",
      "Train Error = 0.42652\n"
     ]
    }
   ],
   "source": [
    "print(\"Accuracy = %g\" % accuracy_train)\n",
    "print(\"Train Error = %g\" % (1.0 - accuracy_train))"
   ]
  },
  {
   "cell_type": "code",
   "execution_count": 73,
   "id": "f22fa448-ac12-4d0e-856e-f690db069982",
   "metadata": {
    "tags": []
   },
   "outputs": [],
   "source": [
    "from sklearn.metrics import confusion_matrix"
   ]
  },
  {
   "cell_type": "code",
   "execution_count": 76,
   "id": "2fec2c20-1136-493d-91e2-8f45eff9ab29",
   "metadata": {
    "tags": []
   },
   "outputs": [
    {
     "name": "stderr",
     "output_type": "stream",
     "text": [
      "                                                                                \r"
     ]
    }
   ],
   "source": [
    "#create confusion matrix\n",
    "y_pred=predictions.select(\"prediction\").collect()\n",
    "y_orig=predictions.select(\"label_index\").collect()"
   ]
  },
  {
   "cell_type": "code",
   "execution_count": 77,
   "id": "5bcd28a6-4fd0-4219-94da-c3dcea133344",
   "metadata": {
    "tags": []
   },
   "outputs": [
    {
     "name": "stdout",
     "output_type": "stream",
     "text": [
      "Confusion Matrix:\n",
      "[[13008  3402]\n",
      " [ 9838  4066]]\n"
     ]
    }
   ],
   "source": [
    "cm = confusion_matrix(y_orig, y_pred)\n",
    "print(\"Confusion Matrix:\")\n",
    "print(cm)"
   ]
  },
  {
   "cell_type": "code",
   "execution_count": 133,
   "id": "d2cc0962-6a9d-4b5a-bb94-cbd64a252c30",
   "metadata": {
    "tags": []
   },
   "outputs": [
    {
     "data": {
      "text/plain": [
       "numpy.ndarray"
      ]
     },
     "execution_count": 133,
     "metadata": {},
     "output_type": "execute_result"
    }
   ],
   "source": [
    "type(cm)"
   ]
  },
  {
   "cell_type": "code",
   "execution_count": 79,
   "id": "75984058-6b33-4ca1-b8c1-e7c0e2e085a1",
   "metadata": {
    "tags": []
   },
   "outputs": [
    {
     "name": "stderr",
     "output_type": "stream",
     "text": [
      "                                                                                \r"
     ]
    },
    {
     "data": {
      "text/plain": [
       "0.5425606088655981"
      ]
     },
     "execution_count": 79,
     "metadata": {},
     "output_type": "execute_result"
    }
   ],
   "source": [
    "#roc\n",
    "evaluator = BinaryClassificationEvaluator(labelCol=\"label_index\", rawPredictionCol=\"prediction\", metricName=\"areaUnderROC\")\n",
    "roc_result = evaluator.evaluate(predictions)\n",
    "roc_result"
   ]
  },
  {
   "cell_type": "code",
   "execution_count": 139,
   "id": "8f3f4d22-6758-411d-ae47-0740814cf108",
   "metadata": {
    "tags": []
   },
   "outputs": [],
   "source": [
    "cnt_cond = lambda cond: f.sum(f.when(cond, 1).otherwise(0))\n",
    "analysis = train_pred.groupBy('topic').agg(\n",
    "    cnt_cond(f.col('label') == f.col('predictedMisinfo')).alias('true label'), \n",
    "    cnt_cond(f.col('label') != f.col('predictedMisinfo')).alias('false label'),\n",
    "    cnt_cond((f.col('label') != f.col('predictedMisinfo')) & (f.col('label') == 'no perceived misinfo'))\n",
    "             .alias('incorrectly labeled as misinfo'),\n",
    "    cnt_cond((f.col('label') != f.col('predictedMisinfo')) & (f.col('label') == 'perceived misinfo'))\n",
    "             .alias('incorrectly labeled as no misinfo')\n",
    ")"
   ]
  },
  {
   "cell_type": "code",
   "execution_count": 140,
   "id": "2372ba9d-5ed2-4e60-91cd-eb9e054cc159",
   "metadata": {
    "tags": []
   },
   "outputs": [
    {
     "name": "stderr",
     "output_type": "stream",
     "text": [
      "[Stage 103:>                                                        (0 + 4) / 4]\r"
     ]
    },
    {
     "name": "stdout",
     "output_type": "stream",
     "text": [
      "+-----------------+----------+-----------+------------------------------+---------------------------------+\n",
      "|            topic|true label|false label|incorrectly labeled as misinfo|incorrectly labeled as no misinfo|\n",
      "+-----------------+----------+-----------+------------------------------+---------------------------------+\n",
      "|    emerging tech|     10128|       7238|                          1237|                             6001|\n",
      "|     social media|      8416|       6519|                          2918|                             3601|\n",
      "|   current events|      8745|       6909|                          3118|                             3791|\n",
      "|            covid|      7345|       4668|                           599|                             4069|\n",
      "|   russia&ukraine|     25208|      19796|                          4751|                            15045|\n",
      "| demographic info|      3962|       2823|                           269|                             2554|\n",
      "|         tv shows|      3719|       2196|                           108|                             2088|\n",
      "|foriegn relations|      9750|       7322|                          1615|                             5707|\n",
      "+-----------------+----------+-----------+------------------------------+---------------------------------+\n",
      "\n"
     ]
    },
    {
     "name": "stderr",
     "output_type": "stream",
     "text": [
      "                                                                                \r"
     ]
    }
   ],
   "source": [
    "analysis.show()"
   ]
  },
  {
   "cell_type": "code",
   "execution_count": 141,
   "id": "311b8717-cb8b-427c-9638-75579e116fdf",
   "metadata": {
    "tags": []
   },
   "outputs": [],
   "source": [
    "analysis = analysis.withColumn('true ratio',f.col('true label')/ (f.col('true label') + f.col('false label')))\\\n",
    ".withColumn('incorrectly labeled misinfo ratio', f.col('incorrectly labeled as no misinfo')/ \n",
    "            (f.col('incorrectly labeled as no misinfo') + f.col('incorrectly labeled as misinfo')))"
   ]
  },
  {
   "cell_type": "code",
   "execution_count": 142,
   "id": "e21c0645-6115-4841-a08d-3e88231318a6",
   "metadata": {
    "tags": []
   },
   "outputs": [
    {
     "name": "stderr",
     "output_type": "stream",
     "text": [
      "                                                                                \r"
     ]
    }
   ],
   "source": [
    "analysis = analysis.toPandas()"
   ]
  },
  {
   "cell_type": "code",
   "execution_count": 143,
   "id": "e203fda2-da4e-4e78-b37c-e3c4d94c5997",
   "metadata": {
    "tags": []
   },
   "outputs": [],
   "source": [
    "analysis.to_csv('../data/csv/ml_analysis_table.csv', index = False)"
   ]
  },
  {
   "cell_type": "code",
   "execution_count": 144,
   "id": "6906990d-5633-4e6d-8208-7acba1047bee",
   "metadata": {
    "tags": []
   },
   "outputs": [
    {
     "data": {
      "text/html": [
       "<div>\n",
       "<style scoped>\n",
       "    .dataframe tbody tr th:only-of-type {\n",
       "        vertical-align: middle;\n",
       "    }\n",
       "\n",
       "    .dataframe tbody tr th {\n",
       "        vertical-align: top;\n",
       "    }\n",
       "\n",
       "    .dataframe thead th {\n",
       "        text-align: right;\n",
       "    }\n",
       "</style>\n",
       "<table border=\"1\" class=\"dataframe\">\n",
       "  <thead>\n",
       "    <tr style=\"text-align: right;\">\n",
       "      <th></th>\n",
       "      <th>topic</th>\n",
       "      <th>true label</th>\n",
       "      <th>false label</th>\n",
       "      <th>incorrectly labeled as misinfo</th>\n",
       "      <th>incorrectly labeled as no misinfo</th>\n",
       "      <th>true ratio</th>\n",
       "      <th>incorrectly labeled misinfo ratio</th>\n",
       "    </tr>\n",
       "  </thead>\n",
       "  <tbody>\n",
       "    <tr>\n",
       "      <th>0</th>\n",
       "      <td>emerging tech</td>\n",
       "      <td>10128</td>\n",
       "      <td>7238</td>\n",
       "      <td>1237</td>\n",
       "      <td>6001</td>\n",
       "      <td>0.583209</td>\n",
       "      <td>0.829096</td>\n",
       "    </tr>\n",
       "    <tr>\n",
       "      <th>1</th>\n",
       "      <td>social media</td>\n",
       "      <td>8416</td>\n",
       "      <td>6519</td>\n",
       "      <td>2918</td>\n",
       "      <td>3601</td>\n",
       "      <td>0.563509</td>\n",
       "      <td>0.552385</td>\n",
       "    </tr>\n",
       "    <tr>\n",
       "      <th>2</th>\n",
       "      <td>current events</td>\n",
       "      <td>8745</td>\n",
       "      <td>6909</td>\n",
       "      <td>3118</td>\n",
       "      <td>3791</td>\n",
       "      <td>0.558643</td>\n",
       "      <td>0.548705</td>\n",
       "    </tr>\n",
       "    <tr>\n",
       "      <th>3</th>\n",
       "      <td>covid</td>\n",
       "      <td>7345</td>\n",
       "      <td>4668</td>\n",
       "      <td>599</td>\n",
       "      <td>4069</td>\n",
       "      <td>0.611421</td>\n",
       "      <td>0.871680</td>\n",
       "    </tr>\n",
       "    <tr>\n",
       "      <th>4</th>\n",
       "      <td>russia&amp;ukraine</td>\n",
       "      <td>25208</td>\n",
       "      <td>19796</td>\n",
       "      <td>4751</td>\n",
       "      <td>15045</td>\n",
       "      <td>0.560128</td>\n",
       "      <td>0.760002</td>\n",
       "    </tr>\n",
       "    <tr>\n",
       "      <th>5</th>\n",
       "      <td>demographic info</td>\n",
       "      <td>3962</td>\n",
       "      <td>2823</td>\n",
       "      <td>269</td>\n",
       "      <td>2554</td>\n",
       "      <td>0.583935</td>\n",
       "      <td>0.904711</td>\n",
       "    </tr>\n",
       "    <tr>\n",
       "      <th>6</th>\n",
       "      <td>tv shows</td>\n",
       "      <td>3719</td>\n",
       "      <td>2196</td>\n",
       "      <td>108</td>\n",
       "      <td>2088</td>\n",
       "      <td>0.628740</td>\n",
       "      <td>0.950820</td>\n",
       "    </tr>\n",
       "    <tr>\n",
       "      <th>7</th>\n",
       "      <td>foriegn relations</td>\n",
       "      <td>9750</td>\n",
       "      <td>7322</td>\n",
       "      <td>1615</td>\n",
       "      <td>5707</td>\n",
       "      <td>0.571111</td>\n",
       "      <td>0.779432</td>\n",
       "    </tr>\n",
       "  </tbody>\n",
       "</table>\n",
       "</div>"
      ],
      "text/plain": [
       "               topic  true label  false label  incorrectly labeled as misinfo  \\\n",
       "0      emerging tech       10128         7238                            1237   \n",
       "1       social media        8416         6519                            2918   \n",
       "2     current events        8745         6909                            3118   \n",
       "3              covid        7345         4668                             599   \n",
       "4     russia&ukraine       25208        19796                            4751   \n",
       "5   demographic info        3962         2823                             269   \n",
       "6           tv shows        3719         2196                             108   \n",
       "7  foriegn relations        9750         7322                            1615   \n",
       "\n",
       "   incorrectly labeled as no misinfo  true ratio  \\\n",
       "0                               6001    0.583209   \n",
       "1                               3601    0.563509   \n",
       "2                               3791    0.558643   \n",
       "3                               4069    0.611421   \n",
       "4                              15045    0.560128   \n",
       "5                               2554    0.583935   \n",
       "6                               2088    0.628740   \n",
       "7                               5707    0.571111   \n",
       "\n",
       "   incorrectly labeled misinfo ratio  \n",
       "0                           0.829096  \n",
       "1                           0.552385  \n",
       "2                           0.548705  \n",
       "3                           0.871680  \n",
       "4                           0.760002  \n",
       "5                           0.904711  \n",
       "6                           0.950820  \n",
       "7                           0.779432  "
      ]
     },
     "execution_count": 144,
     "metadata": {},
     "output_type": "execute_result"
    }
   ],
   "source": [
    "analysis"
   ]
  },
  {
   "cell_type": "code",
   "execution_count": null,
   "id": "cd6a0574-0ef0-434e-bd16-e49ab48b1cce",
   "metadata": {},
   "outputs": [],
   "source": []
  },
  {
   "cell_type": "code",
   "execution_count": null,
   "id": "18f775e4-e5ef-493b-93f0-bb201c585a18",
   "metadata": {},
   "outputs": [],
   "source": []
  }
 ],
 "metadata": {
  "availableInstances": [
   {
    "_defaultOrder": 0,
    "_isFastLaunch": true,
    "category": "General purpose",
    "gpuNum": 0,
    "hideHardwareSpecs": false,
    "memoryGiB": 4,
    "name": "ml.t3.medium",
    "vcpuNum": 2
   },
   {
    "_defaultOrder": 1,
    "_isFastLaunch": false,
    "category": "General purpose",
    "gpuNum": 0,
    "hideHardwareSpecs": false,
    "memoryGiB": 8,
    "name": "ml.t3.large",
    "vcpuNum": 2
   },
   {
    "_defaultOrder": 2,
    "_isFastLaunch": false,
    "category": "General purpose",
    "gpuNum": 0,
    "hideHardwareSpecs": false,
    "memoryGiB": 16,
    "name": "ml.t3.xlarge",
    "vcpuNum": 4
   },
   {
    "_defaultOrder": 3,
    "_isFastLaunch": false,
    "category": "General purpose",
    "gpuNum": 0,
    "hideHardwareSpecs": false,
    "memoryGiB": 32,
    "name": "ml.t3.2xlarge",
    "vcpuNum": 8
   },
   {
    "_defaultOrder": 4,
    "_isFastLaunch": true,
    "category": "General purpose",
    "gpuNum": 0,
    "hideHardwareSpecs": false,
    "memoryGiB": 8,
    "name": "ml.m5.large",
    "vcpuNum": 2
   },
   {
    "_defaultOrder": 5,
    "_isFastLaunch": false,
    "category": "General purpose",
    "gpuNum": 0,
    "hideHardwareSpecs": false,
    "memoryGiB": 16,
    "name": "ml.m5.xlarge",
    "vcpuNum": 4
   },
   {
    "_defaultOrder": 6,
    "_isFastLaunch": false,
    "category": "General purpose",
    "gpuNum": 0,
    "hideHardwareSpecs": false,
    "memoryGiB": 32,
    "name": "ml.m5.2xlarge",
    "vcpuNum": 8
   },
   {
    "_defaultOrder": 7,
    "_isFastLaunch": false,
    "category": "General purpose",
    "gpuNum": 0,
    "hideHardwareSpecs": false,
    "memoryGiB": 64,
    "name": "ml.m5.4xlarge",
    "vcpuNum": 16
   },
   {
    "_defaultOrder": 8,
    "_isFastLaunch": false,
    "category": "General purpose",
    "gpuNum": 0,
    "hideHardwareSpecs": false,
    "memoryGiB": 128,
    "name": "ml.m5.8xlarge",
    "vcpuNum": 32
   },
   {
    "_defaultOrder": 9,
    "_isFastLaunch": false,
    "category": "General purpose",
    "gpuNum": 0,
    "hideHardwareSpecs": false,
    "memoryGiB": 192,
    "name": "ml.m5.12xlarge",
    "vcpuNum": 48
   },
   {
    "_defaultOrder": 10,
    "_isFastLaunch": false,
    "category": "General purpose",
    "gpuNum": 0,
    "hideHardwareSpecs": false,
    "memoryGiB": 256,
    "name": "ml.m5.16xlarge",
    "vcpuNum": 64
   },
   {
    "_defaultOrder": 11,
    "_isFastLaunch": false,
    "category": "General purpose",
    "gpuNum": 0,
    "hideHardwareSpecs": false,
    "memoryGiB": 384,
    "name": "ml.m5.24xlarge",
    "vcpuNum": 96
   },
   {
    "_defaultOrder": 12,
    "_isFastLaunch": false,
    "category": "General purpose",
    "gpuNum": 0,
    "hideHardwareSpecs": false,
    "memoryGiB": 8,
    "name": "ml.m5d.large",
    "vcpuNum": 2
   },
   {
    "_defaultOrder": 13,
    "_isFastLaunch": false,
    "category": "General purpose",
    "gpuNum": 0,
    "hideHardwareSpecs": false,
    "memoryGiB": 16,
    "name": "ml.m5d.xlarge",
    "vcpuNum": 4
   },
   {
    "_defaultOrder": 14,
    "_isFastLaunch": false,
    "category": "General purpose",
    "gpuNum": 0,
    "hideHardwareSpecs": false,
    "memoryGiB": 32,
    "name": "ml.m5d.2xlarge",
    "vcpuNum": 8
   },
   {
    "_defaultOrder": 15,
    "_isFastLaunch": false,
    "category": "General purpose",
    "gpuNum": 0,
    "hideHardwareSpecs": false,
    "memoryGiB": 64,
    "name": "ml.m5d.4xlarge",
    "vcpuNum": 16
   },
   {
    "_defaultOrder": 16,
    "_isFastLaunch": false,
    "category": "General purpose",
    "gpuNum": 0,
    "hideHardwareSpecs": false,
    "memoryGiB": 128,
    "name": "ml.m5d.8xlarge",
    "vcpuNum": 32
   },
   {
    "_defaultOrder": 17,
    "_isFastLaunch": false,
    "category": "General purpose",
    "gpuNum": 0,
    "hideHardwareSpecs": false,
    "memoryGiB": 192,
    "name": "ml.m5d.12xlarge",
    "vcpuNum": 48
   },
   {
    "_defaultOrder": 18,
    "_isFastLaunch": false,
    "category": "General purpose",
    "gpuNum": 0,
    "hideHardwareSpecs": false,
    "memoryGiB": 256,
    "name": "ml.m5d.16xlarge",
    "vcpuNum": 64
   },
   {
    "_defaultOrder": 19,
    "_isFastLaunch": false,
    "category": "General purpose",
    "gpuNum": 0,
    "hideHardwareSpecs": false,
    "memoryGiB": 384,
    "name": "ml.m5d.24xlarge",
    "vcpuNum": 96
   },
   {
    "_defaultOrder": 20,
    "_isFastLaunch": false,
    "category": "General purpose",
    "gpuNum": 0,
    "hideHardwareSpecs": true,
    "memoryGiB": 0,
    "name": "ml.geospatial.interactive",
    "supportedImageNames": [
     "sagemaker-geospatial-v1-0"
    ],
    "vcpuNum": 0
   },
   {
    "_defaultOrder": 21,
    "_isFastLaunch": true,
    "category": "Compute optimized",
    "gpuNum": 0,
    "hideHardwareSpecs": false,
    "memoryGiB": 4,
    "name": "ml.c5.large",
    "vcpuNum": 2
   },
   {
    "_defaultOrder": 22,
    "_isFastLaunch": false,
    "category": "Compute optimized",
    "gpuNum": 0,
    "hideHardwareSpecs": false,
    "memoryGiB": 8,
    "name": "ml.c5.xlarge",
    "vcpuNum": 4
   },
   {
    "_defaultOrder": 23,
    "_isFastLaunch": false,
    "category": "Compute optimized",
    "gpuNum": 0,
    "hideHardwareSpecs": false,
    "memoryGiB": 16,
    "name": "ml.c5.2xlarge",
    "vcpuNum": 8
   },
   {
    "_defaultOrder": 24,
    "_isFastLaunch": false,
    "category": "Compute optimized",
    "gpuNum": 0,
    "hideHardwareSpecs": false,
    "memoryGiB": 32,
    "name": "ml.c5.4xlarge",
    "vcpuNum": 16
   },
   {
    "_defaultOrder": 25,
    "_isFastLaunch": false,
    "category": "Compute optimized",
    "gpuNum": 0,
    "hideHardwareSpecs": false,
    "memoryGiB": 72,
    "name": "ml.c5.9xlarge",
    "vcpuNum": 36
   },
   {
    "_defaultOrder": 26,
    "_isFastLaunch": false,
    "category": "Compute optimized",
    "gpuNum": 0,
    "hideHardwareSpecs": false,
    "memoryGiB": 96,
    "name": "ml.c5.12xlarge",
    "vcpuNum": 48
   },
   {
    "_defaultOrder": 27,
    "_isFastLaunch": false,
    "category": "Compute optimized",
    "gpuNum": 0,
    "hideHardwareSpecs": false,
    "memoryGiB": 144,
    "name": "ml.c5.18xlarge",
    "vcpuNum": 72
   },
   {
    "_defaultOrder": 28,
    "_isFastLaunch": false,
    "category": "Compute optimized",
    "gpuNum": 0,
    "hideHardwareSpecs": false,
    "memoryGiB": 192,
    "name": "ml.c5.24xlarge",
    "vcpuNum": 96
   },
   {
    "_defaultOrder": 29,
    "_isFastLaunch": true,
    "category": "Accelerated computing",
    "gpuNum": 1,
    "hideHardwareSpecs": false,
    "memoryGiB": 16,
    "name": "ml.g4dn.xlarge",
    "vcpuNum": 4
   },
   {
    "_defaultOrder": 30,
    "_isFastLaunch": false,
    "category": "Accelerated computing",
    "gpuNum": 1,
    "hideHardwareSpecs": false,
    "memoryGiB": 32,
    "name": "ml.g4dn.2xlarge",
    "vcpuNum": 8
   },
   {
    "_defaultOrder": 31,
    "_isFastLaunch": false,
    "category": "Accelerated computing",
    "gpuNum": 1,
    "hideHardwareSpecs": false,
    "memoryGiB": 64,
    "name": "ml.g4dn.4xlarge",
    "vcpuNum": 16
   },
   {
    "_defaultOrder": 32,
    "_isFastLaunch": false,
    "category": "Accelerated computing",
    "gpuNum": 1,
    "hideHardwareSpecs": false,
    "memoryGiB": 128,
    "name": "ml.g4dn.8xlarge",
    "vcpuNum": 32
   },
   {
    "_defaultOrder": 33,
    "_isFastLaunch": false,
    "category": "Accelerated computing",
    "gpuNum": 4,
    "hideHardwareSpecs": false,
    "memoryGiB": 192,
    "name": "ml.g4dn.12xlarge",
    "vcpuNum": 48
   },
   {
    "_defaultOrder": 34,
    "_isFastLaunch": false,
    "category": "Accelerated computing",
    "gpuNum": 1,
    "hideHardwareSpecs": false,
    "memoryGiB": 256,
    "name": "ml.g4dn.16xlarge",
    "vcpuNum": 64
   },
   {
    "_defaultOrder": 35,
    "_isFastLaunch": false,
    "category": "Accelerated computing",
    "gpuNum": 1,
    "hideHardwareSpecs": false,
    "memoryGiB": 61,
    "name": "ml.p3.2xlarge",
    "vcpuNum": 8
   },
   {
    "_defaultOrder": 36,
    "_isFastLaunch": false,
    "category": "Accelerated computing",
    "gpuNum": 4,
    "hideHardwareSpecs": false,
    "memoryGiB": 244,
    "name": "ml.p3.8xlarge",
    "vcpuNum": 32
   },
   {
    "_defaultOrder": 37,
    "_isFastLaunch": false,
    "category": "Accelerated computing",
    "gpuNum": 8,
    "hideHardwareSpecs": false,
    "memoryGiB": 488,
    "name": "ml.p3.16xlarge",
    "vcpuNum": 64
   },
   {
    "_defaultOrder": 38,
    "_isFastLaunch": false,
    "category": "Accelerated computing",
    "gpuNum": 8,
    "hideHardwareSpecs": false,
    "memoryGiB": 768,
    "name": "ml.p3dn.24xlarge",
    "vcpuNum": 96
   },
   {
    "_defaultOrder": 39,
    "_isFastLaunch": false,
    "category": "Memory Optimized",
    "gpuNum": 0,
    "hideHardwareSpecs": false,
    "memoryGiB": 16,
    "name": "ml.r5.large",
    "vcpuNum": 2
   },
   {
    "_defaultOrder": 40,
    "_isFastLaunch": false,
    "category": "Memory Optimized",
    "gpuNum": 0,
    "hideHardwareSpecs": false,
    "memoryGiB": 32,
    "name": "ml.r5.xlarge",
    "vcpuNum": 4
   },
   {
    "_defaultOrder": 41,
    "_isFastLaunch": false,
    "category": "Memory Optimized",
    "gpuNum": 0,
    "hideHardwareSpecs": false,
    "memoryGiB": 64,
    "name": "ml.r5.2xlarge",
    "vcpuNum": 8
   },
   {
    "_defaultOrder": 42,
    "_isFastLaunch": false,
    "category": "Memory Optimized",
    "gpuNum": 0,
    "hideHardwareSpecs": false,
    "memoryGiB": 128,
    "name": "ml.r5.4xlarge",
    "vcpuNum": 16
   },
   {
    "_defaultOrder": 43,
    "_isFastLaunch": false,
    "category": "Memory Optimized",
    "gpuNum": 0,
    "hideHardwareSpecs": false,
    "memoryGiB": 256,
    "name": "ml.r5.8xlarge",
    "vcpuNum": 32
   },
   {
    "_defaultOrder": 44,
    "_isFastLaunch": false,
    "category": "Memory Optimized",
    "gpuNum": 0,
    "hideHardwareSpecs": false,
    "memoryGiB": 384,
    "name": "ml.r5.12xlarge",
    "vcpuNum": 48
   },
   {
    "_defaultOrder": 45,
    "_isFastLaunch": false,
    "category": "Memory Optimized",
    "gpuNum": 0,
    "hideHardwareSpecs": false,
    "memoryGiB": 512,
    "name": "ml.r5.16xlarge",
    "vcpuNum": 64
   },
   {
    "_defaultOrder": 46,
    "_isFastLaunch": false,
    "category": "Memory Optimized",
    "gpuNum": 0,
    "hideHardwareSpecs": false,
    "memoryGiB": 768,
    "name": "ml.r5.24xlarge",
    "vcpuNum": 96
   },
   {
    "_defaultOrder": 47,
    "_isFastLaunch": false,
    "category": "Accelerated computing",
    "gpuNum": 1,
    "hideHardwareSpecs": false,
    "memoryGiB": 16,
    "name": "ml.g5.xlarge",
    "vcpuNum": 4
   },
   {
    "_defaultOrder": 48,
    "_isFastLaunch": false,
    "category": "Accelerated computing",
    "gpuNum": 1,
    "hideHardwareSpecs": false,
    "memoryGiB": 32,
    "name": "ml.g5.2xlarge",
    "vcpuNum": 8
   },
   {
    "_defaultOrder": 49,
    "_isFastLaunch": false,
    "category": "Accelerated computing",
    "gpuNum": 1,
    "hideHardwareSpecs": false,
    "memoryGiB": 64,
    "name": "ml.g5.4xlarge",
    "vcpuNum": 16
   },
   {
    "_defaultOrder": 50,
    "_isFastLaunch": false,
    "category": "Accelerated computing",
    "gpuNum": 1,
    "hideHardwareSpecs": false,
    "memoryGiB": 128,
    "name": "ml.g5.8xlarge",
    "vcpuNum": 32
   },
   {
    "_defaultOrder": 51,
    "_isFastLaunch": false,
    "category": "Accelerated computing",
    "gpuNum": 1,
    "hideHardwareSpecs": false,
    "memoryGiB": 256,
    "name": "ml.g5.16xlarge",
    "vcpuNum": 64
   },
   {
    "_defaultOrder": 52,
    "_isFastLaunch": false,
    "category": "Accelerated computing",
    "gpuNum": 4,
    "hideHardwareSpecs": false,
    "memoryGiB": 192,
    "name": "ml.g5.12xlarge",
    "vcpuNum": 48
   },
   {
    "_defaultOrder": 53,
    "_isFastLaunch": false,
    "category": "Accelerated computing",
    "gpuNum": 4,
    "hideHardwareSpecs": false,
    "memoryGiB": 384,
    "name": "ml.g5.24xlarge",
    "vcpuNum": 96
   },
   {
    "_defaultOrder": 54,
    "_isFastLaunch": false,
    "category": "Accelerated computing",
    "gpuNum": 8,
    "hideHardwareSpecs": false,
    "memoryGiB": 768,
    "name": "ml.g5.48xlarge",
    "vcpuNum": 192
   },
   {
    "_defaultOrder": 55,
    "_isFastLaunch": false,
    "category": "Accelerated computing",
    "gpuNum": 8,
    "hideHardwareSpecs": false,
    "memoryGiB": 1152,
    "name": "ml.p4d.24xlarge",
    "vcpuNum": 96
   },
   {
    "_defaultOrder": 56,
    "_isFastLaunch": false,
    "category": "Accelerated computing",
    "gpuNum": 8,
    "hideHardwareSpecs": false,
    "memoryGiB": 1152,
    "name": "ml.p4de.24xlarge",
    "vcpuNum": 96
   },
   {
    "_defaultOrder": 57,
    "_isFastLaunch": false,
    "category": "Accelerated computing",
    "gpuNum": 0,
    "hideHardwareSpecs": false,
    "memoryGiB": 32,
    "name": "ml.trn1.2xlarge",
    "vcpuNum": 8
   },
   {
    "_defaultOrder": 58,
    "_isFastLaunch": false,
    "category": "Accelerated computing",
    "gpuNum": 0,
    "hideHardwareSpecs": false,
    "memoryGiB": 512,
    "name": "ml.trn1.32xlarge",
    "vcpuNum": 128
   },
   {
    "_defaultOrder": 59,
    "_isFastLaunch": false,
    "category": "Accelerated computing",
    "gpuNum": 0,
    "hideHardwareSpecs": false,
    "memoryGiB": 512,
    "name": "ml.trn1n.32xlarge",
    "vcpuNum": 128
   }
  ],
  "instance_type": "ml.t3.xlarge",
  "kernelspec": {
   "display_name": "Python 3 (Data Science 3.0)",
   "language": "python",
   "name": "python3__SAGEMAKER_INTERNAL__arn:aws:sagemaker:us-east-1:081325390199:image/sagemaker-data-science-310-v1"
  },
  "language_info": {
   "codemirror_mode": {
    "name": "ipython",
    "version": 3
   },
   "file_extension": ".py",
   "mimetype": "text/x-python",
   "name": "python",
   "nbconvert_exporter": "python",
   "pygments_lexer": "ipython3",
   "version": "3.10.6"
  }
 },
 "nbformat": 4,
 "nbformat_minor": 5
}
